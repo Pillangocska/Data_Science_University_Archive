{
 "cells": [
  {
   "cell_type": "code",
   "execution_count": 1,
   "id": "ca184a76",
   "metadata": {},
   "outputs": [],
   "source": [
    "import pandas as pd\n",
    "import numpy as np\n",
    "import matplotlib.pyplot as plt\n",
    "\n",
    "from sklearn.linear_model import LogisticRegression\n",
    "from sklearn.tree import DecisionTreeClassifier, plot_tree\n",
    "\n",
    "from sklearn.metrics import accuracy_score, recall_score, precision_score, confusion_matrix\n",
    "from sklearn.model_selection import train_test_split, cross_val_predict\n",
    "\n",
    "from sklearn.neighbors import KNeighborsClassifier\n",
    "from sklearn.preprocessing import MinMaxScaler, StandardScaler\n",
    "from sklearn.model_selection import KFold"
   ]
  },
  {
   "cell_type": "code",
   "execution_count": 2,
   "id": "344d6544",
   "metadata": {},
   "outputs": [],
   "source": [
    "pd.set_option('display.max_columns', None)"
   ]
  },
  {
   "cell_type": "code",
   "execution_count": 3,
   "id": "2cb278f6",
   "metadata": {},
   "outputs": [],
   "source": [
    "df = pd.read_csv('../_data/DataSet_Hitelbiralat_joados.csv')"
   ]
  },
  {
   "cell_type": "code",
   "execution_count": 4,
   "id": "043e42d7",
   "metadata": {},
   "outputs": [
    {
     "data": {
      "text/html": [
       "<div>\n",
       "<style scoped>\n",
       "    .dataframe tbody tr th:only-of-type {\n",
       "        vertical-align: middle;\n",
       "    }\n",
       "\n",
       "    .dataframe tbody tr th {\n",
       "        vertical-align: top;\n",
       "    }\n",
       "\n",
       "    .dataframe thead th {\n",
       "        text-align: right;\n",
       "    }\n",
       "</style>\n",
       "<table border=\"1\" class=\"dataframe\">\n",
       "  <thead>\n",
       "    <tr style=\"text-align: right;\">\n",
       "      <th></th>\n",
       "      <th>id_client</th>\n",
       "      <th>id_shop</th>\n",
       "      <th>sex</th>\n",
       "      <th>marital_status</th>\n",
       "      <th>age</th>\n",
       "      <th>quant_dependants</th>\n",
       "      <th>education</th>\n",
       "      <th>flag_residencial_phone</th>\n",
       "      <th>area_code_residencial_phone</th>\n",
       "      <th>payment_day</th>\n",
       "      <th>shop_rank</th>\n",
       "      <th>residence_type</th>\n",
       "      <th>months_in_residence</th>\n",
       "      <th>flag_mothers_name</th>\n",
       "      <th>flag_fathers_name</th>\n",
       "      <th>flag_residence_town_working_town</th>\n",
       "      <th>flag_residence_state_working_state</th>\n",
       "      <th>months_in_the_job</th>\n",
       "      <th>profession_code</th>\n",
       "      <th>mate_income</th>\n",
       "      <th>flag_residencial_address_postal_address</th>\n",
       "      <th>flag_other_card</th>\n",
       "      <th>quant_banking_accounts</th>\n",
       "      <th>personal_reference_1</th>\n",
       "      <th>personal_reference_2</th>\n",
       "      <th>flag_mobile_phone</th>\n",
       "      <th>flag_contact_phone</th>\n",
       "      <th>personal_net_income</th>\n",
       "      <th>cod_application_booth</th>\n",
       "      <th>quant_additional_cards_in_the_application</th>\n",
       "      <th>flag_card_insurance_option</th>\n",
       "      <th>target</th>\n",
       "    </tr>\n",
       "  </thead>\n",
       "  <tbody>\n",
       "    <tr>\n",
       "      <th>0</th>\n",
       "      <td>1</td>\n",
       "      <td>22</td>\n",
       "      <td>F</td>\n",
       "      <td>O</td>\n",
       "      <td>44</td>\n",
       "      <td>0</td>\n",
       "      <td>NaN</td>\n",
       "      <td>N</td>\n",
       "      <td>31</td>\n",
       "      <td>12</td>\n",
       "      <td>0</td>\n",
       "      <td>P</td>\n",
       "      <td>12</td>\n",
       "      <td>Y</td>\n",
       "      <td>Y</td>\n",
       "      <td>N</td>\n",
       "      <td>Y</td>\n",
       "      <td>48</td>\n",
       "      <td>731</td>\n",
       "      <td>0.0</td>\n",
       "      <td>Y</td>\n",
       "      <td>N</td>\n",
       "      <td>0</td>\n",
       "      <td>VERA</td>\n",
       "      <td>LUCIA</td>\n",
       "      <td>N</td>\n",
       "      <td>N</td>\n",
       "      <td>300.0</td>\n",
       "      <td>0</td>\n",
       "      <td>0</td>\n",
       "      <td>N</td>\n",
       "      <td>1</td>\n",
       "    </tr>\n",
       "    <tr>\n",
       "      <th>1</th>\n",
       "      <td>2</td>\n",
       "      <td>15</td>\n",
       "      <td>F</td>\n",
       "      <td>S</td>\n",
       "      <td>18</td>\n",
       "      <td>0</td>\n",
       "      <td>NaN</td>\n",
       "      <td>Y</td>\n",
       "      <td>31</td>\n",
       "      <td>20</td>\n",
       "      <td>0</td>\n",
       "      <td>P</td>\n",
       "      <td>216</td>\n",
       "      <td>Y</td>\n",
       "      <td>Y</td>\n",
       "      <td>Y</td>\n",
       "      <td>Y</td>\n",
       "      <td>12</td>\n",
       "      <td>853</td>\n",
       "      <td>0.0</td>\n",
       "      <td>Y</td>\n",
       "      <td>N</td>\n",
       "      <td>0</td>\n",
       "      <td>SARA</td>\n",
       "      <td>FELIPE</td>\n",
       "      <td>N</td>\n",
       "      <td>N</td>\n",
       "      <td>300.0</td>\n",
       "      <td>0</td>\n",
       "      <td>0</td>\n",
       "      <td>N</td>\n",
       "      <td>1</td>\n",
       "    </tr>\n",
       "    <tr>\n",
       "      <th>2</th>\n",
       "      <td>3</td>\n",
       "      <td>24</td>\n",
       "      <td>F</td>\n",
       "      <td>C</td>\n",
       "      <td>22</td>\n",
       "      <td>0</td>\n",
       "      <td>NaN</td>\n",
       "      <td>Y</td>\n",
       "      <td>31</td>\n",
       "      <td>8</td>\n",
       "      <td>0</td>\n",
       "      <td>P</td>\n",
       "      <td>48</td>\n",
       "      <td>Y</td>\n",
       "      <td>N</td>\n",
       "      <td>Y</td>\n",
       "      <td>Y</td>\n",
       "      <td>12</td>\n",
       "      <td>40</td>\n",
       "      <td>0.0</td>\n",
       "      <td>Y</td>\n",
       "      <td>N</td>\n",
       "      <td>0</td>\n",
       "      <td>HELENA</td>\n",
       "      <td>DOMINGOS SOGRA</td>\n",
       "      <td>N</td>\n",
       "      <td>N</td>\n",
       "      <td>229.0</td>\n",
       "      <td>0</td>\n",
       "      <td>0</td>\n",
       "      <td>N</td>\n",
       "      <td>1</td>\n",
       "    </tr>\n",
       "    <tr>\n",
       "      <th>3</th>\n",
       "      <td>4</td>\n",
       "      <td>12</td>\n",
       "      <td>F</td>\n",
       "      <td>C</td>\n",
       "      <td>47</td>\n",
       "      <td>0</td>\n",
       "      <td>NaN</td>\n",
       "      <td>N</td>\n",
       "      <td>31</td>\n",
       "      <td>25</td>\n",
       "      <td>0</td>\n",
       "      <td>P</td>\n",
       "      <td>180</td>\n",
       "      <td>Y</td>\n",
       "      <td>Y</td>\n",
       "      <td>N</td>\n",
       "      <td>Y</td>\n",
       "      <td>24</td>\n",
       "      <td>35</td>\n",
       "      <td>0.0</td>\n",
       "      <td>Y</td>\n",
       "      <td>N</td>\n",
       "      <td>0</td>\n",
       "      <td>JACI</td>\n",
       "      <td>VALERIA ALEXANDRA TRAJANO</td>\n",
       "      <td>N</td>\n",
       "      <td>N</td>\n",
       "      <td>304.0</td>\n",
       "      <td>0</td>\n",
       "      <td>0</td>\n",
       "      <td>N</td>\n",
       "      <td>1</td>\n",
       "    </tr>\n",
       "    <tr>\n",
       "      <th>4</th>\n",
       "      <td>5</td>\n",
       "      <td>16</td>\n",
       "      <td>F</td>\n",
       "      <td>S</td>\n",
       "      <td>28</td>\n",
       "      <td>0</td>\n",
       "      <td>NaN</td>\n",
       "      <td>Y</td>\n",
       "      <td>31</td>\n",
       "      <td>25</td>\n",
       "      <td>0</td>\n",
       "      <td>O</td>\n",
       "      <td>12</td>\n",
       "      <td>Y</td>\n",
       "      <td>Y</td>\n",
       "      <td>Y</td>\n",
       "      <td>Y</td>\n",
       "      <td>12</td>\n",
       "      <td>24</td>\n",
       "      <td>0.0</td>\n",
       "      <td>Y</td>\n",
       "      <td>N</td>\n",
       "      <td>0</td>\n",
       "      <td>MARCIA CRISTINA ZANELLA</td>\n",
       "      <td>SANDRO L P MARTINS</td>\n",
       "      <td>N</td>\n",
       "      <td>N</td>\n",
       "      <td>250.0</td>\n",
       "      <td>0</td>\n",
       "      <td>0</td>\n",
       "      <td>N</td>\n",
       "      <td>1</td>\n",
       "    </tr>\n",
       "    <tr>\n",
       "      <th>...</th>\n",
       "      <td>...</td>\n",
       "      <td>...</td>\n",
       "      <td>...</td>\n",
       "      <td>...</td>\n",
       "      <td>...</td>\n",
       "      <td>...</td>\n",
       "      <td>...</td>\n",
       "      <td>...</td>\n",
       "      <td>...</td>\n",
       "      <td>...</td>\n",
       "      <td>...</td>\n",
       "      <td>...</td>\n",
       "      <td>...</td>\n",
       "      <td>...</td>\n",
       "      <td>...</td>\n",
       "      <td>...</td>\n",
       "      <td>...</td>\n",
       "      <td>...</td>\n",
       "      <td>...</td>\n",
       "      <td>...</td>\n",
       "      <td>...</td>\n",
       "      <td>...</td>\n",
       "      <td>...</td>\n",
       "      <td>...</td>\n",
       "      <td>...</td>\n",
       "      <td>...</td>\n",
       "      <td>...</td>\n",
       "      <td>...</td>\n",
       "      <td>...</td>\n",
       "      <td>...</td>\n",
       "      <td>...</td>\n",
       "      <td>...</td>\n",
       "    </tr>\n",
       "    <tr>\n",
       "      <th>49995</th>\n",
       "      <td>49996</td>\n",
       "      <td>19</td>\n",
       "      <td>M</td>\n",
       "      <td>S</td>\n",
       "      <td>21</td>\n",
       "      <td>0</td>\n",
       "      <td>NaN</td>\n",
       "      <td>Y</td>\n",
       "      <td>31</td>\n",
       "      <td>12</td>\n",
       "      <td>0</td>\n",
       "      <td>P</td>\n",
       "      <td>120</td>\n",
       "      <td>Y</td>\n",
       "      <td>Y</td>\n",
       "      <td>Y</td>\n",
       "      <td>Y</td>\n",
       "      <td>12</td>\n",
       "      <td>218</td>\n",
       "      <td>0.0</td>\n",
       "      <td>Y</td>\n",
       "      <td>N</td>\n",
       "      <td>0</td>\n",
       "      <td>ALBA</td>\n",
       "      <td>DENILSON</td>\n",
       "      <td>N</td>\n",
       "      <td>N</td>\n",
       "      <td>234.0</td>\n",
       "      <td>0</td>\n",
       "      <td>0</td>\n",
       "      <td>N</td>\n",
       "      <td>1</td>\n",
       "    </tr>\n",
       "    <tr>\n",
       "      <th>49996</th>\n",
       "      <td>49997</td>\n",
       "      <td>22</td>\n",
       "      <td>F</td>\n",
       "      <td>C</td>\n",
       "      <td>40</td>\n",
       "      <td>0</td>\n",
       "      <td>NaN</td>\n",
       "      <td>Y</td>\n",
       "      <td>31</td>\n",
       "      <td>1</td>\n",
       "      <td>0</td>\n",
       "      <td>P</td>\n",
       "      <td>120</td>\n",
       "      <td>Y</td>\n",
       "      <td>Y</td>\n",
       "      <td>Y</td>\n",
       "      <td>Y</td>\n",
       "      <td>72</td>\n",
       "      <td>717</td>\n",
       "      <td>0.0</td>\n",
       "      <td>Y</td>\n",
       "      <td>N</td>\n",
       "      <td>0</td>\n",
       "      <td>JOANA</td>\n",
       "      <td>INES</td>\n",
       "      <td>N</td>\n",
       "      <td>N</td>\n",
       "      <td>1500.0</td>\n",
       "      <td>0</td>\n",
       "      <td>0</td>\n",
       "      <td>N</td>\n",
       "      <td>1</td>\n",
       "    </tr>\n",
       "    <tr>\n",
       "      <th>49997</th>\n",
       "      <td>49998</td>\n",
       "      <td>23</td>\n",
       "      <td>F</td>\n",
       "      <td>S</td>\n",
       "      <td>23</td>\n",
       "      <td>0</td>\n",
       "      <td>NaN</td>\n",
       "      <td>Y</td>\n",
       "      <td>31</td>\n",
       "      <td>28</td>\n",
       "      <td>0</td>\n",
       "      <td>P</td>\n",
       "      <td>264</td>\n",
       "      <td>Y</td>\n",
       "      <td>Y</td>\n",
       "      <td>Y</td>\n",
       "      <td>Y</td>\n",
       "      <td>12</td>\n",
       "      <td>991</td>\n",
       "      <td>0.0</td>\n",
       "      <td>Y</td>\n",
       "      <td>N</td>\n",
       "      <td>0</td>\n",
       "      <td>NOVINA</td>\n",
       "      <td>GLAUCIA</td>\n",
       "      <td>N</td>\n",
       "      <td>N</td>\n",
       "      <td>240.0</td>\n",
       "      <td>0</td>\n",
       "      <td>0</td>\n",
       "      <td>N</td>\n",
       "      <td>0</td>\n",
       "    </tr>\n",
       "    <tr>\n",
       "      <th>49998</th>\n",
       "      <td>49999</td>\n",
       "      <td>9</td>\n",
       "      <td>F</td>\n",
       "      <td>C</td>\n",
       "      <td>38</td>\n",
       "      <td>0</td>\n",
       "      <td>NaN</td>\n",
       "      <td>Y</td>\n",
       "      <td>5</td>\n",
       "      <td>28</td>\n",
       "      <td>0</td>\n",
       "      <td>P</td>\n",
       "      <td>48</td>\n",
       "      <td>Y</td>\n",
       "      <td>Y</td>\n",
       "      <td>Y</td>\n",
       "      <td>Y</td>\n",
       "      <td>204</td>\n",
       "      <td>40</td>\n",
       "      <td>0.0</td>\n",
       "      <td>Y</td>\n",
       "      <td>N</td>\n",
       "      <td>0</td>\n",
       "      <td>LILIANE FIGUEIREDO</td>\n",
       "      <td>MIRNA CARVALHO NASCIMENTO</td>\n",
       "      <td>N</td>\n",
       "      <td>N</td>\n",
       "      <td>616.0</td>\n",
       "      <td>0</td>\n",
       "      <td>0</td>\n",
       "      <td>N</td>\n",
       "      <td>1</td>\n",
       "    </tr>\n",
       "    <tr>\n",
       "      <th>49999</th>\n",
       "      <td>50000</td>\n",
       "      <td>22</td>\n",
       "      <td>M</td>\n",
       "      <td>S</td>\n",
       "      <td>29</td>\n",
       "      <td>0</td>\n",
       "      <td>NaN</td>\n",
       "      <td>Y</td>\n",
       "      <td>31</td>\n",
       "      <td>23</td>\n",
       "      <td>0</td>\n",
       "      <td>P</td>\n",
       "      <td>48</td>\n",
       "      <td>Y</td>\n",
       "      <td>Y</td>\n",
       "      <td>N</td>\n",
       "      <td>Y</td>\n",
       "      <td>36</td>\n",
       "      <td>26</td>\n",
       "      <td>0.0</td>\n",
       "      <td>Y</td>\n",
       "      <td>N</td>\n",
       "      <td>0</td>\n",
       "      <td>TITO MARTINS</td>\n",
       "      <td>NaN</td>\n",
       "      <td>N</td>\n",
       "      <td>N</td>\n",
       "      <td>341.0</td>\n",
       "      <td>0</td>\n",
       "      <td>0</td>\n",
       "      <td>N</td>\n",
       "      <td>1</td>\n",
       "    </tr>\n",
       "  </tbody>\n",
       "</table>\n",
       "<p>50000 rows × 32 columns</p>\n",
       "</div>"
      ],
      "text/plain": [
       "       id_client  id_shop sex marital_status  age  quant_dependants  \\\n",
       "0              1       22   F              O   44                 0   \n",
       "1              2       15   F              S   18                 0   \n",
       "2              3       24   F              C   22                 0   \n",
       "3              4       12   F              C   47                 0   \n",
       "4              5       16   F              S   28                 0   \n",
       "...          ...      ...  ..            ...  ...               ...   \n",
       "49995      49996       19   M              S   21                 0   \n",
       "49996      49997       22   F              C   40                 0   \n",
       "49997      49998       23   F              S   23                 0   \n",
       "49998      49999        9   F              C   38                 0   \n",
       "49999      50000       22   M              S   29                 0   \n",
       "\n",
       "       education flag_residencial_phone  area_code_residencial_phone  \\\n",
       "0            NaN                      N                           31   \n",
       "1            NaN                      Y                           31   \n",
       "2            NaN                      Y                           31   \n",
       "3            NaN                      N                           31   \n",
       "4            NaN                      Y                           31   \n",
       "...          ...                    ...                          ...   \n",
       "49995        NaN                      Y                           31   \n",
       "49996        NaN                      Y                           31   \n",
       "49997        NaN                      Y                           31   \n",
       "49998        NaN                      Y                            5   \n",
       "49999        NaN                      Y                           31   \n",
       "\n",
       "       payment_day  shop_rank residence_type  months_in_residence  \\\n",
       "0               12          0              P                   12   \n",
       "1               20          0              P                  216   \n",
       "2                8          0              P                   48   \n",
       "3               25          0              P                  180   \n",
       "4               25          0              O                   12   \n",
       "...            ...        ...            ...                  ...   \n",
       "49995           12          0              P                  120   \n",
       "49996            1          0              P                  120   \n",
       "49997           28          0              P                  264   \n",
       "49998           28          0              P                   48   \n",
       "49999           23          0              P                   48   \n",
       "\n",
       "      flag_mothers_name flag_fathers_name flag_residence_town_working_town  \\\n",
       "0                     Y                 Y                                N   \n",
       "1                     Y                 Y                                Y   \n",
       "2                     Y                 N                                Y   \n",
       "3                     Y                 Y                                N   \n",
       "4                     Y                 Y                                Y   \n",
       "...                 ...               ...                              ...   \n",
       "49995                 Y                 Y                                Y   \n",
       "49996                 Y                 Y                                Y   \n",
       "49997                 Y                 Y                                Y   \n",
       "49998                 Y                 Y                                Y   \n",
       "49999                 Y                 Y                                N   \n",
       "\n",
       "      flag_residence_state_working_state  months_in_the_job  profession_code  \\\n",
       "0                                      Y                 48              731   \n",
       "1                                      Y                 12              853   \n",
       "2                                      Y                 12               40   \n",
       "3                                      Y                 24               35   \n",
       "4                                      Y                 12               24   \n",
       "...                                  ...                ...              ...   \n",
       "49995                                  Y                 12              218   \n",
       "49996                                  Y                 72              717   \n",
       "49997                                  Y                 12              991   \n",
       "49998                                  Y                204               40   \n",
       "49999                                  Y                 36               26   \n",
       "\n",
       "       mate_income flag_residencial_address_postal_address flag_other_card  \\\n",
       "0              0.0                                       Y               N   \n",
       "1              0.0                                       Y               N   \n",
       "2              0.0                                       Y               N   \n",
       "3              0.0                                       Y               N   \n",
       "4              0.0                                       Y               N   \n",
       "...            ...                                     ...             ...   \n",
       "49995          0.0                                       Y               N   \n",
       "49996          0.0                                       Y               N   \n",
       "49997          0.0                                       Y               N   \n",
       "49998          0.0                                       Y               N   \n",
       "49999          0.0                                       Y               N   \n",
       "\n",
       "       quant_banking_accounts     personal_reference_1  \\\n",
       "0                           0                     VERA   \n",
       "1                           0                     SARA   \n",
       "2                           0                   HELENA   \n",
       "3                           0                     JACI   \n",
       "4                           0  MARCIA CRISTINA ZANELLA   \n",
       "...                       ...                      ...   \n",
       "49995                       0                     ALBA   \n",
       "49996                       0                    JOANA   \n",
       "49997                       0                   NOVINA   \n",
       "49998                       0       LILIANE FIGUEIREDO   \n",
       "49999                       0             TITO MARTINS   \n",
       "\n",
       "            personal_reference_2 flag_mobile_phone flag_contact_phone  \\\n",
       "0                          LUCIA                 N                  N   \n",
       "1                         FELIPE                 N                  N   \n",
       "2                 DOMINGOS SOGRA                 N                  N   \n",
       "3      VALERIA ALEXANDRA TRAJANO                 N                  N   \n",
       "4             SANDRO L P MARTINS                 N                  N   \n",
       "...                          ...               ...                ...   \n",
       "49995                   DENILSON                 N                  N   \n",
       "49996                       INES                 N                  N   \n",
       "49997                    GLAUCIA                 N                  N   \n",
       "49998  MIRNA CARVALHO NASCIMENTO                 N                  N   \n",
       "49999                        NaN                 N                  N   \n",
       "\n",
       "       personal_net_income  cod_application_booth  \\\n",
       "0                    300.0                      0   \n",
       "1                    300.0                      0   \n",
       "2                    229.0                      0   \n",
       "3                    304.0                      0   \n",
       "4                    250.0                      0   \n",
       "...                    ...                    ...   \n",
       "49995                234.0                      0   \n",
       "49996               1500.0                      0   \n",
       "49997                240.0                      0   \n",
       "49998                616.0                      0   \n",
       "49999                341.0                      0   \n",
       "\n",
       "       quant_additional_cards_in_the_application flag_card_insurance_option  \\\n",
       "0                                              0                          N   \n",
       "1                                              0                          N   \n",
       "2                                              0                          N   \n",
       "3                                              0                          N   \n",
       "4                                              0                          N   \n",
       "...                                          ...                        ...   \n",
       "49995                                          0                          N   \n",
       "49996                                          0                          N   \n",
       "49997                                          0                          N   \n",
       "49998                                          0                          N   \n",
       "49999                                          0                          N   \n",
       "\n",
       "       target  \n",
       "0           1  \n",
       "1           1  \n",
       "2           1  \n",
       "3           1  \n",
       "4           1  \n",
       "...       ...  \n",
       "49995       1  \n",
       "49996       1  \n",
       "49997       0  \n",
       "49998       1  \n",
       "49999       1  \n",
       "\n",
       "[50000 rows x 32 columns]"
      ]
     },
     "execution_count": 4,
     "metadata": {},
     "output_type": "execute_result"
    }
   ],
   "source": [
    "df"
   ]
  },
  {
   "cell_type": "code",
   "execution_count": 5,
   "id": "8175b74c",
   "metadata": {},
   "outputs": [
    {
     "data": {
      "text/plain": [
       "1    40126\n",
       "0     9874\n",
       "Name: target, dtype: int64"
      ]
     },
     "execution_count": 5,
     "metadata": {},
     "output_type": "execute_result"
    }
   ],
   "source": [
    "df['target'].value_counts()"
   ]
  },
  {
   "cell_type": "code",
   "execution_count": 6,
   "id": "56f0f445",
   "metadata": {},
   "outputs": [],
   "source": "# random baseline -> random model"
  },
  {
   "cell_type": "code",
   "execution_count": 7,
   "id": "aa2f5962",
   "metadata": {},
   "outputs": [],
   "source": [
    "np.random.seed(1)\n",
    "df['pred_baseline_proba'] = np.random.rand(df.shape[0])"
   ]
  },
  {
   "cell_type": "code",
   "execution_count": 8,
   "id": "26790a7f",
   "metadata": {},
   "outputs": [],
   "source": [
    "df['pred_baseline'] = df['pred_baseline_proba'].apply(lambda x: 1 if x >= 0.5 else 0)"
   ]
  },
  {
   "cell_type": "code",
   "execution_count": 9,
   "id": "5b771b21",
   "metadata": {},
   "outputs": [
    {
     "data": {
      "text/plain": [
       "0.5034"
      ]
     },
     "execution_count": 9,
     "metadata": {},
     "output_type": "execute_result"
    }
   ],
   "source": [
    "accuracy_score(df['target'], df['pred_baseline'])"
   ]
  },
  {
   "cell_type": "code",
   "execution_count": 10,
   "id": "bb684d4b",
   "metadata": {},
   "outputs": [
    {
     "data": {
      "text/plain": [
       "0.502865972187609"
      ]
     },
     "execution_count": 10,
     "metadata": {},
     "output_type": "execute_result"
    }
   ],
   "source": [
    "recall_score(df['target'], df['pred_baseline'])"
   ]
  },
  {
   "cell_type": "code",
   "execution_count": 11,
   "id": "72de0ae8",
   "metadata": {},
   "outputs": [
    {
     "data": {
      "text/plain": [
       "0.8051875498802873"
      ]
     },
     "execution_count": 11,
     "metadata": {},
     "output_type": "execute_result"
    }
   ],
   "source": [
    "precision_score(df['target'], df['pred_baseline'])"
   ]
  },
  {
   "cell_type": "code",
   "execution_count": 12,
   "id": "d292a9bc",
   "metadata": {},
   "outputs": [],
   "source": [
    "cm = confusion_matrix(df['target'], df['pred_baseline'])"
   ]
  },
  {
   "cell_type": "code",
   "execution_count": 13,
   "id": "66cb13c6",
   "metadata": {},
   "outputs": [
    {
     "data": {
      "text/plain": [
       "0.5034"
      ]
     },
     "execution_count": 13,
     "metadata": {},
     "output_type": "execute_result"
    }
   ],
   "source": [
    "(cm[0][0] + cm[1][1]) / cm.sum()"
   ]
  },
  {
   "cell_type": "code",
   "execution_count": 14,
   "id": "947e1c96",
   "metadata": {},
   "outputs": [
    {
     "data": {
      "text/plain": [
       "array([[ 4992,  4882],\n",
       "       [19948, 20178]])"
      ]
     },
     "execution_count": 14,
     "metadata": {},
     "output_type": "execute_result"
    }
   ],
   "source": [
    "# TN FP\n",
    "# FN TP\n",
    "# better -> pd.DataFrame(cm)\n",
    "cm"
   ]
  },
  {
   "cell_type": "code",
   "execution_count": 15,
   "id": "1f9bbdc8",
   "metadata": {},
   "outputs": [
    {
     "data": {
      "text/plain": [
       "0.5034"
      ]
     },
     "execution_count": 15,
     "metadata": {},
     "output_type": "execute_result"
    }
   ],
   "source": [
    "(cm[0][0] + cm[1][1]) / cm.sum()"
   ]
  },
  {
   "cell_type": "code",
   "execution_count": 16,
   "id": "aa5c8412",
   "metadata": {},
   "outputs": [
    {
     "data": {
      "text/plain": [
       "0.502865972187609"
      ]
     },
     "execution_count": 16,
     "metadata": {},
     "output_type": "execute_result"
    }
   ],
   "source": [
    "cm[1][1] / cm[1].sum()"
   ]
  },
  {
   "cell_type": "code",
   "execution_count": 17,
   "id": "e7a367a5",
   "metadata": {},
   "outputs": [
    {
     "data": {
      "text/plain": [
       "0.8051875498802873"
      ]
     },
     "execution_count": 17,
     "metadata": {},
     "output_type": "execute_result"
    }
   ],
   "source": [
    "cm[1][1] / (cm[0][1] + cm[1][1])"
   ]
  },
  {
   "cell_type": "code",
   "execution_count": null,
   "id": "2e75e3ee",
   "metadata": {},
   "outputs": [],
   "source": []
  },
  {
   "cell_type": "markdown",
   "id": "98128c52",
   "metadata": {},
   "source": [
    "# adatelokeszites"
   ]
  },
  {
   "cell_type": "code",
   "execution_count": 18,
   "id": "0182d788",
   "metadata": {},
   "outputs": [],
   "source": [
    "dummy_cols_list = ['sex', 'marital_status', 'residence_type']\n",
    "dummy_names = []\n",
    "\n",
    "for col in dummy_cols_list:\n",
    "    dummy_df = pd.get_dummies(df.loc[:, col], prefix=col, drop_first=True)\n",
    "    dummy_names += dummy_df.columns.tolist()\n",
    "    df = pd.concat([df, dummy_df], axis=1)"
   ]
  },
  {
   "cell_type": "code",
   "execution_count": 19,
   "id": "51572395",
   "metadata": {},
   "outputs": [],
   "source": [
    "X_cols = ['age', 'months_in_residence', 'months_in_the_job', 'personal_net_income', 'mate_income']\n",
    "X_cols = X_cols + dummy_names\n",
    "y_col = 'target'"
   ]
  },
  {
   "cell_type": "code",
   "execution_count": 20,
   "id": "df5a8390",
   "metadata": {},
   "outputs": [],
   "source": [
    "X = df.loc[:, X_cols]\n",
    "y = df.loc[:, y_col]"
   ]
  },
  {
   "cell_type": "code",
   "execution_count": 21,
   "id": "ee26bb4b",
   "metadata": {},
   "outputs": [
    {
     "data": {
      "text/plain": [
       "age                    0\n",
       "months_in_residence    0\n",
       "months_in_the_job      0\n",
       "personal_net_income    0\n",
       "mate_income            0\n",
       "sex_M                  0\n",
       "marital_status_D       0\n",
       "marital_status_O       0\n",
       "marital_status_S       0\n",
       "marital_status_V       0\n",
       "residence_type_C       0\n",
       "residence_type_O       0\n",
       "residence_type_P       0\n",
       "dtype: int64"
      ]
     },
     "execution_count": 21,
     "metadata": {},
     "output_type": "execute_result"
    }
   ],
   "source": [
    "X.isnull().sum()"
   ]
  },
  {
   "cell_type": "code",
   "execution_count": 22,
   "id": "f71938fc",
   "metadata": {},
   "outputs": [],
   "source": [
    "model = LogisticRegression()"
   ]
  },
  {
   "cell_type": "code",
   "execution_count": 23,
   "id": "a713029b",
   "metadata": {},
   "outputs": [],
   "source": [
    "pred = cross_val_predict(model, X, y, cv=4)"
   ]
  },
  {
   "cell_type": "code",
   "execution_count": 24,
   "id": "c0a98418",
   "metadata": {},
   "outputs": [
    {
     "data": {
      "text/plain": [
       "array([1, 1, 1, ..., 1, 1, 1])"
      ]
     },
     "execution_count": 24,
     "metadata": {},
     "output_type": "execute_result"
    }
   ],
   "source": [
    "pred"
   ]
  },
  {
   "cell_type": "code",
   "execution_count": 25,
   "id": "3697bd7b",
   "metadata": {},
   "outputs": [],
   "source": [
    "df['pred_lr'] = pred"
   ]
  },
  {
   "cell_type": "code",
   "execution_count": 26,
   "id": "585cee7f",
   "metadata": {},
   "outputs": [],
   "source": [
    "def get_results(y_true, y_pred):\n",
    "    acc = accuracy_score(y_true, y_pred)\n",
    "    prec = precision_score(y_true, y_pred)\n",
    "    rec = recall_score(y_true, y_pred)\n",
    "    cm = confusion_matrix(y_true, y_pred)\n",
    "    print('Acc:', round(acc, 4))\n",
    "    print('Precision:', round(prec, 4))\n",
    "    print('Recall:', round(rec, 4))\n",
    "    print('CM:\\n', cm)"
   ]
  },
  {
   "cell_type": "code",
   "execution_count": 27,
   "id": "d33f755b",
   "metadata": {},
   "outputs": [
    {
     "name": "stdout",
     "output_type": "stream",
     "text": [
      "Acc: 0.8025\n",
      "Precision: 0.8025\n",
      "Recall: 1.0\n",
      "CM:\n",
      " [[    0  9874]\n",
      " [    1 40125]]\n"
     ]
    }
   ],
   "source": [
    "get_results(y, pred)"
   ]
  },
  {
   "cell_type": "code",
   "execution_count": 28,
   "id": "bdc48485",
   "metadata": {},
   "outputs": [],
   "source": [
    "pred_proba = cross_val_predict(model, X, y, cv=4, method='predict_proba')"
   ]
  },
  {
   "cell_type": "code",
   "execution_count": 29,
   "id": "12ebbfc7",
   "metadata": {},
   "outputs": [],
   "source": [
    "df['pred_lr_proba'] = pred_proba[:, 1]"
   ]
  },
  {
   "cell_type": "code",
   "execution_count": 30,
   "id": "1e64904c",
   "metadata": {},
   "outputs": [
    {
     "data": {
      "text/plain": [
       "0        0.855527\n",
       "1        0.684468\n",
       "2        0.707328\n",
       "3        0.870089\n",
       "4        0.750985\n",
       "           ...   \n",
       "49995    0.701530\n",
       "49996    0.843666\n",
       "49997    0.726458\n",
       "49998    0.863089\n",
       "49999    0.764721\n",
       "Name: pred_lr_proba, Length: 50000, dtype: float64"
      ]
     },
     "execution_count": 30,
     "metadata": {},
     "output_type": "execute_result"
    }
   ],
   "source": [
    "df['pred_lr_proba']"
   ]
  },
  {
   "cell_type": "code",
   "execution_count": 31,
   "id": "bdf415dc",
   "metadata": {},
   "outputs": [
    {
     "data": {
      "text/plain": [
       "target\n",
       "0    0.757217\n",
       "1    0.795563\n",
       "Name: pred_lr_proba, dtype: float64"
      ]
     },
     "execution_count": 31,
     "metadata": {},
     "output_type": "execute_result"
    }
   ],
   "source": [
    "df.groupby('target')['pred_lr_proba'].mean()"
   ]
  },
  {
   "cell_type": "code",
   "execution_count": 32,
   "id": "16166068",
   "metadata": {},
   "outputs": [
    {
     "data": {
      "image/png": "[encoded data removed]",
      "text/plain": [
       "<Figure size 432x288 with 1 Axes>"
      ]
     },
     "metadata": {
      "needs_background": "light"
     },
     "output_type": "display_data"
    }
   ],
   "source": [
    "plt.hist(df.loc[df['target']==1, 'pred_lr_proba'], bins=20)\n",
    "plt.hist(df.loc[df['target']==0, 'pred_lr_proba'], bins=20);"
   ]
  },
  {
   "cell_type": "code",
   "execution_count": 33,
   "id": "74e19bed",
   "metadata": {},
   "outputs": [],
   "source": [
    "dct = DecisionTreeClassifier(max_depth=5)"
   ]
  },
  {
   "cell_type": "code",
   "execution_count": 34,
   "id": "31e9be04",
   "metadata": {},
   "outputs": [],
   "source": [
    "pred = cross_val_predict(dct, X, y, cv=4)"
   ]
  },
  {
   "cell_type": "code",
   "execution_count": 35,
   "id": "1c687763",
   "metadata": {},
   "outputs": [],
   "source": [
    "pred_proba = cross_val_predict(dct, X, y, cv=4, method='predict_proba')"
   ]
  },
  {
   "cell_type": "code",
   "execution_count": 36,
   "id": "4922af85",
   "metadata": {},
   "outputs": [],
   "source": [
    "df['pred_dct_proba'] = pred_proba[:, 1]"
   ]
  },
  {
   "cell_type": "code",
   "execution_count": 37,
   "id": "ffa75ec6",
   "metadata": {},
   "outputs": [
    {
     "name": "stdout",
     "output_type": "stream",
     "text": [
      "Acc: 0.8026\n",
      "Precision: 0.8032\n",
      "Recall: 0.9988\n",
      "CM:\n",
      " [[   56  9818]\n",
      " [   50 40076]]\n"
     ]
    }
   ],
   "source": [
    "get_results(y, pred)"
   ]
  },
  {
   "cell_type": "code",
   "execution_count": 38,
   "id": "2d727a2b",
   "metadata": {},
   "outputs": [],
   "source": [
    "X_train, X_test, y_train, y_test = train_test_split(X, y, test_size=0.3, random_state=1)"
   ]
  },
  {
   "cell_type": "code",
   "execution_count": 39,
   "id": "e7458888",
   "metadata": {},
   "outputs": [],
   "source": [
    "train_acc_list = []\n",
    "test_acc_list = []\n",
    "for i in range(1, 31):\n",
    "    dct = DecisionTreeClassifier(max_depth=i)\n",
    "    \n",
    "    dct.fit(X_train, y_train)\n",
    "    train_pred = dct.predict(X_train)\n",
    "    test_pred = dct.predict(X_test)\n",
    "    \n",
    "    train_acc = accuracy_score(y_train, train_pred)\n",
    "    test_acc = accuracy_score(y_test, test_pred)\n",
    "    \n",
    "    train_acc_list.append(train_acc)\n",
    "    test_acc_list.append(test_acc)\n",
    "    "
   ]
  },
  {
   "cell_type": "code",
   "execution_count": 40,
   "id": "c48508c2",
   "metadata": {},
   "outputs": [
    {
     "data": {
      "text/plain": [
       "(0.0, 1.0)"
      ]
     },
     "execution_count": 40,
     "metadata": {},
     "output_type": "execute_result"
    },
    {
     "data": {
      "image/png": "[encoded data removed]",
      "text/plain": [
       "<Figure size 432x288 with 1 Axes>"
      ]
     },
     "metadata": {
      "needs_background": "light"
     },
     "output_type": "display_data"
    }
   ],
   "source": [
    "plt.plot(range(1, 31), train_acc_list, label='train')\n",
    "plt.plot(range(1, 31), test_acc_list, label='test')\n",
    "plt.legend()\n",
    "plt.ylim(0, 1)"
   ]
  },
  {
   "cell_type": "code",
   "execution_count": 41,
   "id": "5b515df8",
   "metadata": {},
   "outputs": [],
   "source": [
    "dct = DecisionTreeClassifier(max_depth=2)"
   ]
  },
  {
   "cell_type": "code",
   "execution_count": 42,
   "id": "4730003b",
   "metadata": {},
   "outputs": [
    {
     "data": {
      "text/plain": [
       "DecisionTreeClassifier(max_depth=2)"
      ]
     },
     "execution_count": 42,
     "metadata": {},
     "output_type": "execute_result"
    }
   ],
   "source": [
    "dct.fit(X, y)"
   ]
  },
  {
   "cell_type": "code",
   "execution_count": 43,
   "id": "751c991f",
   "metadata": {
    "scrolled": true
   },
   "outputs": [
    {
     "data": {
      "image/png": "[encoded data removed]",
      "text/plain": [
       "<Figure size 432x288 with 1 Axes>"
      ]
     },
     "metadata": {
      "needs_background": "light"
     },
     "output_type": "display_data"
    }
   ],
   "source": [
    "plot_tree(dct, feature_names=X.columns, filled=True);"
   ]
  },
  {
   "cell_type": "code",
   "execution_count": 44,
   "id": "d61a80f9",
   "metadata": {},
   "outputs": [
    {
     "data": {
      "text/plain": [
       "0.43321705936162447"
      ]
     },
     "execution_count": 44,
     "metadata": {},
     "output_type": "execute_result"
    }
   ],
   "source": [
    "np.random.rand()"
   ]
  },
  {
   "cell_type": "markdown",
   "id": "256e6cb5-62a1-4f54-8c0b-3d7e3a6e4eda",
   "metadata": {},
   "source": [
    "# Üzleti kiértékelés"
   ]
  },
  {
   "cell_type": "code",
   "execution_count": 45,
   "id": "d02f91ea-4e62-4274-914a-9dea1c89f838",
   "metadata": {},
   "outputs": [
    {
     "data": {
      "text/html": [
       "<div>\n",
       "<style scoped>\n",
       "    .dataframe tbody tr th:only-of-type {\n",
       "        vertical-align: middle;\n",
       "    }\n",
       "\n",
       "    .dataframe tbody tr th {\n",
       "        vertical-align: top;\n",
       "    }\n",
       "\n",
       "    .dataframe thead th {\n",
       "        text-align: right;\n",
       "    }\n",
       "</style>\n",
       "<table border=\"1\" class=\"dataframe\">\n",
       "  <thead>\n",
       "    <tr style=\"text-align: right;\">\n",
       "      <th></th>\n",
       "      <th>id_client</th>\n",
       "      <th>id_shop</th>\n",
       "      <th>sex</th>\n",
       "      <th>marital_status</th>\n",
       "      <th>age</th>\n",
       "      <th>quant_dependants</th>\n",
       "      <th>education</th>\n",
       "      <th>flag_residencial_phone</th>\n",
       "      <th>area_code_residencial_phone</th>\n",
       "      <th>payment_day</th>\n",
       "      <th>shop_rank</th>\n",
       "      <th>residence_type</th>\n",
       "      <th>months_in_residence</th>\n",
       "      <th>flag_mothers_name</th>\n",
       "      <th>flag_fathers_name</th>\n",
       "      <th>flag_residence_town_working_town</th>\n",
       "      <th>flag_residence_state_working_state</th>\n",
       "      <th>months_in_the_job</th>\n",
       "      <th>profession_code</th>\n",
       "      <th>mate_income</th>\n",
       "      <th>flag_residencial_address_postal_address</th>\n",
       "      <th>flag_other_card</th>\n",
       "      <th>quant_banking_accounts</th>\n",
       "      <th>personal_reference_1</th>\n",
       "      <th>personal_reference_2</th>\n",
       "      <th>flag_mobile_phone</th>\n",
       "      <th>flag_contact_phone</th>\n",
       "      <th>personal_net_income</th>\n",
       "      <th>cod_application_booth</th>\n",
       "      <th>quant_additional_cards_in_the_application</th>\n",
       "      <th>flag_card_insurance_option</th>\n",
       "      <th>target</th>\n",
       "      <th>pred_baseline_proba</th>\n",
       "      <th>pred_baseline</th>\n",
       "      <th>sex_M</th>\n",
       "      <th>marital_status_D</th>\n",
       "      <th>marital_status_O</th>\n",
       "      <th>marital_status_S</th>\n",
       "      <th>marital_status_V</th>\n",
       "      <th>residence_type_C</th>\n",
       "      <th>residence_type_O</th>\n",
       "      <th>residence_type_P</th>\n",
       "      <th>pred_lr</th>\n",
       "      <th>pred_lr_proba</th>\n",
       "      <th>pred_dct_proba</th>\n",
       "    </tr>\n",
       "  </thead>\n",
       "  <tbody>\n",
       "    <tr>\n",
       "      <th>0</th>\n",
       "      <td>1</td>\n",
       "      <td>22</td>\n",
       "      <td>F</td>\n",
       "      <td>O</td>\n",
       "      <td>44</td>\n",
       "      <td>0</td>\n",
       "      <td>NaN</td>\n",
       "      <td>N</td>\n",
       "      <td>31</td>\n",
       "      <td>12</td>\n",
       "      <td>0</td>\n",
       "      <td>P</td>\n",
       "      <td>12</td>\n",
       "      <td>Y</td>\n",
       "      <td>Y</td>\n",
       "      <td>N</td>\n",
       "      <td>Y</td>\n",
       "      <td>48</td>\n",
       "      <td>731</td>\n",
       "      <td>0.0</td>\n",
       "      <td>Y</td>\n",
       "      <td>N</td>\n",
       "      <td>0</td>\n",
       "      <td>VERA</td>\n",
       "      <td>LUCIA</td>\n",
       "      <td>N</td>\n",
       "      <td>N</td>\n",
       "      <td>300.0</td>\n",
       "      <td>0</td>\n",
       "      <td>0</td>\n",
       "      <td>N</td>\n",
       "      <td>1</td>\n",
       "      <td>0.417022</td>\n",
       "      <td>0</td>\n",
       "      <td>0</td>\n",
       "      <td>0</td>\n",
       "      <td>1</td>\n",
       "      <td>0</td>\n",
       "      <td>0</td>\n",
       "      <td>0</td>\n",
       "      <td>0</td>\n",
       "      <td>1</td>\n",
       "      <td>1</td>\n",
       "      <td>0.855527</td>\n",
       "      <td>0.882179</td>\n",
       "    </tr>\n",
       "    <tr>\n",
       "      <th>1</th>\n",
       "      <td>2</td>\n",
       "      <td>15</td>\n",
       "      <td>F</td>\n",
       "      <td>S</td>\n",
       "      <td>18</td>\n",
       "      <td>0</td>\n",
       "      <td>NaN</td>\n",
       "      <td>Y</td>\n",
       "      <td>31</td>\n",
       "      <td>20</td>\n",
       "      <td>0</td>\n",
       "      <td>P</td>\n",
       "      <td>216</td>\n",
       "      <td>Y</td>\n",
       "      <td>Y</td>\n",
       "      <td>Y</td>\n",
       "      <td>Y</td>\n",
       "      <td>12</td>\n",
       "      <td>853</td>\n",
       "      <td>0.0</td>\n",
       "      <td>Y</td>\n",
       "      <td>N</td>\n",
       "      <td>0</td>\n",
       "      <td>SARA</td>\n",
       "      <td>FELIPE</td>\n",
       "      <td>N</td>\n",
       "      <td>N</td>\n",
       "      <td>300.0</td>\n",
       "      <td>0</td>\n",
       "      <td>0</td>\n",
       "      <td>N</td>\n",
       "      <td>1</td>\n",
       "      <td>0.720324</td>\n",
       "      <td>1</td>\n",
       "      <td>0</td>\n",
       "      <td>0</td>\n",
       "      <td>0</td>\n",
       "      <td>1</td>\n",
       "      <td>0</td>\n",
       "      <td>0</td>\n",
       "      <td>0</td>\n",
       "      <td>1</td>\n",
       "      <td>1</td>\n",
       "      <td>0.684468</td>\n",
       "      <td>0.702069</td>\n",
       "    </tr>\n",
       "    <tr>\n",
       "      <th>2</th>\n",
       "      <td>3</td>\n",
       "      <td>24</td>\n",
       "      <td>F</td>\n",
       "      <td>C</td>\n",
       "      <td>22</td>\n",
       "      <td>0</td>\n",
       "      <td>NaN</td>\n",
       "      <td>Y</td>\n",
       "      <td>31</td>\n",
       "      <td>8</td>\n",
       "      <td>0</td>\n",
       "      <td>P</td>\n",
       "      <td>48</td>\n",
       "      <td>Y</td>\n",
       "      <td>N</td>\n",
       "      <td>Y</td>\n",
       "      <td>Y</td>\n",
       "      <td>12</td>\n",
       "      <td>40</td>\n",
       "      <td>0.0</td>\n",
       "      <td>Y</td>\n",
       "      <td>N</td>\n",
       "      <td>0</td>\n",
       "      <td>HELENA</td>\n",
       "      <td>DOMINGOS SOGRA</td>\n",
       "      <td>N</td>\n",
       "      <td>N</td>\n",
       "      <td>229.0</td>\n",
       "      <td>0</td>\n",
       "      <td>0</td>\n",
       "      <td>N</td>\n",
       "      <td>1</td>\n",
       "      <td>0.000114</td>\n",
       "      <td>0</td>\n",
       "      <td>0</td>\n",
       "      <td>0</td>\n",
       "      <td>0</td>\n",
       "      <td>0</td>\n",
       "      <td>0</td>\n",
       "      <td>0</td>\n",
       "      <td>0</td>\n",
       "      <td>1</td>\n",
       "      <td>1</td>\n",
       "      <td>0.707328</td>\n",
       "      <td>0.749813</td>\n",
       "    </tr>\n",
       "    <tr>\n",
       "      <th>3</th>\n",
       "      <td>4</td>\n",
       "      <td>12</td>\n",
       "      <td>F</td>\n",
       "      <td>C</td>\n",
       "      <td>47</td>\n",
       "      <td>0</td>\n",
       "      <td>NaN</td>\n",
       "      <td>N</td>\n",
       "      <td>31</td>\n",
       "      <td>25</td>\n",
       "      <td>0</td>\n",
       "      <td>P</td>\n",
       "      <td>180</td>\n",
       "      <td>Y</td>\n",
       "      <td>Y</td>\n",
       "      <td>N</td>\n",
       "      <td>Y</td>\n",
       "      <td>24</td>\n",
       "      <td>35</td>\n",
       "      <td>0.0</td>\n",
       "      <td>Y</td>\n",
       "      <td>N</td>\n",
       "      <td>0</td>\n",
       "      <td>JACI</td>\n",
       "      <td>VALERIA ALEXANDRA TRAJANO</td>\n",
       "      <td>N</td>\n",
       "      <td>N</td>\n",
       "      <td>304.0</td>\n",
       "      <td>0</td>\n",
       "      <td>0</td>\n",
       "      <td>N</td>\n",
       "      <td>1</td>\n",
       "      <td>0.302333</td>\n",
       "      <td>0</td>\n",
       "      <td>0</td>\n",
       "      <td>0</td>\n",
       "      <td>0</td>\n",
       "      <td>0</td>\n",
       "      <td>0</td>\n",
       "      <td>0</td>\n",
       "      <td>0</td>\n",
       "      <td>1</td>\n",
       "      <td>1</td>\n",
       "      <td>0.870089</td>\n",
       "      <td>0.883823</td>\n",
       "    </tr>\n",
       "    <tr>\n",
       "      <th>4</th>\n",
       "      <td>5</td>\n",
       "      <td>16</td>\n",
       "      <td>F</td>\n",
       "      <td>S</td>\n",
       "      <td>28</td>\n",
       "      <td>0</td>\n",
       "      <td>NaN</td>\n",
       "      <td>Y</td>\n",
       "      <td>31</td>\n",
       "      <td>25</td>\n",
       "      <td>0</td>\n",
       "      <td>O</td>\n",
       "      <td>12</td>\n",
       "      <td>Y</td>\n",
       "      <td>Y</td>\n",
       "      <td>Y</td>\n",
       "      <td>Y</td>\n",
       "      <td>12</td>\n",
       "      <td>24</td>\n",
       "      <td>0.0</td>\n",
       "      <td>Y</td>\n",
       "      <td>N</td>\n",
       "      <td>0</td>\n",
       "      <td>MARCIA CRISTINA ZANELLA</td>\n",
       "      <td>SANDRO L P MARTINS</td>\n",
       "      <td>N</td>\n",
       "      <td>N</td>\n",
       "      <td>250.0</td>\n",
       "      <td>0</td>\n",
       "      <td>0</td>\n",
       "      <td>N</td>\n",
       "      <td>1</td>\n",
       "      <td>0.146756</td>\n",
       "      <td>0</td>\n",
       "      <td>0</td>\n",
       "      <td>0</td>\n",
       "      <td>0</td>\n",
       "      <td>1</td>\n",
       "      <td>0</td>\n",
       "      <td>0</td>\n",
       "      <td>1</td>\n",
       "      <td>0</td>\n",
       "      <td>1</td>\n",
       "      <td>0.750985</td>\n",
       "      <td>0.749813</td>\n",
       "    </tr>\n",
       "  </tbody>\n",
       "</table>\n",
       "</div>"
      ],
      "text/plain": [
       "   id_client  id_shop sex marital_status  age  quant_dependants  education  \\\n",
       "0          1       22   F              O   44                 0        NaN   \n",
       "1          2       15   F              S   18                 0        NaN   \n",
       "2          3       24   F              C   22                 0        NaN   \n",
       "3          4       12   F              C   47                 0        NaN   \n",
       "4          5       16   F              S   28                 0        NaN   \n",
       "\n",
       "  flag_residencial_phone  area_code_residencial_phone  payment_day  shop_rank  \\\n",
       "0                      N                           31           12          0   \n",
       "1                      Y                           31           20          0   \n",
       "2                      Y                           31            8          0   \n",
       "3                      N                           31           25          0   \n",
       "4                      Y                           31           25          0   \n",
       "\n",
       "  residence_type  months_in_residence flag_mothers_name flag_fathers_name  \\\n",
       "0              P                   12                 Y                 Y   \n",
       "1              P                  216                 Y                 Y   \n",
       "2              P                   48                 Y                 N   \n",
       "3              P                  180                 Y                 Y   \n",
       "4              O                   12                 Y                 Y   \n",
       "\n",
       "  flag_residence_town_working_town flag_residence_state_working_state  \\\n",
       "0                                N                                  Y   \n",
       "1                                Y                                  Y   \n",
       "2                                Y                                  Y   \n",
       "3                                N                                  Y   \n",
       "4                                Y                                  Y   \n",
       "\n",
       "   months_in_the_job  profession_code  mate_income  \\\n",
       "0                 48              731          0.0   \n",
       "1                 12              853          0.0   \n",
       "2                 12               40          0.0   \n",
       "3                 24               35          0.0   \n",
       "4                 12               24          0.0   \n",
       "\n",
       "  flag_residencial_address_postal_address flag_other_card  \\\n",
       "0                                       Y               N   \n",
       "1                                       Y               N   \n",
       "2                                       Y               N   \n",
       "3                                       Y               N   \n",
       "4                                       Y               N   \n",
       "\n",
       "   quant_banking_accounts     personal_reference_1       personal_reference_2  \\\n",
       "0                       0                     VERA                      LUCIA   \n",
       "1                       0                     SARA                     FELIPE   \n",
       "2                       0                   HELENA             DOMINGOS SOGRA   \n",
       "3                       0                     JACI  VALERIA ALEXANDRA TRAJANO   \n",
       "4                       0  MARCIA CRISTINA ZANELLA         SANDRO L P MARTINS   \n",
       "\n",
       "  flag_mobile_phone flag_contact_phone  personal_net_income  \\\n",
       "0                 N                  N                300.0   \n",
       "1                 N                  N                300.0   \n",
       "2                 N                  N                229.0   \n",
       "3                 N                  N                304.0   \n",
       "4                 N                  N                250.0   \n",
       "\n",
       "   cod_application_booth  quant_additional_cards_in_the_application  \\\n",
       "0                      0                                          0   \n",
       "1                      0                                          0   \n",
       "2                      0                                          0   \n",
       "3                      0                                          0   \n",
       "4                      0                                          0   \n",
       "\n",
       "  flag_card_insurance_option  target  pred_baseline_proba  pred_baseline  \\\n",
       "0                          N       1             0.417022              0   \n",
       "1                          N       1             0.720324              1   \n",
       "2                          N       1             0.000114              0   \n",
       "3                          N       1             0.302333              0   \n",
       "4                          N       1             0.146756              0   \n",
       "\n",
       "   sex_M  marital_status_D  marital_status_O  marital_status_S  \\\n",
       "0      0                 0                 1                 0   \n",
       "1      0                 0                 0                 1   \n",
       "2      0                 0                 0                 0   \n",
       "3      0                 0                 0                 0   \n",
       "4      0                 0                 0                 1   \n",
       "\n",
       "   marital_status_V  residence_type_C  residence_type_O  residence_type_P  \\\n",
       "0                 0                 0                 0                 1   \n",
       "1                 0                 0                 0                 1   \n",
       "2                 0                 0                 0                 1   \n",
       "3                 0                 0                 0                 1   \n",
       "4                 0                 0                 1                 0   \n",
       "\n",
       "   pred_lr  pred_lr_proba  pred_dct_proba  \n",
       "0        1       0.855527        0.882179  \n",
       "1        1       0.684468        0.702069  \n",
       "2        1       0.707328        0.749813  \n",
       "3        1       0.870089        0.883823  \n",
       "4        1       0.750985        0.749813  "
      ]
     },
     "execution_count": 45,
     "metadata": {},
     "output_type": "execute_result"
    }
   ],
   "source": [
    "df.head()"
   ]
  },
  {
   "cell_type": "code",
   "execution_count": 46,
   "id": "b0ab395c-d5f6-43f1-8982-0e6a4cbd97fd",
   "metadata": {},
   "outputs": [],
   "source": [
    "df['profit'] = 0\n",
    "\n",
    "df['profit'] = df['target'].apply(lambda x: 15000 if x == 1 else -100000)"
   ]
  },
  {
   "cell_type": "code",
   "execution_count": 47,
   "id": "2e64470a-2c45-4369-96d2-d7822da6b716",
   "metadata": {},
   "outputs": [
    {
     "data": {
      "text/plain": [
       " 15000     40126\n",
       "-100000     9874\n",
       "Name: profit, dtype: int64"
      ]
     },
     "execution_count": 47,
     "metadata": {},
     "output_type": "execute_result"
    }
   ],
   "source": [
    "df['profit'].value_counts()"
   ]
  },
  {
   "cell_type": "code",
   "execution_count": 48,
   "id": "ac627eb1-eb1f-48b7-b48b-96aa47b77102",
   "metadata": {},
   "outputs": [
    {
     "data": {
      "text/plain": [
       "<matplotlib.collections.PathCollection at 0x7f0881e1e4f0>"
      ]
     },
     "execution_count": 48,
     "metadata": {},
     "output_type": "execute_result"
    },
    {
     "data": {
      "image/png": "[encoded data removed]",
      "text/plain": [
       "<Figure size 432x288 with 1 Axes>"
      ]
     },
     "metadata": {
      "needs_background": "light"
     },
     "output_type": "display_data"
    }
   ],
   "source": [
    "plt.scatter(df.index, df[y_col], alpha = 0.5)"
   ]
  },
  {
   "cell_type": "code",
   "execution_count": 49,
   "id": "39367bfe-feac-4f0c-8099-a30bd9378d45",
   "metadata": {},
   "outputs": [
    {
     "data": {
      "text/html": [
       "<div>\n",
       "<style scoped>\n",
       "    .dataframe tbody tr th:only-of-type {\n",
       "        vertical-align: middle;\n",
       "    }\n",
       "\n",
       "    .dataframe tbody tr th {\n",
       "        vertical-align: top;\n",
       "    }\n",
       "\n",
       "    .dataframe thead th {\n",
       "        text-align: right;\n",
       "    }\n",
       "</style>\n",
       "<table border=\"1\" class=\"dataframe\">\n",
       "  <thead>\n",
       "    <tr style=\"text-align: right;\">\n",
       "      <th></th>\n",
       "      <th>id_client</th>\n",
       "      <th>id_shop</th>\n",
       "      <th>sex</th>\n",
       "      <th>marital_status</th>\n",
       "      <th>age</th>\n",
       "      <th>quant_dependants</th>\n",
       "      <th>education</th>\n",
       "      <th>flag_residencial_phone</th>\n",
       "      <th>area_code_residencial_phone</th>\n",
       "      <th>payment_day</th>\n",
       "      <th>shop_rank</th>\n",
       "      <th>residence_type</th>\n",
       "      <th>months_in_residence</th>\n",
       "      <th>flag_mothers_name</th>\n",
       "      <th>flag_fathers_name</th>\n",
       "      <th>flag_residence_town_working_town</th>\n",
       "      <th>flag_residence_state_working_state</th>\n",
       "      <th>months_in_the_job</th>\n",
       "      <th>profession_code</th>\n",
       "      <th>mate_income</th>\n",
       "      <th>flag_residencial_address_postal_address</th>\n",
       "      <th>flag_other_card</th>\n",
       "      <th>quant_banking_accounts</th>\n",
       "      <th>personal_reference_1</th>\n",
       "      <th>personal_reference_2</th>\n",
       "      <th>flag_mobile_phone</th>\n",
       "      <th>flag_contact_phone</th>\n",
       "      <th>personal_net_income</th>\n",
       "      <th>cod_application_booth</th>\n",
       "      <th>quant_additional_cards_in_the_application</th>\n",
       "      <th>flag_card_insurance_option</th>\n",
       "      <th>target</th>\n",
       "      <th>pred_baseline_proba</th>\n",
       "      <th>pred_baseline</th>\n",
       "      <th>sex_M</th>\n",
       "      <th>marital_status_D</th>\n",
       "      <th>marital_status_O</th>\n",
       "      <th>marital_status_S</th>\n",
       "      <th>marital_status_V</th>\n",
       "      <th>residence_type_C</th>\n",
       "      <th>residence_type_O</th>\n",
       "      <th>residence_type_P</th>\n",
       "      <th>pred_lr</th>\n",
       "      <th>pred_lr_proba</th>\n",
       "      <th>pred_dct_proba</th>\n",
       "      <th>profit</th>\n",
       "    </tr>\n",
       "  </thead>\n",
       "  <tbody>\n",
       "    <tr>\n",
       "      <th>0</th>\n",
       "      <td>1</td>\n",
       "      <td>22</td>\n",
       "      <td>F</td>\n",
       "      <td>O</td>\n",
       "      <td>44</td>\n",
       "      <td>0</td>\n",
       "      <td>NaN</td>\n",
       "      <td>N</td>\n",
       "      <td>31</td>\n",
       "      <td>12</td>\n",
       "      <td>0</td>\n",
       "      <td>P</td>\n",
       "      <td>12</td>\n",
       "      <td>Y</td>\n",
       "      <td>Y</td>\n",
       "      <td>N</td>\n",
       "      <td>Y</td>\n",
       "      <td>48</td>\n",
       "      <td>731</td>\n",
       "      <td>0.0</td>\n",
       "      <td>Y</td>\n",
       "      <td>N</td>\n",
       "      <td>0</td>\n",
       "      <td>VERA</td>\n",
       "      <td>LUCIA</td>\n",
       "      <td>N</td>\n",
       "      <td>N</td>\n",
       "      <td>300.0</td>\n",
       "      <td>0</td>\n",
       "      <td>0</td>\n",
       "      <td>N</td>\n",
       "      <td>1</td>\n",
       "      <td>0.417022</td>\n",
       "      <td>0</td>\n",
       "      <td>0</td>\n",
       "      <td>0</td>\n",
       "      <td>1</td>\n",
       "      <td>0</td>\n",
       "      <td>0</td>\n",
       "      <td>0</td>\n",
       "      <td>0</td>\n",
       "      <td>1</td>\n",
       "      <td>1</td>\n",
       "      <td>0.855527</td>\n",
       "      <td>0.882179</td>\n",
       "      <td>15000</td>\n",
       "    </tr>\n",
       "    <tr>\n",
       "      <th>1</th>\n",
       "      <td>31521</td>\n",
       "      <td>20</td>\n",
       "      <td>M</td>\n",
       "      <td>S</td>\n",
       "      <td>19</td>\n",
       "      <td>0</td>\n",
       "      <td>NaN</td>\n",
       "      <td>Y</td>\n",
       "      <td>31</td>\n",
       "      <td>12</td>\n",
       "      <td>0</td>\n",
       "      <td>C</td>\n",
       "      <td>24</td>\n",
       "      <td>Y</td>\n",
       "      <td>Y</td>\n",
       "      <td>Y</td>\n",
       "      <td>Y</td>\n",
       "      <td>36</td>\n",
       "      <td>40</td>\n",
       "      <td>0.0</td>\n",
       "      <td>Y</td>\n",
       "      <td>N</td>\n",
       "      <td>0</td>\n",
       "      <td>LIGIA MORAES RIBEIRO ALVE</td>\n",
       "      <td>IVONE MASSINE TOSTES</td>\n",
       "      <td>N</td>\n",
       "      <td>N</td>\n",
       "      <td>327.0</td>\n",
       "      <td>0</td>\n",
       "      <td>0</td>\n",
       "      <td>N</td>\n",
       "      <td>1</td>\n",
       "      <td>0.979518</td>\n",
       "      <td>1</td>\n",
       "      <td>1</td>\n",
       "      <td>0</td>\n",
       "      <td>0</td>\n",
       "      <td>1</td>\n",
       "      <td>0</td>\n",
       "      <td>1</td>\n",
       "      <td>0</td>\n",
       "      <td>0</td>\n",
       "      <td>1</td>\n",
       "      <td>0.691403</td>\n",
       "      <td>0.741100</td>\n",
       "      <td>15000</td>\n",
       "    </tr>\n",
       "    <tr>\n",
       "      <th>2</th>\n",
       "      <td>31507</td>\n",
       "      <td>15</td>\n",
       "      <td>F</td>\n",
       "      <td>S</td>\n",
       "      <td>20</td>\n",
       "      <td>0</td>\n",
       "      <td>NaN</td>\n",
       "      <td>Y</td>\n",
       "      <td>31</td>\n",
       "      <td>12</td>\n",
       "      <td>0</td>\n",
       "      <td>P</td>\n",
       "      <td>12</td>\n",
       "      <td>Y</td>\n",
       "      <td>Y</td>\n",
       "      <td>Y</td>\n",
       "      <td>Y</td>\n",
       "      <td>24</td>\n",
       "      <td>713</td>\n",
       "      <td>0.0</td>\n",
       "      <td>Y</td>\n",
       "      <td>N</td>\n",
       "      <td>0</td>\n",
       "      <td>MARIA</td>\n",
       "      <td>NaN</td>\n",
       "      <td>N</td>\n",
       "      <td>N</td>\n",
       "      <td>356.0</td>\n",
       "      <td>0</td>\n",
       "      <td>0</td>\n",
       "      <td>N</td>\n",
       "      <td>1</td>\n",
       "      <td>0.231254</td>\n",
       "      <td>0</td>\n",
       "      <td>0</td>\n",
       "      <td>0</td>\n",
       "      <td>0</td>\n",
       "      <td>1</td>\n",
       "      <td>0</td>\n",
       "      <td>0</td>\n",
       "      <td>0</td>\n",
       "      <td>1</td>\n",
       "      <td>1</td>\n",
       "      <td>0.694344</td>\n",
       "      <td>0.683465</td>\n",
       "      <td>15000</td>\n",
       "    </tr>\n",
       "    <tr>\n",
       "      <th>3</th>\n",
       "      <td>31509</td>\n",
       "      <td>16</td>\n",
       "      <td>F</td>\n",
       "      <td>C</td>\n",
       "      <td>46</td>\n",
       "      <td>0</td>\n",
       "      <td>NaN</td>\n",
       "      <td>Y</td>\n",
       "      <td>31</td>\n",
       "      <td>18</td>\n",
       "      <td>0</td>\n",
       "      <td>P</td>\n",
       "      <td>120</td>\n",
       "      <td>Y</td>\n",
       "      <td>Y</td>\n",
       "      <td>N</td>\n",
       "      <td>Y</td>\n",
       "      <td>12</td>\n",
       "      <td>24</td>\n",
       "      <td>0.0</td>\n",
       "      <td>Y</td>\n",
       "      <td>N</td>\n",
       "      <td>0</td>\n",
       "      <td>IVONE DA ROCHA</td>\n",
       "      <td>AUGUSTA DE SOUZA</td>\n",
       "      <td>N</td>\n",
       "      <td>N</td>\n",
       "      <td>220.0</td>\n",
       "      <td>0</td>\n",
       "      <td>0</td>\n",
       "      <td>N</td>\n",
       "      <td>1</td>\n",
       "      <td>0.657801</td>\n",
       "      <td>1</td>\n",
       "      <td>0</td>\n",
       "      <td>0</td>\n",
       "      <td>0</td>\n",
       "      <td>0</td>\n",
       "      <td>0</td>\n",
       "      <td>0</td>\n",
       "      <td>0</td>\n",
       "      <td>1</td>\n",
       "      <td>1</td>\n",
       "      <td>0.860859</td>\n",
       "      <td>0.874568</td>\n",
       "      <td>15000</td>\n",
       "    </tr>\n",
       "    <tr>\n",
       "      <th>4</th>\n",
       "      <td>31511</td>\n",
       "      <td>22</td>\n",
       "      <td>F</td>\n",
       "      <td>O</td>\n",
       "      <td>28</td>\n",
       "      <td>0</td>\n",
       "      <td>NaN</td>\n",
       "      <td>Y</td>\n",
       "      <td>31</td>\n",
       "      <td>28</td>\n",
       "      <td>0</td>\n",
       "      <td>A</td>\n",
       "      <td>12</td>\n",
       "      <td>Y</td>\n",
       "      <td>Y</td>\n",
       "      <td>N</td>\n",
       "      <td>Y</td>\n",
       "      <td>12</td>\n",
       "      <td>26</td>\n",
       "      <td>0.0</td>\n",
       "      <td>Y</td>\n",
       "      <td>N</td>\n",
       "      <td>0</td>\n",
       "      <td>RITA</td>\n",
       "      <td>NaN</td>\n",
       "      <td>N</td>\n",
       "      <td>N</td>\n",
       "      <td>300.0</td>\n",
       "      <td>0</td>\n",
       "      <td>0</td>\n",
       "      <td>N</td>\n",
       "      <td>1</td>\n",
       "      <td>0.914791</td>\n",
       "      <td>1</td>\n",
       "      <td>0</td>\n",
       "      <td>0</td>\n",
       "      <td>1</td>\n",
       "      <td>0</td>\n",
       "      <td>0</td>\n",
       "      <td>0</td>\n",
       "      <td>0</td>\n",
       "      <td>0</td>\n",
       "      <td>1</td>\n",
       "      <td>0.751236</td>\n",
       "      <td>0.758310</td>\n",
       "      <td>15000</td>\n",
       "    </tr>\n",
       "  </tbody>\n",
       "</table>\n",
       "</div>"
      ],
      "text/plain": [
       "   id_client  id_shop sex marital_status  age  quant_dependants  education  \\\n",
       "0          1       22   F              O   44                 0        NaN   \n",
       "1      31521       20   M              S   19                 0        NaN   \n",
       "2      31507       15   F              S   20                 0        NaN   \n",
       "3      31509       16   F              C   46                 0        NaN   \n",
       "4      31511       22   F              O   28                 0        NaN   \n",
       "\n",
       "  flag_residencial_phone  area_code_residencial_phone  payment_day  shop_rank  \\\n",
       "0                      N                           31           12          0   \n",
       "1                      Y                           31           12          0   \n",
       "2                      Y                           31           12          0   \n",
       "3                      Y                           31           18          0   \n",
       "4                      Y                           31           28          0   \n",
       "\n",
       "  residence_type  months_in_residence flag_mothers_name flag_fathers_name  \\\n",
       "0              P                   12                 Y                 Y   \n",
       "1              C                   24                 Y                 Y   \n",
       "2              P                   12                 Y                 Y   \n",
       "3              P                  120                 Y                 Y   \n",
       "4              A                   12                 Y                 Y   \n",
       "\n",
       "  flag_residence_town_working_town flag_residence_state_working_state  \\\n",
       "0                                N                                  Y   \n",
       "1                                Y                                  Y   \n",
       "2                                Y                                  Y   \n",
       "3                                N                                  Y   \n",
       "4                                N                                  Y   \n",
       "\n",
       "   months_in_the_job  profession_code  mate_income  \\\n",
       "0                 48              731          0.0   \n",
       "1                 36               40          0.0   \n",
       "2                 24              713          0.0   \n",
       "3                 12               24          0.0   \n",
       "4                 12               26          0.0   \n",
       "\n",
       "  flag_residencial_address_postal_address flag_other_card  \\\n",
       "0                                       Y               N   \n",
       "1                                       Y               N   \n",
       "2                                       Y               N   \n",
       "3                                       Y               N   \n",
       "4                                       Y               N   \n",
       "\n",
       "   quant_banking_accounts       personal_reference_1  personal_reference_2  \\\n",
       "0                       0                       VERA                 LUCIA   \n",
       "1                       0  LIGIA MORAES RIBEIRO ALVE  IVONE MASSINE TOSTES   \n",
       "2                       0                      MARIA                   NaN   \n",
       "3                       0             IVONE DA ROCHA      AUGUSTA DE SOUZA   \n",
       "4                       0                       RITA                   NaN   \n",
       "\n",
       "  flag_mobile_phone flag_contact_phone  personal_net_income  \\\n",
       "0                 N                  N                300.0   \n",
       "1                 N                  N                327.0   \n",
       "2                 N                  N                356.0   \n",
       "3                 N                  N                220.0   \n",
       "4                 N                  N                300.0   \n",
       "\n",
       "   cod_application_booth  quant_additional_cards_in_the_application  \\\n",
       "0                      0                                          0   \n",
       "1                      0                                          0   \n",
       "2                      0                                          0   \n",
       "3                      0                                          0   \n",
       "4                      0                                          0   \n",
       "\n",
       "  flag_card_insurance_option  target  pred_baseline_proba  pred_baseline  \\\n",
       "0                          N       1             0.417022              0   \n",
       "1                          N       1             0.979518              1   \n",
       "2                          N       1             0.231254              0   \n",
       "3                          N       1             0.657801              1   \n",
       "4                          N       1             0.914791              1   \n",
       "\n",
       "   sex_M  marital_status_D  marital_status_O  marital_status_S  \\\n",
       "0      0                 0                 1                 0   \n",
       "1      1                 0                 0                 1   \n",
       "2      0                 0                 0                 1   \n",
       "3      0                 0                 0                 0   \n",
       "4      0                 0                 1                 0   \n",
       "\n",
       "   marital_status_V  residence_type_C  residence_type_O  residence_type_P  \\\n",
       "0                 0                 0                 0                 1   \n",
       "1                 0                 1                 0                 0   \n",
       "2                 0                 0                 0                 1   \n",
       "3                 0                 0                 0                 1   \n",
       "4                 0                 0                 0                 0   \n",
       "\n",
       "   pred_lr  pred_lr_proba  pred_dct_proba  profit  \n",
       "0        1       0.855527        0.882179   15000  \n",
       "1        1       0.691403        0.741100   15000  \n",
       "2        1       0.694344        0.683465   15000  \n",
       "3        1       0.860859        0.874568   15000  \n",
       "4        1       0.751236        0.758310   15000  "
      ]
     },
     "execution_count": 49,
     "metadata": {},
     "output_type": "execute_result"
    }
   ],
   "source": [
    "df = df.sort_values('target', ascending=False).reset_index(drop=True)\n",
    "df.head()"
   ]
  },
  {
   "cell_type": "code",
   "execution_count": 50,
   "id": "017df356-1a0a-49f0-85a1-acb5a1aa9a88",
   "metadata": {},
   "outputs": [
    {
     "data": {
      "text/plain": [
       "<matplotlib.collections.PathCollection at 0x7f0881e4ad90>"
      ]
     },
     "execution_count": 50,
     "metadata": {},
     "output_type": "execute_result"
    },
    {
     "data": {
      "image/png": "[encoded data removed]",
      "text/plain": [
       "<Figure size 432x288 with 1 Axes>"
      ]
     },
     "metadata": {
      "needs_background": "light"
     },
     "output_type": "display_data"
    }
   ],
   "source": [
    "plt.scatter(df.index, df[y_col], alpha = 0.5)"
   ]
  },
  {
   "cell_type": "code",
   "execution_count": 51,
   "id": "e87578f9-8872-43c7-b634-c0722cc73013",
   "metadata": {},
   "outputs": [
    {
     "data": {
      "text/html": [
       "<div>\n",
       "<style scoped>\n",
       "    .dataframe tbody tr th:only-of-type {\n",
       "        vertical-align: middle;\n",
       "    }\n",
       "\n",
       "    .dataframe tbody tr th {\n",
       "        vertical-align: top;\n",
       "    }\n",
       "\n",
       "    .dataframe thead th {\n",
       "        text-align: right;\n",
       "    }\n",
       "</style>\n",
       "<table border=\"1\" class=\"dataframe\">\n",
       "  <thead>\n",
       "    <tr style=\"text-align: right;\">\n",
       "      <th></th>\n",
       "      <th>target</th>\n",
       "      <th>profit</th>\n",
       "      <th>profit_cumsum</th>\n",
       "    </tr>\n",
       "  </thead>\n",
       "  <tbody>\n",
       "    <tr>\n",
       "      <th>0</th>\n",
       "      <td>1</td>\n",
       "      <td>15000</td>\n",
       "      <td>15000</td>\n",
       "    </tr>\n",
       "    <tr>\n",
       "      <th>1</th>\n",
       "      <td>1</td>\n",
       "      <td>15000</td>\n",
       "      <td>30000</td>\n",
       "    </tr>\n",
       "    <tr>\n",
       "      <th>2</th>\n",
       "      <td>1</td>\n",
       "      <td>15000</td>\n",
       "      <td>45000</td>\n",
       "    </tr>\n",
       "    <tr>\n",
       "      <th>3</th>\n",
       "      <td>1</td>\n",
       "      <td>15000</td>\n",
       "      <td>60000</td>\n",
       "    </tr>\n",
       "    <tr>\n",
       "      <th>4</th>\n",
       "      <td>1</td>\n",
       "      <td>15000</td>\n",
       "      <td>75000</td>\n",
       "    </tr>\n",
       "  </tbody>\n",
       "</table>\n",
       "</div>"
      ],
      "text/plain": [
       "   target  profit  profit_cumsum\n",
       "0       1   15000          15000\n",
       "1       1   15000          30000\n",
       "2       1   15000          45000\n",
       "3       1   15000          60000\n",
       "4       1   15000          75000"
      ]
     },
     "execution_count": 51,
     "metadata": {},
     "output_type": "execute_result"
    }
   ],
   "source": [
    "df['profit_cumsum'] = df['profit'].cumsum()\n",
    "df.loc[:, [y_col, 'profit', 'profit_cumsum']].head()"
   ]
  },
  {
   "cell_type": "code",
   "execution_count": 52,
   "id": "36859514-086c-4fbc-ab93-4e1d6602257f",
   "metadata": {},
   "outputs": [
    {
     "data": {
      "text/html": [
       "<div>\n",
       "<style scoped>\n",
       "    .dataframe tbody tr th:only-of-type {\n",
       "        vertical-align: middle;\n",
       "    }\n",
       "\n",
       "    .dataframe tbody tr th {\n",
       "        vertical-align: top;\n",
       "    }\n",
       "\n",
       "    .dataframe thead th {\n",
       "        text-align: right;\n",
       "    }\n",
       "</style>\n",
       "<table border=\"1\" class=\"dataframe\">\n",
       "  <thead>\n",
       "    <tr style=\"text-align: right;\">\n",
       "      <th></th>\n",
       "      <th>target</th>\n",
       "      <th>profit</th>\n",
       "      <th>profit_cumsum</th>\n",
       "    </tr>\n",
       "  </thead>\n",
       "  <tbody>\n",
       "    <tr>\n",
       "      <th>49995</th>\n",
       "      <td>0</td>\n",
       "      <td>-100000</td>\n",
       "      <td>-385110000</td>\n",
       "    </tr>\n",
       "    <tr>\n",
       "      <th>49996</th>\n",
       "      <td>0</td>\n",
       "      <td>-100000</td>\n",
       "      <td>-385210000</td>\n",
       "    </tr>\n",
       "    <tr>\n",
       "      <th>49997</th>\n",
       "      <td>0</td>\n",
       "      <td>-100000</td>\n",
       "      <td>-385310000</td>\n",
       "    </tr>\n",
       "    <tr>\n",
       "      <th>49998</th>\n",
       "      <td>0</td>\n",
       "      <td>-100000</td>\n",
       "      <td>-385410000</td>\n",
       "    </tr>\n",
       "    <tr>\n",
       "      <th>49999</th>\n",
       "      <td>0</td>\n",
       "      <td>-100000</td>\n",
       "      <td>-385510000</td>\n",
       "    </tr>\n",
       "  </tbody>\n",
       "</table>\n",
       "</div>"
      ],
      "text/plain": [
       "       target  profit  profit_cumsum\n",
       "49995       0 -100000     -385110000\n",
       "49996       0 -100000     -385210000\n",
       "49997       0 -100000     -385310000\n",
       "49998       0 -100000     -385410000\n",
       "49999       0 -100000     -385510000"
      ]
     },
     "execution_count": 52,
     "metadata": {},
     "output_type": "execute_result"
    }
   ],
   "source": [
    "df.loc[:, [y_col, 'profit', 'profit_cumsum']].tail()"
   ]
  },
  {
   "cell_type": "code",
   "execution_count": 53,
   "id": "5692f683-d44f-4732-b263-b6dece352e0b",
   "metadata": {},
   "outputs": [
    {
     "data": {
      "text/plain": [
       "Text(0, 0.5, 'profit')"
      ]
     },
     "execution_count": 53,
     "metadata": {},
     "output_type": "execute_result"
    },
    {
     "data": {
      "image/png": "[encoded data removed]",
      "text/plain": [
       "<Figure size 360x360 with 1 Axes>"
      ]
     },
     "metadata": {
      "needs_background": "light"
     },
     "output_type": "display_data"
    }
   ],
   "source": [
    "plt.figure(figsize=(5, 5))\n",
    "plt.plot(df['profit'].cumsum())\n",
    "plt.axhline(0, color='red', ls = '--')\n",
    "plt.xlabel('ugyfel sorszam')\n",
    "plt.ylabel('profit')"
   ]
  },
  {
   "cell_type": "code",
   "execution_count": 54,
   "id": "826f3a01-61e2-4718-9149-8dd8bb992926",
   "metadata": {},
   "outputs": [
    {
     "data": {
      "text/html": [
       "<div>\n",
       "<style scoped>\n",
       "    .dataframe tbody tr th:only-of-type {\n",
       "        vertical-align: middle;\n",
       "    }\n",
       "\n",
       "    .dataframe tbody tr th {\n",
       "        vertical-align: top;\n",
       "    }\n",
       "\n",
       "    .dataframe thead th {\n",
       "        text-align: right;\n",
       "    }\n",
       "</style>\n",
       "<table border=\"1\" class=\"dataframe\">\n",
       "  <thead>\n",
       "    <tr style=\"text-align: right;\">\n",
       "      <th></th>\n",
       "      <th>profit</th>\n",
       "      <th>profit_cumsum</th>\n",
       "      <th>target</th>\n",
       "    </tr>\n",
       "  </thead>\n",
       "  <tbody>\n",
       "    <tr>\n",
       "      <th>46144</th>\n",
       "      <td>-100000</td>\n",
       "      <td>-10000</td>\n",
       "      <td>0</td>\n",
       "    </tr>\n",
       "    <tr>\n",
       "      <th>46145</th>\n",
       "      <td>-100000</td>\n",
       "      <td>-110000</td>\n",
       "      <td>0</td>\n",
       "    </tr>\n",
       "    <tr>\n",
       "      <th>46146</th>\n",
       "      <td>-100000</td>\n",
       "      <td>-210000</td>\n",
       "      <td>0</td>\n",
       "    </tr>\n",
       "    <tr>\n",
       "      <th>46147</th>\n",
       "      <td>-100000</td>\n",
       "      <td>-310000</td>\n",
       "      <td>0</td>\n",
       "    </tr>\n",
       "    <tr>\n",
       "      <th>46148</th>\n",
       "      <td>-100000</td>\n",
       "      <td>-410000</td>\n",
       "      <td>0</td>\n",
       "    </tr>\n",
       "    <tr>\n",
       "      <th>...</th>\n",
       "      <td>...</td>\n",
       "      <td>...</td>\n",
       "      <td>...</td>\n",
       "    </tr>\n",
       "    <tr>\n",
       "      <th>49995</th>\n",
       "      <td>-100000</td>\n",
       "      <td>-385110000</td>\n",
       "      <td>0</td>\n",
       "    </tr>\n",
       "    <tr>\n",
       "      <th>49996</th>\n",
       "      <td>-100000</td>\n",
       "      <td>-385210000</td>\n",
       "      <td>0</td>\n",
       "    </tr>\n",
       "    <tr>\n",
       "      <th>49997</th>\n",
       "      <td>-100000</td>\n",
       "      <td>-385310000</td>\n",
       "      <td>0</td>\n",
       "    </tr>\n",
       "    <tr>\n",
       "      <th>49998</th>\n",
       "      <td>-100000</td>\n",
       "      <td>-385410000</td>\n",
       "      <td>0</td>\n",
       "    </tr>\n",
       "    <tr>\n",
       "      <th>49999</th>\n",
       "      <td>-100000</td>\n",
       "      <td>-385510000</td>\n",
       "      <td>0</td>\n",
       "    </tr>\n",
       "  </tbody>\n",
       "</table>\n",
       "<p>3856 rows × 3 columns</p>\n",
       "</div>"
      ],
      "text/plain": [
       "       profit  profit_cumsum  target\n",
       "46144 -100000         -10000       0\n",
       "46145 -100000        -110000       0\n",
       "46146 -100000        -210000       0\n",
       "46147 -100000        -310000       0\n",
       "46148 -100000        -410000       0\n",
       "...       ...            ...     ...\n",
       "49995 -100000     -385110000       0\n",
       "49996 -100000     -385210000       0\n",
       "49997 -100000     -385310000       0\n",
       "49998 -100000     -385410000       0\n",
       "49999 -100000     -385510000       0\n",
       "\n",
       "[3856 rows x 3 columns]"
      ]
     },
     "execution_count": 54,
     "metadata": {},
     "output_type": "execute_result"
    }
   ],
   "source": [
    "df.loc[df['profit_cumsum'] <= 0, ['profit', 'profit_cumsum', y_col]]"
   ]
  },
  {
   "cell_type": "code",
   "execution_count": 55,
   "id": "663a18c5-d708-4253-8b2c-3c3b035167f5",
   "metadata": {},
   "outputs": [
    {
     "data": {
      "text/plain": [
       "1    40126\n",
       "0     9874\n",
       "Name: target, dtype: int64"
      ]
     },
     "execution_count": 55,
     "metadata": {},
     "output_type": "execute_result"
    }
   ],
   "source": [
    "df[y_col].value_counts()"
   ]
  },
  {
   "cell_type": "code",
   "execution_count": 56,
   "id": "2d40b07d-1cb4-44a6-9f89-fd6f8fd43ba8",
   "metadata": {},
   "outputs": [
    {
     "data": {
      "text/plain": [
       "target                   1\n",
       "profit               15000\n",
       "profit_cumsum    601890000\n",
       "Name: 40125, dtype: object"
      ]
     },
     "execution_count": 56,
     "metadata": {},
     "output_type": "execute_result"
    }
   ],
   "source": [
    "df.loc[40125, [y_col, 'profit', 'profit_cumsum']]"
   ]
  },
  {
   "cell_type": "code",
   "execution_count": 57,
   "id": "cbb0fcf9-72fb-42ef-9d7b-0d92089f01de",
   "metadata": {},
   "outputs": [
    {
     "data": {
      "text/plain": [
       "Text(0, 0.5, 'jo ados valoszinuseg')"
      ]
     },
     "execution_count": 57,
     "metadata": {},
     "output_type": "execute_result"
    },
    {
     "data": {
      "image/png": "[encoded data removed]",
      "text/plain": [
       "<Figure size 432x288 with 1 Axes>"
      ]
     },
     "metadata": {
      "needs_background": "light"
     },
     "output_type": "display_data"
    }
   ],
   "source": [
    "plt.scatter(df.index, df['pred_dct_proba'], alpha = 0.5)\n",
    "plt.axhline(0.5, color = 'red', ls = '--')\n",
    "plt.ylim(0, 1)\n",
    "plt.xlabel('sorszam')\n",
    "plt.ylabel('jo ados valoszinuseg')"
   ]
  },
  {
   "cell_type": "code",
   "execution_count": 58,
   "id": "b100791d-0470-4a24-88b1-176bdae13869",
   "metadata": {},
   "outputs": [],
   "source": [
    "df = df.sort_values('pred_dct_proba', ascending = False).reset_index(drop = True)"
   ]
  },
  {
   "cell_type": "code",
   "execution_count": 59,
   "id": "3d0feff3-c603-4604-93af-9e0cbbde973f",
   "metadata": {},
   "outputs": [
    {
     "data": {
      "text/plain": [
       "Text(0, 0.5, 'jo ados valoszinuseg')"
      ]
     },
     "execution_count": 59,
     "metadata": {},
     "output_type": "execute_result"
    },
    {
     "data": {
      "image/png": "[encoded data removed]",
      "text/plain": [
       "<Figure size 432x288 with 1 Axes>"
      ]
     },
     "metadata": {
      "needs_background": "light"
     },
     "output_type": "display_data"
    }
   ],
   "source": [
    "plt.scatter(df.index, df['pred_dct_proba'], alpha = 0.5)\n",
    "plt.axhline(0.5, color = 'red', ls = '--')\n",
    "plt.ylim(0, 1)\n",
    "plt.xlabel('sorszam')\n",
    "plt.ylabel('jo ados valoszinuseg')"
   ]
  },
  {
   "cell_type": "code",
   "execution_count": 60,
   "id": "96b7b750-064d-4ecc-badb-1c986e16aa5f",
   "metadata": {},
   "outputs": [],
   "source": [
    "def plot_profit_curve(df, sort_col):\n",
    "    plot_df = df.sort_values(sort_col, ascending=False).reset_index(drop=True).copy()\n",
    "    \n",
    "    plt.plot(plot_df['profit'].cumsum(), label=sort_col)\n",
    "    plt.axhline(0, color='red', ls = '--')\n",
    "    plt.xlabel('ugyfel sorszam')\n",
    "    plt.ylabel('profit')\n",
    "\n",
    "    plt.legend()\n",
    "    return "
   ]
  },
  {
   "cell_type": "code",
   "execution_count": 61,
   "id": "703b9b40-5fe5-4795-ad16-ed5865bc5459",
   "metadata": {},
   "outputs": [
    {
     "data": {
      "image/png": "[encoded data removed]",
      "text/plain": [
       "<Figure size 432x288 with 1 Axes>"
      ]
     },
     "metadata": {
      "needs_background": "light"
     },
     "output_type": "display_data"
    }
   ],
   "source": [
    "plot_profit_curve(df, y_col)\n",
    "\n",
    "plot_profit_curve(df, 'pred_baseline_proba')"
   ]
  },
  {
   "cell_type": "code",
   "execution_count": 62,
   "id": "37c4ac3f-1af7-4781-8320-d34b59c80cb8",
   "metadata": {},
   "outputs": [
    {
     "data": {
      "image/png": "[encoded data removed]",
      "text/plain": [
       "<Figure size 432x288 with 1 Axes>"
      ]
     },
     "metadata": {
      "needs_background": "light"
     },
     "output_type": "display_data"
    }
   ],
   "source": [
    "plot_profit_curve(df, y_col)\n",
    "\n",
    "plot_profit_curve(df, 'pred_baseline_proba')\n",
    "\n",
    "plot_profit_curve(df, 'pred_dct_proba')"
   ]
  },
  {
   "cell_type": "code",
   "execution_count": 63,
   "id": "41830fe0-ee86-412d-aa09-6fb6239bc072",
   "metadata": {},
   "outputs": [
    {
     "data": {
      "image/png": "[encoded data removed]",
      "text/plain": [
       "<Figure size 432x288 with 1 Axes>"
      ]
     },
     "metadata": {
      "needs_background": "light"
     },
     "output_type": "display_data"
    }
   ],
   "source": [
    "plot_profit_curve(df, y_col)\n",
    "\n",
    "plot_profit_curve(df, 'pred_baseline_proba')\n",
    "\n",
    "plot_profit_curve(df, 'pred_dct_proba')\n",
    "\n",
    "plot_profit_curve(df, 'pred_lr_proba')"
   ]
  },
  {
   "cell_type": "markdown",
   "id": "867cfd32-d649-4a28-8ec4-2b48143026c2",
   "metadata": {},
   "source": [
    "# K-NN"
   ]
  },
  {
   "cell_type": "code",
   "execution_count": 64,
   "id": "3acb20b2-ff2a-40bd-9e3a-9cf74b55fa8a",
   "metadata": {},
   "outputs": [],
   "source": [
    "model = KNeighborsClassifier(n_neighbors = 15)"
   ]
  },
  {
   "cell_type": "code",
   "execution_count": 65,
   "id": "b2ad4dd0-b509-4f72-9ef9-2e07cf983b99",
   "metadata": {},
   "outputs": [
    {
     "name": "stderr",
     "output_type": "stream",
     "text": [
      "/opt/conda/lib/python3.9/site-packages/sklearn/base.py:441: UserWarning: X does not have valid feature names, but KNeighborsClassifier was fitted with feature names\n",
      "  warnings.warn(\n",
      "/opt/conda/lib/python3.9/site-packages/sklearn/base.py:441: UserWarning: X does not have valid feature names, but KNeighborsClassifier was fitted with feature names\n",
      "  warnings.warn(\n",
      "/opt/conda/lib/python3.9/site-packages/sklearn/base.py:441: UserWarning: X does not have valid feature names, but KNeighborsClassifier was fitted with feature names\n",
      "  warnings.warn(\n",
      "/opt/conda/lib/python3.9/site-packages/sklearn/base.py:441: UserWarning: X does not have valid feature names, but KNeighborsClassifier was fitted with feature names\n",
      "  warnings.warn(\n"
     ]
    },
    {
     "data": {
      "text/plain": [
       "array([1, 1, 1, ..., 1, 1, 1])"
      ]
     },
     "execution_count": 65,
     "metadata": {},
     "output_type": "execute_result"
    }
   ],
   "source": [
    "cross_val_predict(model, X, y, cv=4)"
   ]
  },
  {
   "cell_type": "code",
   "execution_count": 66,
   "id": "e93d9965-7857-49d1-91f0-52f56279aedb",
   "metadata": {},
   "outputs": [
    {
     "name": "stderr",
     "output_type": "stream",
     "text": [
      "/opt/conda/lib/python3.9/site-packages/sklearn/base.py:441: UserWarning: X does not have valid feature names, but KNeighborsClassifier was fitted with feature names\n",
      "  warnings.warn(\n",
      "/opt/conda/lib/python3.9/site-packages/sklearn/base.py:441: UserWarning: X does not have valid feature names, but KNeighborsClassifier was fitted with feature names\n",
      "  warnings.warn(\n",
      "/opt/conda/lib/python3.9/site-packages/sklearn/base.py:441: UserWarning: X does not have valid feature names, but KNeighborsClassifier was fitted with feature names\n",
      "  warnings.warn(\n",
      "/opt/conda/lib/python3.9/site-packages/sklearn/base.py:441: UserWarning: X does not have valid feature names, but KNeighborsClassifier was fitted with feature names\n",
      "  warnings.warn(\n"
     ]
    },
    {
     "data": {
      "text/plain": [
       "array([[0.2       , 0.8       ],\n",
       "       [0.33333333, 0.66666667],\n",
       "       [0.4       , 0.6       ],\n",
       "       ...,\n",
       "       [0.2       , 0.8       ],\n",
       "       [0.13333333, 0.86666667],\n",
       "       [0.26666667, 0.73333333]])"
      ]
     },
     "execution_count": 66,
     "metadata": {},
     "output_type": "execute_result"
    }
   ],
   "source": [
    "cross_val_predict(model, X, y, cv=4, method = 'predict_proba')"
   ]
  },
  {
   "cell_type": "code",
   "execution_count": 67,
   "id": "2c0806eb-ee86-45a6-b51a-20428d720910",
   "metadata": {},
   "outputs": [
    {
     "name": "stderr",
     "output_type": "stream",
     "text": [
      "/opt/conda/lib/python3.9/site-packages/sklearn/base.py:441: UserWarning: X does not have valid feature names, but KNeighborsClassifier was fitted with feature names\n",
      "  warnings.warn(\n",
      "/opt/conda/lib/python3.9/site-packages/sklearn/base.py:441: UserWarning: X does not have valid feature names, but KNeighborsClassifier was fitted with feature names\n",
      "  warnings.warn(\n",
      "/opt/conda/lib/python3.9/site-packages/sklearn/base.py:441: UserWarning: X does not have valid feature names, but KNeighborsClassifier was fitted with feature names\n",
      "  warnings.warn(\n",
      "/opt/conda/lib/python3.9/site-packages/sklearn/base.py:441: UserWarning: X does not have valid feature names, but KNeighborsClassifier was fitted with feature names\n",
      "  warnings.warn(\n"
     ]
    },
    {
     "data": {
      "text/plain": [
       "array([0.8       , 0.66666667, 0.6       , ..., 0.8       , 0.86666667,\n",
       "       0.73333333])"
      ]
     },
     "execution_count": 67,
     "metadata": {},
     "output_type": "execute_result"
    }
   ],
   "source": [
    "pred_proba = cross_val_predict(model, X, y, cv=4, method = 'predict_proba')\n",
    "pred_proba[:, 1]"
   ]
  },
  {
   "cell_type": "code",
   "execution_count": 68,
   "id": "12ed692f-3b3c-4841-bb39-5371bd0cc312",
   "metadata": {},
   "outputs": [],
   "source": [
    "df['pred_knn_proba'] = pred_proba[:, 1]"
   ]
  },
  {
   "cell_type": "code",
   "execution_count": 69,
   "id": "16280b91-3d55-4b56-9a55-179d65cbe9fd",
   "metadata": {},
   "outputs": [
    {
     "data": {
      "image/png": "[encoded data removed]",
      "text/plain": [
       "<Figure size 432x288 with 1 Axes>"
      ]
     },
     "metadata": {
      "needs_background": "light"
     },
     "output_type": "display_data"
    }
   ],
   "source": [
    "plot_profit_curve(df, y_col)\n",
    "\n",
    "plot_profit_curve(df, 'pred_baseline_proba')\n",
    "\n",
    "plot_profit_curve(df, 'pred_dct_proba')\n",
    "\n",
    "plot_profit_curve(df, 'pred_lr_proba')\n",
    "\n",
    "plot_profit_curve(df, 'pred_knn_proba')"
   ]
  },
  {
   "cell_type": "code",
   "execution_count": 70,
   "id": "f23f621b-1c8c-49aa-9232-d66f454191e1",
   "metadata": {},
   "outputs": [
    {
     "data": {
      "text/plain": [
       "['age',\n",
       " 'months_in_residence',\n",
       " 'months_in_the_job',\n",
       " 'personal_net_income',\n",
       " 'mate_income',\n",
       " 'sex_M',\n",
       " 'marital_status_D',\n",
       " 'marital_status_O',\n",
       " 'marital_status_S',\n",
       " 'marital_status_V',\n",
       " 'residence_type_C',\n",
       " 'residence_type_O',\n",
       " 'residence_type_P']"
      ]
     },
     "execution_count": 70,
     "metadata": {},
     "output_type": "execute_result"
    }
   ],
   "source": [
    "X_cols"
   ]
  },
  {
   "cell_type": "code",
   "execution_count": 71,
   "id": "c8fd98f9-bb05-4c4b-b810-fa87722a1db3",
   "metadata": {
    "scrolled": true
   },
   "outputs": [
    {
     "data": {
      "text/html": [
       "<div>\n",
       "<style scoped>\n",
       "    .dataframe tbody tr th:only-of-type {\n",
       "        vertical-align: middle;\n",
       "    }\n",
       "\n",
       "    .dataframe tbody tr th {\n",
       "        vertical-align: top;\n",
       "    }\n",
       "\n",
       "    .dataframe thead th {\n",
       "        text-align: right;\n",
       "    }\n",
       "</style>\n",
       "<table border=\"1\" class=\"dataframe\">\n",
       "  <thead>\n",
       "    <tr style=\"text-align: right;\">\n",
       "      <th></th>\n",
       "      <th>age</th>\n",
       "      <th>months_in_residence</th>\n",
       "      <th>months_in_the_job</th>\n",
       "      <th>personal_net_income</th>\n",
       "      <th>mate_income</th>\n",
       "      <th>sex_M</th>\n",
       "      <th>marital_status_D</th>\n",
       "      <th>marital_status_O</th>\n",
       "      <th>marital_status_S</th>\n",
       "      <th>marital_status_V</th>\n",
       "      <th>residence_type_C</th>\n",
       "      <th>residence_type_O</th>\n",
       "      <th>residence_type_P</th>\n",
       "    </tr>\n",
       "  </thead>\n",
       "  <tbody>\n",
       "    <tr>\n",
       "      <th>count</th>\n",
       "      <td>50000.000000</td>\n",
       "      <td>50000.000000</td>\n",
       "      <td>50000.000000</td>\n",
       "      <td>5.000000e+04</td>\n",
       "      <td>50000.000000</td>\n",
       "      <td>50000.000000</td>\n",
       "      <td>50000.000000</td>\n",
       "      <td>50000.00000</td>\n",
       "      <td>50000.000000</td>\n",
       "      <td>50000.000000</td>\n",
       "      <td>50000.000000</td>\n",
       "      <td>50000.000000</td>\n",
       "      <td>50000.000000</td>\n",
       "    </tr>\n",
       "    <tr>\n",
       "      <th>mean</th>\n",
       "      <td>34.684240</td>\n",
       "      <td>153.288000</td>\n",
       "      <td>50.600400</td>\n",
       "      <td>8.432965e+03</td>\n",
       "      <td>55.341441</td>\n",
       "      <td>0.304000</td>\n",
       "      <td>0.043080</td>\n",
       "      <td>0.05576</td>\n",
       "      <td>0.508440</td>\n",
       "      <td>0.048840</td>\n",
       "      <td>0.086860</td>\n",
       "      <td>0.040940</td>\n",
       "      <td>0.744620</td>\n",
       "    </tr>\n",
       "    <tr>\n",
       "      <th>std</th>\n",
       "      <td>13.076314</td>\n",
       "      <td>136.498105</td>\n",
       "      <td>73.890169</td>\n",
       "      <td>4.487915e+05</td>\n",
       "      <td>919.222986</td>\n",
       "      <td>0.459987</td>\n",
       "      <td>0.203039</td>\n",
       "      <td>0.22946</td>\n",
       "      <td>0.499934</td>\n",
       "      <td>0.215536</td>\n",
       "      <td>0.281633</td>\n",
       "      <td>0.198153</td>\n",
       "      <td>0.436079</td>\n",
       "    </tr>\n",
       "    <tr>\n",
       "      <th>min</th>\n",
       "      <td>15.000000</td>\n",
       "      <td>0.000000</td>\n",
       "      <td>0.000000</td>\n",
       "      <td>0.000000e+00</td>\n",
       "      <td>0.000000</td>\n",
       "      <td>0.000000</td>\n",
       "      <td>0.000000</td>\n",
       "      <td>0.00000</td>\n",
       "      <td>0.000000</td>\n",
       "      <td>0.000000</td>\n",
       "      <td>0.000000</td>\n",
       "      <td>0.000000</td>\n",
       "      <td>0.000000</td>\n",
       "    </tr>\n",
       "    <tr>\n",
       "      <th>25%</th>\n",
       "      <td>23.000000</td>\n",
       "      <td>36.000000</td>\n",
       "      <td>12.000000</td>\n",
       "      <td>2.700000e+02</td>\n",
       "      <td>0.000000</td>\n",
       "      <td>0.000000</td>\n",
       "      <td>0.000000</td>\n",
       "      <td>0.00000</td>\n",
       "      <td>0.000000</td>\n",
       "      <td>0.000000</td>\n",
       "      <td>0.000000</td>\n",
       "      <td>0.000000</td>\n",
       "      <td>0.000000</td>\n",
       "    </tr>\n",
       "    <tr>\n",
       "      <th>50%</th>\n",
       "      <td>33.000000</td>\n",
       "      <td>120.000000</td>\n",
       "      <td>24.000000</td>\n",
       "      <td>4.000000e+02</td>\n",
       "      <td>0.000000</td>\n",
       "      <td>0.000000</td>\n",
       "      <td>0.000000</td>\n",
       "      <td>0.00000</td>\n",
       "      <td>1.000000</td>\n",
       "      <td>0.000000</td>\n",
       "      <td>0.000000</td>\n",
       "      <td>0.000000</td>\n",
       "      <td>1.000000</td>\n",
       "    </tr>\n",
       "    <tr>\n",
       "      <th>75%</th>\n",
       "      <td>43.000000</td>\n",
       "      <td>240.000000</td>\n",
       "      <td>60.000000</td>\n",
       "      <td>7.410000e+02</td>\n",
       "      <td>0.000000</td>\n",
       "      <td>1.000000</td>\n",
       "      <td>0.000000</td>\n",
       "      <td>0.00000</td>\n",
       "      <td>1.000000</td>\n",
       "      <td>0.000000</td>\n",
       "      <td>0.000000</td>\n",
       "      <td>0.000000</td>\n",
       "      <td>1.000000</td>\n",
       "    </tr>\n",
       "    <tr>\n",
       "      <th>max</th>\n",
       "      <td>95.000000</td>\n",
       "      <td>1188.000000</td>\n",
       "      <td>1176.000000</td>\n",
       "      <td>3.852910e+07</td>\n",
       "      <td>150000.000000</td>\n",
       "      <td>1.000000</td>\n",
       "      <td>1.000000</td>\n",
       "      <td>1.00000</td>\n",
       "      <td>1.000000</td>\n",
       "      <td>1.000000</td>\n",
       "      <td>1.000000</td>\n",
       "      <td>1.000000</td>\n",
       "      <td>1.000000</td>\n",
       "    </tr>\n",
       "  </tbody>\n",
       "</table>\n",
       "</div>"
      ],
      "text/plain": [
       "                age  months_in_residence  months_in_the_job  \\\n",
       "count  50000.000000         50000.000000       50000.000000   \n",
       "mean      34.684240           153.288000          50.600400   \n",
       "std       13.076314           136.498105          73.890169   \n",
       "min       15.000000             0.000000           0.000000   \n",
       "25%       23.000000            36.000000          12.000000   \n",
       "50%       33.000000           120.000000          24.000000   \n",
       "75%       43.000000           240.000000          60.000000   \n",
       "max       95.000000          1188.000000        1176.000000   \n",
       "\n",
       "       personal_net_income    mate_income         sex_M  marital_status_D  \\\n",
       "count         5.000000e+04   50000.000000  50000.000000      50000.000000   \n",
       "mean          8.432965e+03      55.341441      0.304000          0.043080   \n",
       "std           4.487915e+05     919.222986      0.459987          0.203039   \n",
       "min           0.000000e+00       0.000000      0.000000          0.000000   \n",
       "25%           2.700000e+02       0.000000      0.000000          0.000000   \n",
       "50%           4.000000e+02       0.000000      0.000000          0.000000   \n",
       "75%           7.410000e+02       0.000000      1.000000          0.000000   \n",
       "max           3.852910e+07  150000.000000      1.000000          1.000000   \n",
       "\n",
       "       marital_status_O  marital_status_S  marital_status_V  residence_type_C  \\\n",
       "count       50000.00000      50000.000000      50000.000000      50000.000000   \n",
       "mean            0.05576          0.508440          0.048840          0.086860   \n",
       "std             0.22946          0.499934          0.215536          0.281633   \n",
       "min             0.00000          0.000000          0.000000          0.000000   \n",
       "25%             0.00000          0.000000          0.000000          0.000000   \n",
       "50%             0.00000          1.000000          0.000000          0.000000   \n",
       "75%             0.00000          1.000000          0.000000          0.000000   \n",
       "max             1.00000          1.000000          1.000000          1.000000   \n",
       "\n",
       "       residence_type_O  residence_type_P  \n",
       "count      50000.000000      50000.000000  \n",
       "mean           0.040940          0.744620  \n",
       "std            0.198153          0.436079  \n",
       "min            0.000000          0.000000  \n",
       "25%            0.000000          0.000000  \n",
       "50%            0.000000          1.000000  \n",
       "75%            0.000000          1.000000  \n",
       "max            1.000000          1.000000  "
      ]
     },
     "execution_count": 71,
     "metadata": {},
     "output_type": "execute_result"
    }
   ],
   "source": [
    "df.loc[:, X_cols].describe()"
   ]
  },
  {
   "cell_type": "code",
   "execution_count": 72,
   "id": "72f7ea7c-646f-49bb-b621-053414640b51",
   "metadata": {},
   "outputs": [],
   "source": [
    "min_max_scaler = MinMaxScaler()"
   ]
  },
  {
   "cell_type": "code",
   "execution_count": 73,
   "id": "b580c0f1-4fa8-4a9e-b6bf-0111ceca085d",
   "metadata": {},
   "outputs": [
    {
     "data": {
      "text/plain": [
       "<AxesSubplot:>"
      ]
     },
     "execution_count": 73,
     "metadata": {},
     "output_type": "execute_result"
    },
    {
     "data": {
      "image/png": "[encoded data removed]",
      "text/plain": [
       "<Figure size 432x288 with 1 Axes>"
      ]
     },
     "metadata": {
      "needs_background": "light"
     },
     "output_type": "display_data"
    }
   ],
   "source": [
    "df['months_in_residence'].hist()"
   ]
  },
  {
   "cell_type": "code",
   "execution_count": 74,
   "id": "d71b4713-ef5d-4a1d-a34a-9c666647bb8c",
   "metadata": {},
   "outputs": [],
   "source": [
    "min_max_scaler.fit(df.loc[:, ['months_in_residence']])\n",
    "\n",
    "scaled_months_in_residence = min_max_scaler.transform(df.loc[:, ['months_in_residence']])"
   ]
  },
  {
   "cell_type": "code",
   "execution_count": 75,
   "id": "55a4089f-0b3e-4732-a6d5-a2c3f1617f75",
   "metadata": {},
   "outputs": [],
   "source": [
    "df['min_max_scaled_months_in_residence'] = scaled_months_in_residence"
   ]
  },
  {
   "cell_type": "code",
   "execution_count": 76,
   "id": "ddeac7fc-20ab-4c32-a4da-12f2a7ade670",
   "metadata": {},
   "outputs": [
    {
     "data": {
      "text/plain": [
       "<AxesSubplot:>"
      ]
     },
     "execution_count": 76,
     "metadata": {},
     "output_type": "execute_result"
    },
    {
     "data": {
      "image/png": "[encoded data removed]",
      "text/plain": [
       "<Figure size 432x288 with 1 Axes>"
      ]
     },
     "metadata": {
      "needs_background": "light"
     },
     "output_type": "display_data"
    }
   ],
   "source": [
    "df['min_max_scaled_months_in_residence'].hist()"
   ]
  },
  {
   "cell_type": "code",
   "execution_count": 77,
   "id": "34feef00-16f4-40e1-82a2-d3b89dd5c087",
   "metadata": {},
   "outputs": [],
   "source": [
    "std_scaler = StandardScaler()"
   ]
  },
  {
   "cell_type": "code",
   "execution_count": 78,
   "id": "4747aed4-2e83-47f8-96ab-406e47010267",
   "metadata": {},
   "outputs": [],
   "source": [
    "std_scaler.fit(df.loc[:, ['months_in_residence']])\n",
    "\n",
    "scaled_months_in_residence = std_scaler.transform(df.loc[:, ['months_in_residence']])"
   ]
  },
  {
   "cell_type": "code",
   "execution_count": 79,
   "id": "a1169b7a-abf8-40f1-9ef2-06d95b297eb6",
   "metadata": {},
   "outputs": [],
   "source": [
    "df['std_scaled_months_in_residence'] = scaled_months_in_residence"
   ]
  },
  {
   "cell_type": "code",
   "execution_count": 80,
   "id": "5e1a6db1-ce1b-4a65-8672-d5c74172fb75",
   "metadata": {},
   "outputs": [
    {
     "data": {
      "text/plain": [
       "<AxesSubplot:>"
      ]
     },
     "execution_count": 80,
     "metadata": {},
     "output_type": "execute_result"
    },
    {
     "data": {
      "image/png": "[encoded data removed]",
      "text/plain": [
       "<Figure size 432x288 with 1 Axes>"
      ]
     },
     "metadata": {
      "needs_background": "light"
     },
     "output_type": "display_data"
    }
   ],
   "source": [
    "df['months_in_residence'].hist()"
   ]
  },
  {
   "cell_type": "code",
   "execution_count": 81,
   "id": "cb2d9898-eb1d-4642-8b1b-702d61731f58",
   "metadata": {},
   "outputs": [
    {
     "data": {
      "text/plain": [
       "<AxesSubplot:>"
      ]
     },
     "execution_count": 81,
     "metadata": {},
     "output_type": "execute_result"
    },
    {
     "data": {
      "image/png": "[encoded data removed]",
      "text/plain": [
       "<Figure size 432x288 with 1 Axes>"
      ]
     },
     "metadata": {
      "needs_background": "light"
     },
     "output_type": "display_data"
    }
   ],
   "source": [
    "df['std_scaled_months_in_residence'].hist()"
   ]
  },
  {
   "cell_type": "code",
   "execution_count": 82,
   "id": "b6a00fd7-83d1-40f1-aeb9-3d2607497bda",
   "metadata": {},
   "outputs": [
    {
     "data": {
      "text/plain": [
       "count    5.000000e+04\n",
       "mean    -2.031387e-14\n",
       "std      1.000010e+00\n",
       "min     -1.123016e+00\n",
       "25%     -8.592733e-01\n",
       "50%     -2.438740e-01\n",
       "75%      6.352679e-01\n",
       "max      7.580489e+00\n",
       "Name: std_scaled_months_in_residence, dtype: float64"
      ]
     },
     "execution_count": 82,
     "metadata": {},
     "output_type": "execute_result"
    }
   ],
   "source": [
    "df['std_scaled_months_in_residence'].describe()"
   ]
  },
  {
   "cell_type": "code",
   "execution_count": 83,
   "id": "066da5a8-bd08-4786-a0c9-d36b86f0596e",
   "metadata": {},
   "outputs": [],
   "source": [
    "def manual_cross_validate(df, scaler, result_col, X_cols, y_col):\n",
    "    kfold = KFold(n_splits = 4)\n",
    "    df[result_col] = 0\n",
    "    \n",
    "    for i, (train_idx, test_idx) in enumerate(kfold.split(X)):\n",
    "        print('Hajtas:', i)\n",
    "        print('Tanito adat:', train_idx)\n",
    "        print('Teszt adat:', test_idx)\n",
    "    \n",
    "        knn = KNeighborsClassifier(n_neighbors = 15)\n",
    "        \n",
    "        X_train = df.loc[train_idx, X_cols]\n",
    "        y_train = df.loc[train_idx, y_col]\n",
    "        X_test = df.loc[test_idx, X_cols]\n",
    "        y_test = df.loc[test_idx, y_col]\n",
    "    \n",
    "        scaler.fit(X_train)\n",
    "        X_train_scaled = scaler.transform(X_train)\n",
    "        X_test_scaled = scaler.transform(X_test)\n",
    "    \n",
    "        knn.fit(X_train_scaled, y_train)\n",
    "        pred_proba = knn.predict_proba(X_test_scaled)\n",
    "    \n",
    "        df.loc[test_idx, result_col] = pred_proba[:, 1]\n",
    "\n",
    "    return df"
   ]
  },
  {
   "cell_type": "code",
   "execution_count": 84,
   "id": "b29be745-c36f-4696-8346-bfa46c0d6362",
   "metadata": {},
   "outputs": [
    {
     "name": "stdout",
     "output_type": "stream",
     "text": [
      "Hajtas: 0\n",
      "Tanito adat: [12500 12501 12502 ... 49997 49998 49999]\n",
      "Teszt adat: [    0     1     2 ... 12497 12498 12499]\n",
      "Hajtas: 1\n",
      "Tanito adat: [    0     1     2 ... 49997 49998 49999]\n",
      "Teszt adat: [12500 12501 12502 ... 24997 24998 24999]\n",
      "Hajtas: 2\n",
      "Tanito adat: [    0     1     2 ... 49997 49998 49999]\n",
      "Teszt adat: [25000 25001 25002 ... 37497 37498 37499]\n",
      "Hajtas: 3\n",
      "Tanito adat: [    0     1     2 ... 37497 37498 37499]\n",
      "Teszt adat: [37500 37501 37502 ... 49997 49998 49999]\n"
     ]
    }
   ],
   "source": [
    "df = manual_cross_validate(df, MinMaxScaler(), 'pred_knn_proba_min_scaled', X_cols, y_col)"
   ]
  },
  {
   "cell_type": "code",
   "execution_count": 85,
   "id": "29d4e808-d8f8-4f9c-92a8-f96aa5558135",
   "metadata": {},
   "outputs": [
    {
     "name": "stdout",
     "output_type": "stream",
     "text": [
      "Hajtas: 0\n",
      "Tanito adat: [12500 12501 12502 ... 49997 49998 49999]\n",
      "Teszt adat: [    0     1     2 ... 12497 12498 12499]\n",
      "Hajtas: 1\n",
      "Tanito adat: [    0     1     2 ... 49997 49998 49999]\n",
      "Teszt adat: [12500 12501 12502 ... 24997 24998 24999]\n",
      "Hajtas: 2\n",
      "Tanito adat: [    0     1     2 ... 49997 49998 49999]\n",
      "Teszt adat: [25000 25001 25002 ... 37497 37498 37499]\n",
      "Hajtas: 3\n",
      "Tanito adat: [    0     1     2 ... 37497 37498 37499]\n",
      "Teszt adat: [37500 37501 37502 ... 49997 49998 49999]\n"
     ]
    }
   ],
   "source": [
    "df = manual_cross_validate(df, StandardScaler(), 'pred_knn_proba_std_scaled', X_cols, y_col)"
   ]
  },
  {
   "cell_type": "code",
   "execution_count": 86,
   "id": "62e896cd-4632-4839-af78-2b0d133d7c7f",
   "metadata": {},
   "outputs": [
    {
     "data": {
      "image/png": "[encoded data removed]",
      "text/plain": [
       "<Figure size 432x288 with 1 Axes>"
      ]
     },
     "metadata": {
      "needs_background": "light"
     },
     "output_type": "display_data"
    }
   ],
   "source": [
    "plot_profit_curve(df, y_col)\n",
    "\n",
    "plot_profit_curve(df, 'pred_baseline_proba')\n",
    "\n",
    "plot_profit_curve(df, 'pred_dct_proba')\n",
    "\n",
    "plot_profit_curve(df, 'pred_lr_proba')\n",
    "\n",
    "plot_profit_curve(df, 'pred_knn_proba')\n",
    "\n",
    "plot_profit_curve(df, 'pred_knn_proba_min_scaled')\n",
    "\n",
    "plot_profit_curve(df, 'pred_knn_proba_std_scaled')"
   ]
  },
  {
   "cell_type": "markdown",
   "id": "6a1e481a-faa1-4f16-be11-61ef6f69ed52",
   "metadata": {},
   "source": [
    "# Multiclass osztályozás"
   ]
  },
  {
   "cell_type": "markdown",
   "id": "afa7bb8b-ca9b-43e3-bc17-0ffa529aeb2f",
   "metadata": {},
   "source": [
    "# 1. Adatok beolvasása"
   ]
  },
  {
   "cell_type": "code",
   "execution_count": 87,
   "id": "82b1621d-ad5c-47ae-b7d2-79b87c9d58f5",
   "metadata": {},
   "outputs": [],
   "source": [
    "df = pd.read_csv('../_data/DataSet_student-mat.csv')"
   ]
  },
  {
   "cell_type": "code",
   "execution_count": 88,
   "id": "a6859ba6-d5e1-4b01-8ec5-a8361ffab3ff",
   "metadata": {},
   "outputs": [
    {
     "data": {
      "text/plain": [
       "(395, 33)"
      ]
     },
     "execution_count": 88,
     "metadata": {},
     "output_type": "execute_result"
    }
   ],
   "source": [
    "df.shape"
   ]
  },
  {
   "cell_type": "code",
   "execution_count": 89,
   "id": "cc3adf49-c19a-4a5a-8ab9-fab50fbf8dce",
   "metadata": {},
   "outputs": [],
   "source": [
    "pd.set_option('display.max_columns', None)"
   ]
  },
  {
   "cell_type": "code",
   "execution_count": 90,
   "id": "f8cbef97-223b-4f7f-8833-e2d65781a5ba",
   "metadata": {},
   "outputs": [
    {
     "data": {
      "text/html": [
       "<div>\n",
       "<style scoped>\n",
       "    .dataframe tbody tr th:only-of-type {\n",
       "        vertical-align: middle;\n",
       "    }\n",
       "\n",
       "    .dataframe tbody tr th {\n",
       "        vertical-align: top;\n",
       "    }\n",
       "\n",
       "    .dataframe thead th {\n",
       "        text-align: right;\n",
       "    }\n",
       "</style>\n",
       "<table border=\"1\" class=\"dataframe\">\n",
       "  <thead>\n",
       "    <tr style=\"text-align: right;\">\n",
       "      <th></th>\n",
       "      <th>school</th>\n",
       "      <th>sex</th>\n",
       "      <th>age</th>\n",
       "      <th>address</th>\n",
       "      <th>famsize</th>\n",
       "      <th>Pstatus</th>\n",
       "      <th>Medu</th>\n",
       "      <th>Fedu</th>\n",
       "      <th>Mjob</th>\n",
       "      <th>Fjob</th>\n",
       "      <th>reason</th>\n",
       "      <th>guardian</th>\n",
       "      <th>traveltime</th>\n",
       "      <th>studytime</th>\n",
       "      <th>failures</th>\n",
       "      <th>schoolsup</th>\n",
       "      <th>famsup</th>\n",
       "      <th>paid</th>\n",
       "      <th>activities</th>\n",
       "      <th>nursery</th>\n",
       "      <th>higher</th>\n",
       "      <th>internet</th>\n",
       "      <th>romantic</th>\n",
       "      <th>famrel</th>\n",
       "      <th>freetime</th>\n",
       "      <th>goout</th>\n",
       "      <th>Dalc</th>\n",
       "      <th>Walc</th>\n",
       "      <th>health</th>\n",
       "      <th>absences</th>\n",
       "      <th>G1</th>\n",
       "      <th>G2</th>\n",
       "      <th>G3</th>\n",
       "    </tr>\n",
       "  </thead>\n",
       "  <tbody>\n",
       "    <tr>\n",
       "      <th>0</th>\n",
       "      <td>GP</td>\n",
       "      <td>F</td>\n",
       "      <td>18</td>\n",
       "      <td>U</td>\n",
       "      <td>GT3</td>\n",
       "      <td>A</td>\n",
       "      <td>4</td>\n",
       "      <td>4</td>\n",
       "      <td>at_home</td>\n",
       "      <td>teacher</td>\n",
       "      <td>course</td>\n",
       "      <td>mother</td>\n",
       "      <td>2</td>\n",
       "      <td>2</td>\n",
       "      <td>0</td>\n",
       "      <td>yes</td>\n",
       "      <td>no</td>\n",
       "      <td>no</td>\n",
       "      <td>no</td>\n",
       "      <td>yes</td>\n",
       "      <td>yes</td>\n",
       "      <td>no</td>\n",
       "      <td>no</td>\n",
       "      <td>4</td>\n",
       "      <td>3</td>\n",
       "      <td>4</td>\n",
       "      <td>1</td>\n",
       "      <td>1</td>\n",
       "      <td>3</td>\n",
       "      <td>6</td>\n",
       "      <td>5</td>\n",
       "      <td>6</td>\n",
       "      <td>6</td>\n",
       "    </tr>\n",
       "    <tr>\n",
       "      <th>1</th>\n",
       "      <td>GP</td>\n",
       "      <td>F</td>\n",
       "      <td>17</td>\n",
       "      <td>U</td>\n",
       "      <td>GT3</td>\n",
       "      <td>T</td>\n",
       "      <td>1</td>\n",
       "      <td>1</td>\n",
       "      <td>at_home</td>\n",
       "      <td>other</td>\n",
       "      <td>course</td>\n",
       "      <td>father</td>\n",
       "      <td>1</td>\n",
       "      <td>2</td>\n",
       "      <td>0</td>\n",
       "      <td>no</td>\n",
       "      <td>yes</td>\n",
       "      <td>no</td>\n",
       "      <td>no</td>\n",
       "      <td>no</td>\n",
       "      <td>yes</td>\n",
       "      <td>yes</td>\n",
       "      <td>no</td>\n",
       "      <td>5</td>\n",
       "      <td>3</td>\n",
       "      <td>3</td>\n",
       "      <td>1</td>\n",
       "      <td>1</td>\n",
       "      <td>3</td>\n",
       "      <td>4</td>\n",
       "      <td>5</td>\n",
       "      <td>5</td>\n",
       "      <td>6</td>\n",
       "    </tr>\n",
       "    <tr>\n",
       "      <th>2</th>\n",
       "      <td>GP</td>\n",
       "      <td>F</td>\n",
       "      <td>15</td>\n",
       "      <td>U</td>\n",
       "      <td>LE3</td>\n",
       "      <td>T</td>\n",
       "      <td>1</td>\n",
       "      <td>1</td>\n",
       "      <td>at_home</td>\n",
       "      <td>other</td>\n",
       "      <td>other</td>\n",
       "      <td>mother</td>\n",
       "      <td>1</td>\n",
       "      <td>2</td>\n",
       "      <td>3</td>\n",
       "      <td>yes</td>\n",
       "      <td>no</td>\n",
       "      <td>yes</td>\n",
       "      <td>no</td>\n",
       "      <td>yes</td>\n",
       "      <td>yes</td>\n",
       "      <td>yes</td>\n",
       "      <td>no</td>\n",
       "      <td>4</td>\n",
       "      <td>3</td>\n",
       "      <td>2</td>\n",
       "      <td>2</td>\n",
       "      <td>3</td>\n",
       "      <td>3</td>\n",
       "      <td>10</td>\n",
       "      <td>7</td>\n",
       "      <td>8</td>\n",
       "      <td>10</td>\n",
       "    </tr>\n",
       "    <tr>\n",
       "      <th>3</th>\n",
       "      <td>GP</td>\n",
       "      <td>F</td>\n",
       "      <td>15</td>\n",
       "      <td>U</td>\n",
       "      <td>GT3</td>\n",
       "      <td>T</td>\n",
       "      <td>4</td>\n",
       "      <td>2</td>\n",
       "      <td>health</td>\n",
       "      <td>services</td>\n",
       "      <td>home</td>\n",
       "      <td>mother</td>\n",
       "      <td>1</td>\n",
       "      <td>3</td>\n",
       "      <td>0</td>\n",
       "      <td>no</td>\n",
       "      <td>yes</td>\n",
       "      <td>yes</td>\n",
       "      <td>yes</td>\n",
       "      <td>yes</td>\n",
       "      <td>yes</td>\n",
       "      <td>yes</td>\n",
       "      <td>yes</td>\n",
       "      <td>3</td>\n",
       "      <td>2</td>\n",
       "      <td>2</td>\n",
       "      <td>1</td>\n",
       "      <td>1</td>\n",
       "      <td>5</td>\n",
       "      <td>2</td>\n",
       "      <td>15</td>\n",
       "      <td>14</td>\n",
       "      <td>15</td>\n",
       "    </tr>\n",
       "    <tr>\n",
       "      <th>4</th>\n",
       "      <td>GP</td>\n",
       "      <td>F</td>\n",
       "      <td>16</td>\n",
       "      <td>U</td>\n",
       "      <td>GT3</td>\n",
       "      <td>T</td>\n",
       "      <td>3</td>\n",
       "      <td>3</td>\n",
       "      <td>other</td>\n",
       "      <td>other</td>\n",
       "      <td>home</td>\n",
       "      <td>father</td>\n",
       "      <td>1</td>\n",
       "      <td>2</td>\n",
       "      <td>0</td>\n",
       "      <td>no</td>\n",
       "      <td>yes</td>\n",
       "      <td>yes</td>\n",
       "      <td>no</td>\n",
       "      <td>yes</td>\n",
       "      <td>yes</td>\n",
       "      <td>no</td>\n",
       "      <td>no</td>\n",
       "      <td>4</td>\n",
       "      <td>3</td>\n",
       "      <td>2</td>\n",
       "      <td>1</td>\n",
       "      <td>2</td>\n",
       "      <td>5</td>\n",
       "      <td>4</td>\n",
       "      <td>6</td>\n",
       "      <td>10</td>\n",
       "      <td>10</td>\n",
       "    </tr>\n",
       "  </tbody>\n",
       "</table>\n",
       "</div>"
      ],
      "text/plain": [
       "  school sex  age address famsize Pstatus  Medu  Fedu     Mjob      Fjob  \\\n",
       "0     GP   F   18       U     GT3       A     4     4  at_home   teacher   \n",
       "1     GP   F   17       U     GT3       T     1     1  at_home     other   \n",
       "2     GP   F   15       U     LE3       T     1     1  at_home     other   \n",
       "3     GP   F   15       U     GT3       T     4     2   health  services   \n",
       "4     GP   F   16       U     GT3       T     3     3    other     other   \n",
       "\n",
       "   reason guardian  traveltime  studytime  failures schoolsup famsup paid  \\\n",
       "0  course   mother           2          2         0       yes     no   no   \n",
       "1  course   father           1          2         0        no    yes   no   \n",
       "2   other   mother           1          2         3       yes     no  yes   \n",
       "3    home   mother           1          3         0        no    yes  yes   \n",
       "4    home   father           1          2         0        no    yes  yes   \n",
       "\n",
       "  activities nursery higher internet romantic  famrel  freetime  goout  Dalc  \\\n",
       "0         no     yes    yes       no       no       4         3      4     1   \n",
       "1         no      no    yes      yes       no       5         3      3     1   \n",
       "2         no     yes    yes      yes       no       4         3      2     2   \n",
       "3        yes     yes    yes      yes      yes       3         2      2     1   \n",
       "4         no     yes    yes       no       no       4         3      2     1   \n",
       "\n",
       "   Walc  health  absences  G1  G2  G3  \n",
       "0     1       3         6   5   6   6  \n",
       "1     1       3         4   5   5   6  \n",
       "2     3       3        10   7   8  10  \n",
       "3     1       5         2  15  14  15  \n",
       "4     2       5         4   6  10  10  "
      ]
     },
     "execution_count": 90,
     "metadata": {},
     "output_type": "execute_result"
    }
   ],
   "source": [
    "df.head()"
   ]
  },
  {
   "cell_type": "markdown",
   "id": "dc6de0e3-e859-43bd-aab9-72743486c7bf",
   "metadata": {},
   "source": [
    "**Mit jelentenek az attribútumok?**\n",
    "> - school - student's school (binary: 'GP' - Gabriel Pereira or 'MS' - Mousinho da Silveira)\n",
    "> - sex - student's sex (binary: 'F' - female or 'M' - male)\n",
    "> - age - student's age (numeric: from 15 to 22)\n",
    "> - address - student's home address type (binary: 'U' - urban or 'R' - rural)\n",
    "> - famsize - family size (binary: 'LE3' - less or equal to 3 or 'GT3' - greater than 3)\n",
    "> - Pstatus - parent's cohabitation status (binary: 'T' - living together or 'A' - apart)\n",
    "> - Medu - mother's education (numeric: 0 - none, 1 - primary education (4th grade), 2 “ 5th to 9th grade, 3 “ secondary education or 4 “ higher education)\n",
    "> - Fedu - father's education (numeric: 0 - none, 1 - primary education (4th grade), 2 “ 5th to 9th grade, 3 “ secondary education or 4 “ higher education)\n",
    "> - Mjob - mother's job (nominal: 'teacher', 'health' care related, civil 'services' (e.g. administrative or police), 'at_home' or 'other')\n",
    "> - Fjob - father's job (nominal: 'teacher', 'health' care related, civil 'services' (e.g. administrative or police), 'at_home' or 'other')\n",
    "> - reason - reason to choose this school (nominal: close to 'home', school 'reputation', 'course' preference or 'other')\n",
    "> - guardian - student's guardian (nominal: 'mother', 'father' or 'other')\n",
    "> - traveltime - home to school travel time (numeric: 1 - <15 min., 2 - 15 to 30 min., 3 - 30 min. to 1 hour, or 4 - >1 hour)\n",
    "> - studytime - weekly study time (numeric: 1 - <2 hours, 2 - 2 to 5 hours, 3 - 5 to 10 hours, or 4 - >10 hours)\n",
    "> - failures - number of past class failures (numeric: n if 1<=n<3, else 4)\n",
    "> - schoolsup - extra educational support (binary: yes or no)\n",
    "> - famsup - family educational support (binary: yes or no)\n",
    "> - paid - extra paid classes within the course subject (Math or Portuguese) (binary: yes or no)\n",
    "> - activities - extra-curricular activities (binary: yes or no)\n",
    "> - nursery - attended nursery school (binary: yes or no)\n",
    "> - higher - wants to take higher education (binary: yes or no)\n",
    "> - internet - Internet access at home (binary: yes or no)\n",
    "> - romantic - with a romantic relationship (binary: yes or no)\n",
    "> - famrel - quality of family relationships (numeric: from 1 - very bad to 5 - excellent)\n",
    "> - freetime - free time after school (numeric: from 1 - very low to 5 - very high)\n",
    "> - goout - going out with friends (numeric: from 1 - very low to 5 - very high)\n",
    "> - Dalc - workday alcohol consumption (numeric: from 1 - very low to 5 - very high)\n",
    "> - Walc - weekend alcohol consumption (numeric: from 1 - very low to 5 - very high)\n",
    "> - health - current health status (numeric: from 1 - very bad to 5 - very good)\n",
    "> - absences - number of school absences (numeric: from 0 to 93)"
   ]
  },
  {
   "cell_type": "markdown",
   "id": "e3714396-96a3-463f-9a8b-1cdcb4702e75",
   "metadata": {},
   "source": [
    "# 2. Adatelőkészítés"
   ]
  },
  {
   "cell_type": "code",
   "execution_count": 91,
   "id": "5067ad50-f393-4970-8fc0-f1cc388c5509",
   "metadata": {},
   "outputs": [],
   "source": [
    "def point_to_grade(point):\n",
    "    if point <= 10:\n",
    "        return 1\n",
    "    elif point <= 14:\n",
    "        return 2\n",
    "    elif point <= 16:\n",
    "        return 3\n",
    "    elif point <= 18:\n",
    "        return 4\n",
    "    else:\n",
    "        return 5"
   ]
  },
  {
   "cell_type": "code",
   "execution_count": 92,
   "id": "238f3dfc-acd2-4927-be24-8ebe69785548",
   "metadata": {},
   "outputs": [],
   "source": [
    "df['grade'] = df['G3'].apply(lambda x: point_to_grade(x))"
   ]
  },
  {
   "cell_type": "code",
   "execution_count": 93,
   "id": "67d7821f-f788-4023-8d1b-8e408420d579",
   "metadata": {},
   "outputs": [],
   "source": [
    "y_col = 'grade'\n",
    "X_cols = ['goout', 'Dalc', 'Walc', 'health', 'absences', 'G1', 'G2']"
   ]
  },
  {
   "cell_type": "code",
   "execution_count": 94,
   "id": "9d7ce4a7-4a5d-4e1a-9e64-63fcb0e2aaa7",
   "metadata": {},
   "outputs": [],
   "source": [
    "X = df.loc[:, X_cols]"
   ]
  },
  {
   "cell_type": "code",
   "execution_count": 95,
   "id": "8f7f6586-ee13-499d-8688-60f2dfd88538",
   "metadata": {},
   "outputs": [],
   "source": [
    "y = df.loc[:, y_col]"
   ]
  },
  {
   "cell_type": "markdown",
   "id": "29995ad9-da50-4f05-9cd1-b9d19fadd329",
   "metadata": {},
   "source": [
    "# 3. Modellezés"
   ]
  },
  {
   "cell_type": "markdown",
   "id": "b29db9fa-9dbd-4bd0-9b4b-68e405bbc28a",
   "metadata": {},
   "source": [
    "## 3.1 Döntési fa"
   ]
  },
  {
   "cell_type": "code",
   "execution_count": 96,
   "id": "2eaad293-c1ad-491f-aafd-d0b5e8b7475f",
   "metadata": {},
   "outputs": [
    {
     "data": {
      "text/plain": [
       "0.8253164556962025"
      ]
     },
     "execution_count": 96,
     "metadata": {},
     "output_type": "execute_result"
    }
   ],
   "source": [
    "dec_tree = DecisionTreeClassifier(random_state = 42)\n",
    "\n",
    "pred = cross_val_predict(dec_tree, X, y, cv = 4)\n",
    "df['pred_dct'] = pred\n",
    "accuracy_score(y, pred)"
   ]
  },
  {
   "cell_type": "markdown",
   "id": "47d21bfe-b64a-485b-b28d-6109e674c415",
   "metadata": {},
   "source": [
    "## 3.2 K-NN"
   ]
  },
  {
   "cell_type": "code",
   "execution_count": 97,
   "id": "de7cfc9d-1ed4-4d0e-a600-9f51d8b1acfe",
   "metadata": {},
   "outputs": [],
   "source": [
    "kfold = KFold(n_splits = 4)\n",
    "df['pred_knn'] = 0\n",
    "\n",
    "for i, (train_idx, test_idx) in enumerate(kfold.split(X)):\n",
    "    knn = KNeighborsClassifier(n_neighbors = 5)\n",
    "    \n",
    "    X_train = df.loc[train_idx, X_cols]\n",
    "    y_train = df.loc[train_idx, y_col]\n",
    "    X_test = df.loc[test_idx, X_cols]\n",
    "    y_test = df.loc[test_idx, y_col]\n",
    "\n",
    "    scaler = StandardScaler()\n",
    "    scaler.fit(X_train)\n",
    "    X_train_scaled = scaler.transform(X_train)\n",
    "    X_test_scaled = scaler.transform(X_test)\n",
    "\n",
    "    knn.fit(X_train_scaled, y_train)\n",
    "    pred = knn.predict(X_test_scaled)\n",
    "\n",
    "    df.loc[test_idx, 'pred_knn'] = pred"
   ]
  },
  {
   "cell_type": "code",
   "execution_count": 98,
   "id": "e35f768b-6dd4-4713-8d56-03b9887e75d6",
   "metadata": {},
   "outputs": [
    {
     "data": {
      "text/plain": [
       "0.7265822784810126"
      ]
     },
     "execution_count": 98,
     "metadata": {},
     "output_type": "execute_result"
    }
   ],
   "source": [
    "accuracy_score(y, df.loc[:, 'pred_knn'])"
   ]
  },
  {
   "cell_type": "markdown",
   "id": "e664aeaa-f612-457e-ac42-c49b1bcfdf46",
   "metadata": {},
   "source": [
    "# 4. Értékelés"
   ]
  },
  {
   "cell_type": "code",
   "execution_count": 99,
   "id": "c670422c-472f-4e4b-82ad-b17f2820155b",
   "metadata": {},
   "outputs": [],
   "source": [
    "df['dec_tree_error'] = 0\n",
    "df.loc[df[y_col] != df['pred_dct'], 'dec_tree_error'] = 1"
   ]
  },
  {
   "cell_type": "code",
   "execution_count": 100,
   "id": "deb06b59-d0db-47b5-b581-50897210685a",
   "metadata": {},
   "outputs": [],
   "source": [
    "df['knn_error'] = 0\n",
    "df.loc[df[y_col] != df['pred_knn'], 'knn_error'] = 1 "
   ]
  },
  {
   "cell_type": "code",
   "execution_count": 101,
   "id": "e25e285d-f353-47f0-be55-8ac2950b7f4a",
   "metadata": {},
   "outputs": [
    {
     "data": {
      "text/plain": [
       "grade\n",
       "1    0.123656\n",
       "2    0.183824\n",
       "3    0.244898\n",
       "4    0.333333\n",
       "5    0.500000\n",
       "dtype: float64"
      ]
     },
     "execution_count": 101,
     "metadata": {},
     "output_type": "execute_result"
    }
   ],
   "source": [
    "df.groupby(y_col)['dec_tree_error'].sum() / df[y_col].value_counts()"
   ]
  },
  {
   "cell_type": "code",
   "execution_count": 102,
   "id": "94ae765d-19f0-4faa-9656-7d264d257603",
   "metadata": {},
   "outputs": [
    {
     "data": {
      "text/plain": [
       "grade\n",
       "1    0.118280\n",
       "2    0.257353\n",
       "3    0.653061\n",
       "4    0.722222\n",
       "5    1.000000\n",
       "dtype: float64"
      ]
     },
     "execution_count": 102,
     "metadata": {},
     "output_type": "execute_result"
    }
   ],
   "source": [
    "df.groupby(y_col)['knn_error'].sum() / df[y_col].value_counts()"
   ]
  },
  {
   "cell_type": "code",
   "execution_count": 103,
   "id": "4bef2154-c7a8-4c74-ace4-4c723a563039",
   "metadata": {},
   "outputs": [
    {
     "data": {
      "text/html": [
       "<div>\n",
       "<style scoped>\n",
       "    .dataframe tbody tr th:only-of-type {\n",
       "        vertical-align: middle;\n",
       "    }\n",
       "\n",
       "    .dataframe tbody tr th {\n",
       "        vertical-align: top;\n",
       "    }\n",
       "\n",
       "    .dataframe thead th {\n",
       "        text-align: right;\n",
       "    }\n",
       "</style>\n",
       "<table border=\"1\" class=\"dataframe\">\n",
       "  <thead>\n",
       "    <tr style=\"text-align: right;\">\n",
       "      <th></th>\n",
       "      <th>grade</th>\n",
       "      <th>pred_dct</th>\n",
       "      <th>pred_knn</th>\n",
       "    </tr>\n",
       "  </thead>\n",
       "  <tbody>\n",
       "    <tr>\n",
       "      <th>8</th>\n",
       "      <td>5</td>\n",
       "      <td>4</td>\n",
       "      <td>3</td>\n",
       "    </tr>\n",
       "    <tr>\n",
       "      <th>47</th>\n",
       "      <td>5</td>\n",
       "      <td>5</td>\n",
       "      <td>4</td>\n",
       "    </tr>\n",
       "    <tr>\n",
       "      <th>110</th>\n",
       "      <td>5</td>\n",
       "      <td>5</td>\n",
       "      <td>4</td>\n",
       "    </tr>\n",
       "    <tr>\n",
       "      <th>113</th>\n",
       "      <td>5</td>\n",
       "      <td>5</td>\n",
       "      <td>4</td>\n",
       "    </tr>\n",
       "    <tr>\n",
       "      <th>286</th>\n",
       "      <td>5</td>\n",
       "      <td>4</td>\n",
       "      <td>3</td>\n",
       "    </tr>\n",
       "    <tr>\n",
       "      <th>374</th>\n",
       "      <td>5</td>\n",
       "      <td>4</td>\n",
       "      <td>3</td>\n",
       "    </tr>\n",
       "  </tbody>\n",
       "</table>\n",
       "</div>"
      ],
      "text/plain": [
       "     grade  pred_dct  pred_knn\n",
       "8        5         4         3\n",
       "47       5         5         4\n",
       "110      5         5         4\n",
       "113      5         5         4\n",
       "286      5         4         3\n",
       "374      5         4         3"
      ]
     },
     "execution_count": 103,
     "metadata": {},
     "output_type": "execute_result"
    }
   ],
   "source": [
    "df.loc[df[y_col] == 5, [y_col, 'pred_dct', 'pred_knn']]"
   ]
  },
  {
   "cell_type": "code",
   "execution_count": 104,
   "id": "7e0c40f3-2fef-4d86-89c0-f58adfcd74f8",
   "metadata": {},
   "outputs": [
    {
     "data": {
      "text/plain": [
       "1    186\n",
       "2    136\n",
       "3     49\n",
       "4     18\n",
       "5      6\n",
       "Name: grade, dtype: int64"
      ]
     },
     "execution_count": 104,
     "metadata": {},
     "output_type": "execute_result"
    }
   ],
   "source": [
    "df[y_col].value_counts()"
   ]
  },
  {
   "cell_type": "code",
   "execution_count": 105,
   "id": "eb3ac2f2-9f1d-43a7-996e-9f964ab35d29",
   "metadata": {},
   "outputs": [
    {
     "data": {
      "text/html": [
       "<div>\n",
       "<style scoped>\n",
       "    .dataframe tbody tr th:only-of-type {\n",
       "        vertical-align: middle;\n",
       "    }\n",
       "\n",
       "    .dataframe tbody tr th {\n",
       "        vertical-align: top;\n",
       "    }\n",
       "\n",
       "    .dataframe thead th {\n",
       "        text-align: right;\n",
       "    }\n",
       "</style>\n",
       "<table border=\"1\" class=\"dataframe\">\n",
       "  <thead>\n",
       "    <tr style=\"text-align: right;\">\n",
       "      <th></th>\n",
       "      <th>1</th>\n",
       "      <th>2</th>\n",
       "      <th>3</th>\n",
       "      <th>4</th>\n",
       "      <th>5</th>\n",
       "    </tr>\n",
       "  </thead>\n",
       "  <tbody>\n",
       "    <tr>\n",
       "      <th>1</th>\n",
       "      <td>163</td>\n",
       "      <td>22</td>\n",
       "      <td>1</td>\n",
       "      <td>0</td>\n",
       "      <td>0</td>\n",
       "    </tr>\n",
       "    <tr>\n",
       "      <th>2</th>\n",
       "      <td>17</td>\n",
       "      <td>111</td>\n",
       "      <td>8</td>\n",
       "      <td>0</td>\n",
       "      <td>0</td>\n",
       "    </tr>\n",
       "    <tr>\n",
       "      <th>3</th>\n",
       "      <td>0</td>\n",
       "      <td>7</td>\n",
       "      <td>37</td>\n",
       "      <td>5</td>\n",
       "      <td>0</td>\n",
       "    </tr>\n",
       "    <tr>\n",
       "      <th>4</th>\n",
       "      <td>0</td>\n",
       "      <td>0</td>\n",
       "      <td>2</td>\n",
       "      <td>12</td>\n",
       "      <td>4</td>\n",
       "    </tr>\n",
       "    <tr>\n",
       "      <th>5</th>\n",
       "      <td>0</td>\n",
       "      <td>0</td>\n",
       "      <td>0</td>\n",
       "      <td>3</td>\n",
       "      <td>3</td>\n",
       "    </tr>\n",
       "  </tbody>\n",
       "</table>\n",
       "</div>"
      ],
      "text/plain": [
       "     1    2   3   4  5\n",
       "1  163   22   1   0  0\n",
       "2   17  111   8   0  0\n",
       "3    0    7  37   5  0\n",
       "4    0    0   2  12  4\n",
       "5    0    0   0   3  3"
      ]
     },
     "execution_count": 105,
     "metadata": {},
     "output_type": "execute_result"
    }
   ],
   "source": [
    "pd.DataFrame(confusion_matrix(df.loc[:, y_col], df.loc[:, 'pred_dct']), index = range(1, 6), columns = range(1, 6))"
   ]
  },
  {
   "cell_type": "code",
   "execution_count": 106,
   "id": "0ada48fa-7e50-4a54-a3d9-2f955fba0626",
   "metadata": {},
   "outputs": [
    {
     "data": {
      "text/html": [
       "<div>\n",
       "<style scoped>\n",
       "    .dataframe tbody tr th:only-of-type {\n",
       "        vertical-align: middle;\n",
       "    }\n",
       "\n",
       "    .dataframe tbody tr th {\n",
       "        vertical-align: top;\n",
       "    }\n",
       "\n",
       "    .dataframe thead th {\n",
       "        text-align: right;\n",
       "    }\n",
       "</style>\n",
       "<table border=\"1\" class=\"dataframe\">\n",
       "  <thead>\n",
       "    <tr style=\"text-align: right;\">\n",
       "      <th></th>\n",
       "      <th>1</th>\n",
       "      <th>2</th>\n",
       "      <th>3</th>\n",
       "      <th>4</th>\n",
       "      <th>5</th>\n",
       "    </tr>\n",
       "  </thead>\n",
       "  <tbody>\n",
       "    <tr>\n",
       "      <th>1</th>\n",
       "      <td>164</td>\n",
       "      <td>22</td>\n",
       "      <td>0</td>\n",
       "      <td>0</td>\n",
       "      <td>0</td>\n",
       "    </tr>\n",
       "    <tr>\n",
       "      <th>2</th>\n",
       "      <td>26</td>\n",
       "      <td>101</td>\n",
       "      <td>9</td>\n",
       "      <td>0</td>\n",
       "      <td>0</td>\n",
       "    </tr>\n",
       "    <tr>\n",
       "      <th>3</th>\n",
       "      <td>0</td>\n",
       "      <td>31</td>\n",
       "      <td>17</td>\n",
       "      <td>1</td>\n",
       "      <td>0</td>\n",
       "    </tr>\n",
       "    <tr>\n",
       "      <th>4</th>\n",
       "      <td>0</td>\n",
       "      <td>4</td>\n",
       "      <td>8</td>\n",
       "      <td>5</td>\n",
       "      <td>1</td>\n",
       "    </tr>\n",
       "    <tr>\n",
       "      <th>5</th>\n",
       "      <td>0</td>\n",
       "      <td>0</td>\n",
       "      <td>3</td>\n",
       "      <td>3</td>\n",
       "      <td>0</td>\n",
       "    </tr>\n",
       "  </tbody>\n",
       "</table>\n",
       "</div>"
      ],
      "text/plain": [
       "     1    2   3  4  5\n",
       "1  164   22   0  0  0\n",
       "2   26  101   9  0  0\n",
       "3    0   31  17  1  0\n",
       "4    0    4   8  5  1\n",
       "5    0    0   3  3  0"
      ]
     },
     "execution_count": 106,
     "metadata": {},
     "output_type": "execute_result"
    }
   ],
   "source": [
    "pd.DataFrame(confusion_matrix(df.loc[:, y_col], df.loc[:, 'pred_knn']), index = range(1, 6), columns = range(1, 6))"
   ]
  }
 ],
 "metadata": {
  "kernelspec": {
   "display_name": "Python 3 (ipykernel)",
   "language": "python",
   "name": "python3"
  },
  "language_info": {
   "codemirror_mode": {
    "name": "ipython",
    "version": 3
   },
   "file_extension": ".py",
   "mimetype": "text/x-python",
   "name": "python",
   "nbconvert_exporter": "python",
   "pygments_lexer": "ipython3",
   "version": "3.9.7"
  }
 },
 "nbformat": 4,
 "nbformat_minor": 5
}
