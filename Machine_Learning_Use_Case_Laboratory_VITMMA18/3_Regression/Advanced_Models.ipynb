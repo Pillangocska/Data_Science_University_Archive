{
 "cells": [
  {
   "cell_type": "markdown",
   "id": "887511a6",
   "metadata": {},
   "source": [
    "# Kombinált technikák használata"
   ]
  },
  {
   "cell_type": "code",
   "execution_count": 1,
   "id": "307027d7",
   "metadata": {},
   "outputs": [],
   "source": [
    "import pandas as pd\n",
    "import numpy as np\n",
    "import tqdm\n",
    "import matplotlib.pyplot as plt\n",
    "from sklearn.linear_model import LinearRegression\n",
    "from sklearn.tree import DecisionTreeRegressor\n",
    "from sklearn.ensemble import RandomForestRegressor, GradientBoostingRegressor\n",
    "from sklearn.neural_network import MLPRegressor"
   ]
  },
  {
   "cell_type": "code",
   "execution_count": 3,
   "id": "7bb0f7c6",
   "metadata": {},
   "outputs": [],
   "source": [
    "df = pd.read_csv(\"./_data/DataSet_Hitelbiralat_OnlyNum.csv\")"
   ]
  },
  {
   "cell_type": "code",
   "execution_count": 4,
   "id": "b54bc9d1",
   "metadata": {},
   "outputs": [
    {
     "data": {
      "text/plain": [
       "50000"
      ]
     },
     "execution_count": 4,
     "metadata": {},
     "output_type": "execute_result"
    }
   ],
   "source": [
    "len(df)"
   ]
  },
  {
   "cell_type": "code",
   "execution_count": 5,
   "id": "8a42c7ef",
   "metadata": {},
   "outputs": [],
   "source": [
    "y_col = \"Age\""
   ]
  },
  {
   "cell_type": "code",
   "execution_count": 6,
   "id": "f2dff127",
   "metadata": {},
   "outputs": [
    {
     "data": {
      "text/plain": [
       "<AxesSubplot:>"
      ]
     },
     "execution_count": 6,
     "metadata": {},
     "output_type": "execute_result"
    },
    {
     "data": {
      "image/png": "[encoded data removed]",
      "text/plain": [
       "<Figure size 432x288 with 1 Axes>"
      ]
     },
     "metadata": {
      "needs_background": "light"
     },
     "output_type": "display_data"
    }
   ],
   "source": [
    "df[y_col].hist(bins=30)"
   ]
  },
  {
   "cell_type": "code",
   "execution_count": 7,
   "id": "fdde84c4",
   "metadata": {},
   "outputs": [],
   "source": [
    "X_cols=list(df.columns)[1:-1]"
   ]
  },
  {
   "cell_type": "code",
   "execution_count": 8,
   "id": "f3cd01ac",
   "metadata": {},
   "outputs": [],
   "source": [
    "X_cols.remove(y_col)"
   ]
  },
  {
   "cell_type": "code",
   "execution_count": 9,
   "id": "d9a21aa5",
   "metadata": {},
   "outputs": [],
   "source": [
    "train_df=df.iloc[:25000,:].copy()\n",
    "test_df =df.iloc[25000:,:].copy()"
   ]
  },
  {
   "cell_type": "code",
   "execution_count": 11,
   "id": "abf5fc48",
   "metadata": {},
   "outputs": [],
   "source": [
    "# vizsgaljuk a modell pontossagat (MAE, RMSE) kulonbozo modellekkel\n",
    "# linreg\n",
    "# dontesi fa 4, 10 melyseggel (DecisionTreeRegressor, max_depth, random_state=42)\n",
    "# random forest 4, 10 melyseggel (RandomForestRegressor, max_depth, random_state=42)\n",
    "# random forest 4, 10 melyseggel 500 fa(RandomForestRegressor, max_depth, n_estimators, random_state=42)\n",
    "# gbm 4 melyseggel, 100, learningrate=1, 0.1)\n",
    "# gbm 4 melyseggel, 500 fa, learningrate=1, 0.1)\n",
    "# gbm 10 melyseggel, 100, learningrate=1, 0.1)\n",
    "# gbm 10 melyseggel, 500 fa, learningrate=1, 0.1)\n",
    "# nn_2 (MLPRegressor, hidden_layer_sizes=(2,), random_state=1)\n",
    "# nn_5_3 (MLPRegressor random_state=1, hidden_layer_sizes=(5,3),\n",
    "#        learning_rate='adaptive', activation='tanh', max_iter=2000)"
   ]
  },
  {
   "cell_type": "code",
   "execution_count": 11,
   "id": "d63b6058",
   "metadata": {},
   "outputs": [],
   "source": [
    "model_dict = {\n",
    "    'linreg': LinearRegression(),\n",
    "    'dct4': DecisionTreeRegressor(max_depth=4, random_state=1),\n",
    "    'dct10': DecisionTreeRegressor(max_depth=10, random_state=1),\n",
    "    'rf4': RandomForestRegressor(max_depth=4, random_state=1),\n",
    "    'rf10': RandomForestRegressor(max_depth=10, random_state=1),\n",
    "    'rf4-500': RandomForestRegressor(n_estimators=500, max_depth=4, random_state=1),\n",
    "    'rf10-500': RandomForestRegressor(n_estimators=500, max_depth=10, random_state=1),\n",
    "    'gbm4': GradientBoostingRegressor(max_depth=4, random_state=1, learning_rate=1),\n",
    "    'gbm4-500': GradientBoostingRegressor(max_depth=4, n_estimators=500, random_state=1, learning_rate=1),\n",
    "    'gbm4-500_01': GradientBoostingRegressor(max_depth=4, n_estimators=500, random_state=1, learning_rate=0.1),\n",
    "    'gbm10': GradientBoostingRegressor(max_depth=10, random_state=1, learning_rate=1),\n",
    "    'gbm10-500': GradientBoostingRegressor(max_depth=10, n_estimators=500, random_state=1, learning_rate=1),\n",
    "    'gbm10-500_01': GradientBoostingRegressor(max_depth=10, n_estimators=500, random_state=1, learning_rate=0.1),\n",
    "    'nn_2': MLPRegressor(random_state=1, hidden_layer_sizes=(2,)),\n",
    "    'nn_5_3': MLPRegressor(random_state=1,\n",
    "                  hidden_layer_sizes=(5,3), learning_rate='adaptive', activation='tanh', max_iter=2000)\n",
    "}"
   ]
  },
  {
   "cell_type": "code",
   "execution_count": 37,
   "id": "459ccf84",
   "metadata": {},
   "outputs": [
    {
     "name": "stdout",
     "output_type": "stream",
     "text": [
      "Model: linreg, MAE: 8.750543949919061, RMSE: 11.08087691532302\n",
      "Model: dct4, MAE: 7.537058096078051, RMSE: 9.529409548731916\n",
      "Model: dct10, MAE: 6.738295767272124, RMSE: 8.954089200356677\n",
      "Model: rf4, MAE: 7.452970425818023, RMSE: 9.431533069580931\n",
      "Model: rf10, MAE: 6.454219221278906, RMSE: 8.48208622335665\n",
      "Model: rf4-500, MAE: 7.4430550362224865, RMSE: 9.420541692899114\n",
      "Model: rf10-500, MAE: 6.447925002133919, RMSE: 8.470093991624937\n",
      "Model: gbm4, MAE: 6.55858534897879, RMSE: 8.689254574021058\n",
      "Model: gbm4-500, MAE: 7.189995363984035, RMSE: 9.57617277773792\n",
      "Model: gbm4-500_01, MAE: 6.0993967316603905, RMSE: 8.028014668469044\n",
      "Model: gbm10, MAE: 8.799580667133135, RMSE: 11.744660112830955\n",
      "Model: gbm10-500, MAE: 8.823829943777687, RMSE: 11.77209161806465\n",
      "Model: gbm10-500_01, MAE: 6.408982275526362, RMSE: 8.51663193736033\n",
      "Model: nn_2, MAE: 10.231967518936804, RMSE: 13.432016226071363\n",
      "Model: nn_5_3, MAE: 10.774807128396931, RMSE: 13.121041727608976\n"
     ]
    }
   ],
   "source": [
    "result_dict = {}\n",
    "for model_name, model in model_dict.items():\n",
    "    model.fit(train_df.loc[:, X_cols], train_df.loc[:, y_col])\n",
    "    pred = model.predict(test_df.loc[:, X_cols])\n",
    "    mae = abs(test_df.loc[:, y_col] - pred).mean()\n",
    "    rmse = np.sqrt(((test_df.loc[:, y_col] - pred)**2).mean())\n",
    "    result_dict[model_name] = {}\n",
    "    result_dict[model_name]['mae'] = np.round(mae, 1)\n",
    "    result_dict[model_name]['rmse'] = np.round(rmse, 1)\n",
    "    print(f'Model: {model_name}, MAE: {mae}, RMSE: {rmse}')"
   ]
  },
  {
   "cell_type": "code",
   "execution_count": 46,
   "id": "27afcdc2",
   "metadata": {},
   "outputs": [],
   "source": [
    "plot_dict = {k:v['mae'] for k, v in result_dict.items()}"
   ]
  },
  {
   "cell_type": "code",
   "execution_count": 50,
   "id": "e2363b95",
   "metadata": {
    "collapsed": true
   },
   "outputs": [
    {
     "data": {
      "text/plain": [
       "<BarContainer object of 15 artists>"
      ]
     },
     "execution_count": 50,
     "metadata": {},
     "output_type": "execute_result"
    },
    {
     "data": {
      "image/png": "[encoded data removed]",
      "text/plain": [
       "<Figure size 1080x288 with 1 Axes>"
      ]
     },
     "metadata": {
      "needs_background": "light"
     },
     "output_type": "display_data"
    }
   ],
   "source": [
    "plt.figure(figsize=(15, 4))\n",
    "plt.bar(plot_dict.keys(), plot_dict.values())"
   ]
  },
  {
   "cell_type": "code",
   "execution_count": 58,
   "id": "100ca0cf",
   "metadata": {},
   "outputs": [],
   "source": [
    "sorted_dict = dict(sorted(plot_dict.items(), key=lambda x: x[1]))"
   ]
  },
  {
   "cell_type": "code",
   "execution_count": 59,
   "id": "63f85751",
   "metadata": {},
   "outputs": [
    {
     "data": {
      "text/plain": [
       "<BarContainer object of 15 artists>"
      ]
     },
     "execution_count": 59,
     "metadata": {},
     "output_type": "execute_result"
    },
    {
     "data": {
      "image/png": "[encoded data removed]",
      "text/plain": [
       "<Figure size 1080x288 with 1 Axes>"
      ]
     },
     "metadata": {
      "needs_background": "light"
     },
     "output_type": "display_data"
    }
   ],
   "source": [
    "plt.figure(figsize=(15, 4))\n",
    "plt.bar(sorted_dict.keys(), sorted_dict.values())"
   ]
  },
  {
   "cell_type": "code",
   "execution_count": null,
   "id": "05bf56e3",
   "metadata": {},
   "outputs": [],
   "source": []
  }
 ],
 "metadata": {
  "kernelspec": {
   "display_name": "Python 3 (ipykernel)",
   "language": "python",
   "name": "python3"
  },
  "language_info": {
   "codemirror_mode": {
    "name": "ipython",
    "version": 3
   },
   "file_extension": ".py",
   "mimetype": "text/x-python",
   "name": "python",
   "nbconvert_exporter": "python",
   "pygments_lexer": "ipython3",
   "version": "3.9.7"
  }
 },
 "nbformat": 4,
 "nbformat_minor": 5
}
