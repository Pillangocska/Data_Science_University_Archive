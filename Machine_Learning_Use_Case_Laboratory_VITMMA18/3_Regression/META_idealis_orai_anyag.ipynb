{
 "cells": [
  {
   "cell_type": "markdown",
   "id": "887511a6",
   "metadata": {},
   "source": [
    "# Kombinált technikák használata"
   ]
  },
  {
   "cell_type": "code",
   "execution_count": 1,
   "id": "307027d7",
   "metadata": {},
   "outputs": [],
   "source": [
    "import pandas as pd\n",
    "import numpy as np\n",
    "import matplotlib.pyplot as plt"
   ]
  },
  {
   "cell_type": "code",
   "execution_count": 2,
   "id": "7bb0f7c6",
   "metadata": {},
   "outputs": [],
   "source": [
    "df = pd.read_csv(\"../_data/DataSet_Hitelbiralat_OnlyNum.csv\")"
   ]
  },
  {
   "cell_type": "code",
   "execution_count": 3,
   "id": "b54bc9d1",
   "metadata": {},
   "outputs": [
    {
     "data": {
      "text/plain": [
       "50000"
      ]
     },
     "execution_count": 3,
     "metadata": {},
     "output_type": "execute_result"
    }
   ],
   "source": [
    "len(df)"
   ]
  },
  {
   "cell_type": "code",
   "execution_count": 4,
   "id": "8a42c7ef",
   "metadata": {},
   "outputs": [],
   "source": [
    "target = \"Age\""
   ]
  },
  {
   "cell_type": "code",
   "execution_count": 5,
   "id": "691649b1",
   "metadata": {},
   "outputs": [
    {
     "data": {
      "text/plain": [
       "'Age'"
      ]
     },
     "execution_count": 5,
     "metadata": {},
     "output_type": "execute_result"
    }
   ],
   "source": [
    "target"
   ]
  },
  {
   "cell_type": "code",
   "execution_count": 6,
   "id": "f2dff127",
   "metadata": {},
   "outputs": [
    {
     "data": {
      "text/plain": [
       "<Axes: >"
      ]
     },
     "execution_count": 6,
     "metadata": {},
     "output_type": "execute_result"
    },
    {
     "data": {
      "image/png": "[encoded data removed]",
      "text/plain": [
       "<Figure size 640x480 with 1 Axes>"
      ]
     },
     "metadata": {},
     "output_type": "display_data"
    }
   ],
   "source": [
    "df[target].hist(bins=30)"
   ]
  },
  {
   "cell_type": "code",
   "execution_count": 7,
   "id": "fdde84c4",
   "metadata": {},
   "outputs": [],
   "source": [
    "bemeno_valtozo=list(df.columns)[1:-1]"
   ]
  },
  {
   "cell_type": "code",
   "execution_count": 8,
   "id": "f3cd01ac",
   "metadata": {},
   "outputs": [],
   "source": [
    "bemeno_valtozo.remove(target)"
   ]
  },
  {
   "cell_type": "code",
   "execution_count": 9,
   "id": "d9a21aa5",
   "metadata": {},
   "outputs": [],
   "source": [
    "train_df=df.iloc[:25000,:].copy()\n",
    "test_df =df.iloc[25000:,:].copy()"
   ]
  },
  {
   "cell_type": "code",
   "execution_count": 10,
   "id": "c3f31352",
   "metadata": {},
   "outputs": [],
   "source": [
    "def tanit_testel(model,train_df,test_df):\n",
    "    model.fit(train_df[bemeno_valtozo],train_df[target])\n",
    "    pred=model.predict(test_df[bemeno_valtozo])\n",
    "    test_df['pred']=pred\n",
    "    mae = np.mean(  abs(pred-test_df[target])  )\n",
    "    rmse= np.sqrt( np.mean(  (pred-test_df[target])**2 ))\n",
    "    return mae, rmse, test_df"
   ]
  },
  {
   "cell_type": "code",
   "execution_count": 11,
   "id": "c2c41286",
   "metadata": {},
   "outputs": [],
   "source": [
    "from sklearn.linear_model import LinearRegression"
   ]
  },
  {
   "cell_type": "code",
   "execution_count": 12,
   "id": "79412774",
   "metadata": {},
   "outputs": [],
   "source": [
    "linreg = LinearRegression()"
   ]
  },
  {
   "cell_type": "code",
   "execution_count": 13,
   "id": "8f97b779",
   "metadata": {},
   "outputs": [
    {
     "data": {
      "text/html": [
       "<div>\n",
       "<style scoped>\n",
       "    .dataframe tbody tr th:only-of-type {\n",
       "        vertical-align: middle;\n",
       "    }\n",
       "\n",
       "    .dataframe tbody tr th {\n",
       "        vertical-align: top;\n",
       "    }\n",
       "\n",
       "    .dataframe thead th {\n",
       "        text-align: right;\n",
       "    }\n",
       "</style>\n",
       "<table border=\"1\" class=\"dataframe\">\n",
       "  <thead>\n",
       "    <tr style=\"text-align: right;\">\n",
       "      <th></th>\n",
       "      <th>name</th>\n",
       "      <th>mae</th>\n",
       "      <th>rmse</th>\n",
       "    </tr>\n",
       "  </thead>\n",
       "  <tbody>\n",
       "    <tr>\n",
       "      <th>0</th>\n",
       "      <td>linreg</td>\n",
       "      <td>8.750544</td>\n",
       "      <td>11.080877</td>\n",
       "    </tr>\n",
       "  </tbody>\n",
       "</table>\n",
       "</div>"
      ],
      "text/plain": [
       "     name       mae       rmse\n",
       "0  linreg  8.750544  11.080877"
      ]
     },
     "execution_count": 13,
     "metadata": {},
     "output_type": "execute_result"
    }
   ],
   "source": [
    "a,b,c=tanit_testel(linreg,train_df,test_df)\n",
    "res = pd.DataFrame({'name':['linreg'],'mae':[a],'rmse':[b]})\n",
    "res"
   ]
  },
  {
   "cell_type": "code",
   "execution_count": 14,
   "id": "84976fb2",
   "metadata": {},
   "outputs": [],
   "source": [
    "from sklearn.tree import DecisionTreeRegressor"
   ]
  },
  {
   "cell_type": "code",
   "execution_count": 15,
   "id": "312bece3",
   "metadata": {},
   "outputs": [],
   "source": [
    "dt4 = DecisionTreeRegressor(max_depth=4,\n",
    "                            max_leaf_nodes=100,random_state=42)"
   ]
  },
  {
   "cell_type": "code",
   "execution_count": 16,
   "id": "91ead507",
   "metadata": {},
   "outputs": [
    {
     "data": {
      "text/html": [
       "<div>\n",
       "<style scoped>\n",
       "    .dataframe tbody tr th:only-of-type {\n",
       "        vertical-align: middle;\n",
       "    }\n",
       "\n",
       "    .dataframe tbody tr th {\n",
       "        vertical-align: top;\n",
       "    }\n",
       "\n",
       "    .dataframe thead th {\n",
       "        text-align: right;\n",
       "    }\n",
       "</style>\n",
       "<table border=\"1\" class=\"dataframe\">\n",
       "  <thead>\n",
       "    <tr style=\"text-align: right;\">\n",
       "      <th></th>\n",
       "      <th>name</th>\n",
       "      <th>mae</th>\n",
       "      <th>rmse</th>\n",
       "    </tr>\n",
       "  </thead>\n",
       "  <tbody>\n",
       "    <tr>\n",
       "      <th>0</th>\n",
       "      <td>linreg</td>\n",
       "      <td>8.750544</td>\n",
       "      <td>11.080877</td>\n",
       "    </tr>\n",
       "    <tr>\n",
       "      <th>0</th>\n",
       "      <td>dt4</td>\n",
       "      <td>7.537058</td>\n",
       "      <td>9.529410</td>\n",
       "    </tr>\n",
       "  </tbody>\n",
       "</table>\n",
       "</div>"
      ],
      "text/plain": [
       "     name       mae       rmse\n",
       "0  linreg  8.750544  11.080877\n",
       "0     dt4  7.537058   9.529410"
      ]
     },
     "execution_count": 16,
     "metadata": {},
     "output_type": "execute_result"
    }
   ],
   "source": [
    "a,b,c=tanit_testel(dt4,train_df,test_df)\n",
    "res2 = pd.DataFrame({'name':['dt4'],'mae':[a],'rmse':[b]})\n",
    "res=pd.concat([res,res2])\n",
    "res"
   ]
  },
  {
   "cell_type": "code",
   "execution_count": 17,
   "id": "4514a9ce",
   "metadata": {},
   "outputs": [],
   "source": [
    "dt14 = DecisionTreeRegressor(max_depth=14,\n",
    "                            max_leaf_nodes=20,random_state=42)"
   ]
  },
  {
   "cell_type": "code",
   "execution_count": 18,
   "id": "71b1f712",
   "metadata": {},
   "outputs": [
    {
     "data": {
      "text/html": [
       "<div>\n",
       "<style scoped>\n",
       "    .dataframe tbody tr th:only-of-type {\n",
       "        vertical-align: middle;\n",
       "    }\n",
       "\n",
       "    .dataframe tbody tr th {\n",
       "        vertical-align: top;\n",
       "    }\n",
       "\n",
       "    .dataframe thead th {\n",
       "        text-align: right;\n",
       "    }\n",
       "</style>\n",
       "<table border=\"1\" class=\"dataframe\">\n",
       "  <thead>\n",
       "    <tr style=\"text-align: right;\">\n",
       "      <th></th>\n",
       "      <th>name</th>\n",
       "      <th>mae</th>\n",
       "      <th>rmse</th>\n",
       "    </tr>\n",
       "  </thead>\n",
       "  <tbody>\n",
       "    <tr>\n",
       "      <th>0</th>\n",
       "      <td>linreg</td>\n",
       "      <td>8.750544</td>\n",
       "      <td>11.080877</td>\n",
       "    </tr>\n",
       "    <tr>\n",
       "      <th>0</th>\n",
       "      <td>dt4</td>\n",
       "      <td>7.537058</td>\n",
       "      <td>9.529410</td>\n",
       "    </tr>\n",
       "    <tr>\n",
       "      <th>0</th>\n",
       "      <td>dt14</td>\n",
       "      <td>6.907857</td>\n",
       "      <td>8.974076</td>\n",
       "    </tr>\n",
       "  </tbody>\n",
       "</table>\n",
       "</div>"
      ],
      "text/plain": [
       "     name       mae       rmse\n",
       "0  linreg  8.750544  11.080877\n",
       "0     dt4  7.537058   9.529410\n",
       "0    dt14  6.907857   8.974076"
      ]
     },
     "execution_count": 18,
     "metadata": {},
     "output_type": "execute_result"
    }
   ],
   "source": [
    "a,b,c=tanit_testel(dt14,train_df,test_df)\n",
    "res2 = pd.DataFrame({'name':['dt14'],'mae':[a],'rmse':[b]})\n",
    "res=pd.concat([res,res2])\n",
    "res"
   ]
  },
  {
   "cell_type": "code",
   "execution_count": 19,
   "id": "5c7b4485",
   "metadata": {},
   "outputs": [],
   "source": [
    "from sklearn.ensemble import RandomForestRegressor\n",
    "from sklearn.ensemble import GradientBoostingRegressor"
   ]
  },
  {
   "cell_type": "code",
   "execution_count": 20,
   "id": "dbed2778",
   "metadata": {},
   "outputs": [],
   "source": [
    "rf = RandomForestRegressor(random_state=42,\n",
    "                          n_estimators=100,\n",
    "                          max_depth=4,\n",
    "                          max_leaf_nodes=100)"
   ]
  },
  {
   "cell_type": "code",
   "execution_count": 21,
   "id": "281e815d",
   "metadata": {},
   "outputs": [
    {
     "data": {
      "text/html": [
       "<div>\n",
       "<style scoped>\n",
       "    .dataframe tbody tr th:only-of-type {\n",
       "        vertical-align: middle;\n",
       "    }\n",
       "\n",
       "    .dataframe tbody tr th {\n",
       "        vertical-align: top;\n",
       "    }\n",
       "\n",
       "    .dataframe thead th {\n",
       "        text-align: right;\n",
       "    }\n",
       "</style>\n",
       "<table border=\"1\" class=\"dataframe\">\n",
       "  <thead>\n",
       "    <tr style=\"text-align: right;\">\n",
       "      <th></th>\n",
       "      <th>name</th>\n",
       "      <th>mae</th>\n",
       "      <th>rmse</th>\n",
       "    </tr>\n",
       "  </thead>\n",
       "  <tbody>\n",
       "    <tr>\n",
       "      <th>0</th>\n",
       "      <td>linreg</td>\n",
       "      <td>8.750544</td>\n",
       "      <td>11.080877</td>\n",
       "    </tr>\n",
       "    <tr>\n",
       "      <th>0</th>\n",
       "      <td>dt4</td>\n",
       "      <td>7.537058</td>\n",
       "      <td>9.529410</td>\n",
       "    </tr>\n",
       "    <tr>\n",
       "      <th>0</th>\n",
       "      <td>dt14</td>\n",
       "      <td>6.907857</td>\n",
       "      <td>8.974076</td>\n",
       "    </tr>\n",
       "    <tr>\n",
       "      <th>0</th>\n",
       "      <td>rf4</td>\n",
       "      <td>7.430403</td>\n",
       "      <td>9.407242</td>\n",
       "    </tr>\n",
       "  </tbody>\n",
       "</table>\n",
       "</div>"
      ],
      "text/plain": [
       "     name       mae       rmse\n",
       "0  linreg  8.750544  11.080877\n",
       "0     dt4  7.537058   9.529410\n",
       "0    dt14  6.907857   8.974076\n",
       "0     rf4  7.430403   9.407242"
      ]
     },
     "execution_count": 21,
     "metadata": {},
     "output_type": "execute_result"
    }
   ],
   "source": [
    "a,b,c=tanit_testel(rf,train_df,test_df)\n",
    "res2 = pd.DataFrame({'name':['rf4'],'mae':[a],'rmse':[b]})\n",
    "res=pd.concat([res,res2])\n",
    "res"
   ]
  },
  {
   "cell_type": "code",
   "execution_count": 22,
   "id": "98bea82a",
   "metadata": {},
   "outputs": [],
   "source": [
    "rf2 = RandomForestRegressor(random_state=42,\n",
    "                          n_estimators=100,\n",
    "                          max_depth=14,\n",
    "                          max_leaf_nodes=20)"
   ]
  },
  {
   "cell_type": "code",
   "execution_count": 23,
   "id": "caaf7c10",
   "metadata": {},
   "outputs": [
    {
     "data": {
      "text/html": [
       "<div>\n",
       "<style scoped>\n",
       "    .dataframe tbody tr th:only-of-type {\n",
       "        vertical-align: middle;\n",
       "    }\n",
       "\n",
       "    .dataframe tbody tr th {\n",
       "        vertical-align: top;\n",
       "    }\n",
       "\n",
       "    .dataframe thead th {\n",
       "        text-align: right;\n",
       "    }\n",
       "</style>\n",
       "<table border=\"1\" class=\"dataframe\">\n",
       "  <thead>\n",
       "    <tr style=\"text-align: right;\">\n",
       "      <th></th>\n",
       "      <th>name</th>\n",
       "      <th>mae</th>\n",
       "      <th>rmse</th>\n",
       "    </tr>\n",
       "  </thead>\n",
       "  <tbody>\n",
       "    <tr>\n",
       "      <th>0</th>\n",
       "      <td>linreg</td>\n",
       "      <td>8.750544</td>\n",
       "      <td>11.080877</td>\n",
       "    </tr>\n",
       "    <tr>\n",
       "      <th>0</th>\n",
       "      <td>dt4</td>\n",
       "      <td>7.537058</td>\n",
       "      <td>9.529410</td>\n",
       "    </tr>\n",
       "    <tr>\n",
       "      <th>0</th>\n",
       "      <td>dt14</td>\n",
       "      <td>6.907857</td>\n",
       "      <td>8.974076</td>\n",
       "    </tr>\n",
       "    <tr>\n",
       "      <th>0</th>\n",
       "      <td>rf4</td>\n",
       "      <td>7.430403</td>\n",
       "      <td>9.407242</td>\n",
       "    </tr>\n",
       "    <tr>\n",
       "      <th>0</th>\n",
       "      <td>rf14</td>\n",
       "      <td>6.818901</td>\n",
       "      <td>8.845328</td>\n",
       "    </tr>\n",
       "  </tbody>\n",
       "</table>\n",
       "</div>"
      ],
      "text/plain": [
       "     name       mae       rmse\n",
       "0  linreg  8.750544  11.080877\n",
       "0     dt4  7.537058   9.529410\n",
       "0    dt14  6.907857   8.974076\n",
       "0     rf4  7.430403   9.407242\n",
       "0    rf14  6.818901   8.845328"
      ]
     },
     "execution_count": 23,
     "metadata": {},
     "output_type": "execute_result"
    }
   ],
   "source": [
    "a,b,c=tanit_testel(rf2,train_df,test_df)\n",
    "res2 = pd.DataFrame({'name':['rf14'],'mae':[a],'rmse':[b]})\n",
    "res=pd.concat([res,res2])\n",
    "res"
   ]
  },
  {
   "cell_type": "code",
   "execution_count": 24,
   "id": "ea90922b",
   "metadata": {},
   "outputs": [],
   "source": [
    "rf2 = RandomForestRegressor(random_state=42,\n",
    "                          n_estimators=500,\n",
    "                          max_depth=10,\n",
    "                          max_leaf_nodes=20)"
   ]
  },
  {
   "cell_type": "code",
   "execution_count": 25,
   "id": "3cfa3443",
   "metadata": {},
   "outputs": [
    {
     "data": {
      "text/html": [
       "<div>\n",
       "<style scoped>\n",
       "    .dataframe tbody tr th:only-of-type {\n",
       "        vertical-align: middle;\n",
       "    }\n",
       "\n",
       "    .dataframe tbody tr th {\n",
       "        vertical-align: top;\n",
       "    }\n",
       "\n",
       "    .dataframe thead th {\n",
       "        text-align: right;\n",
       "    }\n",
       "</style>\n",
       "<table border=\"1\" class=\"dataframe\">\n",
       "  <thead>\n",
       "    <tr style=\"text-align: right;\">\n",
       "      <th></th>\n",
       "      <th>name</th>\n",
       "      <th>mae</th>\n",
       "      <th>rmse</th>\n",
       "    </tr>\n",
       "  </thead>\n",
       "  <tbody>\n",
       "    <tr>\n",
       "      <th>0</th>\n",
       "      <td>linreg</td>\n",
       "      <td>8.750544</td>\n",
       "      <td>11.080877</td>\n",
       "    </tr>\n",
       "    <tr>\n",
       "      <th>0</th>\n",
       "      <td>dt4</td>\n",
       "      <td>7.537058</td>\n",
       "      <td>9.529410</td>\n",
       "    </tr>\n",
       "    <tr>\n",
       "      <th>0</th>\n",
       "      <td>dt14</td>\n",
       "      <td>6.907857</td>\n",
       "      <td>8.974076</td>\n",
       "    </tr>\n",
       "    <tr>\n",
       "      <th>0</th>\n",
       "      <td>rf4</td>\n",
       "      <td>7.430403</td>\n",
       "      <td>9.407242</td>\n",
       "    </tr>\n",
       "    <tr>\n",
       "      <th>0</th>\n",
       "      <td>rf14</td>\n",
       "      <td>6.818901</td>\n",
       "      <td>8.845328</td>\n",
       "    </tr>\n",
       "    <tr>\n",
       "      <th>0</th>\n",
       "      <td>rf10-500</td>\n",
       "      <td>6.816734</td>\n",
       "      <td>8.845839</td>\n",
       "    </tr>\n",
       "  </tbody>\n",
       "</table>\n",
       "</div>"
      ],
      "text/plain": [
       "       name       mae       rmse\n",
       "0    linreg  8.750544  11.080877\n",
       "0       dt4  7.537058   9.529410\n",
       "0      dt14  6.907857   8.974076\n",
       "0       rf4  7.430403   9.407242\n",
       "0      rf14  6.818901   8.845328\n",
       "0  rf10-500  6.816734   8.845839"
      ]
     },
     "execution_count": 25,
     "metadata": {},
     "output_type": "execute_result"
    }
   ],
   "source": [
    "a,b,c=tanit_testel(rf2,train_df,test_df)\n",
    "res2 = pd.DataFrame({'name':['rf10-500'],'mae':[a],'rmse':[b]})\n",
    "res=pd.concat([res,res2])\n",
    "res"
   ]
  },
  {
   "cell_type": "code",
   "execution_count": 26,
   "id": "a595820a",
   "metadata": {},
   "outputs": [],
   "source": [
    "rf = RandomForestRegressor(random_state=42,\n",
    "                          n_estimators=1,\n",
    "                          max_depth=4,\n",
    "                          max_leaf_nodes=10,\n",
    "                          warm_start=True)\n",
    "x_t=[]\n",
    "y_t=[]\n",
    "y_t2=[]\n",
    "for i in range(40):\n",
    "    rf.n_estimators=rf.n_estimators+3\n",
    "    #print(\"Fak szama:\",rf.n_estimators)\n",
    "    x_t.append(rf.n_estimators)\n",
    "    a,b,c=tanit_testel(rf,train_df,test_df)\n",
    "    y_t.append(a)\n",
    "    y_t2.append(b)\n",
    "    "
   ]
  },
  {
   "cell_type": "code",
   "execution_count": 27,
   "id": "8d5bf723",
   "metadata": {},
   "outputs": [
    {
     "data": {
      "text/plain": [
       "<matplotlib.legend.Legend at 0x7faef8f3ed00>"
      ]
     },
     "execution_count": 27,
     "metadata": {},
     "output_type": "execute_result"
    },
    {
     "data": {
      "image/png": "[encoded data removed]",
      "text/plain": [
       "<Figure size 640x480 with 1 Axes>"
      ]
     },
     "metadata": {},
     "output_type": "display_data"
    }
   ],
   "source": [
    "plt.plot(x_t,y_t,marker='.',label='mae')\n",
    "plt.plot(x_t,y_t2,marker='.',label='rmse')\n",
    "plt.legend()\n"
   ]
  },
  {
   "cell_type": "code",
   "execution_count": 28,
   "id": "bd973b2d",
   "metadata": {},
   "outputs": [],
   "source": [
    "gbm=GradientBoostingRegressor(random_state=42,\n",
    "                             n_estimators=100,\n",
    "                             max_depth=4,\n",
    "                             max_leaf_nodes=10,\n",
    "                             learning_rate=1.0)"
   ]
  },
  {
   "cell_type": "code",
   "execution_count": 29,
   "id": "9057a7bf",
   "metadata": {},
   "outputs": [
    {
     "data": {
      "text/html": [
       "<div>\n",
       "<style scoped>\n",
       "    .dataframe tbody tr th:only-of-type {\n",
       "        vertical-align: middle;\n",
       "    }\n",
       "\n",
       "    .dataframe tbody tr th {\n",
       "        vertical-align: top;\n",
       "    }\n",
       "\n",
       "    .dataframe thead th {\n",
       "        text-align: right;\n",
       "    }\n",
       "</style>\n",
       "<table border=\"1\" class=\"dataframe\">\n",
       "  <thead>\n",
       "    <tr style=\"text-align: right;\">\n",
       "      <th></th>\n",
       "      <th>name</th>\n",
       "      <th>mae</th>\n",
       "      <th>rmse</th>\n",
       "    </tr>\n",
       "  </thead>\n",
       "  <tbody>\n",
       "    <tr>\n",
       "      <th>0</th>\n",
       "      <td>linreg</td>\n",
       "      <td>8.750544</td>\n",
       "      <td>11.080877</td>\n",
       "    </tr>\n",
       "    <tr>\n",
       "      <th>0</th>\n",
       "      <td>dt4</td>\n",
       "      <td>7.537058</td>\n",
       "      <td>9.529410</td>\n",
       "    </tr>\n",
       "    <tr>\n",
       "      <th>0</th>\n",
       "      <td>dt14</td>\n",
       "      <td>6.907857</td>\n",
       "      <td>8.974076</td>\n",
       "    </tr>\n",
       "    <tr>\n",
       "      <th>0</th>\n",
       "      <td>rf4</td>\n",
       "      <td>7.430403</td>\n",
       "      <td>9.407242</td>\n",
       "    </tr>\n",
       "    <tr>\n",
       "      <th>0</th>\n",
       "      <td>rf14</td>\n",
       "      <td>6.818901</td>\n",
       "      <td>8.845328</td>\n",
       "    </tr>\n",
       "    <tr>\n",
       "      <th>0</th>\n",
       "      <td>rf10-500</td>\n",
       "      <td>6.816734</td>\n",
       "      <td>8.845839</td>\n",
       "    </tr>\n",
       "    <tr>\n",
       "      <th>0</th>\n",
       "      <td>boG-BoostingM</td>\n",
       "      <td>6.436319</td>\n",
       "      <td>8.494862</td>\n",
       "    </tr>\n",
       "  </tbody>\n",
       "</table>\n",
       "</div>"
      ],
      "text/plain": [
       "            name       mae       rmse\n",
       "0         linreg  8.750544  11.080877\n",
       "0            dt4  7.537058   9.529410\n",
       "0           dt14  6.907857   8.974076\n",
       "0            rf4  7.430403   9.407242\n",
       "0           rf14  6.818901   8.845328\n",
       "0       rf10-500  6.816734   8.845839\n",
       "0  boG-BoostingM  6.436319   8.494862"
      ]
     },
     "execution_count": 29,
     "metadata": {},
     "output_type": "execute_result"
    }
   ],
   "source": [
    "a,b,c=tanit_testel(gbm,train_df,test_df)\n",
    "res2 = pd.DataFrame({'name':['boG-BoostingM'],'mae':[a],'rmse':[b]})\n",
    "res=pd.concat([res,res2])\n",
    "res"
   ]
  },
  {
   "cell_type": "code",
   "execution_count": 30,
   "id": "8c8148e7",
   "metadata": {},
   "outputs": [],
   "source": [
    "gbm=GradientBoostingRegressor(random_state=42,\n",
    "                             n_estimators=500,\n",
    "                             max_depth=8,\n",
    "                             max_leaf_nodes=10,\n",
    "                             learning_rate=1.0)"
   ]
  },
  {
   "cell_type": "code",
   "execution_count": 31,
   "id": "79c4cb6c",
   "metadata": {},
   "outputs": [
    {
     "data": {
      "text/html": [
       "<div>\n",
       "<style scoped>\n",
       "    .dataframe tbody tr th:only-of-type {\n",
       "        vertical-align: middle;\n",
       "    }\n",
       "\n",
       "    .dataframe tbody tr th {\n",
       "        vertical-align: top;\n",
       "    }\n",
       "\n",
       "    .dataframe thead th {\n",
       "        text-align: right;\n",
       "    }\n",
       "</style>\n",
       "<table border=\"1\" class=\"dataframe\">\n",
       "  <thead>\n",
       "    <tr style=\"text-align: right;\">\n",
       "      <th></th>\n",
       "      <th>name</th>\n",
       "      <th>mae</th>\n",
       "      <th>rmse</th>\n",
       "    </tr>\n",
       "  </thead>\n",
       "  <tbody>\n",
       "    <tr>\n",
       "      <th>0</th>\n",
       "      <td>linreg</td>\n",
       "      <td>8.750544</td>\n",
       "      <td>11.080877</td>\n",
       "    </tr>\n",
       "    <tr>\n",
       "      <th>0</th>\n",
       "      <td>dt4</td>\n",
       "      <td>7.537058</td>\n",
       "      <td>9.529410</td>\n",
       "    </tr>\n",
       "    <tr>\n",
       "      <th>0</th>\n",
       "      <td>dt14</td>\n",
       "      <td>6.907857</td>\n",
       "      <td>8.974076</td>\n",
       "    </tr>\n",
       "    <tr>\n",
       "      <th>0</th>\n",
       "      <td>rf4</td>\n",
       "      <td>7.430403</td>\n",
       "      <td>9.407242</td>\n",
       "    </tr>\n",
       "    <tr>\n",
       "      <th>0</th>\n",
       "      <td>rf14</td>\n",
       "      <td>6.818901</td>\n",
       "      <td>8.845328</td>\n",
       "    </tr>\n",
       "    <tr>\n",
       "      <th>0</th>\n",
       "      <td>rf10-500</td>\n",
       "      <td>6.816734</td>\n",
       "      <td>8.845839</td>\n",
       "    </tr>\n",
       "    <tr>\n",
       "      <th>0</th>\n",
       "      <td>boG-BoostingM</td>\n",
       "      <td>6.436319</td>\n",
       "      <td>8.494862</td>\n",
       "    </tr>\n",
       "    <tr>\n",
       "      <th>0</th>\n",
       "      <td>boG-BoostingM8_500</td>\n",
       "      <td>7.306529</td>\n",
       "      <td>9.855139</td>\n",
       "    </tr>\n",
       "  </tbody>\n",
       "</table>\n",
       "</div>"
      ],
      "text/plain": [
       "                 name       mae       rmse\n",
       "0              linreg  8.750544  11.080877\n",
       "0                 dt4  7.537058   9.529410\n",
       "0                dt14  6.907857   8.974076\n",
       "0                 rf4  7.430403   9.407242\n",
       "0                rf14  6.818901   8.845328\n",
       "0            rf10-500  6.816734   8.845839\n",
       "0       boG-BoostingM  6.436319   8.494862\n",
       "0  boG-BoostingM8_500  7.306529   9.855139"
      ]
     },
     "execution_count": 31,
     "metadata": {},
     "output_type": "execute_result"
    }
   ],
   "source": [
    "a,b,c=tanit_testel(gbm,train_df,test_df)\n",
    "res2 = pd.DataFrame({'name':['boG-BoostingM8_500'],'mae':[a],'rmse':[b]})\n",
    "res=pd.concat([res,res2])\n",
    "res"
   ]
  },
  {
   "cell_type": "code",
   "execution_count": 32,
   "id": "6bc9a75e",
   "metadata": {},
   "outputs": [],
   "source": [
    "gbm=GradientBoostingRegressor(random_state=42,\n",
    "                             n_estimators=500,\n",
    "                             max_depth=8,\n",
    "                             max_leaf_nodes=10,\n",
    "                             learning_rate=0.1)"
   ]
  },
  {
   "cell_type": "code",
   "execution_count": 33,
   "id": "5a337e6e",
   "metadata": {},
   "outputs": [
    {
     "data": {
      "text/html": [
       "<div>\n",
       "<style scoped>\n",
       "    .dataframe tbody tr th:only-of-type {\n",
       "        vertical-align: middle;\n",
       "    }\n",
       "\n",
       "    .dataframe tbody tr th {\n",
       "        vertical-align: top;\n",
       "    }\n",
       "\n",
       "    .dataframe thead th {\n",
       "        text-align: right;\n",
       "    }\n",
       "</style>\n",
       "<table border=\"1\" class=\"dataframe\">\n",
       "  <thead>\n",
       "    <tr style=\"text-align: right;\">\n",
       "      <th></th>\n",
       "      <th>name</th>\n",
       "      <th>mae</th>\n",
       "      <th>rmse</th>\n",
       "    </tr>\n",
       "  </thead>\n",
       "  <tbody>\n",
       "    <tr>\n",
       "      <th>0</th>\n",
       "      <td>linreg</td>\n",
       "      <td>8.750544</td>\n",
       "      <td>11.080877</td>\n",
       "    </tr>\n",
       "    <tr>\n",
       "      <th>0</th>\n",
       "      <td>dt4</td>\n",
       "      <td>7.537058</td>\n",
       "      <td>9.529410</td>\n",
       "    </tr>\n",
       "    <tr>\n",
       "      <th>0</th>\n",
       "      <td>dt14</td>\n",
       "      <td>6.907857</td>\n",
       "      <td>8.974076</td>\n",
       "    </tr>\n",
       "    <tr>\n",
       "      <th>0</th>\n",
       "      <td>rf4</td>\n",
       "      <td>7.430403</td>\n",
       "      <td>9.407242</td>\n",
       "    </tr>\n",
       "    <tr>\n",
       "      <th>0</th>\n",
       "      <td>rf14</td>\n",
       "      <td>6.818901</td>\n",
       "      <td>8.845328</td>\n",
       "    </tr>\n",
       "    <tr>\n",
       "      <th>0</th>\n",
       "      <td>rf10-500</td>\n",
       "      <td>6.816734</td>\n",
       "      <td>8.845839</td>\n",
       "    </tr>\n",
       "    <tr>\n",
       "      <th>0</th>\n",
       "      <td>boG-BoostingM</td>\n",
       "      <td>6.436319</td>\n",
       "      <td>8.494862</td>\n",
       "    </tr>\n",
       "    <tr>\n",
       "      <th>0</th>\n",
       "      <td>boG-BoostingM8_500</td>\n",
       "      <td>7.306529</td>\n",
       "      <td>9.855139</td>\n",
       "    </tr>\n",
       "    <tr>\n",
       "      <th>0</th>\n",
       "      <td>boG-BoostingM8_500_lr01</td>\n",
       "      <td>6.132313</td>\n",
       "      <td>8.053133</td>\n",
       "    </tr>\n",
       "  </tbody>\n",
       "</table>\n",
       "</div>"
      ],
      "text/plain": [
       "                      name       mae       rmse\n",
       "0                   linreg  8.750544  11.080877\n",
       "0                      dt4  7.537058   9.529410\n",
       "0                     dt14  6.907857   8.974076\n",
       "0                      rf4  7.430403   9.407242\n",
       "0                     rf14  6.818901   8.845328\n",
       "0                 rf10-500  6.816734   8.845839\n",
       "0            boG-BoostingM  6.436319   8.494862\n",
       "0       boG-BoostingM8_500  7.306529   9.855139\n",
       "0  boG-BoostingM8_500_lr01  6.132313   8.053133"
      ]
     },
     "execution_count": 33,
     "metadata": {},
     "output_type": "execute_result"
    }
   ],
   "source": [
    "a,b,c=tanit_testel(gbm,train_df,test_df)\n",
    "res2 = pd.DataFrame({'name':['boG-BoostingM8_500_lr01'],'mae':[a],'rmse':[b]})\n",
    "res=pd.concat([res,res2])\n",
    "res"
   ]
  },
  {
   "cell_type": "code",
   "execution_count": 34,
   "id": "0c16da02",
   "metadata": {},
   "outputs": [],
   "source": [
    "from sklearn.neural_network import MLPRegressor"
   ]
  },
  {
   "cell_type": "code",
   "execution_count": 35,
   "id": "d724b358",
   "metadata": {},
   "outputs": [],
   "source": [
    "nn = MLPRegressor(random_state=42,\n",
    "                  hidden_layer_sizes=(2,)\n",
    "                 )"
   ]
  },
  {
   "cell_type": "code",
   "execution_count": 36,
   "id": "0e99365f",
   "metadata": {},
   "outputs": [
    {
     "data": {
      "text/html": [
       "<div>\n",
       "<style scoped>\n",
       "    .dataframe tbody tr th:only-of-type {\n",
       "        vertical-align: middle;\n",
       "    }\n",
       "\n",
       "    .dataframe tbody tr th {\n",
       "        vertical-align: top;\n",
       "    }\n",
       "\n",
       "    .dataframe thead th {\n",
       "        text-align: right;\n",
       "    }\n",
       "</style>\n",
       "<table border=\"1\" class=\"dataframe\">\n",
       "  <thead>\n",
       "    <tr style=\"text-align: right;\">\n",
       "      <th></th>\n",
       "      <th>name</th>\n",
       "      <th>mae</th>\n",
       "      <th>rmse</th>\n",
       "    </tr>\n",
       "  </thead>\n",
       "  <tbody>\n",
       "    <tr>\n",
       "      <th>0</th>\n",
       "      <td>linreg</td>\n",
       "      <td>8.750544</td>\n",
       "      <td>11.080877</td>\n",
       "    </tr>\n",
       "    <tr>\n",
       "      <th>0</th>\n",
       "      <td>dt4</td>\n",
       "      <td>7.537058</td>\n",
       "      <td>9.529410</td>\n",
       "    </tr>\n",
       "    <tr>\n",
       "      <th>0</th>\n",
       "      <td>dt14</td>\n",
       "      <td>6.907857</td>\n",
       "      <td>8.974076</td>\n",
       "    </tr>\n",
       "    <tr>\n",
       "      <th>0</th>\n",
       "      <td>rf4</td>\n",
       "      <td>7.430403</td>\n",
       "      <td>9.407242</td>\n",
       "    </tr>\n",
       "    <tr>\n",
       "      <th>0</th>\n",
       "      <td>rf14</td>\n",
       "      <td>6.818901</td>\n",
       "      <td>8.845328</td>\n",
       "    </tr>\n",
       "    <tr>\n",
       "      <th>0</th>\n",
       "      <td>rf10-500</td>\n",
       "      <td>6.816734</td>\n",
       "      <td>8.845839</td>\n",
       "    </tr>\n",
       "    <tr>\n",
       "      <th>0</th>\n",
       "      <td>boG-BoostingM</td>\n",
       "      <td>6.436319</td>\n",
       "      <td>8.494862</td>\n",
       "    </tr>\n",
       "    <tr>\n",
       "      <th>0</th>\n",
       "      <td>boG-BoostingM8_500</td>\n",
       "      <td>7.306529</td>\n",
       "      <td>9.855139</td>\n",
       "    </tr>\n",
       "    <tr>\n",
       "      <th>0</th>\n",
       "      <td>boG-BoostingM8_500_lr01</td>\n",
       "      <td>6.132313</td>\n",
       "      <td>8.053133</td>\n",
       "    </tr>\n",
       "    <tr>\n",
       "      <th>0</th>\n",
       "      <td>nn-(2)</td>\n",
       "      <td>15.344936</td>\n",
       "      <td>19.976935</td>\n",
       "    </tr>\n",
       "  </tbody>\n",
       "</table>\n",
       "</div>"
      ],
      "text/plain": [
       "                      name        mae       rmse\n",
       "0                   linreg   8.750544  11.080877\n",
       "0                      dt4   7.537058   9.529410\n",
       "0                     dt14   6.907857   8.974076\n",
       "0                      rf4   7.430403   9.407242\n",
       "0                     rf14   6.818901   8.845328\n",
       "0                 rf10-500   6.816734   8.845839\n",
       "0            boG-BoostingM   6.436319   8.494862\n",
       "0       boG-BoostingM8_500   7.306529   9.855139\n",
       "0  boG-BoostingM8_500_lr01   6.132313   8.053133\n",
       "0                   nn-(2)  15.344936  19.976935"
      ]
     },
     "execution_count": 36,
     "metadata": {},
     "output_type": "execute_result"
    }
   ],
   "source": [
    "a,b,c=tanit_testel(nn,train_df,test_df)\n",
    "res2 = pd.DataFrame({'name':['nn-(2)'],'mae':[a],'rmse':[b]})\n",
    "res=pd.concat([res,res2])\n",
    "res"
   ]
  },
  {
   "cell_type": "code",
   "execution_count": 37,
   "id": "5abac101",
   "metadata": {},
   "outputs": [],
   "source": [
    "nn = MLPRegressor(random_state=42,\n",
    "                  hidden_layer_sizes=(5,3),\n",
    "                  learning_rate='adaptive',\n",
    "                                        activation='tanh',\n",
    "                                        solver='lbfgs',\n",
    "                  max_iter=2000,\n",
    "                 )"
   ]
  },
  {
   "cell_type": "code",
   "execution_count": 38,
   "id": "36946232",
   "metadata": {},
   "outputs": [
    {
     "data": {
      "text/html": [
       "<div>\n",
       "<style scoped>\n",
       "    .dataframe tbody tr th:only-of-type {\n",
       "        vertical-align: middle;\n",
       "    }\n",
       "\n",
       "    .dataframe tbody tr th {\n",
       "        vertical-align: top;\n",
       "    }\n",
       "\n",
       "    .dataframe thead th {\n",
       "        text-align: right;\n",
       "    }\n",
       "</style>\n",
       "<table border=\"1\" class=\"dataframe\">\n",
       "  <thead>\n",
       "    <tr style=\"text-align: right;\">\n",
       "      <th></th>\n",
       "      <th>name</th>\n",
       "      <th>mae</th>\n",
       "      <th>rmse</th>\n",
       "    </tr>\n",
       "  </thead>\n",
       "  <tbody>\n",
       "    <tr>\n",
       "      <th>0</th>\n",
       "      <td>linreg</td>\n",
       "      <td>8.750544</td>\n",
       "      <td>11.080877</td>\n",
       "    </tr>\n",
       "    <tr>\n",
       "      <th>0</th>\n",
       "      <td>dt4</td>\n",
       "      <td>7.537058</td>\n",
       "      <td>9.529410</td>\n",
       "    </tr>\n",
       "    <tr>\n",
       "      <th>0</th>\n",
       "      <td>dt14</td>\n",
       "      <td>6.907857</td>\n",
       "      <td>8.974076</td>\n",
       "    </tr>\n",
       "    <tr>\n",
       "      <th>0</th>\n",
       "      <td>rf4</td>\n",
       "      <td>7.430403</td>\n",
       "      <td>9.407242</td>\n",
       "    </tr>\n",
       "    <tr>\n",
       "      <th>0</th>\n",
       "      <td>rf14</td>\n",
       "      <td>6.818901</td>\n",
       "      <td>8.845328</td>\n",
       "    </tr>\n",
       "    <tr>\n",
       "      <th>0</th>\n",
       "      <td>rf10-500</td>\n",
       "      <td>6.816734</td>\n",
       "      <td>8.845839</td>\n",
       "    </tr>\n",
       "    <tr>\n",
       "      <th>0</th>\n",
       "      <td>boG-BoostingM</td>\n",
       "      <td>6.436319</td>\n",
       "      <td>8.494862</td>\n",
       "    </tr>\n",
       "    <tr>\n",
       "      <th>0</th>\n",
       "      <td>boG-BoostingM8_500</td>\n",
       "      <td>7.306529</td>\n",
       "      <td>9.855139</td>\n",
       "    </tr>\n",
       "    <tr>\n",
       "      <th>0</th>\n",
       "      <td>boG-BoostingM8_500_lr01</td>\n",
       "      <td>6.132313</td>\n",
       "      <td>8.053133</td>\n",
       "    </tr>\n",
       "    <tr>\n",
       "      <th>0</th>\n",
       "      <td>nn-(2)</td>\n",
       "      <td>15.344936</td>\n",
       "      <td>19.976935</td>\n",
       "    </tr>\n",
       "    <tr>\n",
       "      <th>0</th>\n",
       "      <td>nn-(extra)</td>\n",
       "      <td>10.774503</td>\n",
       "      <td>13.121206</td>\n",
       "    </tr>\n",
       "  </tbody>\n",
       "</table>\n",
       "</div>"
      ],
      "text/plain": [
       "                      name        mae       rmse\n",
       "0                   linreg   8.750544  11.080877\n",
       "0                      dt4   7.537058   9.529410\n",
       "0                     dt14   6.907857   8.974076\n",
       "0                      rf4   7.430403   9.407242\n",
       "0                     rf14   6.818901   8.845328\n",
       "0                 rf10-500   6.816734   8.845839\n",
       "0            boG-BoostingM   6.436319   8.494862\n",
       "0       boG-BoostingM8_500   7.306529   9.855139\n",
       "0  boG-BoostingM8_500_lr01   6.132313   8.053133\n",
       "0                   nn-(2)  15.344936  19.976935\n",
       "0               nn-(extra)  10.774503  13.121206"
      ]
     },
     "execution_count": 38,
     "metadata": {},
     "output_type": "execute_result"
    }
   ],
   "source": [
    "a,b,c=tanit_testel(nn,train_df,test_df)\n",
    "res2 = pd.DataFrame({'name':['nn-(extra)'],'mae':[a],'rmse':[b]})\n",
    "res=pd.concat([res,res2])\n",
    "res"
   ]
  },
  {
   "cell_type": "code",
   "execution_count": 39,
   "id": "d037a331",
   "metadata": {},
   "outputs": [
    {
     "name": "stdout",
     "output_type": "stream",
     "text": [
      "2 -> 12.029476724914108 15.266406831151084\n",
      "3 -> 10.787338917952951 14.329625788491517\n",
      "4 -> 8.813435542031037 11.171213658960962\n",
      "5 -> 9.705195412388884 12.52712355906489\n",
      "6 -> 35.20098933584557 37.89057921674004\n",
      "7 -> 9.938401719955522 12.726827633016887\n",
      "8 -> 9.390636819206938 12.044809733044278\n",
      "9 -> 11.19388778298907 15.104158530445588\n",
      "10 -> 8.901778402168466 11.66641098328666\n"
     ]
    }
   ],
   "source": [
    "for i in range(2,11):\n",
    "    nn = MLPRegressor(random_state=42,\n",
    "                      hidden_layer_sizes=(i,3),\n",
    "                      max_iter=1000,\n",
    "                     )\n",
    "    a,b,c=tanit_testel(nn,train_df,test_df)\n",
    "    print(i,\"->\",a,b)"
   ]
  },
  {
   "cell_type": "code",
   "execution_count": null,
   "id": "60dc6816",
   "metadata": {},
   "outputs": [],
   "source": []
  },
  {
   "cell_type": "code",
   "execution_count": null,
   "id": "744617f3",
   "metadata": {},
   "outputs": [],
   "source": []
  }
 ],
 "metadata": {
  "kernelspec": {
   "display_name": "Python 3 (ipykernel)",
   "language": "python",
   "name": "python3"
  },
  "language_info": {
   "codemirror_mode": {
    "name": "ipython",
    "version": 3
   },
   "file_extension": ".py",
   "mimetype": "text/x-python",
   "name": "python",
   "nbconvert_exporter": "python",
   "pygments_lexer": "ipython3",
   "version": "3.9.0"
  }
 },
 "nbformat": 4,
 "nbformat_minor": 5
}
