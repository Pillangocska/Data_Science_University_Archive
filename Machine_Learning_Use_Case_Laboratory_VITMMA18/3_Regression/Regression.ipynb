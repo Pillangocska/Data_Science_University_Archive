{
 "cells": [
  {
   "cell_type": "code",
   "execution_count": 1,
   "metadata": {},
   "outputs": [],
   "source": [
    "import pandas as pd\n",
    "import matplotlib.pyplot as plt\n",
    "from sklearn.linear_model import LinearRegression\n",
    "from sklearn.metrics import mean_absolute_percentage_error, mean_absolute_error, mean_squared_error"
   ]
  },
  {
   "cell_type": "markdown",
   "metadata": {},
   "source": [
    "# KEZZEL KESZITETT PELDA"
   ]
  },
  {
   "cell_type": "code",
   "execution_count": 2,
   "metadata": {},
   "outputs": [],
   "source": [
    "df = pd.DataFrame()\n",
    "df['x'] = [10, 20, 30, 40, 50]"
   ]
  },
  {
   "cell_type": "code",
   "execution_count": 3,
   "metadata": {},
   "outputs": [],
   "source": [
    "df['y'] = 10 + (5 * df['x'])\n",
    "# y_pred = b0 + (b1 * x1)"
   ]
  },
  {
   "cell_type": "code",
   "execution_count": 4,
   "metadata": {},
   "outputs": [
    {
     "data": {
      "text/html": [
       "<div>\n",
       "<style scoped>\n",
       "    .dataframe tbody tr th:only-of-type {\n",
       "        vertical-align: middle;\n",
       "    }\n",
       "\n",
       "    .dataframe tbody tr th {\n",
       "        vertical-align: top;\n",
       "    }\n",
       "\n",
       "    .dataframe thead th {\n",
       "        text-align: right;\n",
       "    }\n",
       "</style>\n",
       "<table border=\"1\" class=\"dataframe\">\n",
       "  <thead>\n",
       "    <tr style=\"text-align: right;\">\n",
       "      <th></th>\n",
       "      <th>x</th>\n",
       "      <th>y</th>\n",
       "    </tr>\n",
       "  </thead>\n",
       "  <tbody>\n",
       "    <tr>\n",
       "      <th>0</th>\n",
       "      <td>10</td>\n",
       "      <td>60</td>\n",
       "    </tr>\n",
       "    <tr>\n",
       "      <th>1</th>\n",
       "      <td>20</td>\n",
       "      <td>110</td>\n",
       "    </tr>\n",
       "    <tr>\n",
       "      <th>2</th>\n",
       "      <td>30</td>\n",
       "      <td>160</td>\n",
       "    </tr>\n",
       "    <tr>\n",
       "      <th>3</th>\n",
       "      <td>40</td>\n",
       "      <td>210</td>\n",
       "    </tr>\n",
       "    <tr>\n",
       "      <th>4</th>\n",
       "      <td>50</td>\n",
       "      <td>260</td>\n",
       "    </tr>\n",
       "  </tbody>\n",
       "</table>\n",
       "</div>"
      ],
      "text/plain": [
       "    x    y\n",
       "0  10   60\n",
       "1  20  110\n",
       "2  30  160\n",
       "3  40  210\n",
       "4  50  260"
      ]
     },
     "execution_count": 4,
     "metadata": {},
     "output_type": "execute_result"
    }
   ],
   "source": [
    "df"
   ]
  },
  {
   "cell_type": "code",
   "execution_count": 5,
   "metadata": {},
   "outputs": [
    {
     "data": {
      "text/plain": [
       "<matplotlib.collections.PathCollection at 0x7f90cd17ffd0>"
      ]
     },
     "execution_count": 5,
     "metadata": {},
     "output_type": "execute_result"
    },
    {
     "data": {
      "image/png": "[encoded data removed]",
      "text/plain": [
       "<Figure size 432x288 with 1 Axes>"
      ]
     },
     "metadata": {
      "needs_background": "light"
     },
     "output_type": "display_data"
    }
   ],
   "source": [
    "plt.scatter(df['x'], df['y'])"
   ]
  },
  {
   "cell_type": "code",
   "execution_count": 6,
   "metadata": {},
   "outputs": [],
   "source": [
    "model = LinearRegression()"
   ]
  },
  {
   "cell_type": "code",
   "execution_count": 7,
   "metadata": {},
   "outputs": [],
   "source": [
    "X = df.loc[:, ['x']]\n",
    "y = df.loc[:, 'y']"
   ]
  },
  {
   "cell_type": "code",
   "execution_count": 8,
   "metadata": {},
   "outputs": [
    {
     "data": {
      "text/html": [
       "<div>\n",
       "<style scoped>\n",
       "    .dataframe tbody tr th:only-of-type {\n",
       "        vertical-align: middle;\n",
       "    }\n",
       "\n",
       "    .dataframe tbody tr th {\n",
       "        vertical-align: top;\n",
       "    }\n",
       "\n",
       "    .dataframe thead th {\n",
       "        text-align: right;\n",
       "    }\n",
       "</style>\n",
       "<table border=\"1\" class=\"dataframe\">\n",
       "  <thead>\n",
       "    <tr style=\"text-align: right;\">\n",
       "      <th></th>\n",
       "      <th>x</th>\n",
       "    </tr>\n",
       "  </thead>\n",
       "  <tbody>\n",
       "    <tr>\n",
       "      <th>0</th>\n",
       "      <td>10</td>\n",
       "    </tr>\n",
       "    <tr>\n",
       "      <th>1</th>\n",
       "      <td>20</td>\n",
       "    </tr>\n",
       "    <tr>\n",
       "      <th>2</th>\n",
       "      <td>30</td>\n",
       "    </tr>\n",
       "    <tr>\n",
       "      <th>3</th>\n",
       "      <td>40</td>\n",
       "    </tr>\n",
       "    <tr>\n",
       "      <th>4</th>\n",
       "      <td>50</td>\n",
       "    </tr>\n",
       "  </tbody>\n",
       "</table>\n",
       "</div>"
      ],
      "text/plain": [
       "    x\n",
       "0  10\n",
       "1  20\n",
       "2  30\n",
       "3  40\n",
       "4  50"
      ]
     },
     "execution_count": 8,
     "metadata": {},
     "output_type": "execute_result"
    }
   ],
   "source": [
    "X"
   ]
  },
  {
   "cell_type": "code",
   "execution_count": 9,
   "metadata": {},
   "outputs": [
    {
     "data": {
      "text/plain": [
       "0     60\n",
       "1    110\n",
       "2    160\n",
       "3    210\n",
       "4    260\n",
       "Name: y, dtype: int64"
      ]
     },
     "execution_count": 9,
     "metadata": {},
     "output_type": "execute_result"
    }
   ],
   "source": [
    "y"
   ]
  },
  {
   "cell_type": "code",
   "execution_count": 10,
   "metadata": {},
   "outputs": [
    {
     "data": {
      "text/plain": [
       "10"
      ]
     },
     "execution_count": 10,
     "metadata": {},
     "output_type": "execute_result"
    }
   ],
   "source": [
    "X.loc[0, 'x']"
   ]
  },
  {
   "cell_type": "code",
   "execution_count": 11,
   "metadata": {},
   "outputs": [
    {
     "data": {
      "text/plain": [
       "60"
      ]
     },
     "execution_count": 11,
     "metadata": {},
     "output_type": "execute_result"
    }
   ],
   "source": [
    "y.loc[0]"
   ]
  },
  {
   "cell_type": "code",
   "execution_count": 12,
   "metadata": {},
   "outputs": [
    {
     "data": {
      "text/plain": [
       "LinearRegression()"
      ]
     },
     "execution_count": 12,
     "metadata": {},
     "output_type": "execute_result"
    }
   ],
   "source": [
    "model.fit(X, y)"
   ]
  },
  {
   "cell_type": "code",
   "execution_count": 13,
   "metadata": {},
   "outputs": [
    {
     "data": {
      "text/plain": [
       "array([15.])"
      ]
     },
     "execution_count": 13,
     "metadata": {},
     "output_type": "execute_result"
    }
   ],
   "source": [
    "model.predict([[1]])"
   ]
  },
  {
   "cell_type": "code",
   "execution_count": 14,
   "metadata": {},
   "outputs": [
    {
     "data": {
      "text/plain": [
       "array([ 60., 110., 160., 210., 260.])"
      ]
     },
     "execution_count": 14,
     "metadata": {},
     "output_type": "execute_result"
    }
   ],
   "source": [
    "model.predict(X)"
   ]
  },
  {
   "cell_type": "code",
   "execution_count": 15,
   "metadata": {},
   "outputs": [],
   "source": [
    "pred = model.predict(X)"
   ]
  },
  {
   "cell_type": "code",
   "execution_count": 16,
   "metadata": {},
   "outputs": [
    {
     "data": {
      "text/plain": [
       "array([ 60., 110., 160., 210., 260.])"
      ]
     },
     "execution_count": 16,
     "metadata": {},
     "output_type": "execute_result"
    }
   ],
   "source": [
    "pred"
   ]
  },
  {
   "cell_type": "code",
   "execution_count": 17,
   "metadata": {},
   "outputs": [],
   "source": [
    "df['pred'] = pred"
   ]
  },
  {
   "cell_type": "code",
   "execution_count": 18,
   "metadata": {},
   "outputs": [
    {
     "data": {
      "text/html": [
       "<div>\n",
       "<style scoped>\n",
       "    .dataframe tbody tr th:only-of-type {\n",
       "        vertical-align: middle;\n",
       "    }\n",
       "\n",
       "    .dataframe tbody tr th {\n",
       "        vertical-align: top;\n",
       "    }\n",
       "\n",
       "    .dataframe thead th {\n",
       "        text-align: right;\n",
       "    }\n",
       "</style>\n",
       "<table border=\"1\" class=\"dataframe\">\n",
       "  <thead>\n",
       "    <tr style=\"text-align: right;\">\n",
       "      <th></th>\n",
       "      <th>x</th>\n",
       "      <th>y</th>\n",
       "      <th>pred</th>\n",
       "    </tr>\n",
       "  </thead>\n",
       "  <tbody>\n",
       "    <tr>\n",
       "      <th>0</th>\n",
       "      <td>10</td>\n",
       "      <td>60</td>\n",
       "      <td>60.0</td>\n",
       "    </tr>\n",
       "    <tr>\n",
       "      <th>1</th>\n",
       "      <td>20</td>\n",
       "      <td>110</td>\n",
       "      <td>110.0</td>\n",
       "    </tr>\n",
       "    <tr>\n",
       "      <th>2</th>\n",
       "      <td>30</td>\n",
       "      <td>160</td>\n",
       "      <td>160.0</td>\n",
       "    </tr>\n",
       "    <tr>\n",
       "      <th>3</th>\n",
       "      <td>40</td>\n",
       "      <td>210</td>\n",
       "      <td>210.0</td>\n",
       "    </tr>\n",
       "    <tr>\n",
       "      <th>4</th>\n",
       "      <td>50</td>\n",
       "      <td>260</td>\n",
       "      <td>260.0</td>\n",
       "    </tr>\n",
       "  </tbody>\n",
       "</table>\n",
       "</div>"
      ],
      "text/plain": [
       "    x    y   pred\n",
       "0  10   60   60.0\n",
       "1  20  110  110.0\n",
       "2  30  160  160.0\n",
       "3  40  210  210.0\n",
       "4  50  260  260.0"
      ]
     },
     "execution_count": 18,
     "metadata": {},
     "output_type": "execute_result"
    }
   ],
   "source": [
    "df"
   ]
  },
  {
   "cell_type": "code",
   "execution_count": 19,
   "metadata": {},
   "outputs": [],
   "source": [
    "# y_pred = b0 * (b1 * x1)\n",
    "# y_pred = 10 * (5 * x1)"
   ]
  },
  {
   "cell_type": "code",
   "execution_count": 20,
   "metadata": {},
   "outputs": [
    {
     "data": {
      "text/plain": [
       "10.000000000000028"
      ]
     },
     "execution_count": 20,
     "metadata": {},
     "output_type": "execute_result"
    }
   ],
   "source": [
    "model.intercept_"
   ]
  },
  {
   "cell_type": "code",
   "execution_count": 21,
   "metadata": {},
   "outputs": [
    {
     "data": {
      "text/plain": [
       "array([5.])"
      ]
     },
     "execution_count": 21,
     "metadata": {},
     "output_type": "execute_result"
    }
   ],
   "source": [
    "model.coef_"
   ]
  },
  {
   "cell_type": "code",
   "execution_count": 22,
   "metadata": {},
   "outputs": [
    {
     "data": {
      "text/plain": [
       "[<matplotlib.lines.Line2D at 0x7f90cb051310>]"
      ]
     },
     "execution_count": 22,
     "metadata": {},
     "output_type": "execute_result"
    },
    {
     "data": {
      "image/png": "[encoded data removed]",
      "text/plain": [
       "<Figure size 432x288 with 1 Axes>"
      ]
     },
     "metadata": {
      "needs_background": "light"
     },
     "output_type": "display_data"
    }
   ],
   "source": [
    "plt.scatter(df['x'], df['y'])\n",
    "plt.plot(df['x'], pred, color='red', ls='--')"
   ]
  },
  {
   "cell_type": "code",
   "execution_count": 23,
   "metadata": {},
   "outputs": [
    {
     "data": {
      "text/plain": [
       "7.105427357601002e-15"
      ]
     },
     "execution_count": 23,
     "metadata": {},
     "output_type": "execute_result"
    }
   ],
   "source": [
    "mean_absolute_error(df['y'], df['pred'])"
   ]
  },
  {
   "cell_type": "code",
   "execution_count": 24,
   "metadata": {},
   "outputs": [
    {
     "data": {
      "text/plain": [
       "1.3126645462877637e-28"
      ]
     },
     "execution_count": 24,
     "metadata": {},
     "output_type": "execute_result"
    }
   ],
   "source": [
    "mean_squared_error(df['y'], df['pred'])"
   ]
  },
  {
   "cell_type": "code",
   "execution_count": 25,
   "metadata": {},
   "outputs": [
    {
     "data": {
      "text/plain": [
       "9.689219124001366e-17"
      ]
     },
     "execution_count": 25,
     "metadata": {},
     "output_type": "execute_result"
    }
   ],
   "source": [
    "mean_absolute_percentage_error(df['y'], df['pred'])"
   ]
  },
  {
   "cell_type": "markdown",
   "metadata": {},
   "source": [
    "# lakas pelda"
   ]
  },
  {
   "cell_type": "code",
   "execution_count": 26,
   "metadata": {},
   "outputs": [],
   "source": [
    "df = pd.read_csv('./_data/ingatlan.csv')"
   ]
  },
  {
   "cell_type": "code",
   "execution_count": 27,
   "metadata": {},
   "outputs": [],
   "source": [
    "pd.set_option('display.max_columns', None)"
   ]
  },
  {
   "cell_type": "code",
   "execution_count": 28,
   "metadata": {},
   "outputs": [
    {
     "data": {
      "text/html": [
       "<div>\n",
       "<style scoped>\n",
       "    .dataframe tbody tr th:only-of-type {\n",
       "        vertical-align: middle;\n",
       "    }\n",
       "\n",
       "    .dataframe tbody tr th {\n",
       "        vertical-align: top;\n",
       "    }\n",
       "\n",
       "    .dataframe thead th {\n",
       "        text-align: right;\n",
       "    }\n",
       "</style>\n",
       "<table border=\"1\" class=\"dataframe\">\n",
       "  <thead>\n",
       "    <tr style=\"text-align: right;\">\n",
       "      <th></th>\n",
       "      <th>county</th>\n",
       "      <th>city</th>\n",
       "      <th>postcode</th>\n",
       "      <th>property_type</th>\n",
       "      <th>property_subtype</th>\n",
       "      <th>property_condition_type</th>\n",
       "      <th>property_floor</th>\n",
       "      <th>building_floor_count</th>\n",
       "      <th>view_type</th>\n",
       "      <th>orientation</th>\n",
       "      <th>garden_access</th>\n",
       "      <th>heating_type</th>\n",
       "      <th>elevator_type</th>\n",
       "      <th>room_cnt</th>\n",
       "      <th>small_room_cnt</th>\n",
       "      <th>created_at</th>\n",
       "      <th>property_area</th>\n",
       "      <th>balcony_area</th>\n",
       "      <th>price_created_at</th>\n",
       "      <th>ad_view_cnt</th>\n",
       "      <th>active_days</th>\n",
       "      <th>nr</th>\n",
       "      <th>district</th>\n",
       "    </tr>\n",
       "  </thead>\n",
       "  <tbody>\n",
       "    <tr>\n",
       "      <th>0</th>\n",
       "      <td>Budapest</td>\n",
       "      <td>Budapest IV.</td>\n",
       "      <td>NaN</td>\n",
       "      <td>flat</td>\n",
       "      <td>prefabricated panel flat (for sale)</td>\n",
       "      <td>good</td>\n",
       "      <td>3</td>\n",
       "      <td>10</td>\n",
       "      <td>garden view</td>\n",
       "      <td>east</td>\n",
       "      <td>NaN</td>\n",
       "      <td>NaN</td>\n",
       "      <td>yes</td>\n",
       "      <td>1.0</td>\n",
       "      <td>1.0</td>\n",
       "      <td>2015-02-09</td>\n",
       "      <td>35.0</td>\n",
       "      <td>0.0</td>\n",
       "      <td>9.5</td>\n",
       "      <td>702.0</td>\n",
       "      <td>23.0</td>\n",
       "      <td>7</td>\n",
       "      <td>4.0</td>\n",
       "    </tr>\n",
       "    <tr>\n",
       "      <th>1</th>\n",
       "      <td>Budapest</td>\n",
       "      <td>Budapest XIV.</td>\n",
       "      <td>1147.0</td>\n",
       "      <td>flat</td>\n",
       "      <td>brick flat (for sale)</td>\n",
       "      <td>novel</td>\n",
       "      <td>ground floor</td>\n",
       "      <td>NaN</td>\n",
       "      <td>NaN</td>\n",
       "      <td>NaN</td>\n",
       "      <td>NaN</td>\n",
       "      <td>gas furnace, circulating hot water</td>\n",
       "      <td>NaN</td>\n",
       "      <td>1.0</td>\n",
       "      <td>0.0</td>\n",
       "      <td>2015-02-09</td>\n",
       "      <td>35.0</td>\n",
       "      <td>0.0</td>\n",
       "      <td>11.2</td>\n",
       "      <td>42.0</td>\n",
       "      <td>6.0</td>\n",
       "      <td>8</td>\n",
       "      <td>14.0</td>\n",
       "    </tr>\n",
       "    <tr>\n",
       "      <th>2</th>\n",
       "      <td>Budapest</td>\n",
       "      <td>Budapest XIV.</td>\n",
       "      <td>NaN</td>\n",
       "      <td>flat</td>\n",
       "      <td>brick flat (for sale)</td>\n",
       "      <td>medium</td>\n",
       "      <td>4</td>\n",
       "      <td>NaN</td>\n",
       "      <td>NaN</td>\n",
       "      <td>NaN</td>\n",
       "      <td>NaN</td>\n",
       "      <td>konvection gas burner</td>\n",
       "      <td>NaN</td>\n",
       "      <td>2.0</td>\n",
       "      <td>0.0</td>\n",
       "      <td>2015-02-09</td>\n",
       "      <td>50.0</td>\n",
       "      <td>0.0</td>\n",
       "      <td>14.5</td>\n",
       "      <td>504.0</td>\n",
       "      <td>96.0</td>\n",
       "      <td>9</td>\n",
       "      <td>14.0</td>\n",
       "    </tr>\n",
       "    <tr>\n",
       "      <th>3</th>\n",
       "      <td>Budapest</td>\n",
       "      <td>Budapest II.</td>\n",
       "      <td>1024.0</td>\n",
       "      <td>flat</td>\n",
       "      <td>brick flat (for sale)</td>\n",
       "      <td>novel</td>\n",
       "      <td>basement</td>\n",
       "      <td>NaN</td>\n",
       "      <td>street view</td>\n",
       "      <td>NaN</td>\n",
       "      <td>NaN</td>\n",
       "      <td>konvection gas burner</td>\n",
       "      <td>yes</td>\n",
       "      <td>1.0</td>\n",
       "      <td>1.0</td>\n",
       "      <td>2015-02-09</td>\n",
       "      <td>50.0</td>\n",
       "      <td>0.0</td>\n",
       "      <td>15.3</td>\n",
       "      <td>39.0</td>\n",
       "      <td>1.0</td>\n",
       "      <td>11</td>\n",
       "      <td>2.0</td>\n",
       "    </tr>\n",
       "    <tr>\n",
       "      <th>4</th>\n",
       "      <td>Budapest</td>\n",
       "      <td>Budapest XII.</td>\n",
       "      <td>1126.0</td>\n",
       "      <td>flat</td>\n",
       "      <td>brick flat (for sale)</td>\n",
       "      <td>good</td>\n",
       "      <td>ground floor</td>\n",
       "      <td>NaN</td>\n",
       "      <td>garden view</td>\n",
       "      <td>NaN</td>\n",
       "      <td>NaN</td>\n",
       "      <td>gas furnace, circulating hot water</td>\n",
       "      <td>none</td>\n",
       "      <td>1.0</td>\n",
       "      <td>2.0</td>\n",
       "      <td>2015-02-09</td>\n",
       "      <td>50.0</td>\n",
       "      <td>0.0</td>\n",
       "      <td>17.9</td>\n",
       "      <td>114.0</td>\n",
       "      <td>27.0</td>\n",
       "      <td>13</td>\n",
       "      <td>12.0</td>\n",
       "    </tr>\n",
       "  </tbody>\n",
       "</table>\n",
       "</div>"
      ],
      "text/plain": [
       "     county           city  postcode property_type  \\\n",
       "0  Budapest   Budapest IV.       NaN          flat   \n",
       "1  Budapest  Budapest XIV.    1147.0          flat   \n",
       "2  Budapest  Budapest XIV.       NaN          flat   \n",
       "3  Budapest   Budapest II.    1024.0          flat   \n",
       "4  Budapest  Budapest XII.    1126.0          flat   \n",
       "\n",
       "                      property_subtype property_condition_type property_floor  \\\n",
       "0  prefabricated panel flat (for sale)                    good              3   \n",
       "1                brick flat (for sale)                   novel   ground floor   \n",
       "2                brick flat (for sale)                  medium              4   \n",
       "3                brick flat (for sale)                   novel       basement   \n",
       "4                brick flat (for sale)                    good   ground floor   \n",
       "\n",
       "  building_floor_count    view_type orientation garden_access  \\\n",
       "0                   10  garden view        east           NaN   \n",
       "1                  NaN          NaN         NaN           NaN   \n",
       "2                  NaN          NaN         NaN           NaN   \n",
       "3                  NaN  street view         NaN           NaN   \n",
       "4                  NaN  garden view         NaN           NaN   \n",
       "\n",
       "                         heating_type elevator_type  room_cnt  small_room_cnt  \\\n",
       "0                                 NaN           yes       1.0             1.0   \n",
       "1  gas furnace, circulating hot water           NaN       1.0             0.0   \n",
       "2               konvection gas burner           NaN       2.0             0.0   \n",
       "3               konvection gas burner           yes       1.0             1.0   \n",
       "4  gas furnace, circulating hot water          none       1.0             2.0   \n",
       "\n",
       "   created_at  property_area  balcony_area  price_created_at  ad_view_cnt  \\\n",
       "0  2015-02-09           35.0           0.0               9.5        702.0   \n",
       "1  2015-02-09           35.0           0.0              11.2         42.0   \n",
       "2  2015-02-09           50.0           0.0              14.5        504.0   \n",
       "3  2015-02-09           50.0           0.0              15.3         39.0   \n",
       "4  2015-02-09           50.0           0.0              17.9        114.0   \n",
       "\n",
       "   active_days  nr  district  \n",
       "0         23.0   7       4.0  \n",
       "1          6.0   8      14.0  \n",
       "2         96.0   9      14.0  \n",
       "3          1.0  11       2.0  \n",
       "4         27.0  13      12.0  "
      ]
     },
     "execution_count": 28,
     "metadata": {},
     "output_type": "execute_result"
    }
   ],
   "source": [
    "df.head()"
   ]
  },
  {
   "cell_type": "code",
   "execution_count": 29,
   "metadata": {},
   "outputs": [
    {
     "data": {
      "text/plain": [
       "(183565, 23)"
      ]
     },
     "execution_count": 29,
     "metadata": {},
     "output_type": "execute_result"
    }
   ],
   "source": [
    "df.shape"
   ]
  },
  {
   "cell_type": "code",
   "execution_count": 30,
   "metadata": {},
   "outputs": [
    {
     "name": "stdout",
     "output_type": "stream",
     "text": [
      "<class 'pandas.core.frame.DataFrame'>\n",
      "RangeIndex: 183565 entries, 0 to 183564\n",
      "Data columns (total 23 columns):\n",
      " #   Column                   Non-Null Count   Dtype  \n",
      "---  ------                   --------------   -----  \n",
      " 0   county                   183565 non-null  object \n",
      " 1   city                     182261 non-null  object \n",
      " 2   postcode                 115475 non-null  float64\n",
      " 3   property_type            183565 non-null  object \n",
      " 4   property_subtype         179925 non-null  object \n",
      " 5   property_condition_type  183565 non-null  object \n",
      " 6   property_floor           174499 non-null  object \n",
      " 7   building_floor_count     85776 non-null   object \n",
      " 8   view_type                100462 non-null  object \n",
      " 9   orientation              111423 non-null  object \n",
      " 10  garden_access            40679 non-null   object \n",
      " 11  heating_type             156879 non-null  object \n",
      " 12  elevator_type            150063 non-null  object \n",
      " 13  room_cnt                 183565 non-null  float64\n",
      " 14  small_room_cnt           182981 non-null  float64\n",
      " 15  created_at               183565 non-null  object \n",
      " 16  property_area            183565 non-null  float64\n",
      " 17  balcony_area             175966 non-null  float64\n",
      " 18  price_created_at         183565 non-null  float64\n",
      " 19  ad_view_cnt              183564 non-null  float64\n",
      " 20  active_days              183565 non-null  float64\n",
      " 21  nr                       183565 non-null  int64  \n",
      " 22  district                 176009 non-null  float64\n",
      "dtypes: float64(9), int64(1), object(13)\n",
      "memory usage: 32.2+ MB\n"
     ]
    }
   ],
   "source": [
    "df.info()"
   ]
  },
  {
   "cell_type": "code",
   "execution_count": 31,
   "metadata": {},
   "outputs": [
    {
     "data": {
      "text/html": [
       "<div>\n",
       "<style scoped>\n",
       "    .dataframe tbody tr th:only-of-type {\n",
       "        vertical-align: middle;\n",
       "    }\n",
       "\n",
       "    .dataframe tbody tr th {\n",
       "        vertical-align: top;\n",
       "    }\n",
       "\n",
       "    .dataframe thead th {\n",
       "        text-align: right;\n",
       "    }\n",
       "</style>\n",
       "<table border=\"1\" class=\"dataframe\">\n",
       "  <thead>\n",
       "    <tr style=\"text-align: right;\">\n",
       "      <th></th>\n",
       "      <th>postcode</th>\n",
       "      <th>room_cnt</th>\n",
       "      <th>small_room_cnt</th>\n",
       "      <th>property_area</th>\n",
       "      <th>balcony_area</th>\n",
       "      <th>price_created_at</th>\n",
       "      <th>ad_view_cnt</th>\n",
       "      <th>active_days</th>\n",
       "      <th>nr</th>\n",
       "      <th>district</th>\n",
       "    </tr>\n",
       "  </thead>\n",
       "  <tbody>\n",
       "    <tr>\n",
       "      <th>count</th>\n",
       "      <td>115475.000000</td>\n",
       "      <td>183565.000000</td>\n",
       "      <td>182981.000000</td>\n",
       "      <td>183565.000000</td>\n",
       "      <td>175966.000000</td>\n",
       "      <td>183565.000000</td>\n",
       "      <td>183564.000000</td>\n",
       "      <td>183565.000000</td>\n",
       "      <td>183565.000000</td>\n",
       "      <td>176009.000000</td>\n",
       "    </tr>\n",
       "    <tr>\n",
       "      <th>mean</th>\n",
       "      <td>1103.395895</td>\n",
       "      <td>1.476393</td>\n",
       "      <td>0.547177</td>\n",
       "      <td>48.443984</td>\n",
       "      <td>7.748792</td>\n",
       "      <td>20.564001</td>\n",
       "      <td>262.264082</td>\n",
       "      <td>44.071593</td>\n",
       "      <td>196659.747942</td>\n",
       "      <td>9.730434</td>\n",
       "    </tr>\n",
       "    <tr>\n",
       "      <th>std</th>\n",
       "      <td>50.789818</td>\n",
       "      <td>0.972892</td>\n",
       "      <td>0.748810</td>\n",
       "      <td>12.776044</td>\n",
       "      <td>2360.665258</td>\n",
       "      <td>171.496565</td>\n",
       "      <td>556.838684</td>\n",
       "      <td>47.969011</td>\n",
       "      <td>113179.241269</td>\n",
       "      <td>4.782807</td>\n",
       "    </tr>\n",
       "    <tr>\n",
       "      <th>min</th>\n",
       "      <td>1011.000000</td>\n",
       "      <td>0.000000</td>\n",
       "      <td>-1.000000</td>\n",
       "      <td>0.000000</td>\n",
       "      <td>0.000000</td>\n",
       "      <td>0.000000</td>\n",
       "      <td>0.000000</td>\n",
       "      <td>1.000000</td>\n",
       "      <td>7.000000</td>\n",
       "      <td>1.000000</td>\n",
       "    </tr>\n",
       "    <tr>\n",
       "      <th>25%</th>\n",
       "      <td>1063.000000</td>\n",
       "      <td>1.000000</td>\n",
       "      <td>0.000000</td>\n",
       "      <td>40.000000</td>\n",
       "      <td>0.000000</td>\n",
       "      <td>13.200000</td>\n",
       "      <td>41.000000</td>\n",
       "      <td>11.000000</td>\n",
       "      <td>98117.000000</td>\n",
       "      <td>6.000000</td>\n",
       "    </tr>\n",
       "    <tr>\n",
       "      <th>50%</th>\n",
       "      <td>1101.000000</td>\n",
       "      <td>1.000000</td>\n",
       "      <td>0.000000</td>\n",
       "      <td>50.000000</td>\n",
       "      <td>0.000000</td>\n",
       "      <td>16.900000</td>\n",
       "      <td>102.000000</td>\n",
       "      <td>28.000000</td>\n",
       "      <td>196774.000000</td>\n",
       "      <td>10.000000</td>\n",
       "    </tr>\n",
       "    <tr>\n",
       "      <th>75%</th>\n",
       "      <td>1141.000000</td>\n",
       "      <td>2.000000</td>\n",
       "      <td>1.000000</td>\n",
       "      <td>60.000000</td>\n",
       "      <td>3.000000</td>\n",
       "      <td>23.900000</td>\n",
       "      <td>265.000000</td>\n",
       "      <td>60.000000</td>\n",
       "      <td>294824.000000</td>\n",
       "      <td>13.000000</td>\n",
       "    </tr>\n",
       "    <tr>\n",
       "      <th>max</th>\n",
       "      <td>1239.000000</td>\n",
       "      <td>215.000000</td>\n",
       "      <td>56.000000</td>\n",
       "      <td>70.000000</td>\n",
       "      <td>990257.000000</td>\n",
       "      <td>41796.000000</td>\n",
       "      <td>40248.000000</td>\n",
       "      <td>544.000000</td>\n",
       "      <td>394178.000000</td>\n",
       "      <td>20.000000</td>\n",
       "    </tr>\n",
       "  </tbody>\n",
       "</table>\n",
       "</div>"
      ],
      "text/plain": [
       "            postcode       room_cnt  small_room_cnt  property_area  \\\n",
       "count  115475.000000  183565.000000   182981.000000  183565.000000   \n",
       "mean     1103.395895       1.476393        0.547177      48.443984   \n",
       "std        50.789818       0.972892        0.748810      12.776044   \n",
       "min      1011.000000       0.000000       -1.000000       0.000000   \n",
       "25%      1063.000000       1.000000        0.000000      40.000000   \n",
       "50%      1101.000000       1.000000        0.000000      50.000000   \n",
       "75%      1141.000000       2.000000        1.000000      60.000000   \n",
       "max      1239.000000     215.000000       56.000000      70.000000   \n",
       "\n",
       "        balcony_area  price_created_at    ad_view_cnt    active_days  \\\n",
       "count  175966.000000     183565.000000  183564.000000  183565.000000   \n",
       "mean        7.748792         20.564001     262.264082      44.071593   \n",
       "std      2360.665258        171.496565     556.838684      47.969011   \n",
       "min         0.000000          0.000000       0.000000       1.000000   \n",
       "25%         0.000000         13.200000      41.000000      11.000000   \n",
       "50%         0.000000         16.900000     102.000000      28.000000   \n",
       "75%         3.000000         23.900000     265.000000      60.000000   \n",
       "max    990257.000000      41796.000000   40248.000000     544.000000   \n",
       "\n",
       "                  nr       district  \n",
       "count  183565.000000  176009.000000  \n",
       "mean   196659.747942       9.730434  \n",
       "std    113179.241269       4.782807  \n",
       "min         7.000000       1.000000  \n",
       "25%     98117.000000       6.000000  \n",
       "50%    196774.000000      10.000000  \n",
       "75%    294824.000000      13.000000  \n",
       "max    394178.000000      20.000000  "
      ]
     },
     "execution_count": 31,
     "metadata": {},
     "output_type": "execute_result"
    }
   ],
   "source": [
    "df.describe()"
   ]
  },
  {
   "cell_type": "code",
   "execution_count": 32,
   "metadata": {},
   "outputs": [
    {
     "data": {
      "text/html": [
       "<div>\n",
       "<style scoped>\n",
       "    .dataframe tbody tr th:only-of-type {\n",
       "        vertical-align: middle;\n",
       "    }\n",
       "\n",
       "    .dataframe tbody tr th {\n",
       "        vertical-align: top;\n",
       "    }\n",
       "\n",
       "    .dataframe thead th {\n",
       "        text-align: right;\n",
       "    }\n",
       "</style>\n",
       "<table border=\"1\" class=\"dataframe\">\n",
       "  <thead>\n",
       "    <tr style=\"text-align: right;\">\n",
       "      <th></th>\n",
       "      <th>county</th>\n",
       "      <th>city</th>\n",
       "      <th>property_type</th>\n",
       "      <th>property_subtype</th>\n",
       "      <th>property_condition_type</th>\n",
       "      <th>property_floor</th>\n",
       "      <th>building_floor_count</th>\n",
       "      <th>view_type</th>\n",
       "      <th>orientation</th>\n",
       "      <th>garden_access</th>\n",
       "      <th>heating_type</th>\n",
       "      <th>elevator_type</th>\n",
       "      <th>created_at</th>\n",
       "    </tr>\n",
       "  </thead>\n",
       "  <tbody>\n",
       "    <tr>\n",
       "      <th>count</th>\n",
       "      <td>183565</td>\n",
       "      <td>182261</td>\n",
       "      <td>183565</td>\n",
       "      <td>179925</td>\n",
       "      <td>183565</td>\n",
       "      <td>174499</td>\n",
       "      <td>85776</td>\n",
       "      <td>100462</td>\n",
       "      <td>111423</td>\n",
       "      <td>40679</td>\n",
       "      <td>156879</td>\n",
       "      <td>150063</td>\n",
       "      <td>183565</td>\n",
       "    </tr>\n",
       "    <tr>\n",
       "      <th>unique</th>\n",
       "      <td>1</td>\n",
       "      <td>23</td>\n",
       "      <td>1</td>\n",
       "      <td>4</td>\n",
       "      <td>9</td>\n",
       "      <td>14</td>\n",
       "      <td>11</td>\n",
       "      <td>4</td>\n",
       "      <td>8</td>\n",
       "      <td>2</td>\n",
       "      <td>11</td>\n",
       "      <td>2</td>\n",
       "      <td>568</td>\n",
       "    </tr>\n",
       "    <tr>\n",
       "      <th>top</th>\n",
       "      <td>Budapest</td>\n",
       "      <td>Budapest XIV.</td>\n",
       "      <td>flat</td>\n",
       "      <td>brick flat (for sale)</td>\n",
       "      <td>good</td>\n",
       "      <td>1</td>\n",
       "      <td>4</td>\n",
       "      <td>street view</td>\n",
       "      <td>east</td>\n",
       "      <td>none</td>\n",
       "      <td>konvection gas burner</td>\n",
       "      <td>yes</td>\n",
       "      <td>2015-10-20</td>\n",
       "    </tr>\n",
       "    <tr>\n",
       "      <th>freq</th>\n",
       "      <td>183565</td>\n",
       "      <td>20114</td>\n",
       "      <td>183565</td>\n",
       "      <td>133794</td>\n",
       "      <td>61823</td>\n",
       "      <td>34073</td>\n",
       "      <td>19855</td>\n",
       "      <td>40344</td>\n",
       "      <td>22735</td>\n",
       "      <td>34175</td>\n",
       "      <td>49623</td>\n",
       "      <td>81746</td>\n",
       "      <td>908</td>\n",
       "    </tr>\n",
       "  </tbody>\n",
       "</table>\n",
       "</div>"
      ],
      "text/plain": [
       "          county           city property_type       property_subtype  \\\n",
       "count     183565         182261        183565                 179925   \n",
       "unique         1             23             1                      4   \n",
       "top     Budapest  Budapest XIV.          flat  brick flat (for sale)   \n",
       "freq      183565          20114        183565                 133794   \n",
       "\n",
       "       property_condition_type property_floor building_floor_count  \\\n",
       "count                   183565         174499                85776   \n",
       "unique                       9             14                   11   \n",
       "top                       good              1                    4   \n",
       "freq                     61823          34073                19855   \n",
       "\n",
       "          view_type orientation garden_access           heating_type  \\\n",
       "count        100462      111423         40679                 156879   \n",
       "unique            4           8             2                     11   \n",
       "top     street view        east          none  konvection gas burner   \n",
       "freq          40344       22735         34175                  49623   \n",
       "\n",
       "       elevator_type  created_at  \n",
       "count         150063      183565  \n",
       "unique             2         568  \n",
       "top              yes  2015-10-20  \n",
       "freq           81746         908  "
      ]
     },
     "execution_count": 32,
     "metadata": {},
     "output_type": "execute_result"
    }
   ],
   "source": [
    "df.describe(include='O')"
   ]
  },
  {
   "cell_type": "markdown",
   "metadata": {},
   "source": [
    "# CELVALTOZO"
   ]
  },
  {
   "cell_type": "code",
   "execution_count": 33,
   "metadata": {},
   "outputs": [],
   "source": [
    "df['m2_price'] = (df['price_created_at'] / df['property_area'])*1e6"
   ]
  },
  {
   "cell_type": "code",
   "execution_count": 34,
   "metadata": {},
   "outputs": [
    {
     "data": {
      "text/plain": [
       "count    1.835650e+05\n",
       "mean              inf\n",
       "std               NaN\n",
       "min      0.000000e+00\n",
       "25%      2.880000e+05\n",
       "50%      3.760000e+05\n",
       "75%      4.923077e+05\n",
       "max               inf\n",
       "Name: m2_price, dtype: float64"
      ]
     },
     "execution_count": 34,
     "metadata": {},
     "output_type": "execute_result"
    }
   ],
   "source": [
    "df['m2_price'].describe()"
   ]
  },
  {
   "cell_type": "code",
   "execution_count": 35,
   "metadata": {},
   "outputs": [],
   "source": [
    "df = df.loc[df['property_area']>0, :]\n",
    "df = df.loc[df['price_created_at']>0, :]\n",
    "df = df.reset_index(drop=True)"
   ]
  },
  {
   "cell_type": "code",
   "execution_count": 36,
   "metadata": {},
   "outputs": [
    {
     "data": {
      "text/plain": [
       "(183449, 24)"
      ]
     },
     "execution_count": 36,
     "metadata": {},
     "output_type": "execute_result"
    }
   ],
   "source": [
    "df.shape"
   ]
  },
  {
   "cell_type": "code",
   "execution_count": 37,
   "metadata": {},
   "outputs": [
    {
     "data": {
      "text/plain": [
       "count    1.834490e+05\n",
       "mean     4.346854e+05\n",
       "std      3.931615e+06\n",
       "min      1.428571e+03\n",
       "25%      2.876923e+05\n",
       "50%      3.755556e+05\n",
       "75%      4.916667e+05\n",
       "max      7.954114e+08\n",
       "Name: m2_price, dtype: float64"
      ]
     },
     "execution_count": 37,
     "metadata": {},
     "output_type": "execute_result"
    }
   ],
   "source": [
    "df['m2_price'].describe()"
   ]
  },
  {
   "cell_type": "code",
   "execution_count": 38,
   "metadata": {},
   "outputs": [
    {
     "data": {
      "text/plain": [
       "<AxesSubplot:>"
      ]
     },
     "execution_count": 38,
     "metadata": {},
     "output_type": "execute_result"
    },
    {
     "data": {
      "image/png": "[encoded data removed]",
      "text/plain": [
       "<Figure size 432x288 with 1 Axes>"
      ]
     },
     "metadata": {
      "needs_background": "light"
     },
     "output_type": "display_data"
    }
   ],
   "source": [
    "df['m2_price'].hist()"
   ]
  },
  {
   "cell_type": "code",
   "execution_count": null,
   "metadata": {},
   "outputs": [],
   "source": []
  },
  {
   "cell_type": "code",
   "execution_count": 39,
   "metadata": {},
   "outputs": [],
   "source": [
    "y_col = 'm2_price'\n",
    "X_cols = ['property_area', 'room_cnt', 'small_room_cnt']"
   ]
  },
  {
   "cell_type": "code",
   "execution_count": 40,
   "metadata": {},
   "outputs": [
    {
     "data": {
      "text/plain": [
       "property_area       0\n",
       "room_cnt            0\n",
       "small_room_cnt    583\n",
       "dtype: int64"
      ]
     },
     "execution_count": 40,
     "metadata": {},
     "output_type": "execute_result"
    }
   ],
   "source": [
    "df.loc[:, X_cols].isnull().sum()"
   ]
  },
  {
   "cell_type": "code",
   "execution_count": 41,
   "metadata": {},
   "outputs": [],
   "source": [
    "df['small_room_cnt'] = df['small_room_cnt'].fillna(0)"
   ]
  },
  {
   "cell_type": "code",
   "execution_count": 42,
   "metadata": {},
   "outputs": [],
   "source": [
    "X = df.loc[:, X_cols]\n",
    "y = df.loc[:, y_col]"
   ]
  },
  {
   "cell_type": "code",
   "execution_count": 43,
   "metadata": {},
   "outputs": [
    {
     "data": {
      "text/plain": [
       "property_area     0\n",
       "room_cnt          0\n",
       "small_room_cnt    0\n",
       "dtype: int64"
      ]
     },
     "execution_count": 43,
     "metadata": {},
     "output_type": "execute_result"
    }
   ],
   "source": [
    "X.isnull().sum()"
   ]
  },
  {
   "cell_type": "code",
   "execution_count": 44,
   "metadata": {},
   "outputs": [
    {
     "data": {
      "text/plain": [
       "0"
      ]
     },
     "execution_count": 44,
     "metadata": {},
     "output_type": "execute_result"
    }
   ],
   "source": [
    "y.isnull().sum()"
   ]
  },
  {
   "cell_type": "code",
   "execution_count": 45,
   "metadata": {},
   "outputs": [],
   "source": [
    "model = LinearRegression()"
   ]
  },
  {
   "cell_type": "code",
   "execution_count": 46,
   "metadata": {},
   "outputs": [],
   "source": [
    "X_train = X.loc[:100000, :]\n",
    "X_test = X.loc[100000:, :]\n",
    "\n",
    "y_train = y.loc[:100000]\n",
    "y_test = y.loc[100000:]"
   ]
  },
  {
   "cell_type": "code",
   "execution_count": 47,
   "metadata": {},
   "outputs": [
    {
     "data": {
      "text/plain": [
       "LinearRegression()"
      ]
     },
     "execution_count": 47,
     "metadata": {},
     "output_type": "execute_result"
    }
   ],
   "source": [
    "model.fit(X_train, y_train)"
   ]
  },
  {
   "cell_type": "code",
   "execution_count": 48,
   "metadata": {},
   "outputs": [],
   "source": [
    "pred = model.predict(X_test)"
   ]
  },
  {
   "cell_type": "code",
   "execution_count": 49,
   "metadata": {},
   "outputs": [],
   "source": [
    "pred_df = pd.DataFrame()\n",
    "pred_df['y_true'] = y_test\n",
    "pred_df['y_pred'] = pred"
   ]
  },
  {
   "cell_type": "code",
   "execution_count": 50,
   "metadata": {},
   "outputs": [],
   "source": [
    "pred_df['ape'] = abs(pred_df['y_true'] - pred_df['y_pred']) / pred_df['y_true']"
   ]
  },
  {
   "cell_type": "code",
   "execution_count": 51,
   "metadata": {},
   "outputs": [
    {
     "data": {
      "text/html": [
       "<div>\n",
       "<style scoped>\n",
       "    .dataframe tbody tr th:only-of-type {\n",
       "        vertical-align: middle;\n",
       "    }\n",
       "\n",
       "    .dataframe tbody tr th {\n",
       "        vertical-align: top;\n",
       "    }\n",
       "\n",
       "    .dataframe thead th {\n",
       "        text-align: right;\n",
       "    }\n",
       "</style>\n",
       "<table border=\"1\" class=\"dataframe\">\n",
       "  <thead>\n",
       "    <tr style=\"text-align: right;\">\n",
       "      <th></th>\n",
       "      <th>y_true</th>\n",
       "      <th>y_pred</th>\n",
       "      <th>ape</th>\n",
       "    </tr>\n",
       "  </thead>\n",
       "  <tbody>\n",
       "    <tr>\n",
       "      <th>130344</th>\n",
       "      <td>446153.846154</td>\n",
       "      <td>4.461705e+05</td>\n",
       "      <td>0.000037</td>\n",
       "    </tr>\n",
       "    <tr>\n",
       "      <th>144444</th>\n",
       "      <td>446153.846154</td>\n",
       "      <td>4.461705e+05</td>\n",
       "      <td>0.000037</td>\n",
       "    </tr>\n",
       "    <tr>\n",
       "      <th>139437</th>\n",
       "      <td>446153.846154</td>\n",
       "      <td>4.461705e+05</td>\n",
       "      <td>0.000037</td>\n",
       "    </tr>\n",
       "    <tr>\n",
       "      <th>183417</th>\n",
       "      <td>446153.846154</td>\n",
       "      <td>4.461705e+05</td>\n",
       "      <td>0.000037</td>\n",
       "    </tr>\n",
       "    <tr>\n",
       "      <th>166669</th>\n",
       "      <td>446153.846154</td>\n",
       "      <td>4.461705e+05</td>\n",
       "      <td>0.000037</td>\n",
       "    </tr>\n",
       "    <tr>\n",
       "      <th>...</th>\n",
       "      <td>...</td>\n",
       "      <td>...</td>\n",
       "      <td>...</td>\n",
       "    </tr>\n",
       "    <tr>\n",
       "      <th>119159</th>\n",
       "      <td>244615.384615</td>\n",
       "      <td>8.248327e+06</td>\n",
       "      <td>32.719576</td>\n",
       "    </tr>\n",
       "    <tr>\n",
       "      <th>137877</th>\n",
       "      <td>210000.000000</td>\n",
       "      <td>8.152641e+06</td>\n",
       "      <td>37.822099</td>\n",
       "    </tr>\n",
       "    <tr>\n",
       "      <th>105744</th>\n",
       "      <td>80000.000000</td>\n",
       "      <td>3.321687e+06</td>\n",
       "      <td>40.521091</td>\n",
       "    </tr>\n",
       "    <tr>\n",
       "      <th>115682</th>\n",
       "      <td>263636.363636</td>\n",
       "      <td>1.161892e+07</td>\n",
       "      <td>43.071781</td>\n",
       "    </tr>\n",
       "    <tr>\n",
       "      <th>181843</th>\n",
       "      <td>3636.363636</td>\n",
       "      <td>3.848340e+05</td>\n",
       "      <td>104.829359</td>\n",
       "    </tr>\n",
       "  </tbody>\n",
       "</table>\n",
       "<p>83449 rows × 3 columns</p>\n",
       "</div>"
      ],
      "text/plain": [
       "               y_true        y_pred         ape\n",
       "130344  446153.846154  4.461705e+05    0.000037\n",
       "144444  446153.846154  4.461705e+05    0.000037\n",
       "139437  446153.846154  4.461705e+05    0.000037\n",
       "183417  446153.846154  4.461705e+05    0.000037\n",
       "166669  446153.846154  4.461705e+05    0.000037\n",
       "...               ...           ...         ...\n",
       "119159  244615.384615  8.248327e+06   32.719576\n",
       "137877  210000.000000  8.152641e+06   37.822099\n",
       "105744   80000.000000  3.321687e+06   40.521091\n",
       "115682  263636.363636  1.161892e+07   43.071781\n",
       "181843    3636.363636  3.848340e+05  104.829359\n",
       "\n",
       "[83449 rows x 3 columns]"
      ]
     },
     "execution_count": 51,
     "metadata": {},
     "output_type": "execute_result"
    }
   ],
   "source": [
    "pred_df.sort_values('ape')"
   ]
  },
  {
   "cell_type": "code",
   "execution_count": 52,
   "metadata": {},
   "outputs": [
    {
     "data": {
      "text/plain": [
       "0.2976750823937458"
      ]
     },
     "execution_count": 52,
     "metadata": {},
     "output_type": "execute_result"
    }
   ],
   "source": [
    "mean_absolute_percentage_error(pred_df['y_true'], pred_df['y_pred'])"
   ]
  },
  {
   "cell_type": "code",
   "execution_count": null,
   "metadata": {},
   "outputs": [],
   "source": []
  },
  {
   "cell_type": "code",
   "execution_count": 53,
   "metadata": {},
   "outputs": [],
   "source": [
    "from sklearn.model_selection import train_test_split"
   ]
  },
  {
   "cell_type": "code",
   "execution_count": 54,
   "metadata": {},
   "outputs": [
    {
     "data": {
      "text/html": [
       "<div>\n",
       "<style scoped>\n",
       "    .dataframe tbody tr th:only-of-type {\n",
       "        vertical-align: middle;\n",
       "    }\n",
       "\n",
       "    .dataframe tbody tr th {\n",
       "        vertical-align: top;\n",
       "    }\n",
       "\n",
       "    .dataframe thead th {\n",
       "        text-align: right;\n",
       "    }\n",
       "</style>\n",
       "<table border=\"1\" class=\"dataframe\">\n",
       "  <thead>\n",
       "    <tr style=\"text-align: right;\">\n",
       "      <th></th>\n",
       "      <th>county</th>\n",
       "      <th>city</th>\n",
       "      <th>postcode</th>\n",
       "      <th>property_type</th>\n",
       "      <th>property_subtype</th>\n",
       "      <th>property_condition_type</th>\n",
       "      <th>property_floor</th>\n",
       "      <th>building_floor_count</th>\n",
       "      <th>view_type</th>\n",
       "      <th>orientation</th>\n",
       "      <th>garden_access</th>\n",
       "      <th>heating_type</th>\n",
       "      <th>elevator_type</th>\n",
       "      <th>room_cnt</th>\n",
       "      <th>small_room_cnt</th>\n",
       "      <th>created_at</th>\n",
       "      <th>property_area</th>\n",
       "      <th>balcony_area</th>\n",
       "      <th>price_created_at</th>\n",
       "      <th>ad_view_cnt</th>\n",
       "      <th>active_days</th>\n",
       "      <th>nr</th>\n",
       "      <th>district</th>\n",
       "      <th>m2_price</th>\n",
       "    </tr>\n",
       "  </thead>\n",
       "  <tbody>\n",
       "    <tr>\n",
       "      <th>145499</th>\n",
       "      <td>Budapest</td>\n",
       "      <td>Budapest IV.</td>\n",
       "      <td>1041.0</td>\n",
       "      <td>flat</td>\n",
       "      <td>prefabricated panel flat (for sale)</td>\n",
       "      <td>renewed</td>\n",
       "      <td>8</td>\n",
       "      <td>10</td>\n",
       "      <td>courtyard view</td>\n",
       "      <td>south-west</td>\n",
       "      <td>none</td>\n",
       "      <td>district heating</td>\n",
       "      <td>yes</td>\n",
       "      <td>1.0</td>\n",
       "      <td>1.0</td>\n",
       "      <td>2016-03-31</td>\n",
       "      <td>35.0</td>\n",
       "      <td>0.0</td>\n",
       "      <td>12.9</td>\n",
       "      <td>121.0</td>\n",
       "      <td>4.0</td>\n",
       "      <td>311332</td>\n",
       "      <td>4.0</td>\n",
       "      <td>368571.428571</td>\n",
       "    </tr>\n",
       "    <tr>\n",
       "      <th>168841</th>\n",
       "      <td>Budapest</td>\n",
       "      <td>Budapest XXII.</td>\n",
       "      <td>NaN</td>\n",
       "      <td>flat</td>\n",
       "      <td>prefabricated panel flat (for sale)</td>\n",
       "      <td>good</td>\n",
       "      <td>9</td>\n",
       "      <td>10</td>\n",
       "      <td>NaN</td>\n",
       "      <td>NaN</td>\n",
       "      <td>NaN</td>\n",
       "      <td>NaN</td>\n",
       "      <td>yes</td>\n",
       "      <td>2.0</td>\n",
       "      <td>1.0</td>\n",
       "      <td>2016-06-06</td>\n",
       "      <td>60.0</td>\n",
       "      <td>0.0</td>\n",
       "      <td>17.9</td>\n",
       "      <td>240.0</td>\n",
       "      <td>85.0</td>\n",
       "      <td>361082</td>\n",
       "      <td>NaN</td>\n",
       "      <td>298333.333333</td>\n",
       "    </tr>\n",
       "  </tbody>\n",
       "</table>\n",
       "</div>"
      ],
      "text/plain": [
       "          county            city  postcode property_type  \\\n",
       "145499  Budapest    Budapest IV.    1041.0          flat   \n",
       "168841  Budapest  Budapest XXII.       NaN          flat   \n",
       "\n",
       "                           property_subtype property_condition_type  \\\n",
       "145499  prefabricated panel flat (for sale)                 renewed   \n",
       "168841  prefabricated panel flat (for sale)                    good   \n",
       "\n",
       "       property_floor building_floor_count       view_type orientation  \\\n",
       "145499              8                   10  courtyard view  south-west   \n",
       "168841              9                   10             NaN         NaN   \n",
       "\n",
       "       garden_access      heating_type elevator_type  room_cnt  \\\n",
       "145499          none  district heating           yes       1.0   \n",
       "168841           NaN               NaN           yes       2.0   \n",
       "\n",
       "        small_room_cnt  created_at  property_area  balcony_area  \\\n",
       "145499             1.0  2016-03-31           35.0           0.0   \n",
       "168841             1.0  2016-06-06           60.0           0.0   \n",
       "\n",
       "        price_created_at  ad_view_cnt  active_days      nr  district  \\\n",
       "145499              12.9        121.0          4.0  311332       4.0   \n",
       "168841              17.9        240.0         85.0  361082       NaN   \n",
       "\n",
       "             m2_price  \n",
       "145499  368571.428571  \n",
       "168841  298333.333333  "
      ]
     },
     "execution_count": 54,
     "metadata": {},
     "output_type": "execute_result"
    }
   ],
   "source": [
    "df.sample(2, random_state=2)"
   ]
  },
  {
   "cell_type": "code",
   "execution_count": 55,
   "metadata": {},
   "outputs": [],
   "source": [
    "X_train, X_test, y_train, y_test = train_test_split(X, y, test_size=0.3, random_state=1)"
   ]
  },
  {
   "cell_type": "code",
   "execution_count": 56,
   "metadata": {},
   "outputs": [
    {
     "data": {
      "text/plain": [
       "LinearRegression()"
      ]
     },
     "execution_count": 56,
     "metadata": {},
     "output_type": "execute_result"
    }
   ],
   "source": [
    "model.fit(X_train, y_train)"
   ]
  },
  {
   "cell_type": "code",
   "execution_count": 57,
   "metadata": {},
   "outputs": [],
   "source": [
    "pred = model.predict(X_test)"
   ]
  },
  {
   "cell_type": "code",
   "execution_count": 58,
   "metadata": {},
   "outputs": [
    {
     "data": {
      "text/plain": [
       "0.40225550388607745"
      ]
     },
     "execution_count": 58,
     "metadata": {},
     "output_type": "execute_result"
    }
   ],
   "source": [
    "mean_absolute_percentage_error(y_test, pred)"
   ]
  },
  {
   "cell_type": "code",
   "execution_count": null,
   "metadata": {},
   "outputs": [],
   "source": []
  },
  {
   "cell_type": "code",
   "execution_count": 59,
   "metadata": {},
   "outputs": [],
   "source": [
    "from sklearn.model_selection import cross_val_predict"
   ]
  },
  {
   "cell_type": "code",
   "execution_count": 60,
   "metadata": {},
   "outputs": [],
   "source": [
    "pred = cross_val_predict(model, X, y, cv=4)"
   ]
  },
  {
   "cell_type": "code",
   "execution_count": 61,
   "metadata": {},
   "outputs": [
    {
     "data": {
      "text/plain": [
       "0.40390086834265493"
      ]
     },
     "execution_count": 61,
     "metadata": {},
     "output_type": "execute_result"
    }
   ],
   "source": [
    "mean_absolute_percentage_error(y, pred)"
   ]
  },
  {
   "cell_type": "code",
   "execution_count": 62,
   "metadata": {},
   "outputs": [],
   "source": [
    "df['pred'] = pred"
   ]
  },
  {
   "cell_type": "code",
   "execution_count": 63,
   "metadata": {},
   "outputs": [],
   "source": [
    "df['ape'] = abs(df['m2_price'] - df['pred']) / df['m2_price']"
   ]
  },
  {
   "cell_type": "code",
   "execution_count": 64,
   "metadata": {
    "scrolled": true
   },
   "outputs": [
    {
     "data": {
      "text/plain": [
       "0.40390086834264777"
      ]
     },
     "execution_count": 64,
     "metadata": {},
     "output_type": "execute_result"
    }
   ],
   "source": [
    "df['ape'].mean()"
   ]
  },
  {
   "cell_type": "code",
   "execution_count": 65,
   "metadata": {},
   "outputs": [
    {
     "data": {
      "text/plain": [
       "count    183449.000000\n",
       "mean          0.403901\n",
       "std           0.997893\n",
       "min           0.000015\n",
       "25%           0.145566\n",
       "50%           0.308891\n",
       "75%           0.540069\n",
       "max         266.394823\n",
       "Name: ape, dtype: float64"
      ]
     },
     "execution_count": 65,
     "metadata": {},
     "output_type": "execute_result"
    }
   ],
   "source": [
    "df['ape'].describe()"
   ]
  },
  {
   "cell_type": "code",
   "execution_count": null,
   "metadata": {},
   "outputs": [],
   "source": []
  },
  {
   "cell_type": "code",
   "execution_count": 66,
   "metadata": {},
   "outputs": [
    {
     "data": {
      "text/plain": [
       "<AxesSubplot:ylabel='property_subtype'>"
      ]
     },
     "execution_count": 66,
     "metadata": {},
     "output_type": "execute_result"
    },
    {
     "data": {
      "image/png": "[encoded data removed]",
      "text/plain": [
       "<Figure size 432x288 with 1 Axes>"
      ]
     },
     "metadata": {
      "needs_background": "light"
     },
     "output_type": "display_data"
    }
   ],
   "source": [
    "df.groupby('property_subtype')['ape'].mean().sort_values().plot(kind='barh')"
   ]
  },
  {
   "cell_type": "code",
   "execution_count": 67,
   "metadata": {},
   "outputs": [
    {
     "data": {
      "text/plain": [
       "brick flat (for sale)                  133687\n",
       "prefabricated panel flat (for sale)     46121\n",
       "NaN                                      3638\n",
       "terraced house                              2\n",
       "prefabricated panel flat (for rent)         1\n",
       "Name: property_subtype, dtype: int64"
      ]
     },
     "execution_count": 67,
     "metadata": {},
     "output_type": "execute_result"
    }
   ],
   "source": [
    "df['property_subtype'].value_counts(dropna=False)"
   ]
  },
  {
   "cell_type": "code",
   "execution_count": 68,
   "metadata": {},
   "outputs": [],
   "source": [
    "df = df.loc[df['property_subtype'].isin(['brick flat (for sale)', 'prefabricated panel flat (for sale)'])]\n",
    "df = df.reset_index(drop=True)"
   ]
  },
  {
   "cell_type": "code",
   "execution_count": 69,
   "metadata": {},
   "outputs": [],
   "source": [
    "df['property_subtype'] = df['property_subtype'].apply(lambda x: 1 if x == 'brick flat (for sale)' else 0)"
   ]
  },
  {
   "cell_type": "code",
   "execution_count": 70,
   "metadata": {},
   "outputs": [
    {
     "data": {
      "text/plain": [
       "['a', 'b', 'c']"
      ]
     },
     "execution_count": 70,
     "metadata": {},
     "output_type": "execute_result"
    }
   ],
   "source": [
    "['a', 'b'] + ['c']"
   ]
  },
  {
   "cell_type": "code",
   "execution_count": 71,
   "metadata": {},
   "outputs": [],
   "source": [
    "X_cols = X_cols + ['property_subtype']"
   ]
  },
  {
   "cell_type": "code",
   "execution_count": 72,
   "metadata": {},
   "outputs": [],
   "source": [
    "X = df.loc[:, X_cols]\n",
    "y = df.loc[:, y_col]"
   ]
  },
  {
   "cell_type": "code",
   "execution_count": 73,
   "metadata": {},
   "outputs": [],
   "source": [
    "pred = cross_val_predict(model, X, y, cv=4)"
   ]
  },
  {
   "cell_type": "code",
   "execution_count": 74,
   "metadata": {},
   "outputs": [
    {
     "data": {
      "text/plain": [
       "0.3514066141607262"
      ]
     },
     "execution_count": 74,
     "metadata": {},
     "output_type": "execute_result"
    }
   ],
   "source": [
    "mean_absolute_percentage_error(y, pred)"
   ]
  },
  {
   "cell_type": "code",
   "execution_count": null,
   "metadata": {},
   "outputs": [],
   "source": []
  },
  {
   "cell_type": "markdown",
   "metadata": {},
   "source": [
    "# coef_df"
   ]
  },
  {
   "cell_type": "code",
   "execution_count": 75,
   "metadata": {},
   "outputs": [
    {
     "data": {
      "text/plain": [
       "array([-10087.13285384, 189859.04820794,  72058.48854799])"
      ]
     },
     "execution_count": 75,
     "metadata": {},
     "output_type": "execute_result"
    }
   ],
   "source": [
    "model.coef_"
   ]
  },
  {
   "cell_type": "code",
   "execution_count": 76,
   "metadata": {},
   "outputs": [
    {
     "data": {
      "text/plain": [
       "LinearRegression()"
      ]
     },
     "execution_count": 76,
     "metadata": {},
     "output_type": "execute_result"
    }
   ],
   "source": [
    "model.fit(X, y)"
   ]
  },
  {
   "cell_type": "code",
   "execution_count": 77,
   "metadata": {},
   "outputs": [],
   "source": [
    "coef_df = pd.DataFrame()"
   ]
  },
  {
   "cell_type": "code",
   "execution_count": 78,
   "metadata": {},
   "outputs": [],
   "source": [
    "coef_df['col_name'] = X.columns\n",
    "coef_df['coef'] = model.coef_"
   ]
  },
  {
   "cell_type": "code",
   "execution_count": 79,
   "metadata": {},
   "outputs": [
    {
     "data": {
      "text/html": [
       "<div>\n",
       "<style scoped>\n",
       "    .dataframe tbody tr th:only-of-type {\n",
       "        vertical-align: middle;\n",
       "    }\n",
       "\n",
       "    .dataframe tbody tr th {\n",
       "        vertical-align: top;\n",
       "    }\n",
       "\n",
       "    .dataframe thead th {\n",
       "        text-align: right;\n",
       "    }\n",
       "</style>\n",
       "<table border=\"1\" class=\"dataframe\">\n",
       "  <thead>\n",
       "    <tr style=\"text-align: right;\">\n",
       "      <th></th>\n",
       "      <th>col_name</th>\n",
       "      <th>coef</th>\n",
       "    </tr>\n",
       "  </thead>\n",
       "  <tbody>\n",
       "    <tr>\n",
       "      <th>0</th>\n",
       "      <td>property_area</td>\n",
       "      <td>-5717.057255</td>\n",
       "    </tr>\n",
       "    <tr>\n",
       "      <th>1</th>\n",
       "      <td>room_cnt</td>\n",
       "      <td>100328.706676</td>\n",
       "    </tr>\n",
       "    <tr>\n",
       "      <th>2</th>\n",
       "      <td>small_room_cnt</td>\n",
       "      <td>63404.481380</td>\n",
       "    </tr>\n",
       "    <tr>\n",
       "      <th>3</th>\n",
       "      <td>property_subtype</td>\n",
       "      <td>191118.070927</td>\n",
       "    </tr>\n",
       "  </tbody>\n",
       "</table>\n",
       "</div>"
      ],
      "text/plain": [
       "           col_name           coef\n",
       "0     property_area   -5717.057255\n",
       "1          room_cnt  100328.706676\n",
       "2    small_room_cnt   63404.481380\n",
       "3  property_subtype  191118.070927"
      ]
     },
     "execution_count": 79,
     "metadata": {},
     "output_type": "execute_result"
    }
   ],
   "source": [
    "coef_df"
   ]
  },
  {
   "cell_type": "code",
   "execution_count": null,
   "metadata": {},
   "outputs": [],
   "source": []
  },
  {
   "cell_type": "markdown",
   "metadata": {},
   "source": [
    "# coef_df calc\n",
    "\n",
    "jelenlegi peldaban nem figyeltunk arra h korrelalnak-e egymassal az egyes egyutthatok pedig kene am"
   ]
  },
  {
   "cell_type": "code",
   "execution_count": 80,
   "metadata": {},
   "outputs": [],
   "source": [
    "example_row = df.loc[:, X_cols].sample(1, random_state=1)"
   ]
  },
  {
   "cell_type": "code",
   "execution_count": 81,
   "metadata": {},
   "outputs": [],
   "source": [
    "example_row_transposed = example_row.loc[:, X_cols].T"
   ]
  },
  {
   "cell_type": "code",
   "execution_count": 82,
   "metadata": {},
   "outputs": [],
   "source": [
    "coef_df['example'] = example_row_transposed.reset_index(drop=True)"
   ]
  },
  {
   "cell_type": "code",
   "execution_count": 83,
   "metadata": {},
   "outputs": [],
   "source": [
    "coef_df['example_calc'] = coef_df['example'] * coef_df['coef']"
   ]
  },
  {
   "cell_type": "code",
   "execution_count": 84,
   "metadata": {},
   "outputs": [
    {
     "data": {
      "text/plain": [
       "281685.2769582381"
      ]
     },
     "execution_count": 84,
     "metadata": {},
     "output_type": "execute_result"
    }
   ],
   "source": [
    "coef_df['example_calc'].sum() + model.intercept_"
   ]
  },
  {
   "cell_type": "code",
   "execution_count": 85,
   "metadata": {},
   "outputs": [
    {
     "data": {
      "text/plain": [
       "array([281685.27695824])"
      ]
     },
     "execution_count": 85,
     "metadata": {},
     "output_type": "execute_result"
    }
   ],
   "source": [
    "# model.predict(df.loc[:, X_cols].sample(1, random_state=1))\n",
    "model.predict(example_row)"
   ]
  }
 ],
 "metadata": {
  "kernelspec": {
   "display_name": "Python 3 (ipykernel)",
   "language": "python",
   "name": "python3"
  },
  "language_info": {
   "codemirror_mode": {
    "name": "ipython",
    "version": 3
   },
   "file_extension": ".py",
   "mimetype": "text/x-python",
   "name": "python",
   "nbconvert_exporter": "python",
   "pygments_lexer": "ipython3",
   "version": "3.9.7"
  }
 },
 "nbformat": 4,
 "nbformat_minor": 4
}
