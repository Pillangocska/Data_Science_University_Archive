{
 "cells": [
  {
   "cell_type": "code",
   "execution_count": 9,
   "metadata": {},
   "outputs": [],
   "source": [
    "import pandas as pd\n",
    "import numpy as np\n",
    "\n",
    "import matplotlib.pyplot as plt\n",
    "\n",
    "from sklearn.linear_model import LinearRegression\n",
    "from sklearn.metrics import mean_absolute_percentage_error\n",
    "from sklearn.model_selection import cross_val_predict"
   ]
  },
  {
   "cell_type": "code",
   "execution_count": 10,
   "metadata": {},
   "outputs": [],
   "source": [
    "pd.set_option('display.max_columns', None)"
   ]
  },
  {
   "cell_type": "markdown",
   "metadata": {},
   "source": [
    "# ingatlan adathalmaz"
   ]
  },
  {
   "cell_type": "code",
   "execution_count": 11,
   "metadata": {},
   "outputs": [],
   "source": [
    "df = pd.read_csv('_data/ingatlan.csv')"
   ]
  },
  {
   "cell_type": "code",
   "execution_count": 12,
   "metadata": {},
   "outputs": [
    {
     "data": {
      "text/html": [
       "<div>\n",
       "<style scoped>\n",
       "    .dataframe tbody tr th:only-of-type {\n",
       "        vertical-align: middle;\n",
       "    }\n",
       "\n",
       "    .dataframe tbody tr th {\n",
       "        vertical-align: top;\n",
       "    }\n",
       "\n",
       "    .dataframe thead th {\n",
       "        text-align: right;\n",
       "    }\n",
       "</style>\n",
       "<table border=\"1\" class=\"dataframe\">\n",
       "  <thead>\n",
       "    <tr style=\"text-align: right;\">\n",
       "      <th></th>\n",
       "      <th>county</th>\n",
       "      <th>city</th>\n",
       "      <th>postcode</th>\n",
       "      <th>property_type</th>\n",
       "      <th>property_subtype</th>\n",
       "      <th>property_condition_type</th>\n",
       "      <th>property_floor</th>\n",
       "      <th>building_floor_count</th>\n",
       "      <th>view_type</th>\n",
       "      <th>orientation</th>\n",
       "      <th>garden_access</th>\n",
       "      <th>heating_type</th>\n",
       "      <th>elevator_type</th>\n",
       "      <th>room_cnt</th>\n",
       "      <th>small_room_cnt</th>\n",
       "      <th>created_at</th>\n",
       "      <th>property_area</th>\n",
       "      <th>balcony_area</th>\n",
       "      <th>price_created_at</th>\n",
       "      <th>ad_view_cnt</th>\n",
       "      <th>active_days</th>\n",
       "      <th>nr</th>\n",
       "      <th>district</th>\n",
       "    </tr>\n",
       "  </thead>\n",
       "  <tbody>\n",
       "    <tr>\n",
       "      <th>0</th>\n",
       "      <td>Budapest</td>\n",
       "      <td>Budapest IV.</td>\n",
       "      <td>NaN</td>\n",
       "      <td>flat</td>\n",
       "      <td>prefabricated panel flat (for sale)</td>\n",
       "      <td>good</td>\n",
       "      <td>3</td>\n",
       "      <td>10</td>\n",
       "      <td>garden view</td>\n",
       "      <td>east</td>\n",
       "      <td>NaN</td>\n",
       "      <td>NaN</td>\n",
       "      <td>yes</td>\n",
       "      <td>1.0</td>\n",
       "      <td>1.0</td>\n",
       "      <td>2015-02-09</td>\n",
       "      <td>35.0</td>\n",
       "      <td>0.0</td>\n",
       "      <td>9.5</td>\n",
       "      <td>702.0</td>\n",
       "      <td>23.0</td>\n",
       "      <td>7</td>\n",
       "      <td>4.0</td>\n",
       "    </tr>\n",
       "    <tr>\n",
       "      <th>1</th>\n",
       "      <td>Budapest</td>\n",
       "      <td>Budapest XIV.</td>\n",
       "      <td>1147.0</td>\n",
       "      <td>flat</td>\n",
       "      <td>brick flat (for sale)</td>\n",
       "      <td>novel</td>\n",
       "      <td>ground floor</td>\n",
       "      <td>NaN</td>\n",
       "      <td>NaN</td>\n",
       "      <td>NaN</td>\n",
       "      <td>NaN</td>\n",
       "      <td>gas furnace, circulating hot water</td>\n",
       "      <td>NaN</td>\n",
       "      <td>1.0</td>\n",
       "      <td>0.0</td>\n",
       "      <td>2015-02-09</td>\n",
       "      <td>35.0</td>\n",
       "      <td>0.0</td>\n",
       "      <td>11.2</td>\n",
       "      <td>42.0</td>\n",
       "      <td>6.0</td>\n",
       "      <td>8</td>\n",
       "      <td>14.0</td>\n",
       "    </tr>\n",
       "    <tr>\n",
       "      <th>2</th>\n",
       "      <td>Budapest</td>\n",
       "      <td>Budapest XIV.</td>\n",
       "      <td>NaN</td>\n",
       "      <td>flat</td>\n",
       "      <td>brick flat (for sale)</td>\n",
       "      <td>medium</td>\n",
       "      <td>4</td>\n",
       "      <td>NaN</td>\n",
       "      <td>NaN</td>\n",
       "      <td>NaN</td>\n",
       "      <td>NaN</td>\n",
       "      <td>konvection gas burner</td>\n",
       "      <td>NaN</td>\n",
       "      <td>2.0</td>\n",
       "      <td>0.0</td>\n",
       "      <td>2015-02-09</td>\n",
       "      <td>50.0</td>\n",
       "      <td>0.0</td>\n",
       "      <td>14.5</td>\n",
       "      <td>504.0</td>\n",
       "      <td>96.0</td>\n",
       "      <td>9</td>\n",
       "      <td>14.0</td>\n",
       "    </tr>\n",
       "    <tr>\n",
       "      <th>3</th>\n",
       "      <td>Budapest</td>\n",
       "      <td>Budapest II.</td>\n",
       "      <td>1024.0</td>\n",
       "      <td>flat</td>\n",
       "      <td>brick flat (for sale)</td>\n",
       "      <td>novel</td>\n",
       "      <td>basement</td>\n",
       "      <td>NaN</td>\n",
       "      <td>street view</td>\n",
       "      <td>NaN</td>\n",
       "      <td>NaN</td>\n",
       "      <td>konvection gas burner</td>\n",
       "      <td>yes</td>\n",
       "      <td>1.0</td>\n",
       "      <td>1.0</td>\n",
       "      <td>2015-02-09</td>\n",
       "      <td>50.0</td>\n",
       "      <td>0.0</td>\n",
       "      <td>15.3</td>\n",
       "      <td>39.0</td>\n",
       "      <td>1.0</td>\n",
       "      <td>11</td>\n",
       "      <td>2.0</td>\n",
       "    </tr>\n",
       "    <tr>\n",
       "      <th>4</th>\n",
       "      <td>Budapest</td>\n",
       "      <td>Budapest XII.</td>\n",
       "      <td>1126.0</td>\n",
       "      <td>flat</td>\n",
       "      <td>brick flat (for sale)</td>\n",
       "      <td>good</td>\n",
       "      <td>ground floor</td>\n",
       "      <td>NaN</td>\n",
       "      <td>garden view</td>\n",
       "      <td>NaN</td>\n",
       "      <td>NaN</td>\n",
       "      <td>gas furnace, circulating hot water</td>\n",
       "      <td>none</td>\n",
       "      <td>1.0</td>\n",
       "      <td>2.0</td>\n",
       "      <td>2015-02-09</td>\n",
       "      <td>50.0</td>\n",
       "      <td>0.0</td>\n",
       "      <td>17.9</td>\n",
       "      <td>114.0</td>\n",
       "      <td>27.0</td>\n",
       "      <td>13</td>\n",
       "      <td>12.0</td>\n",
       "    </tr>\n",
       "  </tbody>\n",
       "</table>\n",
       "</div>"
      ],
      "text/plain": [
       "     county           city  postcode property_type                     property_subtype property_condition_type property_floor building_floor_count  \\\n",
       "0  Budapest   Budapest IV.       NaN          flat  prefabricated panel flat (for sale)                    good              3                   10   \n",
       "1  Budapest  Budapest XIV.    1147.0          flat                brick flat (for sale)                   novel   ground floor                  NaN   \n",
       "2  Budapest  Budapest XIV.       NaN          flat                brick flat (for sale)                  medium              4                  NaN   \n",
       "3  Budapest   Budapest II.    1024.0          flat                brick flat (for sale)                   novel       basement                  NaN   \n",
       "4  Budapest  Budapest XII.    1126.0          flat                brick flat (for sale)                    good   ground floor                  NaN   \n",
       "\n",
       "     view_type orientation garden_access                        heating_type elevator_type  room_cnt  small_room_cnt  created_at  property_area  \\\n",
       "0  garden view        east           NaN                                 NaN           yes       1.0             1.0  2015-02-09           35.0   \n",
       "1          NaN         NaN           NaN  gas furnace, circulating hot water           NaN       1.0             0.0  2015-02-09           35.0   \n",
       "2          NaN         NaN           NaN               konvection gas burner           NaN       2.0             0.0  2015-02-09           50.0   \n",
       "3  street view         NaN           NaN               konvection gas burner           yes       1.0             1.0  2015-02-09           50.0   \n",
       "4  garden view         NaN           NaN  gas furnace, circulating hot water          none       1.0             2.0  2015-02-09           50.0   \n",
       "\n",
       "   balcony_area  price_created_at  ad_view_cnt  active_days  nr  district  \n",
       "0           0.0               9.5        702.0         23.0   7       4.0  \n",
       "1           0.0              11.2         42.0          6.0   8      14.0  \n",
       "2           0.0              14.5        504.0         96.0   9      14.0  \n",
       "3           0.0              15.3         39.0          1.0  11       2.0  \n",
       "4           0.0              17.9        114.0         27.0  13      12.0  "
      ]
     },
     "execution_count": null,
     "metadata": {},
     "output_type": "execute_result"
    }
   ],
   "source": [
    "df.head()"
   ]
  },
  {
   "cell_type": "code",
   "execution_count": 13,
   "metadata": {},
   "outputs": [
    {
     "data": {
      "text/plain": [
       "(183565, 23)"
      ]
     },
     "execution_count": null,
     "metadata": {},
     "output_type": "execute_result"
    }
   ],
   "source": [
    "df.shape"
   ]
  },
  {
   "cell_type": "code",
   "execution_count": 8,
   "metadata": {},
   "outputs": [
    {
     "name": "stdout",
     "output_type": "stream",
     "text": [
      "<class 'pandas.core.frame.DataFrame'>\n",
      "RangeIndex: 101321 entries, 0 to 101320\n",
      "Data columns (total 23 columns):\n",
      " #   Column                   Non-Null Count   Dtype  \n",
      "---  ------                   --------------   -----  \n",
      " 0   county                   101321 non-null  object \n",
      " 1   city                     100514 non-null  object \n",
      " 2   postcode                 64928 non-null   float64\n",
      " 3   property_type            101320 non-null  object \n",
      " 4   property_subtype         99541 non-null   object \n",
      " 5   property_condition_type  101320 non-null  object \n",
      " 6   property_floor           96725 non-null   object \n",
      " 7   building_floor_count     49110 non-null   object \n",
      " 8   view_type                62698 non-null   object \n",
      " 9   orientation              61485 non-null   object \n",
      " 10  garden_access            23198 non-null   object \n",
      " 11  heating_type             86860 non-null   object \n",
      " 12  elevator_type            82659 non-null   object \n",
      " 13  room_cnt                 101320 non-null  float64\n",
      " 14  small_room_cnt           100745 non-null  float64\n",
      " 15  created_at               101320 non-null  object \n",
      " 16  property_area            101320 non-null  float64\n",
      " 17  balcony_area             96935 non-null   float64\n",
      " 18  price_created_at         101320 non-null  float64\n",
      " 19  ad_view_cnt              101320 non-null  float64\n",
      " 20  active_days              101320 non-null  float64\n",
      " 21  nr                       101320 non-null  float64\n",
      " 22  district                 97211 non-null   float64\n",
      "dtypes: float64(10), object(13)\n",
      "memory usage: 17.8+ MB\n",
      "<class 'pandas.core.frame.DataFrame'>\n",
      "RangeIndex: 101321 entries, 0 to 101320\n",
      "Data columns (total 23 columns):\n",
      " #   Column                   Non-Null Count   Dtype  \n",
      "---  ------                   --------------   -----  \n",
      " 0   county                   101321 non-null  object \n",
      " 1   city                     100514 non-null  object \n",
      " 2   postcode                 64928 non-null   float64\n",
      " 3   property_type            101320 non-null  object \n",
      " 4   property_subtype         99541 non-null   object \n",
      " 5   property_condition_type  101320 non-null  object \n",
      " 6   property_floor           96725 non-null   object \n",
      " 7   building_floor_count     49110 non-null   object \n",
      " 8   view_type                62698 non-null   object \n",
      " 9   orientation              61485 non-null   object \n",
      " 10  garden_access            23198 non-null   object \n",
      " 11  heating_type             86860 non-null   object \n",
      " 12  elevator_type            82659 non-null   object \n",
      " 13  room_cnt                 101320 non-null  float64\n",
      " 14  small_room_cnt           100745 non-null  float64\n",
      " 15  created_at               101320 non-null  object \n",
      " 16  property_area            101320 non-null  float64\n",
      " 17  balcony_area             96935 non-null   float64\n",
      " 18  price_created_at         101320 non-null  float64\n",
      " 19  ad_view_cnt              101320 non-null  float64\n",
      " 20  active_days              101320 non-null  float64\n",
      " 21  nr                       101320 non-null  float64\n",
      " 22  district                 97211 non-null   float64\n",
      "dtypes: float64(10), object(13)\n",
      "memory usage: 17.8+ MB\n"
     ]
    }
   ],
   "source": [
    "df.info()"
   ]
  },
  {
   "cell_type": "code",
   "execution_count": 16,
   "metadata": {},
   "outputs": [
    {
     "data": {
      "text/html": [
       "<div>\n",
       "<style scoped>\n",
       "    .dataframe tbody tr th:only-of-type {\n",
       "        vertical-align: middle;\n",
       "    }\n",
       "\n",
       "    .dataframe tbody tr th {\n",
       "        vertical-align: top;\n",
       "    }\n",
       "\n",
       "    .dataframe thead th {\n",
       "        text-align: right;\n",
       "    }\n",
       "</style>\n",
       "<table border=\"1\" class=\"dataframe\">\n",
       "  <thead>\n",
       "    <tr style=\"text-align: right;\">\n",
       "      <th></th>\n",
       "      <th>postcode</th>\n",
       "      <th>room_cnt</th>\n",
       "      <th>small_room_cnt</th>\n",
       "      <th>property_area</th>\n",
       "      <th>balcony_area</th>\n",
       "      <th>price_created_at</th>\n",
       "      <th>ad_view_cnt</th>\n",
       "      <th>active_days</th>\n",
       "      <th>nr</th>\n",
       "      <th>district</th>\n",
       "    </tr>\n",
       "  </thead>\n",
       "  <tbody>\n",
       "    <tr>\n",
       "      <th>count</th>\n",
       "      <td>115475.000000</td>\n",
       "      <td>183565.000000</td>\n",
       "      <td>182981.000000</td>\n",
       "      <td>183565.000000</td>\n",
       "      <td>175966.000000</td>\n",
       "      <td>183565.000000</td>\n",
       "      <td>183564.000000</td>\n",
       "      <td>183565.000000</td>\n",
       "      <td>183565.000000</td>\n",
       "      <td>176009.000000</td>\n",
       "    </tr>\n",
       "    <tr>\n",
       "      <th>mean</th>\n",
       "      <td>1103.395895</td>\n",
       "      <td>1.476393</td>\n",
       "      <td>0.547177</td>\n",
       "      <td>48.443984</td>\n",
       "      <td>7.748792</td>\n",
       "      <td>20.564001</td>\n",
       "      <td>262.264082</td>\n",
       "      <td>44.071593</td>\n",
       "      <td>196659.747942</td>\n",
       "      <td>9.730434</td>\n",
       "    </tr>\n",
       "    <tr>\n",
       "      <th>std</th>\n",
       "      <td>50.789818</td>\n",
       "      <td>0.972892</td>\n",
       "      <td>0.748810</td>\n",
       "      <td>12.776044</td>\n",
       "      <td>2360.665258</td>\n",
       "      <td>171.496565</td>\n",
       "      <td>556.838684</td>\n",
       "      <td>47.969011</td>\n",
       "      <td>113179.241269</td>\n",
       "      <td>4.782807</td>\n",
       "    </tr>\n",
       "    <tr>\n",
       "      <th>min</th>\n",
       "      <td>1011.000000</td>\n",
       "      <td>0.000000</td>\n",
       "      <td>-1.000000</td>\n",
       "      <td>0.000000</td>\n",
       "      <td>0.000000</td>\n",
       "      <td>0.000000</td>\n",
       "      <td>0.000000</td>\n",
       "      <td>1.000000</td>\n",
       "      <td>7.000000</td>\n",
       "      <td>1.000000</td>\n",
       "    </tr>\n",
       "    <tr>\n",
       "      <th>25%</th>\n",
       "      <td>1063.000000</td>\n",
       "      <td>1.000000</td>\n",
       "      <td>0.000000</td>\n",
       "      <td>40.000000</td>\n",
       "      <td>0.000000</td>\n",
       "      <td>13.200000</td>\n",
       "      <td>41.000000</td>\n",
       "      <td>11.000000</td>\n",
       "      <td>98117.000000</td>\n",
       "      <td>6.000000</td>\n",
       "    </tr>\n",
       "    <tr>\n",
       "      <th>50%</th>\n",
       "      <td>1101.000000</td>\n",
       "      <td>1.000000</td>\n",
       "      <td>0.000000</td>\n",
       "      <td>50.000000</td>\n",
       "      <td>0.000000</td>\n",
       "      <td>16.900000</td>\n",
       "      <td>102.000000</td>\n",
       "      <td>28.000000</td>\n",
       "      <td>196774.000000</td>\n",
       "      <td>10.000000</td>\n",
       "    </tr>\n",
       "    <tr>\n",
       "      <th>75%</th>\n",
       "      <td>1141.000000</td>\n",
       "      <td>2.000000</td>\n",
       "      <td>1.000000</td>\n",
       "      <td>60.000000</td>\n",
       "      <td>3.000000</td>\n",
       "      <td>23.900000</td>\n",
       "      <td>265.000000</td>\n",
       "      <td>60.000000</td>\n",
       "      <td>294824.000000</td>\n",
       "      <td>13.000000</td>\n",
       "    </tr>\n",
       "    <tr>\n",
       "      <th>max</th>\n",
       "      <td>1239.000000</td>\n",
       "      <td>215.000000</td>\n",
       "      <td>56.000000</td>\n",
       "      <td>70.000000</td>\n",
       "      <td>990257.000000</td>\n",
       "      <td>41796.000000</td>\n",
       "      <td>40248.000000</td>\n",
       "      <td>544.000000</td>\n",
       "      <td>394178.000000</td>\n",
       "      <td>20.000000</td>\n",
       "    </tr>\n",
       "  </tbody>\n",
       "</table>\n",
       "</div>"
      ],
      "text/plain": [
       "            postcode       room_cnt  small_room_cnt  property_area   balcony_area  price_created_at    ad_view_cnt    active_days             nr  \\\n",
       "count  115475.000000  183565.000000   182981.000000  183565.000000  175966.000000     183565.000000  183564.000000  183565.000000  183565.000000   \n",
       "mean     1103.395895       1.476393        0.547177      48.443984       7.748792         20.564001     262.264082      44.071593  196659.747942   \n",
       "std        50.789818       0.972892        0.748810      12.776044    2360.665258        171.496565     556.838684      47.969011  113179.241269   \n",
       "min      1011.000000       0.000000       -1.000000       0.000000       0.000000          0.000000       0.000000       1.000000       7.000000   \n",
       "25%      1063.000000       1.000000        0.000000      40.000000       0.000000         13.200000      41.000000      11.000000   98117.000000   \n",
       "50%      1101.000000       1.000000        0.000000      50.000000       0.000000         16.900000     102.000000      28.000000  196774.000000   \n",
       "75%      1141.000000       2.000000        1.000000      60.000000       3.000000         23.900000     265.000000      60.000000  294824.000000   \n",
       "max      1239.000000     215.000000       56.000000      70.000000  990257.000000      41796.000000   40248.000000     544.000000  394178.000000   \n",
       "\n",
       "            district  \n",
       "count  176009.000000  \n",
       "mean        9.730434  \n",
       "std         4.782807  \n",
       "min         1.000000  \n",
       "25%         6.000000  \n",
       "50%        10.000000  \n",
       "75%        13.000000  \n",
       "max        20.000000  "
      ]
     },
     "execution_count": null,
     "metadata": {},
     "output_type": "execute_result"
    }
   ],
   "source": [
    "df.describe()"
   ]
  },
  {
   "cell_type": "code",
   "execution_count": 17,
   "metadata": {},
   "outputs": [
    {
     "data": {
      "text/html": [
       "<div>\n",
       "<style scoped>\n",
       "    .dataframe tbody tr th:only-of-type {\n",
       "        vertical-align: middle;\n",
       "    }\n",
       "\n",
       "    .dataframe tbody tr th {\n",
       "        vertical-align: top;\n",
       "    }\n",
       "\n",
       "    .dataframe thead th {\n",
       "        text-align: right;\n",
       "    }\n",
       "</style>\n",
       "<table border=\"1\" class=\"dataframe\">\n",
       "  <thead>\n",
       "    <tr style=\"text-align: right;\">\n",
       "      <th></th>\n",
       "      <th>county</th>\n",
       "      <th>city</th>\n",
       "      <th>property_type</th>\n",
       "      <th>property_subtype</th>\n",
       "      <th>property_condition_type</th>\n",
       "      <th>property_floor</th>\n",
       "      <th>building_floor_count</th>\n",
       "      <th>view_type</th>\n",
       "      <th>orientation</th>\n",
       "      <th>garden_access</th>\n",
       "      <th>heating_type</th>\n",
       "      <th>elevator_type</th>\n",
       "      <th>created_at</th>\n",
       "    </tr>\n",
       "  </thead>\n",
       "  <tbody>\n",
       "    <tr>\n",
       "      <th>count</th>\n",
       "      <td>183565</td>\n",
       "      <td>182261</td>\n",
       "      <td>183565</td>\n",
       "      <td>179925</td>\n",
       "      <td>183565</td>\n",
       "      <td>174499</td>\n",
       "      <td>85776</td>\n",
       "      <td>100462</td>\n",
       "      <td>111423</td>\n",
       "      <td>40679</td>\n",
       "      <td>156879</td>\n",
       "      <td>150063</td>\n",
       "      <td>183565</td>\n",
       "    </tr>\n",
       "    <tr>\n",
       "      <th>unique</th>\n",
       "      <td>1</td>\n",
       "      <td>23</td>\n",
       "      <td>1</td>\n",
       "      <td>4</td>\n",
       "      <td>9</td>\n",
       "      <td>14</td>\n",
       "      <td>11</td>\n",
       "      <td>4</td>\n",
       "      <td>8</td>\n",
       "      <td>2</td>\n",
       "      <td>11</td>\n",
       "      <td>2</td>\n",
       "      <td>568</td>\n",
       "    </tr>\n",
       "    <tr>\n",
       "      <th>top</th>\n",
       "      <td>Budapest</td>\n",
       "      <td>Budapest XIV.</td>\n",
       "      <td>flat</td>\n",
       "      <td>brick flat (for sale)</td>\n",
       "      <td>good</td>\n",
       "      <td>1</td>\n",
       "      <td>4</td>\n",
       "      <td>street view</td>\n",
       "      <td>east</td>\n",
       "      <td>none</td>\n",
       "      <td>konvection gas burner</td>\n",
       "      <td>yes</td>\n",
       "      <td>2015-10-20</td>\n",
       "    </tr>\n",
       "    <tr>\n",
       "      <th>freq</th>\n",
       "      <td>183565</td>\n",
       "      <td>20114</td>\n",
       "      <td>183565</td>\n",
       "      <td>133794</td>\n",
       "      <td>61823</td>\n",
       "      <td>34073</td>\n",
       "      <td>19855</td>\n",
       "      <td>40344</td>\n",
       "      <td>22735</td>\n",
       "      <td>34175</td>\n",
       "      <td>49623</td>\n",
       "      <td>81746</td>\n",
       "      <td>908</td>\n",
       "    </tr>\n",
       "  </tbody>\n",
       "</table>\n",
       "</div>"
      ],
      "text/plain": [
       "          county           city property_type       property_subtype property_condition_type property_floor building_floor_count    view_type  \\\n",
       "count     183565         182261        183565                 179925                  183565         174499                85776       100462   \n",
       "unique         1             23             1                      4                       9             14                   11            4   \n",
       "top     Budapest  Budapest XIV.          flat  brick flat (for sale)                    good              1                    4  street view   \n",
       "freq      183565          20114        183565                 133794                   61823          34073                19855        40344   \n",
       "\n",
       "       orientation garden_access           heating_type elevator_type  created_at  \n",
       "count       111423         40679                 156879        150063      183565  \n",
       "unique           8             2                     11             2         568  \n",
       "top           east          none  konvection gas burner           yes  2015-10-20  \n",
       "freq         22735         34175                  49623         81746         908  "
      ]
     },
     "execution_count": null,
     "metadata": {},
     "output_type": "execute_result"
    }
   ],
   "source": [
    "df.describe(include='O') # only object type variables"
   ]
  },
  {
   "cell_type": "code",
   "execution_count": 18,
   "metadata": {},
   "outputs": [],
   "source": [
    "df = df.drop(['county', 'property_type', 'ad_view_cnt', 'active_days', 'nr', 'district'], axis=1)"
   ]
  },
  {
   "cell_type": "markdown",
   "metadata": {},
   "source": [
    "# target_var"
   ]
  },
  {
   "cell_type": "code",
   "execution_count": 19,
   "metadata": {},
   "outputs": [],
   "source": [
    "df['m2_price'] = (df['price_created_at'] / df['property_area']) * 1e6"
   ]
  },
  {
   "cell_type": "code",
   "execution_count": 20,
   "metadata": {},
   "outputs": [
    {
     "data": {
      "text/plain": [
       "count    1.835650e+05\n",
       "mean              inf\n",
       "std               NaN\n",
       "min      0.000000e+00\n",
       "25%      2.880000e+05\n",
       "50%      3.760000e+05\n",
       "75%      4.923077e+05\n",
       "max               inf\n",
       "Name: m2_price, dtype: float64"
      ]
     },
     "execution_count": null,
     "metadata": {},
     "output_type": "execute_result"
    }
   ],
   "source": [
    "df['m2_price'].describe()"
   ]
  },
  {
   "cell_type": "code",
   "execution_count": 22,
   "metadata": {},
   "outputs": [
    {
     "data": {
      "text/plain": [
       "(183449, 18)"
      ]
     },
     "execution_count": null,
     "metadata": {},
     "output_type": "execute_result"
    }
   ],
   "source": [
    "df.shape"
   ]
  },
  {
   "cell_type": "code",
   "execution_count": 21,
   "metadata": {},
   "outputs": [],
   "source": [
    "df = df.loc[df['property_area']>0, :].reset_index(drop=True)\n",
    "df = df.loc[df['m2_price']>0, :].reset_index(drop=True)"
   ]
  },
  {
   "cell_type": "code",
   "execution_count": 23,
   "metadata": {},
   "outputs": [
    {
     "data": {
      "text/plain": [
       "(183449, 18)"
      ]
     },
     "execution_count": null,
     "metadata": {},
     "output_type": "execute_result"
    }
   ],
   "source": [
    "df.shape"
   ]
  },
  {
   "cell_type": "code",
   "execution_count": 24,
   "metadata": {},
   "outputs": [
    {
     "data": {
      "text/plain": [
       "count    1.834490e+05\n",
       "mean     4.346854e+05\n",
       "std      3.931615e+06\n",
       "min      1.428571e+03\n",
       "25%      2.876923e+05\n",
       "50%      3.755556e+05\n",
       "75%      4.916667e+05\n",
       "max      7.954114e+08\n",
       "Name: m2_price, dtype: float64"
      ]
     },
     "execution_count": null,
     "metadata": {},
     "output_type": "execute_result"
    }
   ],
   "source": [
    "df['m2_price'].describe()"
   ]
  },
  {
   "cell_type": "code",
   "execution_count": 25,
   "metadata": {},
   "outputs": [
    {
     "data": {
      "text/plain": [
       "<Axes: >"
      ]
     },
     "execution_count": null,
     "metadata": {},
     "output_type": "execute_result"
    },
    {
     "data": {
      "image/png": "[encoded data removed]",
      "text/plain": [
       "<Figure size 640x480 with 1 Axes>"
      ]
     },
     "metadata": {},
     "output_type": "display_data"
    }
   ],
   "source": [
    "df['m2_price'].plot(kind='box')"
   ]
  },
  {
   "cell_type": "code",
   "execution_count": 26,
   "metadata": {},
   "outputs": [
    {
     "data": {
      "text/plain": [
       "<Axes: >"
      ]
     },
     "execution_count": null,
     "metadata": {},
     "output_type": "execute_result"
    },
    {
     "data": {
      "image/png": "[encoded data removed]",
      "text/plain": [
       "<Figure size 640x480 with 1 Axes>"
      ]
     },
     "metadata": {},
     "output_type": "display_data"
    }
   ],
   "source": [
    "df.loc[df['m2_price']<2e6, 'm2_price'].plot(kind='box')"
   ]
  },
  {
   "cell_type": "markdown",
   "metadata": {},
   "source": [
    "# baseline pred"
   ]
  },
  {
   "cell_type": "code",
   "execution_count": 27,
   "metadata": {},
   "outputs": [],
   "source": [
    "df['pred_baseline'] = df['m2_price'].mean()"
   ]
  },
  {
   "cell_type": "code",
   "execution_count": 28,
   "metadata": {},
   "outputs": [
    {
     "data": {
      "text/plain": [
       "0.3871963174433122"
      ]
     },
     "execution_count": null,
     "metadata": {},
     "output_type": "execute_result"
    }
   ],
   "source": [
    "mean_absolute_percentage_error(df['m2_price'], df['pred_baseline'])"
   ]
  },
  {
   "cell_type": "markdown",
   "metadata": {},
   "source": [
    "# pelda prediction"
   ]
  },
  {
   "cell_type": "code",
   "execution_count": 29,
   "metadata": {},
   "outputs": [],
   "source": [
    "model = LinearRegression()"
   ]
  },
  {
   "cell_type": "code",
   "execution_count": 30,
   "metadata": {},
   "outputs": [],
   "source": [
    "y_col = 'm2_price'\n",
    "X_cols = ['room_cnt']\n",
    "\n",
    "X = df.loc[:, X_cols]\n",
    "y = df.loc[:, y_col]\n",
    "\n",
    "pred = cross_val_predict(model, X, y, cv=6)"
   ]
  },
  {
   "cell_type": "code",
   "execution_count": 31,
   "metadata": {},
   "outputs": [
    {
     "data": {
      "text/plain": [
       "0.4098979440580843"
      ]
     },
     "execution_count": null,
     "metadata": {},
     "output_type": "execute_result"
    }
   ],
   "source": [
    "mean_absolute_percentage_error(y, pred)"
   ]
  },
  {
   "cell_type": "code",
   "execution_count": 32,
   "metadata": {},
   "outputs": [],
   "source": [
    "df['pred'] = pred\n",
    "\n",
    "df['ape'] = abs(df['m2_price'] - df['pred'])  / df['m2_price']"
   ]
  },
  {
   "cell_type": "code",
   "execution_count": 33,
   "metadata": {},
   "outputs": [
    {
     "data": {
      "text/plain": [
       "count    183449.000000\n",
       "mean          0.409898\n",
       "std           1.166709\n",
       "min           0.000003\n",
       "25%           0.137054\n",
       "50%           0.296098\n",
       "75%           0.545423\n",
       "max         336.273762\n",
       "Name: ape, dtype: float64"
      ]
     },
     "execution_count": null,
     "metadata": {},
     "output_type": "execute_result"
    }
   ],
   "source": [
    "df['ape'].describe()"
   ]
  },
  {
   "cell_type": "code",
   "execution_count": 34,
   "metadata": {},
   "outputs": [
    {
     "data": {
      "text/plain": [
       "<Axes: >"
      ]
     },
     "execution_count": null,
     "metadata": {},
     "output_type": "execute_result"
    },
    {
     "data": {
      "image/png": "[encoded data removed]",
      "text/plain": [
       "<Figure size 640x480 with 1 Axes>"
      ]
     },
     "metadata": {},
     "output_type": "display_data"
    }
   ],
   "source": [
    "df['ape'].hist()"
   ]
  },
  {
   "cell_type": "code",
   "execution_count": 35,
   "metadata": {},
   "outputs": [],
   "source": [
    "low_m2_price = df['m2_price']<1e5\n",
    "high_m2_price = df['m2_price']>2e6"
   ]
  },
  {
   "cell_type": "code",
   "execution_count": 36,
   "metadata": {},
   "outputs": [
    {
     "data": {
      "text/plain": [
       "count    172.000000\n",
       "mean       8.446400\n",
       "std       34.495538\n",
       "min        0.665737\n",
       "25%        0.857762\n",
       "50%        0.928545\n",
       "75%        4.297307\n",
       "max      336.273762\n",
       "Name: ape, dtype: float64"
      ]
     },
     "execution_count": null,
     "metadata": {},
     "output_type": "execute_result"
    }
   ],
   "source": [
    "df.loc[low_m2_price | high_m2_price, 'ape'].describe()"
   ]
  },
  {
   "cell_type": "code",
   "execution_count": 37,
   "metadata": {},
   "outputs": [
    {
     "data": {
      "text/plain": [
       "count    183277.000000\n",
       "mean          0.402356\n",
       "std           0.437700\n",
       "min           0.000003\n",
       "25%           0.136608\n",
       "50%           0.295705\n",
       "75%           0.544294\n",
       "max          82.842099\n",
       "Name: ape, dtype: float64"
      ]
     },
     "execution_count": null,
     "metadata": {},
     "output_type": "execute_result"
    }
   ],
   "source": [
    "df.loc[~low_m2_price & ~high_m2_price, 'ape'].describe()"
   ]
  },
  {
   "cell_type": "markdown",
   "metadata": {},
   "source": [
    "# vegyuk ki az extrem gyanus arakat"
   ]
  },
  {
   "cell_type": "code",
   "execution_count": 29,
   "metadata": {},
   "outputs": [],
   "source": [
    "# df.loc[(feltetel1) & (feltetel2), [oszlopnevek]]\n",
    "# | or (vagy)\n",
    "# & and (es)\n",
    "# ~ not (nem)"
   ]
  },
  {
   "cell_type": "code",
   "execution_count": 38,
   "metadata": {},
   "outputs": [],
   "source": [
    "df = df.loc[~low_m2_price &\n",
    "            ~high_m2_price,\n",
    "      :].reset_index(drop=True)"
   ]
  },
  {
   "cell_type": "code",
   "execution_count": 39,
   "metadata": {},
   "outputs": [
    {
     "data": {
      "text/plain": [
       "(183277, 21)"
      ]
     },
     "execution_count": null,
     "metadata": {},
     "output_type": "execute_result"
    }
   ],
   "source": [
    "df.shape"
   ]
  },
  {
   "cell_type": "code",
   "execution_count": 32,
   "metadata": {},
   "outputs": [],
   "source": [
    "X = df.loc[:, X_cols]\n",
    "y = df.loc[:, y_col]\n",
    "\n",
    "pred = cross_val_predict(model, X, y, cv=6)"
   ]
  },
  {
   "cell_type": "code",
   "execution_count": 33,
   "metadata": {},
   "outputs": [
    {
     "data": {
      "text/plain": [
       "0.34730918584140225"
      ]
     },
     "execution_count": 33,
     "metadata": {},
     "output_type": "execute_result"
    }
   ],
   "source": [
    "mean_absolute_percentage_error(y, pred)"
   ]
  },
  {
   "cell_type": "code",
   "execution_count": 34,
   "metadata": {},
   "outputs": [],
   "source": [
    "df['pred'] = pred\n",
    "df['ape'] = abs(df['m2_price'] - df['pred'])  / df['m2_price']"
   ]
  },
  {
   "cell_type": "code",
   "execution_count": 35,
   "metadata": {},
   "outputs": [
    {
     "data": {
      "text/plain": [
       "count    183277.000000\n",
       "mean          0.347309\n",
       "std           0.298054\n",
       "min           0.000037\n",
       "25%           0.132084\n",
       "50%           0.275154\n",
       "75%           0.475072\n",
       "max           5.901628\n",
       "Name: ape, dtype: float64"
      ]
     },
     "execution_count": 35,
     "metadata": {},
     "output_type": "execute_result"
    }
   ],
   "source": [
    "df['ape'].describe()"
   ]
  },
  {
   "cell_type": "code",
   "execution_count": 36,
   "metadata": {},
   "outputs": [
    {
     "data": {
      "text/plain": [
       "LinearRegression()"
      ]
     },
     "execution_count": 36,
     "metadata": {},
     "output_type": "execute_result"
    }
   ],
   "source": [
    "model.fit(X.sample(100, random_state=1), y.sample(100, random_state=1))"
   ]
  },
  {
   "cell_type": "markdown",
   "metadata": {},
   "source": [
    "# X_cols bovites"
   ]
  },
  {
   "cell_type": "code",
   "execution_count": 37,
   "metadata": {},
   "outputs": [],
   "source": [
    "X_cols += ['property_area', 'small_room_cnt']"
   ]
  },
  {
   "cell_type": "code",
   "execution_count": 38,
   "metadata": {},
   "outputs": [
    {
     "data": {
      "text/plain": [
       "room_cnt            0\n",
       "property_area       0\n",
       "small_room_cnt    582\n",
       "dtype: int64"
      ]
     },
     "execution_count": 38,
     "metadata": {},
     "output_type": "execute_result"
    }
   ],
   "source": [
    "df.loc[:, X_cols].isnull().sum()"
   ]
  },
  {
   "cell_type": "code",
   "execution_count": 39,
   "metadata": {},
   "outputs": [],
   "source": [
    "df['small_room_cnt'] = df['small_room_cnt'].fillna(0)"
   ]
  },
  {
   "cell_type": "code",
   "execution_count": 40,
   "metadata": {},
   "outputs": [],
   "source": [
    "X = df.loc[:, X_cols]\n",
    "y = df.loc[:, y_col]\n",
    "\n",
    "pred = cross_val_predict(model, X, y, cv=6)"
   ]
  },
  {
   "cell_type": "code",
   "execution_count": 41,
   "metadata": {},
   "outputs": [
    {
     "data": {
      "text/plain": [
       "0.33889415142183216"
      ]
     },
     "execution_count": 41,
     "metadata": {},
     "output_type": "execute_result"
    }
   ],
   "source": [
    "mean_absolute_percentage_error(y, pred)"
   ]
  },
  {
   "cell_type": "code",
   "execution_count": 42,
   "metadata": {},
   "outputs": [],
   "source": [
    "df.loc[df['small_room_cnt']<0, 'small_room_cnt'] = 0"
   ]
  },
  {
   "cell_type": "code",
   "execution_count": 43,
   "metadata": {},
   "outputs": [],
   "source": [
    "df['room'] = df['room_cnt'] + (df['small_room_cnt'] / 2)"
   ]
  },
  {
   "cell_type": "code",
   "execution_count": 44,
   "metadata": {},
   "outputs": [],
   "source": [
    "df = df.loc[df['room']>0, :].reset_index(drop=True)"
   ]
  },
  {
   "cell_type": "code",
   "execution_count": 45,
   "metadata": {},
   "outputs": [],
   "source": [
    "df['area_by_room'] = (df['property_area'] / df['room'])"
   ]
  },
  {
   "cell_type": "code",
   "execution_count": 46,
   "metadata": {},
   "outputs": [],
   "source": [
    "df = df.loc[df['area_by_room']>=5, :].reset_index(drop=True)"
   ]
  },
  {
   "cell_type": "code",
   "execution_count": 47,
   "metadata": {},
   "outputs": [
    {
     "data": {
      "text/plain": [
       "0.3387051314332475"
      ]
     },
     "execution_count": 47,
     "metadata": {},
     "output_type": "execute_result"
    }
   ],
   "source": [
    "X = df.loc[:, X_cols]\n",
    "y = df.loc[:, y_col]\n",
    "\n",
    "pred = cross_val_predict(model, X, y, cv=6)\n",
    "\n",
    "mean_absolute_percentage_error(y, pred)"
   ]
  },
  {
   "cell_type": "code",
   "execution_count": 48,
   "metadata": {},
   "outputs": [],
   "source": [
    "X_cols += ['balcony_area']"
   ]
  },
  {
   "cell_type": "code",
   "execution_count": 49,
   "metadata": {},
   "outputs": [],
   "source": [
    "df['balcony_area'] = df['balcony_area'].fillna(0)"
   ]
  },
  {
   "cell_type": "code",
   "execution_count": 50,
   "metadata": {},
   "outputs": [
    {
     "data": {
      "text/plain": [
       "0.3731602847597669"
      ]
     },
     "execution_count": 50,
     "metadata": {},
     "output_type": "execute_result"
    }
   ],
   "source": [
    "X = df.loc[:, X_cols]\n",
    "y = df.loc[:, y_col]\n",
    "\n",
    "pred = cross_val_predict(model, X, y, cv=6)\n",
    "\n",
    "mean_absolute_percentage_error(y, pred)"
   ]
  },
  {
   "cell_type": "code",
   "execution_count": 51,
   "metadata": {},
   "outputs": [
    {
     "data": {
      "text/plain": [
       "<matplotlib.collections.PathCollection at 0x7f3d20ee4c10>"
      ]
     },
     "execution_count": 51,
     "metadata": {},
     "output_type": "execute_result"
    },
    {
     "data": {
      "image/png": "[encoded data removed]",
      "text/plain": [
       "<Figure size 432x288 with 1 Axes>"
      ]
     },
     "metadata": {
      "needs_background": "light"
     },
     "output_type": "display_data"
    }
   ],
   "source": [
    "plt.scatter(y, pred)"
   ]
  },
  {
   "cell_type": "code",
   "execution_count": 52,
   "metadata": {},
   "outputs": [],
   "source": [
    "df['pred'] = pred\n",
    "df['ape'] = abs(df['m2_price'] - df['pred'])  / df['m2_price']"
   ]
  },
  {
   "cell_type": "code",
   "execution_count": 53,
   "metadata": {
    "scrolled": true
   },
   "outputs": [
    {
     "data": {
      "text/html": [
       "<div>\n",
       "<style scoped>\n",
       "    .dataframe tbody tr th:only-of-type {\n",
       "        vertical-align: middle;\n",
       "    }\n",
       "\n",
       "    .dataframe tbody tr th {\n",
       "        vertical-align: top;\n",
       "    }\n",
       "\n",
       "    .dataframe thead th {\n",
       "        text-align: right;\n",
       "    }\n",
       "</style>\n",
       "<table border=\"1\" class=\"dataframe\">\n",
       "  <thead>\n",
       "    <tr style=\"text-align: right;\">\n",
       "      <th></th>\n",
       "      <th>room_cnt</th>\n",
       "      <th>property_area</th>\n",
       "      <th>small_room_cnt</th>\n",
       "      <th>balcony_area</th>\n",
       "    </tr>\n",
       "  </thead>\n",
       "  <tbody>\n",
       "    <tr>\n",
       "      <th>162880</th>\n",
       "      <td>3.0</td>\n",
       "      <td>65.0</td>\n",
       "      <td>0.0</td>\n",
       "      <td>990257.0</td>\n",
       "    </tr>\n",
       "    <tr>\n",
       "      <th>40222</th>\n",
       "      <td>1.0</td>\n",
       "      <td>10.0</td>\n",
       "      <td>0.0</td>\n",
       "      <td>0.0</td>\n",
       "    </tr>\n",
       "    <tr>\n",
       "      <th>99716</th>\n",
       "      <td>1.0</td>\n",
       "      <td>10.0</td>\n",
       "      <td>0.0</td>\n",
       "      <td>0.0</td>\n",
       "    </tr>\n",
       "    <tr>\n",
       "      <th>38307</th>\n",
       "      <td>1.0</td>\n",
       "      <td>10.0</td>\n",
       "      <td>1.0</td>\n",
       "      <td>0.0</td>\n",
       "    </tr>\n",
       "    <tr>\n",
       "      <th>48464</th>\n",
       "      <td>1.0</td>\n",
       "      <td>10.0</td>\n",
       "      <td>1.0</td>\n",
       "      <td>0.0</td>\n",
       "    </tr>\n",
       "    <tr>\n",
       "      <th>...</th>\n",
       "      <td>...</td>\n",
       "      <td>...</td>\n",
       "      <td>...</td>\n",
       "      <td>...</td>\n",
       "    </tr>\n",
       "    <tr>\n",
       "      <th>14249</th>\n",
       "      <td>1.0</td>\n",
       "      <td>35.0</td>\n",
       "      <td>0.0</td>\n",
       "      <td>0.0</td>\n",
       "    </tr>\n",
       "    <tr>\n",
       "      <th>29740</th>\n",
       "      <td>1.0</td>\n",
       "      <td>35.0</td>\n",
       "      <td>0.0</td>\n",
       "      <td>0.0</td>\n",
       "    </tr>\n",
       "    <tr>\n",
       "      <th>29707</th>\n",
       "      <td>1.0</td>\n",
       "      <td>35.0</td>\n",
       "      <td>0.0</td>\n",
       "      <td>0.0</td>\n",
       "    </tr>\n",
       "    <tr>\n",
       "      <th>29475</th>\n",
       "      <td>1.0</td>\n",
       "      <td>35.0</td>\n",
       "      <td>0.0</td>\n",
       "      <td>0.0</td>\n",
       "    </tr>\n",
       "    <tr>\n",
       "      <th>146212</th>\n",
       "      <td>1.0</td>\n",
       "      <td>20.0</td>\n",
       "      <td>0.0</td>\n",
       "      <td>0.0</td>\n",
       "    </tr>\n",
       "  </tbody>\n",
       "</table>\n",
       "<p>183225 rows × 4 columns</p>\n",
       "</div>"
      ],
      "text/plain": [
       "        room_cnt  property_area  small_room_cnt  balcony_area\n",
       "162880       3.0           65.0             0.0      990257.0\n",
       "40222        1.0           10.0             0.0           0.0\n",
       "99716        1.0           10.0             0.0           0.0\n",
       "38307        1.0           10.0             1.0           0.0\n",
       "48464        1.0           10.0             1.0           0.0\n",
       "...          ...            ...             ...           ...\n",
       "14249        1.0           35.0             0.0           0.0\n",
       "29740        1.0           35.0             0.0           0.0\n",
       "29707        1.0           35.0             0.0           0.0\n",
       "29475        1.0           35.0             0.0           0.0\n",
       "146212       1.0           20.0             0.0           0.0\n",
       "\n",
       "[183225 rows x 4 columns]"
      ]
     },
     "execution_count": 53,
     "metadata": {},
     "output_type": "execute_result"
    }
   ],
   "source": [
    "df.sort_values('ape', ascending=False).loc[:, X_cols]"
   ]
  },
  {
   "cell_type": "code",
   "execution_count": 54,
   "metadata": {},
   "outputs": [
    {
     "data": {
      "text/plain": [
       "0.33827197339470044"
      ]
     },
     "execution_count": 54,
     "metadata": {},
     "output_type": "execute_result"
    }
   ],
   "source": [
    "df.loc[df['balcony_area']<1e5, 'ape'].mean()"
   ]
  },
  {
   "cell_type": "code",
   "execution_count": null,
   "metadata": {},
   "outputs": [],
   "source": []
  },
  {
   "cell_type": "code",
   "execution_count": 55,
   "metadata": {},
   "outputs": [],
   "source": [
    "df = df.loc[df['balcony_area']<df['property_area'], :].reset_index(drop=True)"
   ]
  },
  {
   "cell_type": "code",
   "execution_count": 56,
   "metadata": {},
   "outputs": [
    {
     "data": {
      "text/plain": [
       "0.3348684769273364"
      ]
     },
     "execution_count": 56,
     "metadata": {},
     "output_type": "execute_result"
    }
   ],
   "source": [
    "X = df.loc[:, X_cols]\n",
    "y = df.loc[:, y_col]\n",
    "\n",
    "pred = cross_val_predict(model, X, y, cv=4)\n",
    "\n",
    "mean_absolute_percentage_error(y, pred)"
   ]
  },
  {
   "cell_type": "code",
   "execution_count": 57,
   "metadata": {},
   "outputs": [
    {
     "data": {
      "text/plain": [
       "[<matplotlib.lines.Line2D at 0x7f3d20e6a910>]"
      ]
     },
     "execution_count": 57,
     "metadata": {},
     "output_type": "execute_result"
    },
    {
     "data": {
      "image/png": "[encoded data removed]",
      "text/plain": [
       "<Figure size 504x504 with 1 Axes>"
      ]
     },
     "metadata": {
      "needs_background": "light"
     },
     "output_type": "display_data"
    }
   ],
   "source": [
    "plt.figure(figsize=(7, 7))\n",
    "plt.scatter(y, pred, alpha=0.25)\n",
    "plt.plot([0,1e6], [0, 1e6], color='r')"
   ]
  },
  {
   "cell_type": "markdown",
   "metadata": {},
   "source": [
    "# property subtype"
   ]
  },
  {
   "cell_type": "code",
   "execution_count": 58,
   "metadata": {},
   "outputs": [
    {
     "data": {
      "text/plain": [
       "brick flat (for sale)                  133168\n",
       "prefabricated panel flat (for sale)     46067\n",
       "terraced house                              2\n",
       "prefabricated panel flat (for rent)         1\n",
       "Name: property_subtype, dtype: int64"
      ]
     },
     "execution_count": 58,
     "metadata": {},
     "output_type": "execute_result"
    }
   ],
   "source": [
    "df['property_subtype'].value_counts()"
   ]
  },
  {
   "cell_type": "code",
   "execution_count": 59,
   "metadata": {},
   "outputs": [],
   "source": [
    "usable_subtypes = ['brick flat (for sale)', 'prefabricated panel flat (for sale)']"
   ]
  },
  {
   "cell_type": "code",
   "execution_count": 60,
   "metadata": {},
   "outputs": [],
   "source": [
    "df = df.loc[df['property_subtype'].isin(usable_subtypes), :].reset_index(drop=True)"
   ]
  },
  {
   "cell_type": "code",
   "execution_count": 61,
   "metadata": {},
   "outputs": [],
   "source": [
    "df['property_subtype'] = df['property_subtype'].apply(lambda x: 1 if x == 'brick flat (for sale)' else 0)"
   ]
  },
  {
   "cell_type": "code",
   "execution_count": 62,
   "metadata": {},
   "outputs": [],
   "source": [
    "X_cols += ['property_subtype']"
   ]
  },
  {
   "cell_type": "code",
   "execution_count": 63,
   "metadata": {},
   "outputs": [
    {
     "data": {
      "text/plain": [
       "room_cnt            0\n",
       "property_area       0\n",
       "small_room_cnt      0\n",
       "balcony_area        0\n",
       "property_subtype    0\n",
       "dtype: int64"
      ]
     },
     "execution_count": 63,
     "metadata": {},
     "output_type": "execute_result"
    }
   ],
   "source": [
    "df.loc[:, X_cols].isnull().sum()"
   ]
  },
  {
   "cell_type": "code",
   "execution_count": 64,
   "metadata": {},
   "outputs": [
    {
     "data": {
      "text/plain": [
       "0.2921080132596165"
      ]
     },
     "execution_count": 64,
     "metadata": {},
     "output_type": "execute_result"
    }
   ],
   "source": [
    "X = df.loc[:, X_cols]\n",
    "y = df.loc[:, y_col]\n",
    "\n",
    "pred = cross_val_predict(model, X, y, cv=4)\n",
    "\n",
    "mean_absolute_percentage_error(y, pred)"
   ]
  },
  {
   "cell_type": "markdown",
   "metadata": {},
   "source": [
    "# kerulet dummy"
   ]
  },
  {
   "cell_type": "code",
   "execution_count": 65,
   "metadata": {},
   "outputs": [],
   "source": [
    "city_dummies = pd.get_dummies(df['city'], prefix='city', drop_first=True)"
   ]
  },
  {
   "cell_type": "code",
   "execution_count": 66,
   "metadata": {},
   "outputs": [],
   "source": [
    "df = pd.concat([df, city_dummies], axis=1)"
   ]
  },
  {
   "cell_type": "code",
   "execution_count": 67,
   "metadata": {},
   "outputs": [],
   "source": [
    "X_cols += city_dummies.columns.tolist()"
   ]
  },
  {
   "cell_type": "code",
   "execution_count": 68,
   "metadata": {},
   "outputs": [
    {
     "data": {
      "text/plain": [
       "0.22292493259422483"
      ]
     },
     "execution_count": 68,
     "metadata": {},
     "output_type": "execute_result"
    }
   ],
   "source": [
    "X = df.loc[:, X_cols]\n",
    "y = df.loc[:, y_col]\n",
    "\n",
    "pred = cross_val_predict(model, X, y, cv=4)\n",
    "\n",
    "mean_absolute_percentage_error(y, pred)"
   ]
  },
  {
   "cell_type": "markdown",
   "metadata": {},
   "source": [
    "# heating dummy"
   ]
  },
  {
   "cell_type": "code",
   "execution_count": 69,
   "metadata": {},
   "outputs": [
    {
     "data": {
      "text/plain": [
       "konvection gas burner                 49097\n",
       "gas furnace, circulating hot water    34179\n",
       "district heating                      28902\n",
       "central heating with own meter        18984\n",
       "central heating                       12034\n",
       "electric                               4864\n",
       "tile stove (gas)                       2976\n",
       "other                                  2119\n",
       "fan-coil                                295\n",
       "gas furnace                              21\n",
       "gas + solar                               1\n",
       "Name: heating_type, dtype: int64"
      ]
     },
     "execution_count": 69,
     "metadata": {},
     "output_type": "execute_result"
    }
   ],
   "source": [
    "df['heating_type'].value_counts()"
   ]
  },
  {
   "cell_type": "code",
   "execution_count": 70,
   "metadata": {},
   "outputs": [],
   "source": [
    "rare_heating_types = df['heating_type'].value_counts()[df['heating_type'].value_counts()<2e3].index"
   ]
  },
  {
   "cell_type": "code",
   "execution_count": 71,
   "metadata": {},
   "outputs": [],
   "source": [
    "df.loc[df['heating_type'].isin(rare_heating_types), 'heating_type'] = 'other'"
   ]
  },
  {
   "cell_type": "code",
   "execution_count": 72,
   "metadata": {},
   "outputs": [
    {
     "data": {
      "text/plain": [
       "konvection gas burner                 49097\n",
       "gas furnace, circulating hot water    34179\n",
       "district heating                      28902\n",
       "central heating with own meter        18984\n",
       "central heating                       12034\n",
       "electric                               4864\n",
       "tile stove (gas)                       2976\n",
       "other                                  2436\n",
       "Name: heating_type, dtype: int64"
      ]
     },
     "execution_count": 72,
     "metadata": {},
     "output_type": "execute_result"
    }
   ],
   "source": [
    "df['heating_type'].value_counts()"
   ]
  },
  {
   "cell_type": "code",
   "execution_count": null,
   "metadata": {},
   "outputs": [],
   "source": []
  },
  {
   "cell_type": "code",
   "execution_count": 73,
   "metadata": {},
   "outputs": [],
   "source": [
    "heating_dummies = pd.get_dummies(df['heating_type'], prefix='heating', drop_first=True)"
   ]
  },
  {
   "cell_type": "code",
   "execution_count": 74,
   "metadata": {},
   "outputs": [],
   "source": [
    "df = pd.concat([df, heating_dummies], axis=1)"
   ]
  },
  {
   "cell_type": "code",
   "execution_count": 75,
   "metadata": {},
   "outputs": [],
   "source": [
    "X_cols += heating_dummies.columns.tolist()"
   ]
  },
  {
   "cell_type": "code",
   "execution_count": 76,
   "metadata": {},
   "outputs": [
    {
     "data": {
      "text/plain": [
       "0.2116690520493343"
      ]
     },
     "execution_count": 76,
     "metadata": {},
     "output_type": "execute_result"
    }
   ],
   "source": [
    "X = df.loc[:, X_cols]\n",
    "y = df.loc[:, y_col]\n",
    "\n",
    "pred = cross_val_predict(model, X, y, cv=4)\n",
    "\n",
    "mean_absolute_percentage_error(y, pred)"
   ]
  },
  {
   "cell_type": "markdown",
   "metadata": {},
   "source": [
    "# condition labeling"
   ]
  },
  {
   "cell_type": "code",
   "execution_count": 77,
   "metadata": {},
   "outputs": [
    {
     "data": {
      "text/plain": [
       "good                  60228\n",
       "novel                 36347\n",
       "renewed               27721\n",
       "medium                25147\n",
       "to_be_renovated       13991\n",
       "missing_info           7941\n",
       "new_construction       6828\n",
       "can_move_in            1003\n",
       "under_construction       29\n",
       "Name: property_condition_type, dtype: int64"
      ]
     },
     "execution_count": 77,
     "metadata": {},
     "output_type": "execute_result"
    }
   ],
   "source": [
    "df['property_condition_type'].value_counts()"
   ]
  },
  {
   "cell_type": "code",
   "execution_count": 78,
   "metadata": {},
   "outputs": [],
   "source": [
    "condition_dict = {\n",
    "    'missing_info':1,\n",
    "    'under_construction':1,\n",
    "    'to_be_renovated':2,\n",
    "    'can_move_in':3,\n",
    "    'medium':3,\n",
    "    'good':4,\n",
    "    'renewed':4,\n",
    "    'novel':5,\n",
    "    'new_construction':5\n",
    "}"
   ]
  },
  {
   "cell_type": "code",
   "execution_count": 79,
   "metadata": {},
   "outputs": [],
   "source": [
    "df['property_condition_type'] = df['property_condition_type'].map(condition_dict)"
   ]
  },
  {
   "cell_type": "code",
   "execution_count": 80,
   "metadata": {},
   "outputs": [],
   "source": [
    "X_cols += ['property_condition_type']"
   ]
  },
  {
   "cell_type": "code",
   "execution_count": 81,
   "metadata": {},
   "outputs": [
    {
     "data": {
      "text/plain": [
       "0.2050238846119355"
      ]
     },
     "execution_count": 81,
     "metadata": {},
     "output_type": "execute_result"
    }
   ],
   "source": [
    "X = df.loc[:, X_cols]\n",
    "y = df.loc[:, y_col]\n",
    "\n",
    "pred = cross_val_predict(model, X, y, cv=4)\n",
    "\n",
    "mean_absolute_percentage_error(y, pred)"
   ]
  },
  {
   "cell_type": "markdown",
   "metadata": {},
   "source": [
    "# elevator"
   ]
  },
  {
   "cell_type": "code",
   "execution_count": 82,
   "metadata": {},
   "outputs": [
    {
     "data": {
      "text/plain": [
       "yes     79628\n",
       "none    66677\n",
       "NaN     32930\n",
       "Name: elevator_type, dtype: int64"
      ]
     },
     "execution_count": 82,
     "metadata": {},
     "output_type": "execute_result"
    }
   ],
   "source": [
    "df['elevator_type'].value_counts(dropna=False)"
   ]
  },
  {
   "cell_type": "code",
   "execution_count": 83,
   "metadata": {},
   "outputs": [],
   "source": [
    "elevator_map = df.groupby(['property_subtype', 'elevator_type']).size().unstack().idxmax(axis=1)"
   ]
  },
  {
   "cell_type": "code",
   "execution_count": 84,
   "metadata": {},
   "outputs": [],
   "source": [
    "df.loc[df['elevator_type'].isnull(), 'elevator_type'] =\\\n",
    "df.loc[df['elevator_type'].isnull(), 'property_subtype'].map(elevator_map)"
   ]
  },
  {
   "cell_type": "code",
   "execution_count": 85,
   "metadata": {},
   "outputs": [
    {
     "data": {
      "text/plain": [
       "none    93830\n",
       "yes     85405\n",
       "Name: elevator_type, dtype: int64"
      ]
     },
     "execution_count": 85,
     "metadata": {},
     "output_type": "execute_result"
    }
   ],
   "source": [
    "df['elevator_type'].value_counts(dropna=False)"
   ]
  },
  {
   "cell_type": "code",
   "execution_count": 86,
   "metadata": {},
   "outputs": [],
   "source": [
    "df['elevator_type'] = df['elevator_type'].apply(lambda x: 1 if x=='yes' else 0)"
   ]
  },
  {
   "cell_type": "code",
   "execution_count": 87,
   "metadata": {},
   "outputs": [],
   "source": [
    "X_cols += ['elevator_type']"
   ]
  },
  {
   "cell_type": "code",
   "execution_count": 88,
   "metadata": {},
   "outputs": [
    {
     "data": {
      "text/plain": [
       "0.20389615193498004"
      ]
     },
     "execution_count": 88,
     "metadata": {},
     "output_type": "execute_result"
    }
   ],
   "source": [
    "X = df.loc[:, X_cols]\n",
    "y = df.loc[:, y_col]\n",
    "\n",
    "pred = cross_val_predict(model, X, y, cv=4)\n",
    "\n",
    "mean_absolute_percentage_error(y, pred)"
   ]
  },
  {
   "cell_type": "markdown",
   "metadata": {},
   "source": [
    "# property_floor"
   ]
  },
  {
   "cell_type": "code",
   "execution_count": 89,
   "metadata": {},
   "outputs": [
    {
     "data": {
      "text/plain": [
       "1                  33516\n",
       "2                  29378\n",
       "ground floor       28589\n",
       "3                  24399\n",
       "4                  14384\n",
       "NaN                 8764\n",
       "mezzanine floor     8610\n",
       "5                   7955\n",
       "6                   5620\n",
       "7                   4257\n",
       "8                   3897\n",
       "10                  3849\n",
       "9                   3803\n",
       "10 plus             1152\n",
       "basement            1062\n",
       "Name: property_floor, dtype: int64"
      ]
     },
     "execution_count": 89,
     "metadata": {},
     "output_type": "execute_result"
    }
   ],
   "source": [
    "df['property_floor'].value_counts(dropna=False)"
   ]
  },
  {
   "cell_type": "code",
   "execution_count": 90,
   "metadata": {},
   "outputs": [],
   "source": [
    "floor_map = {\n",
    "    'ground floor': 0,\n",
    "    'mezzanine floor': 0.5,\n",
    "    '10 plus': 11,\n",
    "    'basement': -1\n",
    "}"
   ]
  },
  {
   "cell_type": "code",
   "execution_count": 91,
   "metadata": {},
   "outputs": [],
   "source": [
    "df.loc[df['property_floor'].isin(floor_map.keys()), 'property_floor'] =\\\n",
    "df.loc[df['property_floor'].isin(floor_map.keys()), 'property_floor'].map(floor_map)"
   ]
  },
  {
   "cell_type": "code",
   "execution_count": 92,
   "metadata": {},
   "outputs": [],
   "source": [
    "df['property_floor'] = df['property_floor'].astype(float)"
   ]
  },
  {
   "cell_type": "code",
   "execution_count": 93,
   "metadata": {},
   "outputs": [],
   "source": [
    "df['property_floor'] = df['property_floor'].fillna(df['property_floor'].mean())"
   ]
  },
  {
   "cell_type": "code",
   "execution_count": 94,
   "metadata": {},
   "outputs": [],
   "source": [
    "X_cols += ['property_floor']"
   ]
  },
  {
   "cell_type": "code",
   "execution_count": 95,
   "metadata": {},
   "outputs": [
    {
     "data": {
      "text/plain": [
       "0.20409963474830653"
      ]
     },
     "execution_count": 95,
     "metadata": {},
     "output_type": "execute_result"
    }
   ],
   "source": [
    "X = df.loc[:, X_cols]\n",
    "y = df.loc[:, y_col]\n",
    "\n",
    "pred = cross_val_predict(model, X, y, cv=4)\n",
    "\n",
    "mean_absolute_percentage_error(y, pred)"
   ]
  },
  {
   "cell_type": "code",
   "execution_count": 96,
   "metadata": {},
   "outputs": [
    {
     "data": {
      "text/plain": [
       "[<matplotlib.lines.Line2D at 0x7f3d20de8e80>]"
      ]
     },
     "execution_count": 96,
     "metadata": {},
     "output_type": "execute_result"
    },
    {
     "data": {
      "image/png": "[encoded data removed]",
      "text/plain": [
       "<Figure size 504x504 with 1 Axes>"
      ]
     },
     "metadata": {
      "needs_background": "light"
     },
     "output_type": "display_data"
    }
   ],
   "source": [
    "plt.figure(figsize=(7, 7))\n",
    "plt.scatter(y, pred, alpha=0.25)\n",
    "plt.plot([0,1e6], [0, 1e6], color='r')"
   ]
  },
  {
   "cell_type": "markdown",
   "metadata": {},
   "source": [
    "# CONCLUSION"
   ]
  },
  {
   "cell_type": "code",
   "execution_count": 97,
   "metadata": {},
   "outputs": [],
   "source": [
    "df['pred'] = pred\n",
    "df['ape'] = abs(df['m2_price'] - df['pred']) / df['m2_price']"
   ]
  },
  {
   "cell_type": "code",
   "execution_count": 98,
   "metadata": {},
   "outputs": [
    {
     "data": {
      "text/plain": [
       "<AxesSubplot:ylabel='property_condition_type'>"
      ]
     },
     "execution_count": 98,
     "metadata": {},
     "output_type": "execute_result"
    },
    {
     "data": {
      "image/png": "[encoded data removed]",
      "text/plain": [
       "<Figure size 432x288 with 1 Axes>"
      ]
     },
     "metadata": {
      "needs_background": "light"
     },
     "output_type": "display_data"
    }
   ],
   "source": [
    "df.groupby('property_condition_type')['ape'].mean().sort_values().plot(kind='barh')"
   ]
  },
  {
   "cell_type": "code",
   "execution_count": 99,
   "metadata": {
    "scrolled": true
   },
   "outputs": [
    {
     "data": {
      "text/plain": [
       "property_subtype\n",
       "0    0.167480\n",
       "1    0.216767\n",
       "Name: ape, dtype: float64"
      ]
     },
     "execution_count": 99,
     "metadata": {},
     "output_type": "execute_result"
    }
   ],
   "source": [
    "df.groupby('property_subtype')['ape'].mean()"
   ]
  },
  {
   "cell_type": "code",
   "execution_count": 100,
   "metadata": {},
   "outputs": [
    {
     "data": {
      "text/plain": [
       "<AxesSubplot:ylabel='city'>"
      ]
     },
     "execution_count": 100,
     "metadata": {},
     "output_type": "execute_result"
    },
    {
     "data": {
      "image/png": "[encoded data removed]",
      "text/plain": [
       "<Figure size 504x504 with 1 Axes>"
      ]
     },
     "metadata": {
      "needs_background": "light"
     },
     "output_type": "display_data"
    }
   ],
   "source": [
    "df.groupby('city')['ape'].mean().sort_values().plot(kind='barh', figsize=(7,7))"
   ]
  },
  {
   "cell_type": "markdown",
   "metadata": {},
   "source": [
    "# RFE -  recursive feature elimination"
   ]
  },
  {
   "cell_type": "code",
   "execution_count": 101,
   "metadata": {},
   "outputs": [],
   "source": [
    "from sklearn.feature_selection import RFE"
   ]
  },
  {
   "cell_type": "code",
   "execution_count": 102,
   "metadata": {},
   "outputs": [
    {
     "data": {
      "text/plain": [
       "RFE(estimator=LinearRegression(), n_features_to_select=30)"
      ]
     },
     "execution_count": 102,
     "metadata": {},
     "output_type": "execute_result"
    }
   ],
   "source": [
    "selector = RFE(model, n_features_to_select=30, step=1)\n",
    "selector.fit(X, y)"
   ]
  },
  {
   "cell_type": "code",
   "execution_count": 103,
   "metadata": {},
   "outputs": [
    {
     "data": {
      "text/plain": [
       "0.20725081858975025"
      ]
     },
     "execution_count": 103,
     "metadata": {},
     "output_type": "execute_result"
    }
   ],
   "source": [
    "(abs(cross_val_predict(model, df.loc[:, X.columns[selector.support_]], y, cv=6) - y) / y).mean()"
   ]
  },
  {
   "cell_type": "code",
   "execution_count": 104,
   "metadata": {},
   "outputs": [
    {
     "data": {
      "text/plain": [
       "0.20725081858975025"
      ]
     },
     "execution_count": 104,
     "metadata": {},
     "output_type": "execute_result"
    }
   ],
   "source": [
    "(abs(cross_val_predict(model, df.loc[:, X.columns[selector.support_]], y, cv=6) - y) / y).mean()"
   ]
  },
  {
   "cell_type": "code",
   "execution_count": 110,
   "metadata": {},
   "outputs": [
    {
     "name": "stdout",
     "output_type": "stream",
     "text": [
      "feat_num: 1, score: 0.3277038427905641\n",
      "feat_num: 2, score: 0.3272836778253894\n",
      "feat_num: 3, score: 0.3211271585547182\n",
      "feat_num: 4, score: 0.2782142416913642\n",
      "feat_num: 5, score: 0.273629742939881\n",
      "feat_num: 6, score: 0.2686996999913785\n",
      "feat_num: 7, score: 0.2648834781745415\n",
      "feat_num: 8, score: 0.2615849387053346\n",
      "feat_num: 9, score: 0.25551885801788243\n",
      "feat_num: 10, score: 0.25482791568012025\n",
      "feat_num: 11, score: 0.2544883679191882\n",
      "feat_num: 12, score: 0.2530924962854864\n",
      "feat_num: 13, score: 0.24905292138421553\n",
      "feat_num: 14, score: 0.2444680412316414\n",
      "feat_num: 15, score: 0.244156472338408\n",
      "feat_num: 16, score: 0.23909363980343468\n",
      "feat_num: 17, score: 0.23399104825328837\n",
      "feat_num: 18, score: 0.22972326616555658\n",
      "feat_num: 19, score: 0.2292504402946845\n",
      "feat_num: 20, score: 0.22868669477296374\n",
      "feat_num: 21, score: 0.22741076307262745\n",
      "feat_num: 22, score: 0.22551614077344062\n",
      "feat_num: 23, score: 0.2252284066884123\n",
      "feat_num: 24, score: 0.22012207288724425\n",
      "feat_num: 25, score: 0.21887360690627608\n",
      "feat_num: 26, score: 0.21108892230978957\n",
      "feat_num: 27, score: 0.20888770577707347\n",
      "feat_num: 28, score: 0.20880499836962021\n",
      "feat_num: 29, score: 0.20726938549178933\n",
      "feat_num: 30, score: 0.20725081858974143\n",
      "feat_num: 31, score: 0.20727253245271104\n",
      "feat_num: 32, score: 0.20721881167496853\n",
      "feat_num: 33, score: 0.2057182068413149\n",
      "feat_num: 34, score: 0.19804200315516757\n",
      "feat_num: 35, score: 0.19806257845666575\n",
      "feat_num: 36, score: 0.19807180042325503\n",
      "feat_num: 37, score: 0.19827637445174506\n"
     ]
    }
   ],
   "source": [
    "mape_list = []\n",
    "for i in range(len(X.columns)):\n",
    "    feat_num = i + 1\n",
    "    selector = RFE(model, n_features_to_select=feat_num, step=1)\n",
    "    selector.fit(X, y)\n",
    "    pred = cross_val_predict(model, df.loc[:, X.columns[selector.support_]], y, cv=6)\n",
    "    score = mean_absolute_percentage_error(y, pred)\n",
    "    print(f'feat_num: {feat_num}, score: {score}')\n",
    "    mape_list.append(score)"
   ]
  },
  {
   "cell_type": "code",
   "execution_count": 111,
   "metadata": {},
   "outputs": [
    {
     "data": {
      "text/plain": [
       "[<matplotlib.lines.Line2D at 0x7f3d1f079e20>]"
      ]
     },
     "execution_count": 111,
     "metadata": {},
     "output_type": "execute_result"
    },
    {
     "data": {
      "image/png": "[encoded data removed]",
      "text/plain": [
       "<Figure size 432x288 with 1 Axes>"
      ]
     },
     "metadata": {
      "needs_background": "light"
     },
     "output_type": "display_data"
    }
   ],
   "source": [
    "plt.plot(mape_list)"
   ]
  },
  {
   "cell_type": "code",
   "execution_count": null,
   "metadata": {},
   "outputs": [],
   "source": []
  }
 ],
 "metadata": {
  "kernelspec": {
   "display_name": "Python 3 (ipykernel)",
   "language": "python",
   "name": "python3"
  },
  "language_info": {
   "codemirror_mode": {
    "name": "ipython",
    "version": 3
   },
   "file_extension": ".py",
   "mimetype": "text/x-python",
   "name": "python",
   "nbconvert_exporter": "python",
   "pygments_lexer": "ipython3",
   "version": "3.9.7"
  }
 },
 "nbformat": 4,
 "nbformat_minor": 4
}
