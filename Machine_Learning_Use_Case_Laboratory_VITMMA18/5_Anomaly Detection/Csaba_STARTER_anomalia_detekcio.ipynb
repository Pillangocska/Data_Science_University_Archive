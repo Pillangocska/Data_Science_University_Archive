{
 "cells": [
  {
   "cell_type": "code",
   "execution_count": 1,
   "id": "0ca3b159",
   "metadata": {},
   "outputs": [],
   "source": [
    "import pandas as pd\n",
    "import matplotlib.pyplot as plt\n",
    "\n",
    "from sklearn.preprocessing import StandardScaler\n",
    "from sklearn.ensemble import IsolationForest\n",
    "from sklearn.cluster import KMeans, DBSCAN\n",
    "from sklearn.neighbors import NearestNeighbors\n",
    "from sklearn.linear_model import LogisticRegression\n",
    "from sklearn.model_selection import cross_val_predict\n",
    "\n",
    "import tqdm\n",
    "\n",
    "%matplotlib inline\n",
    "\n",
    "import sherlock # eset kivizsgalo szimulator"
   ]
  },
  {
   "cell_type": "code",
   "execution_count": 2,
   "id": "88853d97",
   "metadata": {},
   "outputs": [],
   "source": [
    "df =  pd.read_csv(\"./Dataset_Anomaly_Init_R2.csv\") # dataset\n",
    "sec = pd.read_csv(\"./Dataset_Anomaly_Secret_R2.csv\") # megoldas"
   ]
  },
  {
   "cell_type": "code",
   "execution_count": 3,
   "id": "ba2fc1c6",
   "metadata": {},
   "outputs": [
    {
     "data": {
      "text/html": [
       "<div>\n",
       "<style scoped>\n",
       "    .dataframe tbody tr th:only-of-type {\n",
       "        vertical-align: middle;\n",
       "    }\n",
       "\n",
       "    .dataframe tbody tr th {\n",
       "        vertical-align: top;\n",
       "    }\n",
       "\n",
       "    .dataframe thead th {\n",
       "        text-align: right;\n",
       "    }\n",
       "</style>\n",
       "<table border=\"1\" class=\"dataframe\">\n",
       "  <thead>\n",
       "    <tr style=\"text-align: right;\">\n",
       "      <th></th>\n",
       "      <th>1</th>\n",
       "      <th>2</th>\n",
       "      <th>3</th>\n",
       "      <th>4</th>\n",
       "      <th>5</th>\n",
       "      <th>6</th>\n",
       "      <th>7</th>\n",
       "      <th>8</th>\n",
       "      <th>9</th>\n",
       "      <th>10</th>\n",
       "      <th>11</th>\n",
       "      <th>12</th>\n",
       "      <th>13</th>\n",
       "      <th>14</th>\n",
       "      <th>15</th>\n",
       "      <th>16</th>\n",
       "      <th>ID</th>\n",
       "    </tr>\n",
       "  </thead>\n",
       "  <tbody>\n",
       "    <tr>\n",
       "      <th>0</th>\n",
       "      <td>8</td>\n",
       "      <td>10</td>\n",
       "      <td>12</td>\n",
       "      <td>8</td>\n",
       "      <td>9</td>\n",
       "      <td>10</td>\n",
       "      <td>6</td>\n",
       "      <td>2</td>\n",
       "      <td>5</td>\n",
       "      <td>9</td>\n",
       "      <td>5</td>\n",
       "      <td>7</td>\n",
       "      <td>8</td>\n",
       "      <td>7</td>\n",
       "      <td>2</td>\n",
       "      <td>8</td>\n",
       "      <td>0</td>\n",
       "    </tr>\n",
       "    <tr>\n",
       "      <th>1</th>\n",
       "      <td>4</td>\n",
       "      <td>2</td>\n",
       "      <td>5</td>\n",
       "      <td>3</td>\n",
       "      <td>3</td>\n",
       "      <td>8</td>\n",
       "      <td>6</td>\n",
       "      <td>6</td>\n",
       "      <td>4</td>\n",
       "      <td>6</td>\n",
       "      <td>7</td>\n",
       "      <td>8</td>\n",
       "      <td>7</td>\n",
       "      <td>6</td>\n",
       "      <td>2</td>\n",
       "      <td>6</td>\n",
       "      <td>1</td>\n",
       "    </tr>\n",
       "    <tr>\n",
       "      <th>2</th>\n",
       "      <td>2</td>\n",
       "      <td>0</td>\n",
       "      <td>3</td>\n",
       "      <td>1</td>\n",
       "      <td>1</td>\n",
       "      <td>7</td>\n",
       "      <td>8</td>\n",
       "      <td>4</td>\n",
       "      <td>0</td>\n",
       "      <td>7</td>\n",
       "      <td>8</td>\n",
       "      <td>8</td>\n",
       "      <td>7</td>\n",
       "      <td>9</td>\n",
       "      <td>0</td>\n",
       "      <td>8</td>\n",
       "      <td>2</td>\n",
       "    </tr>\n",
       "    <tr>\n",
       "      <th>3</th>\n",
       "      <td>2</td>\n",
       "      <td>3</td>\n",
       "      <td>3</td>\n",
       "      <td>2</td>\n",
       "      <td>2</td>\n",
       "      <td>7</td>\n",
       "      <td>9</td>\n",
       "      <td>5</td>\n",
       "      <td>4</td>\n",
       "      <td>7</td>\n",
       "      <td>6</td>\n",
       "      <td>7</td>\n",
       "      <td>5</td>\n",
       "      <td>9</td>\n",
       "      <td>2</td>\n",
       "      <td>7</td>\n",
       "      <td>3</td>\n",
       "    </tr>\n",
       "    <tr>\n",
       "      <th>4</th>\n",
       "      <td>5</td>\n",
       "      <td>9</td>\n",
       "      <td>8</td>\n",
       "      <td>7</td>\n",
       "      <td>5</td>\n",
       "      <td>7</td>\n",
       "      <td>9</td>\n",
       "      <td>2</td>\n",
       "      <td>4</td>\n",
       "      <td>10</td>\n",
       "      <td>5</td>\n",
       "      <td>6</td>\n",
       "      <td>5</td>\n",
       "      <td>9</td>\n",
       "      <td>1</td>\n",
       "      <td>7</td>\n",
       "      <td>4</td>\n",
       "    </tr>\n",
       "  </tbody>\n",
       "</table>\n",
       "</div>"
      ],
      "text/plain": [
       "   1   2   3  4  5   6  7  8  9  10  11  12  13  14  15  16  ID\n",
       "0  8  10  12  8  9  10  6  2  5   9   5   7   8   7   2   8   0\n",
       "1  4   2   5  3  3   8  6  6  4   6   7   8   7   6   2   6   1\n",
       "2  2   0   3  1  1   7  8  4  0   7   8   8   7   9   0   8   2\n",
       "3  2   3   3  2  2   7  9  5  4   7   6   7   5   9   2   7   3\n",
       "4  5   9   8  7  5   7  9  2  4  10   5   6   5   9   1   7   4"
      ]
     },
     "execution_count": 3,
     "metadata": {},
     "output_type": "execute_result"
    }
   ],
   "source": [
    "df.head()"
   ]
  },
  {
   "cell_type": "code",
   "execution_count": 4,
   "id": "a5a84982",
   "metadata": {},
   "outputs": [
    {
     "data": {
      "text/plain": [
       "(2467, 17)"
      ]
     },
     "execution_count": 4,
     "metadata": {},
     "output_type": "execute_result"
    }
   ],
   "source": [
    "df.shape"
   ]
  },
  {
   "cell_type": "code",
   "execution_count": 5,
   "id": "1425b137",
   "metadata": {},
   "outputs": [],
   "source": [
    "# odaadjuk az eset kivizsgalonak a megoldasokat es meghatarozunk egy budzset, ahanyszor kerdezhetunk toluk - 111\n",
    "expert = sherlock.Sherlock(sec, 111)"
   ]
  },
  {
   "cell_type": "markdown",
   "id": "e370d930",
   "metadata": {},
   "source": [
    "# Szimuláció indul"
   ]
  },
  {
   "cell_type": "markdown",
   "id": "902e9732",
   "metadata": {},
   "source": [
    "# 1. etap - 9 változó + IsolationForest"
   ]
  },
  {
   "cell_type": "code",
   "execution_count": 6,
   "id": "ad1c2fd2",
   "metadata": {},
   "outputs": [],
   "source": [
    "bem_val=list(df.columns)[:9]"
   ]
  },
  {
   "cell_type": "code",
   "execution_count": 7,
   "id": "90bf5940",
   "metadata": {},
   "outputs": [],
   "source": [
    "from sklearn.ensemble import IsolationForest"
   ]
  },
  {
   "cell_type": "code",
   "execution_count": 8,
   "id": "f1e1c8d7",
   "metadata": {},
   "outputs": [],
   "source": [
    "isoF = IsolationForest(random_state=42,\n",
    "                       n_estimators=100,\n",
    "                      )"
   ]
  },
  {
   "cell_type": "code",
   "execution_count": 9,
   "id": "42667476",
   "metadata": {},
   "outputs": [
    {
     "data": {
      "text/plain": [
       "IsolationForest(random_state=42)"
      ]
     },
     "execution_count": 9,
     "metadata": {},
     "output_type": "execute_result"
    }
   ],
   "source": [
    "isoF.fit(df[bem_val])"
   ]
  },
  {
   "cell_type": "code",
   "execution_count": 10,
   "id": "c410e250",
   "metadata": {},
   "outputs": [
    {
     "name": "stderr",
     "output_type": "stream",
     "text": [
      "/opt/conda/lib/python3.9/site-packages/sklearn/base.py:441: UserWarning: X does not have valid feature names, but IsolationForest was fitted with feature names\n",
      "  warnings.warn(\n"
     ]
    }
   ],
   "source": [
    "df['isoF_flag']=isoF.predict(df[bem_val])"
   ]
  },
  {
   "cell_type": "code",
   "execution_count": 11,
   "id": "47183869",
   "metadata": {},
   "outputs": [
    {
     "name": "stderr",
     "output_type": "stream",
     "text": [
      "/opt/conda/lib/python3.9/site-packages/sklearn/base.py:441: UserWarning: X does not have valid feature names, but IsolationForest was fitted with feature names\n",
      "  warnings.warn(\n"
     ]
    }
   ],
   "source": [
    "df['isoF_flag']=isoF.fit_predict(df[bem_val])"
   ]
  },
  {
   "cell_type": "code",
   "execution_count": 12,
   "id": "c07c6242",
   "metadata": {},
   "outputs": [
    {
     "data": {
      "text/plain": [
       " 1    2037\n",
       "-1     430\n",
       "Name: isoF_flag, dtype: int64"
      ]
     },
     "execution_count": 12,
     "metadata": {},
     "output_type": "execute_result"
    }
   ],
   "source": [
    "df['isoF_flag'].value_counts()"
   ]
  },
  {
   "cell_type": "code",
   "execution_count": 13,
   "id": "7af47dbd",
   "metadata": {},
   "outputs": [],
   "source": [
    "df['isoF_score']=isoF.decision_function(df[bem_val])*-1"
   ]
  },
  {
   "cell_type": "code",
   "execution_count": 14,
   "id": "eb1d3a53",
   "metadata": {},
   "outputs": [
    {
     "data": {
      "text/plain": [
       "<AxesSubplot:>"
      ]
     },
     "execution_count": 14,
     "metadata": {},
     "output_type": "execute_result"
    },
    {
     "data": {
      "image/png": "[encoded data removed]",
      "text/plain": [
       "<Figure size 432x288 with 1 Axes>"
      ]
     },
     "metadata": {
      "needs_background": "light"
     },
     "output_type": "display_data"
    }
   ],
   "source": [
    "df['isoF_score'].hist(bins=100)"
   ]
  },
  {
   "cell_type": "code",
   "execution_count": 15,
   "id": "de6765d3",
   "metadata": {},
   "outputs": [
    {
     "data": {
      "text/plain": [
       "<matplotlib.legend.Legend at 0x7f7b8a750df0>"
      ]
     },
     "execution_count": 15,
     "metadata": {},
     "output_type": "execute_result"
    },
    {
     "data": {
      "image/png": "[encoded data removed]",
      "text/plain": [
       "<Figure size 432x288 with 1 Axes>"
      ]
     },
     "metadata": {
      "needs_background": "light"
     },
     "output_type": "display_data"
    }
   ],
   "source": [
    "for i in [1,-1]:\n",
    "    cdf = df[df['isoF_flag']==i]\n",
    "    cdf['isoF_score'].hist(bins=50,label=str(i))\n",
    "plt.legend()\n",
    "    "
   ]
  },
  {
   "cell_type": "code",
   "execution_count": 16,
   "id": "32ad1989",
   "metadata": {},
   "outputs": [],
   "source": [
    "gyanus = df.sort_values(\"isoF_score\",ascending=False).head(10)"
   ]
  },
  {
   "cell_type": "code",
   "execution_count": 17,
   "id": "b9e1b70b",
   "metadata": {},
   "outputs": [
    {
     "name": "stdout",
     "output_type": "stream",
     "text": [
      "Adathalmaz mérete   = 2467\n",
      "Ismert esetek száma = 0 \t\tmax: 111\n"
     ]
    }
   ],
   "source": [
    "expert.stat()"
   ]
  },
  {
   "cell_type": "code",
   "execution_count": 18,
   "id": "10899c2e",
   "metadata": {},
   "outputs": [
    {
     "name": "stdout",
     "output_type": "stream",
     "text": [
      "\tNyomozás eredménye\t2279\t->\tok\n",
      "\tNyomozás eredménye\t2460\t->\tcsalás\n",
      "\tNyomozás eredménye\t1106\t->\tcsalás\n",
      "\tNyomozás eredménye\t950\t->\tok\n",
      "\tNyomozás eredménye\t2367\t->\tok\n",
      "\tNyomozás eredménye\t976\t->\tok\n",
      "\tNyomozás eredménye\t1693\t->\tok\n",
      "\tNyomozás eredménye\t2153\t->\tok\n",
      "\tNyomozás eredménye\t2076\t->\tok\n",
      "\tNyomozás eredménye\t2144\t->\tcsalás\n"
     ]
    }
   ],
   "source": [
    "expert.investigate(gyanus['ID'])"
   ]
  },
  {
   "cell_type": "markdown",
   "id": "ee9ae6dd",
   "metadata": {},
   "source": [
    "# 2. etap - 20 véletlen lemérése"
   ]
  },
  {
   "cell_type": "code",
   "execution_count": 19,
   "id": "f63d401c",
   "metadata": {},
   "outputs": [
    {
     "name": "stdout",
     "output_type": "stream",
     "text": [
      "Adathalmaz mérete   = 2467\n",
      "Ismert esetek száma = 10 \t\tmax: 111\n",
      "  Ismert csalás = 3\n",
      "  Felderítési arány = 30.0%\n"
     ]
    }
   ],
   "source": [
    "expert.stat()"
   ]
  },
  {
   "cell_type": "code",
   "execution_count": 20,
   "id": "66eaa644",
   "metadata": {},
   "outputs": [],
   "source": [
    "df = expert.add_label(df,'info')"
   ]
  },
  {
   "cell_type": "code",
   "execution_count": 21,
   "id": "338f9f77",
   "metadata": {},
   "outputs": [
    {
     "data": {
      "text/plain": [
       "no_info    2457\n",
       "ok            7\n",
       "csalás        3\n",
       "Name: info, dtype: int64"
      ]
     },
     "execution_count": 21,
     "metadata": {},
     "output_type": "execute_result"
    }
   ],
   "source": [
    "df['info'].value_counts()"
   ]
  },
  {
   "cell_type": "code",
   "execution_count": 22,
   "id": "6b4eb8f3",
   "metadata": {},
   "outputs": [],
   "source": [
    "ismeretlen = df[df['info']=='no_info']"
   ]
  },
  {
   "cell_type": "code",
   "execution_count": 23,
   "id": "f6566725",
   "metadata": {},
   "outputs": [],
   "source": [
    "veletlenek = ismeretlen.sample(20,random_state=42)"
   ]
  },
  {
   "cell_type": "code",
   "execution_count": 24,
   "id": "85565d70",
   "metadata": {},
   "outputs": [
    {
     "name": "stdout",
     "output_type": "stream",
     "text": [
      "\tNyomozás eredménye\t719\t->\tok\n",
      "\tNyomozás eredménye\t785\t->\tok\n",
      "\tNyomozás eredménye\t1609\t->\tok\n",
      "\tNyomozás eredménye\t867\t->\tok\n",
      "\tNyomozás eredménye\t1086\t->\tok\n",
      "\tNyomozás eredménye\t649\t->\tok\n",
      "\tNyomozás eredménye\t1781\t->\tok\n",
      "\tNyomozás eredménye\t651\t->\tok\n",
      "\tNyomozás eredménye\t237\t->\tok\n",
      "\tNyomozás eredménye\t736\t->\tok\n",
      "\tNyomozás eredménye\t1292\t->\tok\n",
      "\tNyomozás eredménye\t1274\t->\tok\n",
      "\tNyomozás eredménye\t406\t->\tok\n",
      "\tNyomozás eredménye\t521\t->\tok\n",
      "\tNyomozás eredménye\t978\t->\tok\n",
      "\tNyomozás eredménye\t353\t->\tok\n",
      "\tNyomozás eredménye\t1389\t->\tok\n",
      "\tNyomozás eredménye\t1173\t->\tok\n",
      "\tNyomozás eredménye\t2284\t->\tok\n",
      "\tNyomozás eredménye\t620\t->\tok\n"
     ]
    }
   ],
   "source": [
    "expert.investigate(veletlenek['ID'])"
   ]
  },
  {
   "cell_type": "code",
   "execution_count": 25,
   "id": "6d042f98",
   "metadata": {},
   "outputs": [
    {
     "data": {
      "text/plain": [
       "no_info    2437\n",
       "ok           27\n",
       "csalás        3\n",
       "Name: info, dtype: int64"
      ]
     },
     "execution_count": 25,
     "metadata": {},
     "output_type": "execute_result"
    }
   ],
   "source": [
    "df = expert.add_label(df,'info')\n",
    "df['info'].value_counts()"
   ]
  },
  {
   "cell_type": "markdown",
   "id": "12bbf854",
   "metadata": {},
   "source": [
    "# 3. etap - 10 valtozo + KMeans"
   ]
  },
  {
   "cell_type": "code",
   "execution_count": 26,
   "id": "332d770b",
   "metadata": {},
   "outputs": [],
   "source": [
    "bem_val = list(df.columns)[:10]"
   ]
  },
  {
   "cell_type": "code",
   "execution_count": 27,
   "id": "16da17ea",
   "metadata": {},
   "outputs": [],
   "source": [
    "from sklearn.cluster import KMeans"
   ]
  },
  {
   "cell_type": "code",
   "execution_count": 28,
   "id": "63db7583",
   "metadata": {},
   "outputs": [],
   "source": [
    "kmeans = KMeans(random_state=42,n_clusters=11)"
   ]
  },
  {
   "cell_type": "code",
   "execution_count": 29,
   "id": "473b4c16",
   "metadata": {},
   "outputs": [
    {
     "data": {
      "text/plain": [
       "KMeans(n_clusters=11, random_state=42)"
      ]
     },
     "execution_count": 29,
     "metadata": {},
     "output_type": "execute_result"
    }
   ],
   "source": [
    "kmeans.fit(df[bem_val])"
   ]
  },
  {
   "cell_type": "code",
   "execution_count": 34,
   "id": "779f0c8f",
   "metadata": {},
   "outputs": [],
   "source": [
    "df['myc_dist']=kmeans.transform(df[bem_val]).min(axis=1)"
   ]
  },
  {
   "cell_type": "code",
   "execution_count": 36,
   "id": "8a83a479",
   "metadata": {},
   "outputs": [
    {
     "data": {
      "text/plain": [
       "<AxesSubplot:>"
      ]
     },
     "execution_count": 36,
     "metadata": {},
     "output_type": "execute_result"
    },
    {
     "data": {
      "image/png": "[encoded data removed]",
      "text/plain": [
       "<Figure size 432x288 with 1 Axes>"
      ]
     },
     "metadata": {
      "needs_background": "light"
     },
     "output_type": "display_data"
    }
   ],
   "source": [
    "df['myc_dist'].hist(bins=100)"
   ]
  },
  {
   "cell_type": "code",
   "execution_count": 37,
   "id": "e3770af7",
   "metadata": {},
   "outputs": [],
   "source": [
    "df['myc']=kmeans.predict(df[bem_val])"
   ]
  },
  {
   "cell_type": "code",
   "execution_count": 38,
   "id": "96cf6664",
   "metadata": {},
   "outputs": [
    {
     "data": {
      "text/plain": [
       "3     415\n",
       "7     300\n",
       "4     288\n",
       "1     262\n",
       "10    247\n",
       "0     241\n",
       "8     201\n",
       "6     197\n",
       "2     142\n",
       "5      87\n",
       "9      87\n",
       "Name: myc, dtype: int64"
      ]
     },
     "execution_count": 38,
     "metadata": {},
     "output_type": "execute_result"
    }
   ],
   "source": [
    "df['myc'].value_counts()"
   ]
  },
  {
   "cell_type": "code",
   "execution_count": 39,
   "id": "0567bd14",
   "metadata": {},
   "outputs": [],
   "source": [
    "stat = df.groupby('myc',as_index=False).agg({\"myc_dist\":\"median\"})"
   ]
  },
  {
   "cell_type": "code",
   "execution_count": 41,
   "id": "6da629b6",
   "metadata": {},
   "outputs": [],
   "source": [
    "stat.columns=['myc','median_dist']"
   ]
  },
  {
   "cell_type": "code",
   "execution_count": 44,
   "id": "80f865ef",
   "metadata": {},
   "outputs": [],
   "source": [
    "df = df.merge(stat,on='myc',how='left')"
   ]
  },
  {
   "cell_type": "code",
   "execution_count": 46,
   "id": "8937ec7a",
   "metadata": {},
   "outputs": [],
   "source": [
    "df['kmeans_score']=df['myc_dist']/df['median_dist']"
   ]
  },
  {
   "cell_type": "code",
   "execution_count": 47,
   "id": "a808a1c6",
   "metadata": {},
   "outputs": [
    {
     "data": {
      "text/plain": [
       "<AxesSubplot:>"
      ]
     },
     "execution_count": 47,
     "metadata": {},
     "output_type": "execute_result"
    },
    {
     "data": {
      "image/png": "[encoded data removed]",
      "text/plain": [
       "<Figure size 432x288 with 1 Axes>"
      ]
     },
     "metadata": {
      "needs_background": "light"
     },
     "output_type": "display_data"
    }
   ],
   "source": [
    "df['kmeans_score'].hist(bins=100)"
   ]
  },
  {
   "cell_type": "code",
   "execution_count": 51,
   "id": "58693083",
   "metadata": {},
   "outputs": [
    {
     "data": {
      "image/png": "[encoded data removed]",
      "text/plain": [
       "<Figure size 432x288 with 1 Axes>"
      ]
     },
     "metadata": {
      "needs_background": "light"
     },
     "output_type": "display_data"
    }
   ],
   "source": [
    "def score_plot(df,valtozo_nev):\n",
    "    plt.yscale('log')\n",
    "    for i in ['no_info','csalás','ok']:\n",
    "        cdf = df[df['info']==i]\n",
    "        plt.hist(cdf[valtozo_nev],bins=50,label=i)\n",
    "    plt.legend()\n",
    "    \n",
    "score_plot(df,'kmeans_score')"
   ]
  },
  {
   "cell_type": "code",
   "execution_count": 55,
   "id": "993afa51",
   "metadata": {},
   "outputs": [
    {
     "name": "stdout",
     "output_type": "stream",
     "text": [
      "\tNyomozás eredménye\t2399\t->\tcsalás\n",
      "\tNyomozás eredménye\t629\t->\tcsalás\n",
      "\tNyomozás eredménye\t2033\t->\tcsalás\n",
      "\tNyomozás eredménye\t828\t->\tcsalás\n",
      "\tNyomozás eredménye\t1069\t->\tcsalás\n",
      "\tNyomozás eredménye\t1821\t->\tcsalás\n",
      "\tNyomozás eredménye\t2009\t->\tcsalás\n",
      "\tNyomozás eredménye\t908\t->\tcsalás\n",
      "\tNyomozás eredménye\t1070\t->\tok\n",
      "\tNyomozás eredménye\t2129\t->\tcsalás\n"
     ]
    }
   ],
   "source": [
    "def kiertekelo(df,score):\n",
    "    ismeretlenek = df[df['info']=='no_info']\n",
    "    gyanusak = ismeretlenek.sort_values(score,ascending=False).head(10)\n",
    "    expert.investigate(gyanusak['ID'])\n",
    "kiertekelo(df,'kmeans_score')"
   ]
  },
  {
   "cell_type": "code",
   "execution_count": 56,
   "id": "62cbcb1e",
   "metadata": {},
   "outputs": [
    {
     "name": "stdout",
     "output_type": "stream",
     "text": [
      "Adathalmaz mérete   = 2467\n",
      "Ismert esetek száma = 40 \t\tmax: 111\n",
      "  Ismert csalás = 12\n",
      "  Felderítési arány = 30.0%\n"
     ]
    }
   ],
   "source": [
    "df = expert.add_label(df,'info')\n",
    "expert.stat()"
   ]
  },
  {
   "cell_type": "markdown",
   "id": "9b82cd33",
   "metadata": {},
   "source": [
    "# 4. etap - 11 változó, logreg első fajta"
   ]
  },
  {
   "cell_type": "code",
   "execution_count": 57,
   "id": "65f790f4",
   "metadata": {},
   "outputs": [
    {
     "data": {
      "text/plain": [
       "no_info    2427\n",
       "ok           28\n",
       "csalás       12\n",
       "Name: info, dtype: int64"
      ]
     },
     "execution_count": 57,
     "metadata": {},
     "output_type": "execute_result"
    }
   ],
   "source": [
    "df['info'].value_counts()"
   ]
  },
  {
   "cell_type": "code",
   "execution_count": 58,
   "id": "3a5093d7",
   "metadata": {},
   "outputs": [],
   "source": [
    "# Minden adaton tanulunk, de a \"no_info\" sorokat \"ok\"-nak nézzük"
   ]
  },
  {
   "cell_type": "code",
   "execution_count": 59,
   "id": "fce21550",
   "metadata": {},
   "outputs": [],
   "source": [
    "from sklearn.linear_model import LogisticRegression"
   ]
  },
  {
   "cell_type": "code",
   "execution_count": 64,
   "id": "74600692",
   "metadata": {},
   "outputs": [],
   "source": [
    "logreg=LogisticRegression(random_state=42)"
   ]
  },
  {
   "cell_type": "code",
   "execution_count": 65,
   "id": "eb6d1a8a",
   "metadata": {},
   "outputs": [],
   "source": [
    "df['logreg_target']=df['info'].apply(lambda x: 1 if x==\"csalás\" else 0)"
   ]
  },
  {
   "cell_type": "code",
   "execution_count": 66,
   "id": "5bdacff1",
   "metadata": {},
   "outputs": [
    {
     "data": {
      "text/plain": [
       "0    2455\n",
       "1      12\n",
       "Name: logreg_target, dtype: int64"
      ]
     },
     "execution_count": 66,
     "metadata": {},
     "output_type": "execute_result"
    }
   ],
   "source": [
    "df['logreg_target'].value_counts()"
   ]
  },
  {
   "cell_type": "code",
   "execution_count": 67,
   "id": "92e662b3",
   "metadata": {},
   "outputs": [],
   "source": [
    "bem_val = list(df.columns)[:11]"
   ]
  },
  {
   "cell_type": "code",
   "execution_count": 68,
   "id": "26d3dcb4",
   "metadata": {},
   "outputs": [
    {
     "data": {
      "text/plain": [
       "LogisticRegression(random_state=42)"
      ]
     },
     "execution_count": 68,
     "metadata": {},
     "output_type": "execute_result"
    }
   ],
   "source": [
    "logreg.fit(df[bem_val],df['logreg_target'])"
   ]
  },
  {
   "cell_type": "code",
   "execution_count": 69,
   "id": "399b86d3",
   "metadata": {},
   "outputs": [
    {
     "data": {
      "text/plain": [
       "array([[-0.7793666 ,  0.02869624, -0.03580319, -0.39868619, -0.65360157,\n",
       "        -0.87187706,  0.23292176,  0.16693943,  0.7780295 , -0.53566662,\n",
       "        -0.06976612]])"
      ]
     },
     "execution_count": 69,
     "metadata": {},
     "output_type": "execute_result"
    }
   ],
   "source": [
    "logreg.coef_"
   ]
  },
  {
   "cell_type": "code",
   "execution_count": 70,
   "id": "ca5d702d",
   "metadata": {},
   "outputs": [],
   "source": [
    "df['logreg_score']=logreg.predict_proba(df[bem_val])[:,1]"
   ]
  },
  {
   "cell_type": "code",
   "execution_count": 71,
   "id": "f259bea7",
   "metadata": {},
   "outputs": [
    {
     "data": {
      "image/png": "[encoded data removed]",
      "text/plain": [
       "<Figure size 432x288 with 1 Axes>"
      ]
     },
     "metadata": {
      "needs_background": "light"
     },
     "output_type": "display_data"
    }
   ],
   "source": [
    "score_plot(df,'logreg_score')"
   ]
  },
  {
   "cell_type": "code",
   "execution_count": 72,
   "id": "355a2887",
   "metadata": {},
   "outputs": [
    {
     "name": "stdout",
     "output_type": "stream",
     "text": [
      "\tNyomozás eredménye\t1049\t->\tcsalás\n",
      "\tNyomozás eredménye\t676\t->\tcsalás\n",
      "\tNyomozás eredménye\t1455\t->\tcsalás\n",
      "\tNyomozás eredménye\t795\t->\tcsalás\n",
      "\tNyomozás eredménye\t1592\t->\tcsalás\n",
      "\tNyomozás eredménye\t593\t->\tcsalás\n",
      "\tNyomozás eredménye\t929\t->\tcsalás\n",
      "\tNyomozás eredménye\t1383\t->\tok\n",
      "\tNyomozás eredménye\t507\t->\tcsalás\n",
      "\tNyomozás eredménye\t2122\t->\tcsalás\n"
     ]
    }
   ],
   "source": [
    "kiertekelo(df,'logreg_score')"
   ]
  },
  {
   "cell_type": "code",
   "execution_count": 73,
   "id": "d5e37a05",
   "metadata": {},
   "outputs": [],
   "source": [
    "df = expert.add_label(df,'info')"
   ]
  },
  {
   "cell_type": "code",
   "execution_count": 74,
   "id": "867eaa4d",
   "metadata": {},
   "outputs": [
    {
     "name": "stdout",
     "output_type": "stream",
     "text": [
      "Adathalmaz mérete   = 2467\n",
      "Ismert esetek száma = 50 \t\tmax: 111\n",
      "  Ismert csalás = 21\n",
      "  Felderítési arány = 42.0%\n"
     ]
    }
   ],
   "source": [
    "expert.stat()"
   ]
  },
  {
   "cell_type": "markdown",
   "id": "f81831a4",
   "metadata": {},
   "source": [
    "# Final - Rank áltlagolás"
   ]
  },
  {
   "cell_type": "code",
   "execution_count": 75,
   "id": "b8a79927",
   "metadata": {},
   "outputs": [],
   "source": [
    "ujak = []\n",
    "for score in ['isoF_score','kmeans_score','logreg_score']:\n",
    "    df = df.sort_values(score,ascending=False)\n",
    "    df = df.reset_index(drop=True)\n",
    "    ujvaltozo=score+\"_rank\"\n",
    "    df[ujvaltozo]=df.index\n",
    "    ujak.append(ujvaltozo)"
   ]
  },
  {
   "cell_type": "code",
   "execution_count": 79,
   "id": "396f0147",
   "metadata": {},
   "outputs": [],
   "source": [
    "df['final_score']=df[ujak].mean(axis=1)"
   ]
  },
  {
   "cell_type": "code",
   "execution_count": 80,
   "id": "fa58d9ea",
   "metadata": {
    "scrolled": true
   },
   "outputs": [
    {
     "data": {
      "image/png": "[encoded data removed]",
      "text/plain": [
       "<Figure size 432x288 with 1 Axes>"
      ]
     },
     "metadata": {
      "needs_background": "light"
     },
     "output_type": "display_data"
    }
   ],
   "source": [
    "score_plot(df,'final_score')"
   ]
  },
  {
   "cell_type": "code",
   "execution_count": 81,
   "id": "99f7d69f",
   "metadata": {},
   "outputs": [
    {
     "name": "stdout",
     "output_type": "stream",
     "text": [
      "Adathalmaz mérete   = 2467\n",
      "Ismert esetek száma = 50 \t\tmax: 111\n",
      "  Ismert csalás = 21\n",
      "  Felderítési arány = 42.0%\n"
     ]
    }
   ],
   "source": [
    "expert.stat()"
   ]
  },
  {
   "cell_type": "code",
   "execution_count": 82,
   "id": "e547d7b9",
   "metadata": {},
   "outputs": [],
   "source": [
    "ismeretlenek = df[df['info']=='no_info']\n",
    "gyanusak = ismeretlenek.sort_values('final_score').head(61)"
   ]
  },
  {
   "cell_type": "code",
   "execution_count": 83,
   "id": "7ab6617d",
   "metadata": {},
   "outputs": [
    {
     "name": "stdout",
     "output_type": "stream",
     "text": [
      "\tNyomozás eredménye\t1642\t->\tcsalás\n",
      "\tNyomozás eredménye\t1942\t->\tcsalás\n",
      "\tNyomozás eredménye\t1379\t->\tcsalás\n",
      "\tNyomozás eredménye\t208\t->\tcsalás\n",
      "\tNyomozás eredménye\t2361\t->\tcsalás\n",
      "\tNyomozás eredménye\t269\t->\tok\n",
      "\tNyomozás eredménye\t1719\t->\tok\n",
      "\tNyomozás eredménye\t127\t->\tcsalás\n",
      "\tNyomozás eredménye\t1047\t->\tcsalás\n",
      "\tNyomozás eredménye\t1522\t->\tcsalás\n",
      "\tNyomozás eredménye\t129\t->\tok\n",
      "\tNyomozás eredménye\t948\t->\tcsalás\n",
      "\tNyomozás eredménye\t1734\t->\tok\n",
      "\tNyomozás eredménye\t1786\t->\tok\n",
      "\tNyomozás eredménye\t83\t->\tok\n",
      "\tNyomozás eredménye\t2043\t->\tok\n",
      "\tNyomozás eredménye\t2143\t->\tok\n",
      "\tNyomozás eredménye\t222\t->\tok\n",
      "\tNyomozás eredménye\t2031\t->\tok\n",
      "\tNyomozás eredménye\t1253\t->\tcsalás\n",
      "\tNyomozás eredménye\t1184\t->\tok\n",
      "\tNyomozás eredménye\t1542\t->\tcsalás\n",
      "\tNyomozás eredménye\t997\t->\tcsalás\n",
      "\tNyomozás eredménye\t244\t->\tcsalás\n",
      "\tNyomozás eredménye\t684\t->\tcsalás\n",
      "\tNyomozás eredménye\t958\t->\tok\n",
      "\tNyomozás eredménye\t233\t->\tok\n",
      "\tNyomozás eredménye\t480\t->\tok\n",
      "\tNyomozás eredménye\t1756\t->\tok\n",
      "\tNyomozás eredménye\t1512\t->\tcsalás\n",
      "\tNyomozás eredménye\t610\t->\tok\n",
      "\tNyomozás eredménye\t302\t->\tok\n",
      "\tNyomozás eredménye\t1193\t->\tok\n",
      "\tNyomozás eredménye\t1052\t->\tcsalás\n",
      "\tNyomozás eredménye\t1452\t->\tcsalás\n",
      "\tNyomozás eredménye\t2242\t->\tok\n",
      "\tNyomozás eredménye\t2066\t->\tcsalás\n",
      "\tNyomozás eredménye\t361\t->\tcsalás\n",
      "\tNyomozás eredménye\t1410\t->\tok\n",
      "\tNyomozás eredménye\t1936\t->\tok\n",
      "\tNyomozás eredménye\t2247\t->\tcsalás\n",
      "\tNyomozás eredménye\t1370\t->\tok\n",
      "\tNyomozás eredménye\t2327\t->\tok\n",
      "\tNyomozás eredménye\t2291\t->\tok\n",
      "\tNyomozás eredménye\t1083\t->\tok\n",
      "\tNyomozás eredménye\t2423\t->\tok\n",
      "\tNyomozás eredménye\t2197\t->\tcsalás\n",
      "\tNyomozás eredménye\t2139\t->\tok\n",
      "\tNyomozás eredménye\t1906\t->\tcsalás\n",
      "\tNyomozás eredménye\t375\t->\tok\n",
      "\tNyomozás eredménye\t746\t->\tok\n",
      "\tNyomozás eredménye\t902\t->\tok\n",
      "\tNyomozás eredménye\t117\t->\tok\n",
      "\tNyomozás eredménye\t122\t->\tok\n",
      "\tNyomozás eredménye\t627\t->\tcsalás\n",
      "\tNyomozás eredménye\t2152\t->\tok\n",
      "\tNyomozás eredménye\t2215\t->\tok\n",
      "\tNyomozás eredménye\t1661\t->\tok\n",
      "\tNyomozás eredménye\t763\t->\tok\n",
      "\tNyomozás eredménye\t68\t->\tok\n",
      "\tNyomozás eredménye\t1869\t->\tok\n"
     ]
    }
   ],
   "source": [
    "expert.investigate(gyanusak['ID'])"
   ]
  },
  {
   "cell_type": "code",
   "execution_count": 84,
   "id": "40179e07",
   "metadata": {},
   "outputs": [
    {
     "name": "stdout",
     "output_type": "stream",
     "text": [
      "Adathalmaz mérete   = 2467\n",
      "Ismert esetek száma = 111 \t\tmax: 111\n",
      "  Ismert csalás = 44\n",
      "  Felderítési arány = 39.6%\n"
     ]
    }
   ],
   "source": [
    "expert.stat()"
   ]
  },
  {
   "cell_type": "markdown",
   "id": "39709b85",
   "metadata": {},
   "source": [
    "# SZIMULACIO VEGE"
   ]
  },
  {
   "cell_type": "code",
   "execution_count": 86,
   "id": "bb9f2acf",
   "metadata": {},
   "outputs": [
    {
     "data": {
      "text/plain": [
       "ok          2326\n",
       "anomalia     141\n",
       "Name: info, dtype: int64"
      ]
     },
     "execution_count": 86,
     "metadata": {},
     "output_type": "execute_result"
    }
   ],
   "source": [
    "sec['info'].value_counts()"
   ]
  },
  {
   "cell_type": "code",
   "execution_count": 87,
   "id": "b027d4b2",
   "metadata": {},
   "outputs": [
    {
     "data": {
      "text/plain": [
       "0.4835164835164835"
      ]
     },
     "execution_count": 87,
     "metadata": {},
     "output_type": "execute_result"
    }
   ],
   "source": [
    "44/91"
   ]
  },
  {
   "cell_type": "code",
   "execution_count": 88,
   "id": "9d7a1c1e",
   "metadata": {},
   "outputs": [
    {
     "data": {
      "text/plain": [
       "0.05715443858937981"
      ]
     },
     "execution_count": 88,
     "metadata": {},
     "output_type": "execute_result"
    }
   ],
   "source": [
    "141/len(df)"
   ]
  },
  {
   "cell_type": "code",
   "execution_count": 89,
   "id": "f5f8d5b0",
   "metadata": {},
   "outputs": [],
   "source": [
    "lift = 0.4835164835164835 / 0.05715443858937981"
   ]
  },
  {
   "cell_type": "code",
   "execution_count": 90,
   "id": "fe550487",
   "metadata": {},
   "outputs": [
    {
     "data": {
      "text/plain": [
       "8.459823864079183"
      ]
     },
     "execution_count": 90,
     "metadata": {},
     "output_type": "execute_result"
    }
   ],
   "source": [
    "lift"
   ]
  },
  {
   "cell_type": "code",
   "execution_count": null,
   "id": "4f48761e",
   "metadata": {},
   "outputs": [],
   "source": []
  }
 ],
 "metadata": {
  "kernelspec": {
   "display_name": "Python 3 (ipykernel)",
   "language": "python",
   "name": "python3"
  },
  "language_info": {
   "codemirror_mode": {
    "name": "ipython",
    "version": 3
   },
   "file_extension": ".py",
   "mimetype": "text/x-python",
   "name": "python",
   "nbconvert_exporter": "python",
   "pygments_lexer": "ipython3",
   "version": "3.9.7"
  }
 },
 "nbformat": 4,
 "nbformat_minor": 5
}
