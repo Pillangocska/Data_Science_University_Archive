{
 "cells": [
  {
   "cell_type": "markdown",
   "metadata": {},
   "source": [
    "# Source\n",
    "- Dataset source: http://mlg.ucd.ie/datasets/bbc.html\n",
    "- Original paper: http://mlg.ucd.ie/files/publications/greene06icml.pdf\n",
    "- To download the raw files click on this link: http://mlg.ucd.ie/files/datasets/bbc-fulltext.zip"
   ]
  },
  {
   "cell_type": "markdown",
   "metadata": {},
   "source": [
    "# Preprocess"
   ]
  },
  {
   "cell_type": "code",
   "execution_count": 11,
   "metadata": {},
   "outputs": [],
   "source": [
    "from nltk.stem import WordNetLemmatizer\n",
    "from nltk.stem import PorterStemmer\n",
    "from nltk.corpus import stopwords\n",
    "import pandas as pd\n",
    "import glob\n",
    "import nltk\n",
    "import os\n",
    "import re\n"
   ]
  },
  {
   "cell_type": "code",
   "execution_count": 3,
   "metadata": {},
   "outputs": [
    {
     "data": {
      "application/vnd.microsoft.datawrangler.viewer.v0+json": {
       "columns": [
        {
         "name": "index",
         "rawType": "int64",
         "type": "integer"
        },
        {
         "name": "file_name",
         "rawType": "object",
         "type": "string"
        },
        {
         "name": "category",
         "rawType": "object",
         "type": "string"
        },
        {
         "name": "text",
         "rawType": "object",
         "type": "string"
        }
       ],
       "conversionMethod": "pd.DataFrame",
       "ref": "518c9d5e-1715-4f03-9733-6e1f574ba4ac",
       "rows": [
        [
         "0",
         "001.txt",
         "business",
         "Ad sales boost Time Warner profit\n\nQuarterly profits at US media giant TimeWarner jumped 76% to $1.13bn (£600m) for the three months to December, from $639m year-earlier.\n\nThe firm, which is now one of the biggest investors in Google, benefited from sales of high-speed internet connections and higher advert sales. TimeWarner said fourth quarter sales rose 2% to $11.1bn from $10.9bn. Its profits were buoyed by one-off gains which offset a profit dip at Warner Bros, and less users for AOL.\n\nTime Warner said on Friday that it now owns 8% of search-engine Google. But its own internet business, AOL, had has mixed fortunes. It lost 464,000 subscribers in the fourth quarter profits were lower than in the preceding three quarters. However, the company said AOL's underlying profit before exceptional items rose 8% on the back of stronger internet advertising revenues. It hopes to increase subscribers by offering the online service free to TimeWarner internet customers and will try to sign up AOL's existing customers for high-speed broadband. TimeWarner also has to restate 2000 and 2003 results following a probe by the US Securities Exchange Commission (SEC), which is close to concluding.\n\nTime Warner's fourth quarter profits were slightly better than analysts' expectations. But its film division saw profits slump 27% to $284m, helped by box-office flops Alexander and Catwoman, a sharp contrast to year-earlier, when the third and final film in the Lord of the Rings trilogy boosted results. For the full-year, TimeWarner posted a profit of $3.36bn, up 27% from its 2003 performance, while revenues grew 6.4% to $42.09bn. \"Our financial performance was strong, meeting or exceeding all of our full-year objectives and greatly enhancing our flexibility,\" chairman and chief executive Richard Parsons said. For 2005, TimeWarner is projecting operating earnings growth of around 5%, and also expects higher revenue and wider profit margins.\n\nTimeWarner is to restate its accounts as part of efforts to resolve an inquiry into AOL by US market regulators. It has already offered to pay $300m to settle charges, in a deal that is under review by the SEC. The company said it was unable to estimate the amount it needed to set aside for legal reserves, which it previously set at $500m. It intends to adjust the way it accounts for a deal with German music publisher Bertelsmann's purchase of a stake in AOL Europe, which it had reported as advertising revenue. It will now book the sale of its stake in AOL Europe as a loss on the value of that stake.\n"
        ],
        [
         "1",
         "002.txt",
         "business",
         "Dollar gains on Greenspan speech\n\nThe dollar has hit its highest level against the euro in almost three months after the Federal Reserve head said the US trade deficit is set to stabilise.\n\nAnd Alan Greenspan highlighted the US government's willingness to curb spending and rising household savings as factors which may help to reduce it. In late trading in New York, the dollar reached $1.2871 against the euro, from $1.2974 on Thursday. Market concerns about the deficit has hit the greenback in recent months. On Friday, Federal Reserve chairman Mr Greenspan's speech in London ahead of the meeting of G7 finance ministers sent the dollar higher after it had earlier tumbled on the back of worse-than-expected US jobs data. \"I think the chairman's taking a much more sanguine view on the current account deficit than he's taken for some time,\" said Robert Sinche, head of currency strategy at Bank of America in New York. \"He's taking a longer-term view, laying out a set of conditions under which the current account deficit can improve this year and next.\"\n\nWorries about the deficit concerns about China do, however, remain. China's currency remains pegged to the dollar and the US currency's sharp falls in recent months have therefore made Chinese export prices highly competitive. But calls for a shift in Beijing's policy have fallen on deaf ears, despite recent comments in a major Chinese newspaper that the \"time is ripe\" for a loosening of the peg. The G7 meeting is thought unlikely to produce any meaningful movement in Chinese policy. In the meantime, the US Federal Reserve's decision on 2 February to boost interest rates by a quarter of a point - the sixth such move in as many months - has opened up a differential with European rates. The half-point window, some believe, could be enough to keep US assets looking more attractive, and could help prop up the dollar. The recent falls have partly been the result of big budget deficits, as well as the US's yawning current account gap, both of which need to be funded by the buying of US bonds and assets by foreign firms and governments. The White House will announce its budget on Monday, and many commentators believe the deficit will remain at close to half a trillion dollars.\n"
        ],
        [
         "2",
         "003.txt",
         "business",
         "Yukos unit buyer faces loan claim\n\nThe owners of embattled Russian oil giant Yukos are to ask the buyer of its former production unit to pay back a $900m (£479m) loan.\n\nState-owned Rosneft bought the Yugansk unit for $9.3bn in a sale forced by Russia to part settle a $27.5bn tax claim against Yukos. Yukos' owner Menatep Group says it will ask Rosneft to repay a loan that Yugansk had secured on its assets. Rosneft already faces a similar $540m repayment demand from foreign banks. Legal experts said Rosneft's purchase of Yugansk would include such obligations. \"The pledged assets are with Rosneft, so it will have to pay real money to the creditors to avoid seizure of Yugansk assets,\" said Moscow-based US lawyer Jamie Firestone, who is not connected to the case. Menatep Group's managing director Tim Osborne told the Reuters news agency: \"If they default, we will fight them where the rule of law exists under the international arbitration clauses of the credit.\"\n\nRosneft officials were unavailable for comment. But the company has said it intends to take action against Menatep to recover some of the tax claims and debts owed by Yugansk. Yukos had filed for bankruptcy protection in a US court in an attempt to prevent the forced sale of its main production arm. The sale went ahead in December and Yugansk was sold to a little-known shell company which in turn was bought by Rosneft. Yukos claims its downfall was punishment for the political ambitions of its founder Mikhail Khodorkovsky and has vowed to sue any participant in the sale.\n"
        ],
        [
         "3",
         "004.txt",
         "business",
         "High fuel prices hit BA's profits\n\nBritish Airways has blamed high fuel prices for a 40% drop in profits.\n\nReporting its results for the three months to 31 December 2004, the airline made a pre-tax profit of £75m ($141m) compared with £125m a year earlier. Rod Eddington, BA's chief executive, said the results were \"respectable\" in a third quarter when fuel costs rose by £106m or 47.3%. BA's profits were still better than market expectation of £59m, and it expects a rise in full-year revenues.\n\nTo help offset the increased price of aviation fuel, BA last year introduced a fuel surcharge for passengers.\n\nIn October, it increased this from £6 to £10 one-way for all long-haul flights, while the short-haul surcharge was raised from £2.50 to £4 a leg. Yet aviation analyst Mike Powell of Dresdner Kleinwort Wasserstein says BA's estimated annual surcharge revenues - £160m - will still be way short of its additional fuel costs - a predicted extra £250m. Turnover for the quarter was up 4.3% to £1.97bn, further benefiting from a rise in cargo revenue. Looking ahead to its full year results to March 2005, BA warned that yields - average revenues per passenger - were expected to decline as it continues to lower prices in the face of competition from low-cost carriers. However, it said sales would be better than previously forecast. \"For the year to March 2005, the total revenue outlook is slightly better than previous guidance with a 3% to 3.5% improvement anticipated,\" BA chairman Martin Broughton said. BA had previously forecast a 2% to 3% rise in full-year revenue.\n\nIt also reported on Friday that passenger numbers rose 8.1% in January. Aviation analyst Nick Van den Brul of BNP Paribas described BA's latest quarterly results as \"pretty modest\". \"It is quite good on the revenue side and it shows the impact of fuel surcharges and a positive cargo development, however, operating margins down and cost impact of fuel are very strong,\" he said. Since the 11 September 2001 attacks in the United States, BA has cut 13,000 jobs as part of a major cost-cutting drive. \"Our focus remains on reducing controllable costs and debt whilst continuing to invest in our products,\" Mr Eddington said. \"For example, we have taken delivery of six Airbus A321 aircraft and next month we will start further improvements to our Club World flat beds.\" BA's shares closed up four pence at 274.5 pence.\n"
        ],
        [
         "4",
         "005.txt",
         "business",
         "Pernod takeover talk lifts Domecq\n\nShares in UK drinks and food firm Allied Domecq have risen on speculation that it could be the target of a takeover by France's Pernod Ricard.\n\nReports in the Wall Street Journal and the Financial Times suggested that the French spirits firm is considering a bid, but has yet to contact its target. Allied Domecq shares in London rose 4% by 1200 GMT, while Pernod shares in Paris slipped 1.2%. Pernod said it was seeking acquisitions but refused to comment on specifics.\n\nPernod's last major purchase was a third of US giant Seagram in 2000, the move which propelled it into the global top three of drinks firms. The other two-thirds of Seagram was bought by market leader Diageo. In terms of market value, Pernod - at 7.5bn euros ($9.7bn) - is about 9% smaller than Allied Domecq, which has a capitalisation of £5.7bn ($10.7bn; 8.2bn euros). Last year Pernod tried to buy Glenmorangie, one of Scotland's premier whisky firms, but lost out to luxury goods firm LVMH. Pernod is home to brands including Chivas Regal Scotch whisky, Havana Club rum and Jacob's Creek wine. Allied Domecq's big names include Malibu rum, Courvoisier brandy, Stolichnaya vodka and Ballantine's whisky - as well as snack food chains such as Dunkin' Donuts and Baskin-Robbins ice cream. The WSJ said that the two were ripe for consolidation, having each dealt with problematic parts of their portfolio. Pernod has reduced the debt it took on to fund the Seagram purchase to just 1.8bn euros, while Allied has improved the performance of its fast-food chains.\n"
        ]
       ],
       "shape": {
        "columns": 3,
        "rows": 5
       }
      },
      "text/html": [
       "<div>\n",
       "<style scoped>\n",
       "    .dataframe tbody tr th:only-of-type {\n",
       "        vertical-align: middle;\n",
       "    }\n",
       "\n",
       "    .dataframe tbody tr th {\n",
       "        vertical-align: top;\n",
       "    }\n",
       "\n",
       "    .dataframe thead th {\n",
       "        text-align: right;\n",
       "    }\n",
       "</style>\n",
       "<table border=\"1\" class=\"dataframe\">\n",
       "  <thead>\n",
       "    <tr style=\"text-align: right;\">\n",
       "      <th></th>\n",
       "      <th>file_name</th>\n",
       "      <th>category</th>\n",
       "      <th>text</th>\n",
       "    </tr>\n",
       "  </thead>\n",
       "  <tbody>\n",
       "    <tr>\n",
       "      <th>0</th>\n",
       "      <td>001.txt</td>\n",
       "      <td>business</td>\n",
       "      <td>Ad sales boost Time Warner profit\\n\\nQuarterly...</td>\n",
       "    </tr>\n",
       "    <tr>\n",
       "      <th>1</th>\n",
       "      <td>002.txt</td>\n",
       "      <td>business</td>\n",
       "      <td>Dollar gains on Greenspan speech\\n\\nThe dollar...</td>\n",
       "    </tr>\n",
       "    <tr>\n",
       "      <th>2</th>\n",
       "      <td>003.txt</td>\n",
       "      <td>business</td>\n",
       "      <td>Yukos unit buyer faces loan claim\\n\\nThe owner...</td>\n",
       "    </tr>\n",
       "    <tr>\n",
       "      <th>3</th>\n",
       "      <td>004.txt</td>\n",
       "      <td>business</td>\n",
       "      <td>High fuel prices hit BA's profits\\n\\nBritish A...</td>\n",
       "    </tr>\n",
       "    <tr>\n",
       "      <th>4</th>\n",
       "      <td>005.txt</td>\n",
       "      <td>business</td>\n",
       "      <td>Pernod takeover talk lifts Domecq\\n\\nShares in...</td>\n",
       "    </tr>\n",
       "  </tbody>\n",
       "</table>\n",
       "</div>"
      ],
      "text/plain": [
       "  file_name  category                                               text\n",
       "0   001.txt  business  Ad sales boost Time Warner profit\\n\\nQuarterly...\n",
       "1   002.txt  business  Dollar gains on Greenspan speech\\n\\nThe dollar...\n",
       "2   003.txt  business  Yukos unit buyer faces loan claim\\n\\nThe owner...\n",
       "3   004.txt  business  High fuel prices hit BA's profits\\n\\nBritish A...\n",
       "4   005.txt  business  Pernod takeover talk lifts Domecq\\n\\nShares in..."
      ]
     },
     "execution_count": 3,
     "metadata": {},
     "output_type": "execute_result"
    }
   ],
   "source": [
    "def preprocess_bbc_dataset(root_dir):\n",
    "    # our columns\n",
    "    texts = []\n",
    "    categories = []\n",
    "    file_names = []\n",
    "\n",
    "    # process all category directories e.g business or tech folders\n",
    "    for category in os.listdir(root_dir):\n",
    "        category_path = os.path.join(root_dir, category)\n",
    "        # skip if not a directory\n",
    "        if not os.path.isdir(category_path):\n",
    "            continue\n",
    "\n",
    "        # process all text files in the category\n",
    "        for file_path in glob.glob(os.path.join(category_path, \"*.txt\")):\n",
    "            try:\n",
    "                with open(file_path, 'r', encoding='utf-8') as file:\n",
    "                    text = file.read()\n",
    "\n",
    "                # fill the row\n",
    "                texts.append(text)\n",
    "                categories.append(category)\n",
    "                file_names.append(os.path.basename(file_path))\n",
    "            except Exception as e:\n",
    "                print(f\"Error processing {file_path}: {e}\")\n",
    "\n",
    "    # create df\n",
    "    data = {\n",
    "        'file_name': file_names,\n",
    "        'category': categories,\n",
    "        'text': texts\n",
    "    }\n",
    "    df = pd.DataFrame(data)\n",
    "\n",
    "    return df\n",
    "\n",
    "bbc_df = preprocess_bbc_dataset(\"_data/2_Medium_BBC_Dataset\")\n",
    "bbc_df.head()"
   ]
  },
  {
   "cell_type": "code",
   "execution_count": 4,
   "metadata": {},
   "outputs": [
    {
     "name": "stdout",
     "output_type": "stream",
     "text": [
      "  file_name  category                                               text\n",
      "0   001.txt  business  Ad sales boost Time Warner profit\\n\\nQuarterly...\n",
      "1   002.txt  business  Dollar gains on Greenspan speech\\n\\nThe dollar...\n",
      "2   003.txt  business  Yukos unit buyer faces loan claim\\n\\nThe owner...\n",
      "3   004.txt  business  High fuel prices hit BA's profits\\n\\nBritish A...\n",
      "4   005.txt  business  Pernod takeover talk lifts Domecq\\n\\nShares in...\n"
     ]
    }
   ],
   "source": [
    "print(bbc_df.head())"
   ]
  },
  {
   "cell_type": "code",
   "execution_count": 6,
   "metadata": {},
   "outputs": [
    {
     "data": {
      "application/vnd.microsoft.datawrangler.viewer.v0+json": {
       "columns": [
        {
         "name": "index",
         "rawType": "int64",
         "type": "integer"
        },
        {
         "name": "file_name",
         "rawType": "object",
         "type": "string"
        },
        {
         "name": "category",
         "rawType": "object",
         "type": "string"
        },
        {
         "name": "text",
         "rawType": "object",
         "type": "string"
        }
       ],
       "conversionMethod": "pd.DataFrame",
       "ref": "e4838046-1282-458a-9287-b89ffdc2bb25",
       "rows": [
        [
         "2220",
         "397.txt",
         "tech",
         "BT program to beat dialler scams\n\nBT is introducing two initiatives to help beat rogue dialler scams, which can cost dial-up net users thousands.\n\nFrom May, dial-up net users will be able to download free software to stop computers using numbers not on a user's \"pre-approved list\". Inadvertently downloaded by surfers, rogue diallers are programs which hijack modems and dial up a premium rate number when users log on. Thousands of UK dial-up users are believed to have been hit by the scam. Some people have faced phone bills of up to £2,000. BT's Modem Protection program will check numbers that are dialled by a computer and will block them if they have not been pre-approved, such as national and net service provider numbers. Icstis, the UK's premium rate services watchdog, said it had been looking for companies to take the lead in initiatives. \"The initiatives are very welcome,\" a spokesperson from Icstis told the BBC News website. \"We are very pleased to see they are putting into place new measures to protect consumers.\"\n\nThe second initiative BT announced is an early warning system which will alert BT customers if there is unusual activity on their phone bills. If a bill rises substantially above its usual daily average, or if a call is made to a suspect number, a text or voice alert will be sent to the user's landline phone. As part of the clamp-down on rogue diallers, companies must now satisfy stringent conditions, including clear terms and conditions, information about how to delete diallers and responsibility for customer refunds. Any firm running a dialler without permission can now be closed down by Icstis. The watchdog brought in the action last October following a decision to license all companies which wanted to operate legitimate premium rate dialler services.\n\nThere are legitimate companies who offer services such as adult content, sports results and music downloads by charging a premium rate rather than by credit card BT said it had ploughed an enormous amount of effort into protecting people from the problem. It has already barred more than 1,000 premium rate numbers and has tried to raise public awareness about the scams. \"We now want to ensure there are even stronger safeguards for our customers, who we would urge to make use of these new options to protect themselves,\" said Gavin Patterson, group managing director for consumer the arm of BT. Both schemes have been undergoing trials in Ireland, and will be made available to 20 million BT customers from May.\n"
        ],
        [
         "2221",
         "398.txt",
         "tech",
         "Spam e-mails tempt net shoppers\n\nComputer users across the world continue to ignore security warnings about spam e-mails and are being lured into buying goods, a report suggests.\n\nMore than a quarter have bought software through spam e-mails and 24% have bought clothes or jewellery. As well as profiting from selling goods or services and driving advertising traffic, organised crime rings can use spam to glean personal information. The Business Software Alliance (BSA) warned that people should \"stay alert\". \"Many online consumers don't consider the true motives of spammers,\" said Mike Newton, a spokesperson for the BSA which commissioned the survey.\n\n\"By selling software that appears to be legitimate in genuine looking packaging or through sophisticated websites, spammers are hiding spyware without consumers' knowledge. \"Once the software is installed on PCs and networks, information that is given over the internet can be obtained and abused.\"\n\nThe results also showed that the proportion of people reading - or admitting to reading - and taking advantage of adult entertainment spam e-mails is low, at one in 10. The research, which covered 6,000 people in six countries and their attitudes towards junk e-mails, revealed that Brazilians were the most likely to read spam. A third of them read unsolicited junk e-mail and 66% buy goods or services after receiving spam.\n\nThe French were the second most likely to buy something (48%), with 44% of Britons taking advantage of products and services. This was despite 38% of people in all countries being worried about their net security because of the amount of spam they get. More than a third of respondents said they were concerned that spam e-mails contained viruses or programs that attempted to collect personal information. \"Both industry and the media have helped to raise awareness of the issues that surround illegitimate e-mail, helping to reduce the potential financial damage and nuisance from phishing attacks and spoof websites,\" said William Plante, director of corporate security and fraud protection at security firm Symantec. \"At the same time, consumers need to continue exercising caution and protect themselves from harm with a mixture of spam filters, spyware detection software and sound judgement.\"\n"
        ],
        [
         "2222",
         "399.txt",
         "tech",
         "Be careful how you code\n\nA new European directive could put software writers at risk of legal action, warns former programmer and technology analyst Bill Thompson.\n\nIf it gets its way, the Dutch government will conclude its presidency of the European Union by pushing through a controversial measure that has been rejected by the European Parliament, lacks majority support from national governments and will leave millions of European citizens in legal limbo and facing the possibility of court cases against them. If the new law was about border controls, defence or even the new constitution, then our TV screens would be full of experts agonising over the impact on our daily lives. Sadly for those who will be directly affected, the controversy concerns the patenting of computer programs, a topic that may excite the bloggers, campaigning groups and technical press but does not obsess Middle Britain. After all, how much fuss can you generate about the Directive on the Patentability of Computer-Implemented Inventions, and the way it amends Article 52 of the 1973 European Patent Convention? Yet if the new directive is nodded through at the next meeting of one of the EU's ministerial councils, as seems likely, it will allow programs to be patented in Europe just as they are in the US. Many observers of the computing scene, including myself, think the results will be disastrous for small companies, innovative programmers and the free and open source software movement. It will let large companies patent all sorts of ideas and give legal force to those who want to limit their competitors' use of really obvious ideas.\n\nIn the US you cannot build a system that stores customer credit card details so that they can pay without having to re-enter them unless Amazon lets you, because they hold the patent on \"one-click\" online purchase. It is a small invention, but Amazon made it to the patent office first and now owns it.\n\nWe are relatively free from this sort of thing over here, but perhaps not for long. The new proposals go back to 2002, although argument about patentability of software and computer-implemented inventions has been going on since at least the mid-1980s. They have come to a head now after a year in which proposals were made, endorsed by the Council of Ministers, radically modified by the European Parliament and then re-presented in their original form. Some national governments seem to be aware of the problems. Poland has rejected the proposal and Germany's main political parties have opposed it, but there is not enough opposition to guarantee their rejection. Early in December the British government held a consultation meeting with those who had commented on the proposals. Science Minister Lord Sainsbury went along to listen and outline the UK position, but according to those present, it was embarrassing to see how little the minister and his officials actually understood the issues concerned.\n\nThe draft Directive is being put through the council as what is called an \"A\" item and can only be approved or rejected. No discussion or amendment is allowed. So why should we be worried? First, there is the abuse of the democratic process involved in disregarding the views of the parliament and abandoning all of their carefully argued amendments. This goes to the heart of the European project, and even those who do not care about software or patents should be worried. If coders are treated like this today, who is to say that it will not be you tomorrow?\n\nMore directly, once software patents are granted then any programmer will have to worry that the code they are writing is infringing someone else's patent. This is not about stealing software, as code is already protected by copyright. Patents are not copyright, but something much stronger. A patent gives the owner the right to stop anyone else using their invention, even if the other person invented it separately. I have never, to my shame, managed to read Lord Byron's Childe Harold's Pilgrimage. If it was pointed out that one of my articles contained a substantial chunk of the poem then I could defend myself in court by claiming that I had simply made it up and it was coincidence. The same does not hold for a patent. If I sit down this afternoon and write a brilliant graphics compression routine and it happens to be the same as the LZW algorithm used in GIF files, then I am in trouble under patent law, at least in the US. Coincidence is no defence. The proposed directive is supported by many of the major software companies, but this is hardly surprising since most of them are US-based and they have already had to cope with a legal environment that allows patents. They have legal departments and, more crucially, patents of their own which they can trade or cross-license with other patent holders.\n\nEven this system breaks down, of course, as Microsoft found out last year when they initially lost a case brought by Eolas which claimed that Internet Explorer (and other browsers) infringed an Eolas patent. That one was eventually thrown out, but only after months of uncertainty and millions of dollars. But small companies, and the free and open software movement do not have any patents to trade. Much of the really useful software we use every day, programs like the Apache web server, the GNU/Linux operating system and the fearsomely popular Firefox browser, is developed outside company structures by people who do not have legal departments to check for patent infringements. The damage to software will not happen overnight, of course. If the directive goes through it has to be written into national laws and then there will be a steady stream of legal actions against small companies and open source products. Eventually someone will decide to attack Linux directly, probably with some secret funding from one or two large players. The new directive will limit innovation by forcing programmers to spend time checking for patent infringements or simply avoiding working in potentially competitive areas. And it will damage Europe's computer industry. We can only hope that the Council of Ministers has the integrity and strength to reject this bad law.\n\nBill Thompson is a regular commentator on the BBC World Service programme Go Digital.\n"
        ],
        [
         "2223",
         "400.txt",
         "tech",
         "US cyber security chief resigns\n\nThe man making sure US computer networks are safe and secure has resigned after only a year in his post.\n\nAmit Yoran was director of the National Cyber Security Division within the US Department of Homeland Security created following the 9/11 attacks. The division was tasked with improving US defences against malicious hackers, viruses and other net-based threats. Reports suggest he left because his division was not given enough clout within the larger organisation.\n\nMr Yoran took up his post in September 2003 and his first task was to get the Cyber Security Division up and running. The organisation had a staff of about 60 people and a budget of about $80m (£44.54m). The division was charged with thinking up and carrying out action to make US networks more impervious to attack and disruption by the viruses, worms and hack attacks that have become commonplace.\n\nIn the last 12 months Mr Yoran oversaw the creation of a cyber alert system that sends out warnings about big hitting viruses and net attacks as they occur. The warnings also contained information about how firms and organisations could protect themselves against these attacks. The Cyber Security Division also audited US government networks to discover exactly what was sitting on which network. The next step was to be the creation of a scanning system to identify vulnerabilities that made federal networks and machines susceptible to attack by malicious hackers and virus writers. Mr Yoran's division was also doing work to identify the networks and machines that had been broken into by cyber criminals. Despite this success Mr Yoran left his post abruptly at the end of last week, reportedly only giving one day's notice to bosses at the Department of Homeland Security. \"Amit Yoran has been a valuable contributor on cyber security issues over the past year, and we appreciate his efforts in starting the department's cybersecurity program,\" said a Department of Homeland Security spokeswoman. Some reports have suggested that Mr Yoran felt frustrated by the lack of prominence given to work to protect against net-based threats in the wider homeland organisation. An attempt by US politicians to pass a law to promote Mr Yoran and raise the profile of his department's work is now mired in Congress.\n"
        ],
        [
         "2224",
         "401.txt",
         "tech",
         "Losing yourself in online gaming\n\nOnline role playing games are time-consuming, but enthralling flights from reality. But are some people taking their fantasy lives too seriously?\n\nWhen video game World of Warcraft hit the shops in Europe last week fans wrote in to the BBC website to express their delight - and to offer a warning. \"An addiction to a game like this is far more costly in time than any substance could impair - keep track of time,\" wrote Travis Anderson, in Texas. Some of the comments were humorous: \"This game is so good I'm not going to get it, there's no way I could limit the hours I'd spend playing it,\" wrote Charles MacIntyre, from England.\n\nBut some struck a more worrying tone about the Massively Multiplayer Online Role Playing Game (MMORPG): \"'You need to get out more' could be the motto of any MMORPG. Shame they are getting more popular, as you know this problem is just going to mushroom,\" wrote Stuart Stanton-Davies, in Huddersfield. Scare-mongering articles about \"addictive video games\" have existed since the days the first game of Pong stopped everyone from working at the Atari offices.\n\nGaming is like any other pastime - it can quickly become an unhealthy obsession, whether it is spending too much time in the gym, in front of the television, or reading poetry.\n\nUnfortunately, gaming and addiction is a far too easy association to make. However, stories about gamers spending 10 to 15 hours a day in front of some video games are becoming more frequent. And the impact that is having on their families is quite distressing for some.\n\nMassively multiplayer online role playing games - MMORPGs - allow thousands of gamers to share a common experience of sharing fantasy or science fiction worlds. The scope of these games - like Warcraft, EverQuest, Ultima among others - is epic, and exploration and adventure is almost infinite. Part of the \"problem\" is grinding - by which gamers have to perform long-winded, mindless tasks, to bring up their levels and gain access to more adventure. Such open-endedness brings with it a desire to keep playing; not for no reason is EverQuest (EQ) nicknamed EverCrack. E Hayot, writing in the culture blogzine Print Culture, said recently: \"I used to play the online role-playing game EverQuest a lot. \"By 'a lot', I mean probably 15 to 20 hours a week on average, and on weeks where I didn't have to work, as many as 30 or 40 hours.\"\n\nHe says that in the world of online gaming such behaviour \"wasn't that unusual; lots of people I knew in the game played EQ that much\". \"You lie; you don't go into work because you \"had stuff to do at home\"; you cancel or refuse invitations to dinner, you spend much less time watching TV (a good thing, presumably),\" he wrote, explaining how EverQuest took over his time. He quit the game, he says, because he realised life was more fun than EverQuest.\n\nLet us be clear - such obsession is rare. But the huge growth in online gaming means a growth in the numbers of people who take their passion for a hobby too far. Almost 400,000 people bought a copy of World of Warcraft in the first two days on sale earlier this month. Only a fraction will descend into obsessives. The thoughts of families and friends of gamers who have been affected by EverQuest can be found on one blog EverQuest Daily Grind. Jane, who runs the website, compiles a chronicle of heart-rending stories. \"I am actually convinced at this point that there are more than 'some' people who spend more times in MMOPRGs than in reality,\" she said. One unnamed correspondent - all are anonymous - wrote: \"On the rare nights when my husband does come to bed at the same time as I do, I find that I am so used to sleeping by myself that it is difficult to get to sleep with another body laying next to me.\n\n\"I can't talk to him while he is playing. There is absolutely no point as he doesn't hear me or is so distracted that I get a 'ummm... ya' a few minutes after I ask him a question.\"\n\n\"Gaming widows\" has become a comedic term for women who have been shut out by male gamers. But for some it is not in the least funny. Another correspondent wrote: \"I believe that he is addicted to the online gaming, and that is the cause of his depression and restlessness.\" And some of them are even sadder: \"Today our son was five days old. \"The sad truth is my husband spent 11 hours today playing his Warcraft game. He did not interact with our sweet tiny baby because there were important quests waiting online.\" Video game fans often complain that their hobby is misunderstood or marginalised. But as gaming becomes ever more mainstream, and games ever more immersive, there will be no hiding place for social problems.\n\n\n\nI wish 30-40 hours a week was unusual but I think it probably isn't. An 11 hour stretch isn't that surprising - I've known people to play 15+ hours at a stretch. I know of people who are spending their week's holiday from work playing Warcraft. I know of people who would play Ever[Crack] in shifts...waking at 3am to take over from their friends and resume waiting for an item they 'needed' to appear. I understand that the key sign of an addiction is if you alter your life around it rather than fit it into your life. By all standards many of us are addicts. So is the solution to force ourselves to stop playing..or do we just need to make real life a bit more interesting?\n\nSadly with all the talk of people becoming obsessed with gaming, I find myself longing to have the time to join them. I have been in a long term relationship for over 4 years - since that began, games have become more and more complex. And more and more so I find I have less and less time to play them, with and marriage and work being the main drag on my time.\n\nI think the line between playing a game a lot and a gaming addiction is really quite distinct. I play games a lot, definately over 20 hours a week, but I don't go missing work or other commitments in order to play games.\n\nI have, about a year ago, deleted every game on my computer. RPGs are the worst - the real world fades and all your worries sorround a new magic staff or mighty sword. Unlike books, or perhaps even TV, you gain absolutely nothing. When you stop playing you're at the same point as when you started; all the achievements of your 10 hour session are irretrievably locked in the game and, since you've gained nothing in the real world, you may as well pile on more achievement in the fake one.\n\nDespite having little monetary value, the \"rewards\" and encouragement offered by these MMORPGs is enough to hook games for hours daily. If only business could learn to leverage that very simply human need for easily measurable progress and recognition. Perhaps the unhealthily obsessed simply need more recognition for their achievements in reality?\n\nMy advice to gaming widows is \"if you can't beat 'em, join 'em\". That is, try playing it yourself. If he wants to play as well, well at least you'll be together somewhere...\n\nI was an addict and it cost me my relationship. I still play now, but without the guilt , hehe, How long have i played in one sitting? From morning till the early hours of the next day, the birds were singing out side and i had to hobble to the bath room cos my bladder was so full i was in pain, i would hardly eat, perhaps some toast, smoke endlessly and drink. Now, thankfully the fascination has worn off and I have a girlfriend but still no job. For the most part online gaming give me an adiction to illusory achievement, and as there is no end in sight you keep going for the mirage of the ultimate.\n\nObsessive behaviour is, of course, always cause for concern, but it always bothers me when articles about gaming talk in terms of \"reality\". Obviously, somebody who spends thirty hours a week playing EverQuest has a problem. This problem, however, has nothing to do with a dysfunctional sense of reality. An obsessive EQ player does not consider the game to be \"real\" any more than - for example - an obsessive automotive tinkerer considers their car to be human. If MMORPGs have a unique danger, in terms of encouraging obsessive behaviour, it is not that they create an absorbing virtual world, but rather that they can be easily accessed 24/7. The problem here does not lie with the nature of gaming, but with the nature of modern 24 hour culture.\n\nThe problem with these so called MMORPGS is that you can never really complete them, there's always another quest to do. A few of my friends have only had about 10 hours sleep since it was released friday...\n\nChampionship Manager consumed my life for years. One particular session started at about 2pm on a Sunday, paused for a brief sleep at 5am on the Monday and after visit to University for classes restarted at about midday for another 10 hour session. The people who tend to hark on about about the problems of \"hardcore gaming\" seem to be those who have rarely allowed themselves to become immersed in a game. I would expect their perspective to change if they were to do that.\n\nI used to be an EverQuest addict while I was in college. It came to the point where the gaming world felt more real than the real one. I failed alot of my courses and was able to barely graduate. I was lucky that I came to my senses when I did, others were less fortunate and dropped out of college. Now that I am holding a job, I avoid online RPGS like the plague.\n\nWhen I was made redundant I told my partner I had a new job for three months whilst every day I played EverQuest from 7:30am till 5:pm. When She came home I pretended I had just got in as well, hence justifying playing it all evening. I have since quit playing MMORPG and have a good job.\n\nWhen I got to the point where I was eating my dinner in front of the PC I realised things were getting silly so I'm trying not to spend so much time on there. It's not easy. I feel as if I've got a real addiction going on here.\n\nFor me the problem is that I love to complete a goal. Once it is completed that is it, I am finished, time to move on. I become obsessed to complete the goal, so from that standpoint it is an addiction. In a game where you will never complete an \"ultimate\" goal, well it would be like falling into a black pit. It is easier to escape into a controlled fantasy world than face reality at times - in other words the goal offered in the PC game are \"easier\" and more fun than the real world. Pretty scary implications if you think about it.\n\nI can't buy World of Warcraft as it would destroy my marrage, I just know it!!\n\nI played Star Wars Galaxies for about a year and can attest to the addictiveness of these games. They are all engineered in such a way that early on in the game you progress quickly, but this progress becomes exponentially slower, requiring more and more time to reach the next level. I'm sad to say that at the peak of my addiction I was spending entire weekends in front of my monitor, slowly building up my character, stopping only for food and toilet breaks. Thankfully I made a clean break, and actually managed to sell my Jedi account for £800 - which is my only sanity check in an otherwise completely unproductive time vacuum.\n\nSeven years ago, I began playing Ultima Online. This game dominated 2 years of my life. They were 2 wonderful years and I still have vivid memories of the experiences and friends I had. Online gaming can be a world of escapism where you can be yourself without fear of the thoughts of others. Something that cannot always be achieved in the day to day running of a normal life. Whilst I would warn against people giving to much of there life to these games, I believe they are a better way to spend your time than say watching TV.\n\nGaming is addictive and should be made a recognised addiction. When I was single I used to play upto eight hours a night after work every night for about a year, building up my stats, completing evermore quests and battling ogres. But somehow I found time to get out, even met someone and got married! Has my life changed? Hell no! I still cast spells and battle till the early hours of the morning. On with the fun!\n\nOnline gaming should be enjoyed just as much as you would enjoy watching television, or going to the cinema or the pub with your mates.\n\nMany people use recreational drugs on an occasional basis and are able to lead succesfull lives with families, relationships and good careers. A minority allow drugs to take over and destroy their lives and become addicted. According to this article the same is true of MMORPGs. The message to the government is clear, either legalise drugs, or outlaw online gaming!!\n\nSounds like there are some sad stories here - and I can believe them all. I play alot of Warcraft myself, and know full well how addictive it is. I am resolute that it will not take over my life. It certainly gets in the way though. I think that some people simply do not know how to draw this line, or lack the willpower to stop themselves stepping over it.\n\nI think I'm obsessed with gaming in general, I spend far too much time playing games like Everquest 2 and Football Manager rather than going out and interacting with real people and when I do try to, I'm always thinking in the back if my mind that I'd rather be in front of the computer winning the league with Cambridge United.\n\nI am obsessed with online role playing games. It's not so much quests but it has the adrenaline of a real life situation - goals to achieve etc. I spend about five hours per day online playing it and I rarely get more than four to five hours sleep before getting up for work the next morning...\n\nAs many of the players spend their time in MMORPGs rather than in front of the TV I fail to see how it will affect players social lives negatively. Furthermore these types of games contain a huge social aspect, whereas other games and some other pursuits (such as being a couch potato) the players could be indulging in are solitary by nature.\n\nThese games are like most things -- too much of anything is a bad thing, but as long as you can walk away from the computer to do other things too, they can be great fun.\n\nLiving in Korea at the moment, they have lots PC Bangs (Internet Cafes). Nearly most of South Koreans are addicted to online games, and one Korean died because of the lack of food and water he had through playing online games.\n\nI play xbox live every day. I find my self lying and rescheduling everything around my gaming fix. The longest I played was a 24 hour straight session. I know I play for to long but it's an obsession that I can't control. Can you reccomend a counsellor - this is not a wind up... but something I'm increasingly concerned with...\n\nMe and my mate play online for an hour or two a day, we're both aware of how much time can disappear by sitting in front of a TV, trying to 'frag' some individual. It's getting the balance between getting home and relasing the stress of a day by an hour or so gaming, and enjoying 'real' life...\n\nI bought the US version of World of Warcraft when it came out. The longest period I played was 23 hrs straight. I gave up the game after a month because it was so addictive, but have subsequently just bought the European version (couldn't help myself). In future, I'm going to regulate my time far more strictly. Great game!\n\nHaving played MMORPG games for some years I agree that these type of games can be life sucking. But my concern is for the younger generation of gamers that play for hours on end in an adult enviroment. Most MMORPG games you need a credit card to play but I dont think parents know just what they are letting there children into.\n\nUnless there is undeniable medical proof that staring at a computer screens for hours at a time can damage a person&#191;s health, you can expect this not to decline but to get worse.\n\nThese people are pathetic. They need to get off their machines and notice that our world is being swiftly overcome by issues and troubles that make the trifling worries of and \"online universe\" absolutely meaningless.\n\n24hours, when i was a kid at school and i was on half term, Ultima Online was the game, ahhhh them was the days ! LOL\n"
        ]
       ],
       "shape": {
        "columns": 3,
        "rows": 5
       }
      },
      "text/html": [
       "<div>\n",
       "<style scoped>\n",
       "    .dataframe tbody tr th:only-of-type {\n",
       "        vertical-align: middle;\n",
       "    }\n",
       "\n",
       "    .dataframe tbody tr th {\n",
       "        vertical-align: top;\n",
       "    }\n",
       "\n",
       "    .dataframe thead th {\n",
       "        text-align: right;\n",
       "    }\n",
       "</style>\n",
       "<table border=\"1\" class=\"dataframe\">\n",
       "  <thead>\n",
       "    <tr style=\"text-align: right;\">\n",
       "      <th></th>\n",
       "      <th>file_name</th>\n",
       "      <th>category</th>\n",
       "      <th>text</th>\n",
       "    </tr>\n",
       "  </thead>\n",
       "  <tbody>\n",
       "    <tr>\n",
       "      <th>2220</th>\n",
       "      <td>397.txt</td>\n",
       "      <td>tech</td>\n",
       "      <td>BT program to beat dialler scams\\n\\nBT is intr...</td>\n",
       "    </tr>\n",
       "    <tr>\n",
       "      <th>2221</th>\n",
       "      <td>398.txt</td>\n",
       "      <td>tech</td>\n",
       "      <td>Spam e-mails tempt net shoppers\\n\\nComputer us...</td>\n",
       "    </tr>\n",
       "    <tr>\n",
       "      <th>2222</th>\n",
       "      <td>399.txt</td>\n",
       "      <td>tech</td>\n",
       "      <td>Be careful how you code\\n\\nA new European dire...</td>\n",
       "    </tr>\n",
       "    <tr>\n",
       "      <th>2223</th>\n",
       "      <td>400.txt</td>\n",
       "      <td>tech</td>\n",
       "      <td>US cyber security chief resigns\\n\\nThe man mak...</td>\n",
       "    </tr>\n",
       "    <tr>\n",
       "      <th>2224</th>\n",
       "      <td>401.txt</td>\n",
       "      <td>tech</td>\n",
       "      <td>Losing yourself in online gaming\\n\\nOnline rol...</td>\n",
       "    </tr>\n",
       "  </tbody>\n",
       "</table>\n",
       "</div>"
      ],
      "text/plain": [
       "     file_name category                                               text\n",
       "2220   397.txt     tech  BT program to beat dialler scams\\n\\nBT is intr...\n",
       "2221   398.txt     tech  Spam e-mails tempt net shoppers\\n\\nComputer us...\n",
       "2222   399.txt     tech  Be careful how you code\\n\\nA new European dire...\n",
       "2223   400.txt     tech  US cyber security chief resigns\\n\\nThe man mak...\n",
       "2224   401.txt     tech  Losing yourself in online gaming\\n\\nOnline rol..."
      ]
     },
     "execution_count": 6,
     "metadata": {},
     "output_type": "execute_result"
    }
   ],
   "source": [
    "bbc_df.tail()"
   ]
  },
  {
   "cell_type": "code",
   "execution_count": 5,
   "metadata": {},
   "outputs": [
    {
     "data": {
      "application/vnd.microsoft.datawrangler.viewer.v0+json": {
       "columns": [
        {
         "name": "index",
         "rawType": "object",
         "type": "string"
        },
        {
         "name": "file_name",
         "rawType": "object",
         "type": "unknown"
        },
        {
         "name": "category",
         "rawType": "object",
         "type": "unknown"
        },
        {
         "name": "text",
         "rawType": "object",
         "type": "unknown"
        }
       ],
       "conversionMethod": "pd.DataFrame",
       "ref": "9bf660ef-7115-4fa7-9166-805a939f784e",
       "rows": [
        [
         "count",
         "2225",
         "2225",
         "2225"
        ],
        [
         "unique",
         "511",
         "5",
         "2127"
        ],
        [
         "top",
         "386.txt",
         "sport",
         "De Niro film leads US box office\n\nFilm star Robert De Niro has returned to the top of the North American box office with his film Hide and Seek.\n\nThe thriller shot straight to the number one spot after taking $22m (£11.7m) at the box office. De Niro recently spent three weeks at the top with comedy Meet The Fockers, which was at number five this week. Oscar hopefuls The Aviator, Million Dollar Baby and Sideways all cashed in on their multiple nominations with stronger ticket sales.\n\nIn Hide and Seek, De Niro plays a widower whose daughter has a creepy imaginary friend. Despite lukewarm reviews from critics, the film took more than the expected $18m (£9.5m). \"The element of a real actor in a psychological thriller certainly elevated it,\" said Bruce Snyder, president of domestic distribution at 20th Century Fox. Clint Eastwood's Million Dollar Baby led the Oscar hopefuls with $11.8m (£6.3m), coming in at number three during its first weekend of wide release. The Aviator, a film biography of Howard Hughes that leads the Oscar field with 11 nominations, was at number six for the weekend with $7.5m (£4m). Oscar best-picture nominee Sideways entered the top ten for the first time in its 15th week of release. It came in seventh $6.3 (£3.35m). Last week's top film, Ice Cube's road-trip comedy Are We There Yet?, slipped to second place with $17m (£9m), while Coach Carter fell two places to number four, taking $8m (£4.25m) in its third week. Rounding out the top ten were In Good Company - starring Dennis Quaid and Scarlett Johansson - Racing Stripes and Assault on Precinct 13.\n"
        ],
        [
         "freq",
         "5",
         "511",
         "2"
        ]
       ],
       "shape": {
        "columns": 3,
        "rows": 4
       }
      },
      "text/html": [
       "<div>\n",
       "<style scoped>\n",
       "    .dataframe tbody tr th:only-of-type {\n",
       "        vertical-align: middle;\n",
       "    }\n",
       "\n",
       "    .dataframe tbody tr th {\n",
       "        vertical-align: top;\n",
       "    }\n",
       "\n",
       "    .dataframe thead th {\n",
       "        text-align: right;\n",
       "    }\n",
       "</style>\n",
       "<table border=\"1\" class=\"dataframe\">\n",
       "  <thead>\n",
       "    <tr style=\"text-align: right;\">\n",
       "      <th></th>\n",
       "      <th>file_name</th>\n",
       "      <th>category</th>\n",
       "      <th>text</th>\n",
       "    </tr>\n",
       "  </thead>\n",
       "  <tbody>\n",
       "    <tr>\n",
       "      <th>count</th>\n",
       "      <td>2225</td>\n",
       "      <td>2225</td>\n",
       "      <td>2225</td>\n",
       "    </tr>\n",
       "    <tr>\n",
       "      <th>unique</th>\n",
       "      <td>511</td>\n",
       "      <td>5</td>\n",
       "      <td>2127</td>\n",
       "    </tr>\n",
       "    <tr>\n",
       "      <th>top</th>\n",
       "      <td>386.txt</td>\n",
       "      <td>sport</td>\n",
       "      <td>De Niro film leads US box office\\n\\nFilm star ...</td>\n",
       "    </tr>\n",
       "    <tr>\n",
       "      <th>freq</th>\n",
       "      <td>5</td>\n",
       "      <td>511</td>\n",
       "      <td>2</td>\n",
       "    </tr>\n",
       "  </tbody>\n",
       "</table>\n",
       "</div>"
      ],
      "text/plain": [
       "       file_name category                                               text\n",
       "count       2225     2225                                               2225\n",
       "unique       511        5                                               2127\n",
       "top      386.txt    sport  De Niro film leads US box office\\n\\nFilm star ...\n",
       "freq           5      511                                                  2"
      ]
     },
     "execution_count": 5,
     "metadata": {},
     "output_type": "execute_result"
    }
   ],
   "source": [
    "bbc_df.describe()"
   ]
  },
  {
   "cell_type": "code",
   "execution_count": null,
   "metadata": {},
   "outputs": [
    {
     "name": "stdout",
     "output_type": "stream",
     "text": [
      "Dataset created with 2225 articles across 5 categories\n",
      "Category distribution:\n",
      "category\n",
      "sport            511\n",
      "business         510\n",
      "politics         417\n",
      "tech             401\n",
      "entertainment    386\n",
      "Name: count, dtype: int64\n"
     ]
    }
   ],
   "source": [
    "print(f\"Dataset created with {len(bbc_df)} articles across {bbc_df['category'].nunique()} categories\")\n",
    "print(f\"Category distribution:\\n{bbc_df['category'].value_counts()}\")"
   ]
  },
  {
   "cell_type": "markdown",
   "metadata": {},
   "source": [
    "## Basic text cleaning & Text normalization\n",
    "- Convert all text to lowercase\n",
    "- Remove punctuation and special characters\n",
    "- Remove numbers\n",
    "- Remove extra whitespaces\n",
    "- Remove stopwords"
   ]
  },
  {
   "cell_type": "code",
   "execution_count": 8,
   "metadata": {},
   "outputs": [
    {
     "name": "stdout",
     "output_type": "stream",
     "text": [
      "Ad sales boost Time Warner profit\n",
      "\n",
      "Quarterly profits at US media giant TimeWarner jumped 76% to $1.13bn (£600m) for the three months to December, from $639m year-earlier.\n",
      "\n",
      "The firm, which is now one o\n",
      "ad sales boost time warner profit quarterly profits at us media giant timewarner jumped to bn m for the three months to december from m year earlier the firm which is now one of the biggest investors \n"
     ]
    },
    {
     "data": {
      "application/vnd.microsoft.datawrangler.viewer.v0+json": {
       "columns": [
        {
         "name": "index",
         "rawType": "int64",
         "type": "integer"
        },
        {
         "name": "file_name",
         "rawType": "object",
         "type": "string"
        },
        {
         "name": "category",
         "rawType": "object",
         "type": "string"
        },
        {
         "name": "text",
         "rawType": "object",
         "type": "string"
        },
        {
         "name": "cleaned_text",
         "rawType": "object",
         "type": "string"
        }
       ],
       "conversionMethod": "pd.DataFrame",
       "ref": "6a752586-4c20-40da-af31-6d3f43212add",
       "rows": [
        [
         "0",
         "001.txt",
         "business",
         "Ad sales boost Time Warner profit\n\nQuarterly profits at US media giant TimeWarner jumped 76% to $1.13bn (£600m) for the three months to December, from $639m year-earlier.\n\nThe firm, which is now one of the biggest investors in Google, benefited from sales of high-speed internet connections and higher advert sales. TimeWarner said fourth quarter sales rose 2% to $11.1bn from $10.9bn. Its profits were buoyed by one-off gains which offset a profit dip at Warner Bros, and less users for AOL.\n\nTime Warner said on Friday that it now owns 8% of search-engine Google. But its own internet business, AOL, had has mixed fortunes. It lost 464,000 subscribers in the fourth quarter profits were lower than in the preceding three quarters. However, the company said AOL's underlying profit before exceptional items rose 8% on the back of stronger internet advertising revenues. It hopes to increase subscribers by offering the online service free to TimeWarner internet customers and will try to sign up AOL's existing customers for high-speed broadband. TimeWarner also has to restate 2000 and 2003 results following a probe by the US Securities Exchange Commission (SEC), which is close to concluding.\n\nTime Warner's fourth quarter profits were slightly better than analysts' expectations. But its film division saw profits slump 27% to $284m, helped by box-office flops Alexander and Catwoman, a sharp contrast to year-earlier, when the third and final film in the Lord of the Rings trilogy boosted results. For the full-year, TimeWarner posted a profit of $3.36bn, up 27% from its 2003 performance, while revenues grew 6.4% to $42.09bn. \"Our financial performance was strong, meeting or exceeding all of our full-year objectives and greatly enhancing our flexibility,\" chairman and chief executive Richard Parsons said. For 2005, TimeWarner is projecting operating earnings growth of around 5%, and also expects higher revenue and wider profit margins.\n\nTimeWarner is to restate its accounts as part of efforts to resolve an inquiry into AOL by US market regulators. It has already offered to pay $300m to settle charges, in a deal that is under review by the SEC. The company said it was unable to estimate the amount it needed to set aside for legal reserves, which it previously set at $500m. It intends to adjust the way it accounts for a deal with German music publisher Bertelsmann's purchase of a stake in AOL Europe, which it had reported as advertising revenue. It will now book the sale of its stake in AOL Europe as a loss on the value of that stake.\n",
         "ad sales boost time warner profit quarterly profits at us media giant timewarner jumped to bn m for the three months to december from m year earlier the firm which is now one of the biggest investors in google benefited from sales of high speed internet connections and higher advert sales timewarner said fourth quarter sales rose to bn from bn its profits were buoyed by one off gains which offset a profit dip at warner bros and less users for aol time warner said on friday that it now owns of search engine google but its own internet business aol had has mixed fortunes it lost subscribers in the fourth quarter profits were lower than in the preceding three quarters however the company said aol s underlying profit before exceptional items rose on the back of stronger internet advertising revenues it hopes to increase subscribers by offering the online service free to timewarner internet customers and will try to sign up aol s existing customers for high speed broadband timewarner also has to restate and results following a probe by the us securities exchange commission sec which is close to concluding time warner s fourth quarter profits were slightly better than analysts expectations but its film division saw profits slump to m helped by box office flops alexander and catwoman a sharp contrast to year earlier when the third and final film in the lord of the rings trilogy boosted results for the full year timewarner posted a profit of bn up from its performance while revenues grew to bn our financial performance was strong meeting or exceeding all of our full year objectives and greatly enhancing our flexibility chairman and chief executive richard parsons said for timewarner is projecting operating earnings growth of around and also expects higher revenue and wider profit margins timewarner is to restate its accounts as part of efforts to resolve an inquiry into aol by us market regulators it has already offered to pay m to settle charges in a deal that is under review by the sec the company said it was unable to estimate the amount it needed to set aside for legal reserves which it previously set at m it intends to adjust the way it accounts for a deal with german music publisher bertelsmann s purchase of a stake in aol europe which it had reported as advertising revenue it will now book the sale of its stake in aol europe as a loss on the value of that stake"
        ],
        [
         "1",
         "002.txt",
         "business",
         "Dollar gains on Greenspan speech\n\nThe dollar has hit its highest level against the euro in almost three months after the Federal Reserve head said the US trade deficit is set to stabilise.\n\nAnd Alan Greenspan highlighted the US government's willingness to curb spending and rising household savings as factors which may help to reduce it. In late trading in New York, the dollar reached $1.2871 against the euro, from $1.2974 on Thursday. Market concerns about the deficit has hit the greenback in recent months. On Friday, Federal Reserve chairman Mr Greenspan's speech in London ahead of the meeting of G7 finance ministers sent the dollar higher after it had earlier tumbled on the back of worse-than-expected US jobs data. \"I think the chairman's taking a much more sanguine view on the current account deficit than he's taken for some time,\" said Robert Sinche, head of currency strategy at Bank of America in New York. \"He's taking a longer-term view, laying out a set of conditions under which the current account deficit can improve this year and next.\"\n\nWorries about the deficit concerns about China do, however, remain. China's currency remains pegged to the dollar and the US currency's sharp falls in recent months have therefore made Chinese export prices highly competitive. But calls for a shift in Beijing's policy have fallen on deaf ears, despite recent comments in a major Chinese newspaper that the \"time is ripe\" for a loosening of the peg. The G7 meeting is thought unlikely to produce any meaningful movement in Chinese policy. In the meantime, the US Federal Reserve's decision on 2 February to boost interest rates by a quarter of a point - the sixth such move in as many months - has opened up a differential with European rates. The half-point window, some believe, could be enough to keep US assets looking more attractive, and could help prop up the dollar. The recent falls have partly been the result of big budget deficits, as well as the US's yawning current account gap, both of which need to be funded by the buying of US bonds and assets by foreign firms and governments. The White House will announce its budget on Monday, and many commentators believe the deficit will remain at close to half a trillion dollars.\n",
         "dollar gains on greenspan speech the dollar has hit its highest level against the euro in almost three months after the federal reserve head said the us trade deficit is set to stabilise and alan greenspan highlighted the us government s willingness to curb spending and rising household savings as factors which may help to reduce it in late trading in new york the dollar reached against the euro from on thursday market concerns about the deficit has hit the greenback in recent months on friday federal reserve chairman mr greenspan s speech in london ahead of the meeting of g finance ministers sent the dollar higher after it had earlier tumbled on the back of worse than expected us jobs data i think the chairman s taking a much more sanguine view on the current account deficit than he s taken for some time said robert sinche head of currency strategy at bank of america in new york he s taking a longer term view laying out a set of conditions under which the current account deficit can improve this year and next worries about the deficit concerns about china do however remain china s currency remains pegged to the dollar and the us currency s sharp falls in recent months have therefore made chinese export prices highly competitive but calls for a shift in beijing s policy have fallen on deaf ears despite recent comments in a major chinese newspaper that the time is ripe for a loosening of the peg the g meeting is thought unlikely to produce any meaningful movement in chinese policy in the meantime the us federal reserve s decision on february to boost interest rates by a quarter of a point the sixth such move in as many months has opened up a differential with european rates the half point window some believe could be enough to keep us assets looking more attractive and could help prop up the dollar the recent falls have partly been the result of big budget deficits as well as the us s yawning current account gap both of which need to be funded by the buying of us bonds and assets by foreign firms and governments the white house will announce its budget on monday and many commentators believe the deficit will remain at close to half a trillion dollars"
        ],
        [
         "2",
         "003.txt",
         "business",
         "Yukos unit buyer faces loan claim\n\nThe owners of embattled Russian oil giant Yukos are to ask the buyer of its former production unit to pay back a $900m (£479m) loan.\n\nState-owned Rosneft bought the Yugansk unit for $9.3bn in a sale forced by Russia to part settle a $27.5bn tax claim against Yukos. Yukos' owner Menatep Group says it will ask Rosneft to repay a loan that Yugansk had secured on its assets. Rosneft already faces a similar $540m repayment demand from foreign banks. Legal experts said Rosneft's purchase of Yugansk would include such obligations. \"The pledged assets are with Rosneft, so it will have to pay real money to the creditors to avoid seizure of Yugansk assets,\" said Moscow-based US lawyer Jamie Firestone, who is not connected to the case. Menatep Group's managing director Tim Osborne told the Reuters news agency: \"If they default, we will fight them where the rule of law exists under the international arbitration clauses of the credit.\"\n\nRosneft officials were unavailable for comment. But the company has said it intends to take action against Menatep to recover some of the tax claims and debts owed by Yugansk. Yukos had filed for bankruptcy protection in a US court in an attempt to prevent the forced sale of its main production arm. The sale went ahead in December and Yugansk was sold to a little-known shell company which in turn was bought by Rosneft. Yukos claims its downfall was punishment for the political ambitions of its founder Mikhail Khodorkovsky and has vowed to sue any participant in the sale.\n",
         "yukos unit buyer faces loan claim the owners of embattled russian oil giant yukos are to ask the buyer of its former production unit to pay back a m m loan state owned rosneft bought the yugansk unit for bn in a sale forced by russia to part settle a bn tax claim against yukos yukos owner menatep group says it will ask rosneft to repay a loan that yugansk had secured on its assets rosneft already faces a similar m repayment demand from foreign banks legal experts said rosneft s purchase of yugansk would include such obligations the pledged assets are with rosneft so it will have to pay real money to the creditors to avoid seizure of yugansk assets said moscow based us lawyer jamie firestone who is not connected to the case menatep group s managing director tim osborne told the reuters news agency if they default we will fight them where the rule of law exists under the international arbitration clauses of the credit rosneft officials were unavailable for comment but the company has said it intends to take action against menatep to recover some of the tax claims and debts owed by yugansk yukos had filed for bankruptcy protection in a us court in an attempt to prevent the forced sale of its main production arm the sale went ahead in december and yugansk was sold to a little known shell company which in turn was bought by rosneft yukos claims its downfall was punishment for the political ambitions of its founder mikhail khodorkovsky and has vowed to sue any participant in the sale"
        ],
        [
         "3",
         "004.txt",
         "business",
         "High fuel prices hit BA's profits\n\nBritish Airways has blamed high fuel prices for a 40% drop in profits.\n\nReporting its results for the three months to 31 December 2004, the airline made a pre-tax profit of £75m ($141m) compared with £125m a year earlier. Rod Eddington, BA's chief executive, said the results were \"respectable\" in a third quarter when fuel costs rose by £106m or 47.3%. BA's profits were still better than market expectation of £59m, and it expects a rise in full-year revenues.\n\nTo help offset the increased price of aviation fuel, BA last year introduced a fuel surcharge for passengers.\n\nIn October, it increased this from £6 to £10 one-way for all long-haul flights, while the short-haul surcharge was raised from £2.50 to £4 a leg. Yet aviation analyst Mike Powell of Dresdner Kleinwort Wasserstein says BA's estimated annual surcharge revenues - £160m - will still be way short of its additional fuel costs - a predicted extra £250m. Turnover for the quarter was up 4.3% to £1.97bn, further benefiting from a rise in cargo revenue. Looking ahead to its full year results to March 2005, BA warned that yields - average revenues per passenger - were expected to decline as it continues to lower prices in the face of competition from low-cost carriers. However, it said sales would be better than previously forecast. \"For the year to March 2005, the total revenue outlook is slightly better than previous guidance with a 3% to 3.5% improvement anticipated,\" BA chairman Martin Broughton said. BA had previously forecast a 2% to 3% rise in full-year revenue.\n\nIt also reported on Friday that passenger numbers rose 8.1% in January. Aviation analyst Nick Van den Brul of BNP Paribas described BA's latest quarterly results as \"pretty modest\". \"It is quite good on the revenue side and it shows the impact of fuel surcharges and a positive cargo development, however, operating margins down and cost impact of fuel are very strong,\" he said. Since the 11 September 2001 attacks in the United States, BA has cut 13,000 jobs as part of a major cost-cutting drive. \"Our focus remains on reducing controllable costs and debt whilst continuing to invest in our products,\" Mr Eddington said. \"For example, we have taken delivery of six Airbus A321 aircraft and next month we will start further improvements to our Club World flat beds.\" BA's shares closed up four pence at 274.5 pence.\n",
         "high fuel prices hit ba s profits british airways has blamed high fuel prices for a drop in profits reporting its results for the three months to december the airline made a pre tax profit of m m compared with m a year earlier rod eddington ba s chief executive said the results were respectable in a third quarter when fuel costs rose by m or ba s profits were still better than market expectation of m and it expects a rise in full year revenues to help offset the increased price of aviation fuel ba last year introduced a fuel surcharge for passengers in october it increased this from to one way for all long haul flights while the short haul surcharge was raised from to a leg yet aviation analyst mike powell of dresdner kleinwort wasserstein says ba s estimated annual surcharge revenues m will still be way short of its additional fuel costs a predicted extra m turnover for the quarter was up to bn further benefiting from a rise in cargo revenue looking ahead to its full year results to march ba warned that yields average revenues per passenger were expected to decline as it continues to lower prices in the face of competition from low cost carriers however it said sales would be better than previously forecast for the year to march the total revenue outlook is slightly better than previous guidance with a to improvement anticipated ba chairman martin broughton said ba had previously forecast a to rise in full year revenue it also reported on friday that passenger numbers rose in january aviation analyst nick van den brul of bnp paribas described ba s latest quarterly results as pretty modest it is quite good on the revenue side and it shows the impact of fuel surcharges and a positive cargo development however operating margins down and cost impact of fuel are very strong he said since the september attacks in the united states ba has cut jobs as part of a major cost cutting drive our focus remains on reducing controllable costs and debt whilst continuing to invest in our products mr eddington said for example we have taken delivery of six airbus a aircraft and next month we will start further improvements to our club world flat beds ba s shares closed up four pence at pence"
        ],
        [
         "4",
         "005.txt",
         "business",
         "Pernod takeover talk lifts Domecq\n\nShares in UK drinks and food firm Allied Domecq have risen on speculation that it could be the target of a takeover by France's Pernod Ricard.\n\nReports in the Wall Street Journal and the Financial Times suggested that the French spirits firm is considering a bid, but has yet to contact its target. Allied Domecq shares in London rose 4% by 1200 GMT, while Pernod shares in Paris slipped 1.2%. Pernod said it was seeking acquisitions but refused to comment on specifics.\n\nPernod's last major purchase was a third of US giant Seagram in 2000, the move which propelled it into the global top three of drinks firms. The other two-thirds of Seagram was bought by market leader Diageo. In terms of market value, Pernod - at 7.5bn euros ($9.7bn) - is about 9% smaller than Allied Domecq, which has a capitalisation of £5.7bn ($10.7bn; 8.2bn euros). Last year Pernod tried to buy Glenmorangie, one of Scotland's premier whisky firms, but lost out to luxury goods firm LVMH. Pernod is home to brands including Chivas Regal Scotch whisky, Havana Club rum and Jacob's Creek wine. Allied Domecq's big names include Malibu rum, Courvoisier brandy, Stolichnaya vodka and Ballantine's whisky - as well as snack food chains such as Dunkin' Donuts and Baskin-Robbins ice cream. The WSJ said that the two were ripe for consolidation, having each dealt with problematic parts of their portfolio. Pernod has reduced the debt it took on to fund the Seagram purchase to just 1.8bn euros, while Allied has improved the performance of its fast-food chains.\n",
         "pernod takeover talk lifts domecq shares in uk drinks and food firm allied domecq have risen on speculation that it could be the target of a takeover by france s pernod ricard reports in the wall street journal and the financial times suggested that the french spirits firm is considering a bid but has yet to contact its target allied domecq shares in london rose by gmt while pernod shares in paris slipped pernod said it was seeking acquisitions but refused to comment on specifics pernod s last major purchase was a third of us giant seagram in the move which propelled it into the global top three of drinks firms the other two thirds of seagram was bought by market leader diageo in terms of market value pernod at bn euros bn is about smaller than allied domecq which has a capitalisation of bn bn bn euros last year pernod tried to buy glenmorangie one of scotland s premier whisky firms but lost out to luxury goods firm lvmh pernod is home to brands including chivas regal scotch whisky havana club rum and jacob s creek wine allied domecq s big names include malibu rum courvoisier brandy stolichnaya vodka and ballantine s whisky as well as snack food chains such as dunkin donuts and baskin robbins ice cream the wsj said that the two were ripe for consolidation having each dealt with problematic parts of their portfolio pernod has reduced the debt it took on to fund the seagram purchase to just bn euros while allied has improved the performance of its fast food chains"
        ]
       ],
       "shape": {
        "columns": 4,
        "rows": 5
       }
      },
      "text/html": [
       "<div>\n",
       "<style scoped>\n",
       "    .dataframe tbody tr th:only-of-type {\n",
       "        vertical-align: middle;\n",
       "    }\n",
       "\n",
       "    .dataframe tbody tr th {\n",
       "        vertical-align: top;\n",
       "    }\n",
       "\n",
       "    .dataframe thead th {\n",
       "        text-align: right;\n",
       "    }\n",
       "</style>\n",
       "<table border=\"1\" class=\"dataframe\">\n",
       "  <thead>\n",
       "    <tr style=\"text-align: right;\">\n",
       "      <th></th>\n",
       "      <th>file_name</th>\n",
       "      <th>category</th>\n",
       "      <th>text</th>\n",
       "      <th>cleaned_text</th>\n",
       "    </tr>\n",
       "  </thead>\n",
       "  <tbody>\n",
       "    <tr>\n",
       "      <th>0</th>\n",
       "      <td>001.txt</td>\n",
       "      <td>business</td>\n",
       "      <td>Ad sales boost Time Warner profit\\n\\nQuarterly...</td>\n",
       "      <td>ad sales boost time warner profit quarterly pr...</td>\n",
       "    </tr>\n",
       "    <tr>\n",
       "      <th>1</th>\n",
       "      <td>002.txt</td>\n",
       "      <td>business</td>\n",
       "      <td>Dollar gains on Greenspan speech\\n\\nThe dollar...</td>\n",
       "      <td>dollar gains on greenspan speech the dollar ha...</td>\n",
       "    </tr>\n",
       "    <tr>\n",
       "      <th>2</th>\n",
       "      <td>003.txt</td>\n",
       "      <td>business</td>\n",
       "      <td>Yukos unit buyer faces loan claim\\n\\nThe owner...</td>\n",
       "      <td>yukos unit buyer faces loan claim the owners o...</td>\n",
       "    </tr>\n",
       "    <tr>\n",
       "      <th>3</th>\n",
       "      <td>004.txt</td>\n",
       "      <td>business</td>\n",
       "      <td>High fuel prices hit BA's profits\\n\\nBritish A...</td>\n",
       "      <td>high fuel prices hit ba s profits british airw...</td>\n",
       "    </tr>\n",
       "    <tr>\n",
       "      <th>4</th>\n",
       "      <td>005.txt</td>\n",
       "      <td>business</td>\n",
       "      <td>Pernod takeover talk lifts Domecq\\n\\nShares in...</td>\n",
       "      <td>pernod takeover talk lifts domecq shares in uk...</td>\n",
       "    </tr>\n",
       "  </tbody>\n",
       "</table>\n",
       "</div>"
      ],
      "text/plain": [
       "  file_name  category                                               text  \\\n",
       "0   001.txt  business  Ad sales boost Time Warner profit\\n\\nQuarterly...   \n",
       "1   002.txt  business  Dollar gains on Greenspan speech\\n\\nThe dollar...   \n",
       "2   003.txt  business  Yukos unit buyer faces loan claim\\n\\nThe owner...   \n",
       "3   004.txt  business  High fuel prices hit BA's profits\\n\\nBritish A...   \n",
       "4   005.txt  business  Pernod takeover talk lifts Domecq\\n\\nShares in...   \n",
       "\n",
       "                                        cleaned_text  \n",
       "0  ad sales boost time warner profit quarterly pr...  \n",
       "1  dollar gains on greenspan speech the dollar ha...  \n",
       "2  yukos unit buyer faces loan claim the owners o...  \n",
       "3  high fuel prices hit ba s profits british airw...  \n",
       "4  pernod takeover talk lifts domecq shares in uk...  "
      ]
     },
     "execution_count": 8,
     "metadata": {},
     "output_type": "execute_result"
    }
   ],
   "source": [
    "bbc_df = pd.read_csv(\"_data/2_Medium_BBC_Dataset/bbc_dataset.csv\")\n",
    "\n",
    "def basic_clean(text):\n",
    "    # Convert all text to lowercase\n",
    "    text = text.lower()\n",
    "    # Remove punctuation and special characters\n",
    "    text = re.sub(r'[^\\w\\s]', ' ', text)\n",
    "    # Remove numbers\n",
    "    text = re.sub(r'\\d+', ' ', text)\n",
    "    # Remove extra whitespace\n",
    "    text = re.sub(r'\\s+', ' ', text).strip()\n",
    "\n",
    "    return text\n",
    "\n",
    "bbc_df['cleaned_text'] = bbc_df['text'].apply(basic_clean)\n",
    "print(bbc_df['text'].iloc[0][:200])\n",
    "print(bbc_df['cleaned_text'].iloc[0][:200])\n",
    "bbc_df.head()"
   ]
  },
  {
   "cell_type": "code",
   "execution_count": 9,
   "metadata": {},
   "outputs": [
    {
     "name": "stderr",
     "output_type": "stream",
     "text": [
      "[nltk_data] Downloading package stopwords to\n",
      "[nltk_data]     C:\\Users\\andras.janko\\AppData\\Roaming\\nltk_data...\n",
      "[nltk_data]   Unzipping corpora\\stopwords.zip.\n",
      "[nltk_data] Downloading package punkt to\n",
      "[nltk_data]     C:\\Users\\andras.janko\\AppData\\Roaming\\nltk_data...\n",
      "[nltk_data]   Unzipping tokenizers\\punkt.zip.\n",
      "[nltk_data] Downloading package punkt_tab to\n",
      "[nltk_data]     C:\\Users\\andras.janko\\AppData\\Roaming\\nltk_data...\n",
      "[nltk_data]   Unzipping tokenizers\\punkt_tab.zip.\n"
     ]
    }
   ],
   "source": [
    "nltk.download('stopwords')\n",
    "nltk.download('punkt')\n",
    "nltk.download('punkt_tab')\n",
    "\n",
    "stop_words = set(stopwords.words('english'))\n",
    "stemmer = PorterStemmer()"
   ]
  },
  {
   "cell_type": "markdown",
   "metadata": {},
   "source": [
    "### What are \"tokens\"?\n",
    "\n",
    "In natural language processing, \"tokens\" are not numbers - they're the individual words or components that result from splitting up text. Tokenization is simply the process of breaking text into smaller units (usually words).\n",
    "\n",
    "The line tokens = nltk.word_tokenize(text) was working correctly, but it was just:\n",
    "\n",
    "- Taking a sentence like \"ad sales boost time warner profit\"\n",
    "- Splitting it into individual words: [\"ad\", \"sales\", \"boost\", \"time\", \"warner\", \"profit\"]\n",
    "- Then your code immediately joined them back together with spaces\n",
    "\n",
    "So the output looked nearly identical to the input because you were just splitting and rejoining without any transformation.\n",
    "\n",
    "### Why the complete function now works\n",
    "- Tokenization: Breaking text into individual words\n",
    "- Stopword removal: Removing common words like \"the\", \"at\", \"is\"\n",
    "- Stemming: Reducing words to their root forms (e.g., \"jumped\" → \"jump\")"
   ]
  },
  {
   "cell_type": "markdown",
   "metadata": {},
   "source": [
    "Stemming algorithms don't aim to produce real dictionary words. Instead, they apply rule-based transformations to reduce words to their \"stem\" or root form by chopping off common endings. The goal is to group related word forms together, not to produce grammatically correct words.\n",
    "\n",
    "This is by design! The benefit is that different variations of the same concept get mapped to the same stem, which reduces vocabulary size and helps machine learning models recognize similar words.\n",
    "\n",
    "Lemmatization is more linguistically accurate but slower than stemming. For document classification, stemming is usually sufficient.\n",
    "```python\n",
    "from nltk.stem import WordNetLemmatizer\n",
    "nltk.download('wordnet')\n",
    "\n",
    "lemmatizer = WordNetLemmatizer()\n",
    "\n",
    "def normalize_text(text):\n",
    "    tokens = nltk.word_tokenize(text)\n",
    "    tokens = [word for word in tokens if word not in stop_words]\n",
    "    tokens = [lemmatizer.lemmatize(word) for word in tokens]  # Lemmatization instead of stemming\n",
    "    return ' '.join(tokens)\n",
    "```"
   ]
  },
  {
   "cell_type": "code",
   "execution_count": null,
   "metadata": {},
   "outputs": [
    {
     "name": "stdout",
     "output_type": "stream",
     "text": [
      "Cleaned text:\n",
      "ad sales boost time warner profit quarterly profits at us media giant timewarner jumped to bn m for the three months to december from m year earlier the firm which is now one of the biggest investors \n",
      "\n",
      "Normalized text:\n",
      "ad sale boost time warner profit quarterli profit us media giant timewarn jump bn three month decemb year earlier firm one biggest investor googl benefit sale high speed internet connect higher advert\n"
     ]
    },
    {
     "data": {
      "application/vnd.microsoft.datawrangler.viewer.v0+json": {
       "columns": [
        {
         "name": "index",
         "rawType": "int64",
         "type": "integer"
        },
        {
         "name": "file_name",
         "rawType": "object",
         "type": "string"
        },
        {
         "name": "category",
         "rawType": "object",
         "type": "string"
        },
        {
         "name": "text",
         "rawType": "object",
         "type": "string"
        },
        {
         "name": "cleaned_text",
         "rawType": "object",
         "type": "string"
        },
        {
         "name": "normalized_text",
         "rawType": "object",
         "type": "string"
        }
       ],
       "conversionMethod": "pd.DataFrame",
       "ref": "17809765-e51a-440c-89d1-c50ee516f776",
       "rows": [
        [
         "0",
         "001.txt",
         "business",
         "Ad sales boost Time Warner profit\n\nQuarterly profits at US media giant TimeWarner jumped 76% to $1.13bn (£600m) for the three months to December, from $639m year-earlier.\n\nThe firm, which is now one of the biggest investors in Google, benefited from sales of high-speed internet connections and higher advert sales. TimeWarner said fourth quarter sales rose 2% to $11.1bn from $10.9bn. Its profits were buoyed by one-off gains which offset a profit dip at Warner Bros, and less users for AOL.\n\nTime Warner said on Friday that it now owns 8% of search-engine Google. But its own internet business, AOL, had has mixed fortunes. It lost 464,000 subscribers in the fourth quarter profits were lower than in the preceding three quarters. However, the company said AOL's underlying profit before exceptional items rose 8% on the back of stronger internet advertising revenues. It hopes to increase subscribers by offering the online service free to TimeWarner internet customers and will try to sign up AOL's existing customers for high-speed broadband. TimeWarner also has to restate 2000 and 2003 results following a probe by the US Securities Exchange Commission (SEC), which is close to concluding.\n\nTime Warner's fourth quarter profits were slightly better than analysts' expectations. But its film division saw profits slump 27% to $284m, helped by box-office flops Alexander and Catwoman, a sharp contrast to year-earlier, when the third and final film in the Lord of the Rings trilogy boosted results. For the full-year, TimeWarner posted a profit of $3.36bn, up 27% from its 2003 performance, while revenues grew 6.4% to $42.09bn. \"Our financial performance was strong, meeting or exceeding all of our full-year objectives and greatly enhancing our flexibility,\" chairman and chief executive Richard Parsons said. For 2005, TimeWarner is projecting operating earnings growth of around 5%, and also expects higher revenue and wider profit margins.\n\nTimeWarner is to restate its accounts as part of efforts to resolve an inquiry into AOL by US market regulators. It has already offered to pay $300m to settle charges, in a deal that is under review by the SEC. The company said it was unable to estimate the amount it needed to set aside for legal reserves, which it previously set at $500m. It intends to adjust the way it accounts for a deal with German music publisher Bertelsmann's purchase of a stake in AOL Europe, which it had reported as advertising revenue. It will now book the sale of its stake in AOL Europe as a loss on the value of that stake.\n",
         "ad sales boost time warner profit quarterly profits at us media giant timewarner jumped to bn m for the three months to december from m year earlier the firm which is now one of the biggest investors in google benefited from sales of high speed internet connections and higher advert sales timewarner said fourth quarter sales rose to bn from bn its profits were buoyed by one off gains which offset a profit dip at warner bros and less users for aol time warner said on friday that it now owns of search engine google but its own internet business aol had has mixed fortunes it lost subscribers in the fourth quarter profits were lower than in the preceding three quarters however the company said aol s underlying profit before exceptional items rose on the back of stronger internet advertising revenues it hopes to increase subscribers by offering the online service free to timewarner internet customers and will try to sign up aol s existing customers for high speed broadband timewarner also has to restate and results following a probe by the us securities exchange commission sec which is close to concluding time warner s fourth quarter profits were slightly better than analysts expectations but its film division saw profits slump to m helped by box office flops alexander and catwoman a sharp contrast to year earlier when the third and final film in the lord of the rings trilogy boosted results for the full year timewarner posted a profit of bn up from its performance while revenues grew to bn our financial performance was strong meeting or exceeding all of our full year objectives and greatly enhancing our flexibility chairman and chief executive richard parsons said for timewarner is projecting operating earnings growth of around and also expects higher revenue and wider profit margins timewarner is to restate its accounts as part of efforts to resolve an inquiry into aol by us market regulators it has already offered to pay m to settle charges in a deal that is under review by the sec the company said it was unable to estimate the amount it needed to set aside for legal reserves which it previously set at m it intends to adjust the way it accounts for a deal with german music publisher bertelsmann s purchase of a stake in aol europe which it had reported as advertising revenue it will now book the sale of its stake in aol europe as a loss on the value of that stake",
         "ad sale boost time warner profit quarterli profit us media giant timewarn jump bn three month decemb year earlier firm one biggest investor googl benefit sale high speed internet connect higher advert sale timewarn said fourth quarter sale rose bn bn profit buoy one gain offset profit dip warner bro less user aol time warner said friday own search engin googl internet busi aol mix fortun lost subscrib fourth quarter profit lower preced three quarter howev compani said aol underli profit except item rose back stronger internet advertis revenu hope increas subscrib offer onlin servic free timewarn internet custom tri sign aol exist custom high speed broadband timewarn also restat result follow probe us secur exchang commiss sec close conclud time warner fourth quarter profit slightli better analyst expect film divis saw profit slump help box offic flop alexand catwoman sharp contrast year earlier third final film lord ring trilog boost result full year timewarn post profit bn perform revenu grew bn financi perform strong meet exceed full year object greatli enhanc flexibl chairman chief execut richard parson said timewarn project oper earn growth around also expect higher revenu wider profit margin timewarn restat account part effort resolv inquiri aol us market regul alreadi offer pay settl charg deal review sec compani said unabl estim amount need set asid legal reserv previous set intend adjust way account deal german music publish bertelsmann purchas stake aol europ report advertis revenu book sale stake aol europ loss valu stake"
        ],
        [
         "1",
         "002.txt",
         "business",
         "Dollar gains on Greenspan speech\n\nThe dollar has hit its highest level against the euro in almost three months after the Federal Reserve head said the US trade deficit is set to stabilise.\n\nAnd Alan Greenspan highlighted the US government's willingness to curb spending and rising household savings as factors which may help to reduce it. In late trading in New York, the dollar reached $1.2871 against the euro, from $1.2974 on Thursday. Market concerns about the deficit has hit the greenback in recent months. On Friday, Federal Reserve chairman Mr Greenspan's speech in London ahead of the meeting of G7 finance ministers sent the dollar higher after it had earlier tumbled on the back of worse-than-expected US jobs data. \"I think the chairman's taking a much more sanguine view on the current account deficit than he's taken for some time,\" said Robert Sinche, head of currency strategy at Bank of America in New York. \"He's taking a longer-term view, laying out a set of conditions under which the current account deficit can improve this year and next.\"\n\nWorries about the deficit concerns about China do, however, remain. China's currency remains pegged to the dollar and the US currency's sharp falls in recent months have therefore made Chinese export prices highly competitive. But calls for a shift in Beijing's policy have fallen on deaf ears, despite recent comments in a major Chinese newspaper that the \"time is ripe\" for a loosening of the peg. The G7 meeting is thought unlikely to produce any meaningful movement in Chinese policy. In the meantime, the US Federal Reserve's decision on 2 February to boost interest rates by a quarter of a point - the sixth such move in as many months - has opened up a differential with European rates. The half-point window, some believe, could be enough to keep US assets looking more attractive, and could help prop up the dollar. The recent falls have partly been the result of big budget deficits, as well as the US's yawning current account gap, both of which need to be funded by the buying of US bonds and assets by foreign firms and governments. The White House will announce its budget on Monday, and many commentators believe the deficit will remain at close to half a trillion dollars.\n",
         "dollar gains on greenspan speech the dollar has hit its highest level against the euro in almost three months after the federal reserve head said the us trade deficit is set to stabilise and alan greenspan highlighted the us government s willingness to curb spending and rising household savings as factors which may help to reduce it in late trading in new york the dollar reached against the euro from on thursday market concerns about the deficit has hit the greenback in recent months on friday federal reserve chairman mr greenspan s speech in london ahead of the meeting of g finance ministers sent the dollar higher after it had earlier tumbled on the back of worse than expected us jobs data i think the chairman s taking a much more sanguine view on the current account deficit than he s taken for some time said robert sinche head of currency strategy at bank of america in new york he s taking a longer term view laying out a set of conditions under which the current account deficit can improve this year and next worries about the deficit concerns about china do however remain china s currency remains pegged to the dollar and the us currency s sharp falls in recent months have therefore made chinese export prices highly competitive but calls for a shift in beijing s policy have fallen on deaf ears despite recent comments in a major chinese newspaper that the time is ripe for a loosening of the peg the g meeting is thought unlikely to produce any meaningful movement in chinese policy in the meantime the us federal reserve s decision on february to boost interest rates by a quarter of a point the sixth such move in as many months has opened up a differential with european rates the half point window some believe could be enough to keep us assets looking more attractive and could help prop up the dollar the recent falls have partly been the result of big budget deficits as well as the us s yawning current account gap both of which need to be funded by the buying of us bonds and assets by foreign firms and governments the white house will announce its budget on monday and many commentators believe the deficit will remain at close to half a trillion dollars",
         "dollar gain greenspan speech dollar hit highest level euro almost three month feder reserv head said us trade deficit set stabilis alan greenspan highlight us govern willing curb spend rise household save factor may help reduc late trade new york dollar reach euro thursday market concern deficit hit greenback recent month friday feder reserv chairman mr greenspan speech london ahead meet g financ minist sent dollar higher earlier tumbl back wors expect us job data think chairman take much sanguin view current account deficit taken time said robert sinch head currenc strategi bank america new york take longer term view lay set condit current account deficit improv year next worri deficit concern china howev remain china currenc remain peg dollar us currenc sharp fall recent month therefor made chines export price highli competit call shift beij polici fallen deaf ear despit recent comment major chines newspap time ripe loosen peg g meet thought unlik produc meaning movement chines polici meantim us feder reserv decis februari boost interest rate quarter point sixth move mani month open differenti european rate half point window believ could enough keep us asset look attract could help prop dollar recent fall partli result big budget deficit well us yawn current account gap need fund buy us bond asset foreign firm govern white hous announc budget monday mani comment believ deficit remain close half trillion dollar"
        ],
        [
         "2",
         "003.txt",
         "business",
         "Yukos unit buyer faces loan claim\n\nThe owners of embattled Russian oil giant Yukos are to ask the buyer of its former production unit to pay back a $900m (£479m) loan.\n\nState-owned Rosneft bought the Yugansk unit for $9.3bn in a sale forced by Russia to part settle a $27.5bn tax claim against Yukos. Yukos' owner Menatep Group says it will ask Rosneft to repay a loan that Yugansk had secured on its assets. Rosneft already faces a similar $540m repayment demand from foreign banks. Legal experts said Rosneft's purchase of Yugansk would include such obligations. \"The pledged assets are with Rosneft, so it will have to pay real money to the creditors to avoid seizure of Yugansk assets,\" said Moscow-based US lawyer Jamie Firestone, who is not connected to the case. Menatep Group's managing director Tim Osborne told the Reuters news agency: \"If they default, we will fight them where the rule of law exists under the international arbitration clauses of the credit.\"\n\nRosneft officials were unavailable for comment. But the company has said it intends to take action against Menatep to recover some of the tax claims and debts owed by Yugansk. Yukos had filed for bankruptcy protection in a US court in an attempt to prevent the forced sale of its main production arm. The sale went ahead in December and Yugansk was sold to a little-known shell company which in turn was bought by Rosneft. Yukos claims its downfall was punishment for the political ambitions of its founder Mikhail Khodorkovsky and has vowed to sue any participant in the sale.\n",
         "yukos unit buyer faces loan claim the owners of embattled russian oil giant yukos are to ask the buyer of its former production unit to pay back a m m loan state owned rosneft bought the yugansk unit for bn in a sale forced by russia to part settle a bn tax claim against yukos yukos owner menatep group says it will ask rosneft to repay a loan that yugansk had secured on its assets rosneft already faces a similar m repayment demand from foreign banks legal experts said rosneft s purchase of yugansk would include such obligations the pledged assets are with rosneft so it will have to pay real money to the creditors to avoid seizure of yugansk assets said moscow based us lawyer jamie firestone who is not connected to the case menatep group s managing director tim osborne told the reuters news agency if they default we will fight them where the rule of law exists under the international arbitration clauses of the credit rosneft officials were unavailable for comment but the company has said it intends to take action against menatep to recover some of the tax claims and debts owed by yugansk yukos had filed for bankruptcy protection in a us court in an attempt to prevent the forced sale of its main production arm the sale went ahead in december and yugansk was sold to a little known shell company which in turn was bought by rosneft yukos claims its downfall was punishment for the political ambitions of its founder mikhail khodorkovsky and has vowed to sue any participant in the sale",
         "yuko unit buyer face loan claim owner embattl russian oil giant yuko ask buyer former product unit pay back loan state own rosneft bought yugansk unit bn sale forc russia part settl bn tax claim yuko yuko owner menatep group say ask rosneft repay loan yugansk secur asset rosneft alreadi face similar repay demand foreign bank legal expert said rosneft purchas yugansk would includ oblig pledg asset rosneft pay real money creditor avoid seizur yugansk asset said moscow base us lawyer jami fireston connect case menatep group manag director tim osborn told reuter news agenc default fight rule law exist intern arbitr claus credit rosneft offici unavail comment compani said intend take action menatep recov tax claim debt owe yugansk yuko file bankruptci protect us court attempt prevent forc sale main product arm sale went ahead decemb yugansk sold littl known shell compani turn bought rosneft yuko claim downfal punish polit ambit founder mikhail khodorkovski vow sue particip sale"
        ],
        [
         "3",
         "004.txt",
         "business",
         "High fuel prices hit BA's profits\n\nBritish Airways has blamed high fuel prices for a 40% drop in profits.\n\nReporting its results for the three months to 31 December 2004, the airline made a pre-tax profit of £75m ($141m) compared with £125m a year earlier. Rod Eddington, BA's chief executive, said the results were \"respectable\" in a third quarter when fuel costs rose by £106m or 47.3%. BA's profits were still better than market expectation of £59m, and it expects a rise in full-year revenues.\n\nTo help offset the increased price of aviation fuel, BA last year introduced a fuel surcharge for passengers.\n\nIn October, it increased this from £6 to £10 one-way for all long-haul flights, while the short-haul surcharge was raised from £2.50 to £4 a leg. Yet aviation analyst Mike Powell of Dresdner Kleinwort Wasserstein says BA's estimated annual surcharge revenues - £160m - will still be way short of its additional fuel costs - a predicted extra £250m. Turnover for the quarter was up 4.3% to £1.97bn, further benefiting from a rise in cargo revenue. Looking ahead to its full year results to March 2005, BA warned that yields - average revenues per passenger - were expected to decline as it continues to lower prices in the face of competition from low-cost carriers. However, it said sales would be better than previously forecast. \"For the year to March 2005, the total revenue outlook is slightly better than previous guidance with a 3% to 3.5% improvement anticipated,\" BA chairman Martin Broughton said. BA had previously forecast a 2% to 3% rise in full-year revenue.\n\nIt also reported on Friday that passenger numbers rose 8.1% in January. Aviation analyst Nick Van den Brul of BNP Paribas described BA's latest quarterly results as \"pretty modest\". \"It is quite good on the revenue side and it shows the impact of fuel surcharges and a positive cargo development, however, operating margins down and cost impact of fuel are very strong,\" he said. Since the 11 September 2001 attacks in the United States, BA has cut 13,000 jobs as part of a major cost-cutting drive. \"Our focus remains on reducing controllable costs and debt whilst continuing to invest in our products,\" Mr Eddington said. \"For example, we have taken delivery of six Airbus A321 aircraft and next month we will start further improvements to our Club World flat beds.\" BA's shares closed up four pence at 274.5 pence.\n",
         "high fuel prices hit ba s profits british airways has blamed high fuel prices for a drop in profits reporting its results for the three months to december the airline made a pre tax profit of m m compared with m a year earlier rod eddington ba s chief executive said the results were respectable in a third quarter when fuel costs rose by m or ba s profits were still better than market expectation of m and it expects a rise in full year revenues to help offset the increased price of aviation fuel ba last year introduced a fuel surcharge for passengers in october it increased this from to one way for all long haul flights while the short haul surcharge was raised from to a leg yet aviation analyst mike powell of dresdner kleinwort wasserstein says ba s estimated annual surcharge revenues m will still be way short of its additional fuel costs a predicted extra m turnover for the quarter was up to bn further benefiting from a rise in cargo revenue looking ahead to its full year results to march ba warned that yields average revenues per passenger were expected to decline as it continues to lower prices in the face of competition from low cost carriers however it said sales would be better than previously forecast for the year to march the total revenue outlook is slightly better than previous guidance with a to improvement anticipated ba chairman martin broughton said ba had previously forecast a to rise in full year revenue it also reported on friday that passenger numbers rose in january aviation analyst nick van den brul of bnp paribas described ba s latest quarterly results as pretty modest it is quite good on the revenue side and it shows the impact of fuel surcharges and a positive cargo development however operating margins down and cost impact of fuel are very strong he said since the september attacks in the united states ba has cut jobs as part of a major cost cutting drive our focus remains on reducing controllable costs and debt whilst continuing to invest in our products mr eddington said for example we have taken delivery of six airbus a aircraft and next month we will start further improvements to our club world flat beds ba s shares closed up four pence at pence",
         "high fuel price hit ba profit british airway blame high fuel price drop profit report result three month decemb airlin made pre tax profit compar year earlier rod eddington ba chief execut said result respect third quarter fuel cost rose ba profit still better market expect expect rise full year revenu help offset increas price aviat fuel ba last year introduc fuel surcharg passeng octob increas one way long haul flight short haul surcharg rais leg yet aviat analyst mike powel dresdner kleinwort wasserstein say ba estim annual surcharg revenu still way short addit fuel cost predict extra turnov quarter bn benefit rise cargo revenu look ahead full year result march ba warn yield averag revenu per passeng expect declin continu lower price face competit low cost carrier howev said sale would better previous forecast year march total revenu outlook slightli better previou guidanc improv anticip ba chairman martin broughton said ba previous forecast rise full year revenu also report friday passeng number rose januari aviat analyst nick van den brul bnp pariba describ ba latest quarterli result pretti modest quit good revenu side show impact fuel surcharg posit cargo develop howev oper margin cost impact fuel strong said sinc septemb attack unit state ba cut job part major cost cut drive focu remain reduc control cost debt whilst continu invest product mr eddington said exampl taken deliveri six airbu aircraft next month start improv club world flat bed ba share close four penc penc"
        ],
        [
         "4",
         "005.txt",
         "business",
         "Pernod takeover talk lifts Domecq\n\nShares in UK drinks and food firm Allied Domecq have risen on speculation that it could be the target of a takeover by France's Pernod Ricard.\n\nReports in the Wall Street Journal and the Financial Times suggested that the French spirits firm is considering a bid, but has yet to contact its target. Allied Domecq shares in London rose 4% by 1200 GMT, while Pernod shares in Paris slipped 1.2%. Pernod said it was seeking acquisitions but refused to comment on specifics.\n\nPernod's last major purchase was a third of US giant Seagram in 2000, the move which propelled it into the global top three of drinks firms. The other two-thirds of Seagram was bought by market leader Diageo. In terms of market value, Pernod - at 7.5bn euros ($9.7bn) - is about 9% smaller than Allied Domecq, which has a capitalisation of £5.7bn ($10.7bn; 8.2bn euros). Last year Pernod tried to buy Glenmorangie, one of Scotland's premier whisky firms, but lost out to luxury goods firm LVMH. Pernod is home to brands including Chivas Regal Scotch whisky, Havana Club rum and Jacob's Creek wine. Allied Domecq's big names include Malibu rum, Courvoisier brandy, Stolichnaya vodka and Ballantine's whisky - as well as snack food chains such as Dunkin' Donuts and Baskin-Robbins ice cream. The WSJ said that the two were ripe for consolidation, having each dealt with problematic parts of their portfolio. Pernod has reduced the debt it took on to fund the Seagram purchase to just 1.8bn euros, while Allied has improved the performance of its fast-food chains.\n",
         "pernod takeover talk lifts domecq shares in uk drinks and food firm allied domecq have risen on speculation that it could be the target of a takeover by france s pernod ricard reports in the wall street journal and the financial times suggested that the french spirits firm is considering a bid but has yet to contact its target allied domecq shares in london rose by gmt while pernod shares in paris slipped pernod said it was seeking acquisitions but refused to comment on specifics pernod s last major purchase was a third of us giant seagram in the move which propelled it into the global top three of drinks firms the other two thirds of seagram was bought by market leader diageo in terms of market value pernod at bn euros bn is about smaller than allied domecq which has a capitalisation of bn bn bn euros last year pernod tried to buy glenmorangie one of scotland s premier whisky firms but lost out to luxury goods firm lvmh pernod is home to brands including chivas regal scotch whisky havana club rum and jacob s creek wine allied domecq s big names include malibu rum courvoisier brandy stolichnaya vodka and ballantine s whisky as well as snack food chains such as dunkin donuts and baskin robbins ice cream the wsj said that the two were ripe for consolidation having each dealt with problematic parts of their portfolio pernod has reduced the debt it took on to fund the seagram purchase to just bn euros while allied has improved the performance of its fast food chains",
         "pernod takeov talk lift domecq share uk drink food firm alli domecq risen specul could target takeov franc pernod ricard report wall street journal financi time suggest french spirit firm consid bid yet contact target alli domecq share london rose gmt pernod share pari slip pernod said seek acquisit refus comment specif pernod last major purchas third us giant seagram move propel global top three drink firm two third seagram bought market leader diageo term market valu pernod bn euro bn smaller alli domecq capitalis bn bn bn euro last year pernod tri buy glenmorangi one scotland premier whiski firm lost luxuri good firm lvmh pernod home brand includ chiva regal scotch whiski havana club rum jacob creek wine alli domecq big name includ malibu rum courvoisi brandi stolichnaya vodka ballantin whiski well snack food chain dunkin donut baskin robbin ice cream wsj said two ripe consolid dealt problemat part portfolio pernod reduc debt took fund seagram purchas bn euro alli improv perform fast food chain"
        ]
       ],
       "shape": {
        "columns": 5,
        "rows": 5
       }
      },
      "text/html": [
       "<div>\n",
       "<style scoped>\n",
       "    .dataframe tbody tr th:only-of-type {\n",
       "        vertical-align: middle;\n",
       "    }\n",
       "\n",
       "    .dataframe tbody tr th {\n",
       "        vertical-align: top;\n",
       "    }\n",
       "\n",
       "    .dataframe thead th {\n",
       "        text-align: right;\n",
       "    }\n",
       "</style>\n",
       "<table border=\"1\" class=\"dataframe\">\n",
       "  <thead>\n",
       "    <tr style=\"text-align: right;\">\n",
       "      <th></th>\n",
       "      <th>file_name</th>\n",
       "      <th>category</th>\n",
       "      <th>text</th>\n",
       "      <th>cleaned_text</th>\n",
       "      <th>normalized_text</th>\n",
       "    </tr>\n",
       "  </thead>\n",
       "  <tbody>\n",
       "    <tr>\n",
       "      <th>0</th>\n",
       "      <td>001.txt</td>\n",
       "      <td>business</td>\n",
       "      <td>Ad sales boost Time Warner profit\\n\\nQuarterly...</td>\n",
       "      <td>ad sales boost time warner profit quarterly pr...</td>\n",
       "      <td>ad sale boost time warner profit quarterli pro...</td>\n",
       "    </tr>\n",
       "    <tr>\n",
       "      <th>1</th>\n",
       "      <td>002.txt</td>\n",
       "      <td>business</td>\n",
       "      <td>Dollar gains on Greenspan speech\\n\\nThe dollar...</td>\n",
       "      <td>dollar gains on greenspan speech the dollar ha...</td>\n",
       "      <td>dollar gain greenspan speech dollar hit highes...</td>\n",
       "    </tr>\n",
       "    <tr>\n",
       "      <th>2</th>\n",
       "      <td>003.txt</td>\n",
       "      <td>business</td>\n",
       "      <td>Yukos unit buyer faces loan claim\\n\\nThe owner...</td>\n",
       "      <td>yukos unit buyer faces loan claim the owners o...</td>\n",
       "      <td>yuko unit buyer face loan claim owner embattl ...</td>\n",
       "    </tr>\n",
       "    <tr>\n",
       "      <th>3</th>\n",
       "      <td>004.txt</td>\n",
       "      <td>business</td>\n",
       "      <td>High fuel prices hit BA's profits\\n\\nBritish A...</td>\n",
       "      <td>high fuel prices hit ba s profits british airw...</td>\n",
       "      <td>high fuel price hit ba profit british airway b...</td>\n",
       "    </tr>\n",
       "    <tr>\n",
       "      <th>4</th>\n",
       "      <td>005.txt</td>\n",
       "      <td>business</td>\n",
       "      <td>Pernod takeover talk lifts Domecq\\n\\nShares in...</td>\n",
       "      <td>pernod takeover talk lifts domecq shares in uk...</td>\n",
       "      <td>pernod takeov talk lift domecq share uk drink ...</td>\n",
       "    </tr>\n",
       "  </tbody>\n",
       "</table>\n",
       "</div>"
      ],
      "text/plain": [
       "  file_name  category                                               text  \\\n",
       "0   001.txt  business  Ad sales boost Time Warner profit\\n\\nQuarterly...   \n",
       "1   002.txt  business  Dollar gains on Greenspan speech\\n\\nThe dollar...   \n",
       "2   003.txt  business  Yukos unit buyer faces loan claim\\n\\nThe owner...   \n",
       "3   004.txt  business  High fuel prices hit BA's profits\\n\\nBritish A...   \n",
       "4   005.txt  business  Pernod takeover talk lifts Domecq\\n\\nShares in...   \n",
       "\n",
       "                                        cleaned_text  \\\n",
       "0  ad sales boost time warner profit quarterly pr...   \n",
       "1  dollar gains on greenspan speech the dollar ha...   \n",
       "2  yukos unit buyer faces loan claim the owners o...   \n",
       "3  high fuel prices hit ba s profits british airw...   \n",
       "4  pernod takeover talk lifts domecq shares in uk...   \n",
       "\n",
       "                                     normalized_text  \n",
       "0  ad sale boost time warner profit quarterli pro...  \n",
       "1  dollar gain greenspan speech dollar hit highes...  \n",
       "2  yuko unit buyer face loan claim owner embattl ...  \n",
       "3  high fuel price hit ba profit british airway b...  \n",
       "4  pernod takeov talk lift domecq share uk drink ...  "
      ]
     },
     "execution_count": 10,
     "metadata": {},
     "output_type": "execute_result"
    }
   ],
   "source": [
    "def normalize_text(text):\n",
    "    # tokenization\n",
    "    tokens = nltk.word_tokenize(text)\n",
    "    # Remove stopwords\n",
    "    tokens = [word for word in tokens if word not in stop_words]\n",
    "    # Apply stemming\n",
    "    tokens = [stemmer.stem(word) for word in tokens]\n",
    "    # join tokens back into a single string\n",
    "    return ' '.join(tokens)\n",
    "\n",
    "bbc_df['normalized_text'] = bbc_df['cleaned_text'].apply(normalize_text)\n",
    "print(\"Cleaned text:\")\n",
    "print(bbc_df['cleaned_text'].iloc[0][:200])\n",
    "print(\"\\nNormalized text:\")\n",
    "print(bbc_df['normalized_text'].iloc[0][:200])\n",
    "bbc_df.head()"
   ]
  },
  {
   "cell_type": "code",
   "execution_count": 12,
   "metadata": {},
   "outputs": [
    {
     "name": "stderr",
     "output_type": "stream",
     "text": [
      "[nltk_data] Downloading package wordnet to\n",
      "[nltk_data]     C:\\Users\\andras.janko\\AppData\\Roaming\\nltk_data...\n"
     ]
    },
    {
     "name": "stdout",
     "output_type": "stream",
     "text": [
      "Cleaned text:\n",
      "ad sales boost time warner profit quarterly profits at us media giant timewarner jumped to bn m for the three months to december from m year earlier the firm which is now one of the biggest investors \n",
      "\n",
      "Lemmatized-Normalized text:\n",
      "ad sale boost time warner profit quarterly profit u medium giant timewarner jumped bn three month december year earlier firm one biggest investor google benefited sale high speed internet connection h\n"
     ]
    },
    {
     "data": {
      "application/vnd.microsoft.datawrangler.viewer.v0+json": {
       "columns": [
        {
         "name": "index",
         "rawType": "int64",
         "type": "integer"
        },
        {
         "name": "file_name",
         "rawType": "object",
         "type": "string"
        },
        {
         "name": "category",
         "rawType": "object",
         "type": "string"
        },
        {
         "name": "text",
         "rawType": "object",
         "type": "string"
        },
        {
         "name": "cleaned_text",
         "rawType": "object",
         "type": "string"
        },
        {
         "name": "normalized_text",
         "rawType": "object",
         "type": "string"
        },
        {
         "name": "lemmatized_normalized_text",
         "rawType": "object",
         "type": "string"
        }
       ],
       "conversionMethod": "pd.DataFrame",
       "ref": "0a925613-77fe-4c9b-b88f-e94ba41d72b9",
       "rows": [
        [
         "0",
         "001.txt",
         "business",
         "Ad sales boost Time Warner profit\n\nQuarterly profits at US media giant TimeWarner jumped 76% to $1.13bn (£600m) for the three months to December, from $639m year-earlier.\n\nThe firm, which is now one of the biggest investors in Google, benefited from sales of high-speed internet connections and higher advert sales. TimeWarner said fourth quarter sales rose 2% to $11.1bn from $10.9bn. Its profits were buoyed by one-off gains which offset a profit dip at Warner Bros, and less users for AOL.\n\nTime Warner said on Friday that it now owns 8% of search-engine Google. But its own internet business, AOL, had has mixed fortunes. It lost 464,000 subscribers in the fourth quarter profits were lower than in the preceding three quarters. However, the company said AOL's underlying profit before exceptional items rose 8% on the back of stronger internet advertising revenues. It hopes to increase subscribers by offering the online service free to TimeWarner internet customers and will try to sign up AOL's existing customers for high-speed broadband. TimeWarner also has to restate 2000 and 2003 results following a probe by the US Securities Exchange Commission (SEC), which is close to concluding.\n\nTime Warner's fourth quarter profits were slightly better than analysts' expectations. But its film division saw profits slump 27% to $284m, helped by box-office flops Alexander and Catwoman, a sharp contrast to year-earlier, when the third and final film in the Lord of the Rings trilogy boosted results. For the full-year, TimeWarner posted a profit of $3.36bn, up 27% from its 2003 performance, while revenues grew 6.4% to $42.09bn. \"Our financial performance was strong, meeting or exceeding all of our full-year objectives and greatly enhancing our flexibility,\" chairman and chief executive Richard Parsons said. For 2005, TimeWarner is projecting operating earnings growth of around 5%, and also expects higher revenue and wider profit margins.\n\nTimeWarner is to restate its accounts as part of efforts to resolve an inquiry into AOL by US market regulators. It has already offered to pay $300m to settle charges, in a deal that is under review by the SEC. The company said it was unable to estimate the amount it needed to set aside for legal reserves, which it previously set at $500m. It intends to adjust the way it accounts for a deal with German music publisher Bertelsmann's purchase of a stake in AOL Europe, which it had reported as advertising revenue. It will now book the sale of its stake in AOL Europe as a loss on the value of that stake.\n",
         "ad sales boost time warner profit quarterly profits at us media giant timewarner jumped to bn m for the three months to december from m year earlier the firm which is now one of the biggest investors in google benefited from sales of high speed internet connections and higher advert sales timewarner said fourth quarter sales rose to bn from bn its profits were buoyed by one off gains which offset a profit dip at warner bros and less users for aol time warner said on friday that it now owns of search engine google but its own internet business aol had has mixed fortunes it lost subscribers in the fourth quarter profits were lower than in the preceding three quarters however the company said aol s underlying profit before exceptional items rose on the back of stronger internet advertising revenues it hopes to increase subscribers by offering the online service free to timewarner internet customers and will try to sign up aol s existing customers for high speed broadband timewarner also has to restate and results following a probe by the us securities exchange commission sec which is close to concluding time warner s fourth quarter profits were slightly better than analysts expectations but its film division saw profits slump to m helped by box office flops alexander and catwoman a sharp contrast to year earlier when the third and final film in the lord of the rings trilogy boosted results for the full year timewarner posted a profit of bn up from its performance while revenues grew to bn our financial performance was strong meeting or exceeding all of our full year objectives and greatly enhancing our flexibility chairman and chief executive richard parsons said for timewarner is projecting operating earnings growth of around and also expects higher revenue and wider profit margins timewarner is to restate its accounts as part of efforts to resolve an inquiry into aol by us market regulators it has already offered to pay m to settle charges in a deal that is under review by the sec the company said it was unable to estimate the amount it needed to set aside for legal reserves which it previously set at m it intends to adjust the way it accounts for a deal with german music publisher bertelsmann s purchase of a stake in aol europe which it had reported as advertising revenue it will now book the sale of its stake in aol europe as a loss on the value of that stake",
         "ad sale boost time warner profit quarterli profit us media giant timewarn jump bn three month decemb year earlier firm one biggest investor googl benefit sale high speed internet connect higher advert sale timewarn said fourth quarter sale rose bn bn profit buoy one gain offset profit dip warner bro less user aol time warner said friday own search engin googl internet busi aol mix fortun lost subscrib fourth quarter profit lower preced three quarter howev compani said aol underli profit except item rose back stronger internet advertis revenu hope increas subscrib offer onlin servic free timewarn internet custom tri sign aol exist custom high speed broadband timewarn also restat result follow probe us secur exchang commiss sec close conclud time warner fourth quarter profit slightli better analyst expect film divis saw profit slump help box offic flop alexand catwoman sharp contrast year earlier third final film lord ring trilog boost result full year timewarn post profit bn perform revenu grew bn financi perform strong meet exceed full year object greatli enhanc flexibl chairman chief execut richard parson said timewarn project oper earn growth around also expect higher revenu wider profit margin timewarn restat account part effort resolv inquiri aol us market regul alreadi offer pay settl charg deal review sec compani said unabl estim amount need set asid legal reserv previous set intend adjust way account deal german music publish bertelsmann purchas stake aol europ report advertis revenu book sale stake aol europ loss valu stake",
         "ad sale boost time warner profit quarterly profit u medium giant timewarner jumped bn three month december year earlier firm one biggest investor google benefited sale high speed internet connection higher advert sale timewarner said fourth quarter sale rose bn bn profit buoyed one gain offset profit dip warner bros less user aol time warner said friday owns search engine google internet business aol mixed fortune lost subscriber fourth quarter profit lower preceding three quarter however company said aol underlying profit exceptional item rose back stronger internet advertising revenue hope increase subscriber offering online service free timewarner internet customer try sign aol existing customer high speed broadband timewarner also restate result following probe u security exchange commission sec close concluding time warner fourth quarter profit slightly better analyst expectation film division saw profit slump helped box office flop alexander catwoman sharp contrast year earlier third final film lord ring trilogy boosted result full year timewarner posted profit bn performance revenue grew bn financial performance strong meeting exceeding full year objective greatly enhancing flexibility chairman chief executive richard parson said timewarner projecting operating earnings growth around also expects higher revenue wider profit margin timewarner restate account part effort resolve inquiry aol u market regulator already offered pay settle charge deal review sec company said unable estimate amount needed set aside legal reserve previously set intends adjust way account deal german music publisher bertelsmann purchase stake aol europe reported advertising revenue book sale stake aol europe loss value stake"
        ],
        [
         "1",
         "002.txt",
         "business",
         "Dollar gains on Greenspan speech\n\nThe dollar has hit its highest level against the euro in almost three months after the Federal Reserve head said the US trade deficit is set to stabilise.\n\nAnd Alan Greenspan highlighted the US government's willingness to curb spending and rising household savings as factors which may help to reduce it. In late trading in New York, the dollar reached $1.2871 against the euro, from $1.2974 on Thursday. Market concerns about the deficit has hit the greenback in recent months. On Friday, Federal Reserve chairman Mr Greenspan's speech in London ahead of the meeting of G7 finance ministers sent the dollar higher after it had earlier tumbled on the back of worse-than-expected US jobs data. \"I think the chairman's taking a much more sanguine view on the current account deficit than he's taken for some time,\" said Robert Sinche, head of currency strategy at Bank of America in New York. \"He's taking a longer-term view, laying out a set of conditions under which the current account deficit can improve this year and next.\"\n\nWorries about the deficit concerns about China do, however, remain. China's currency remains pegged to the dollar and the US currency's sharp falls in recent months have therefore made Chinese export prices highly competitive. But calls for a shift in Beijing's policy have fallen on deaf ears, despite recent comments in a major Chinese newspaper that the \"time is ripe\" for a loosening of the peg. The G7 meeting is thought unlikely to produce any meaningful movement in Chinese policy. In the meantime, the US Federal Reserve's decision on 2 February to boost interest rates by a quarter of a point - the sixth such move in as many months - has opened up a differential with European rates. The half-point window, some believe, could be enough to keep US assets looking more attractive, and could help prop up the dollar. The recent falls have partly been the result of big budget deficits, as well as the US's yawning current account gap, both of which need to be funded by the buying of US bonds and assets by foreign firms and governments. The White House will announce its budget on Monday, and many commentators believe the deficit will remain at close to half a trillion dollars.\n",
         "dollar gains on greenspan speech the dollar has hit its highest level against the euro in almost three months after the federal reserve head said the us trade deficit is set to stabilise and alan greenspan highlighted the us government s willingness to curb spending and rising household savings as factors which may help to reduce it in late trading in new york the dollar reached against the euro from on thursday market concerns about the deficit has hit the greenback in recent months on friday federal reserve chairman mr greenspan s speech in london ahead of the meeting of g finance ministers sent the dollar higher after it had earlier tumbled on the back of worse than expected us jobs data i think the chairman s taking a much more sanguine view on the current account deficit than he s taken for some time said robert sinche head of currency strategy at bank of america in new york he s taking a longer term view laying out a set of conditions under which the current account deficit can improve this year and next worries about the deficit concerns about china do however remain china s currency remains pegged to the dollar and the us currency s sharp falls in recent months have therefore made chinese export prices highly competitive but calls for a shift in beijing s policy have fallen on deaf ears despite recent comments in a major chinese newspaper that the time is ripe for a loosening of the peg the g meeting is thought unlikely to produce any meaningful movement in chinese policy in the meantime the us federal reserve s decision on february to boost interest rates by a quarter of a point the sixth such move in as many months has opened up a differential with european rates the half point window some believe could be enough to keep us assets looking more attractive and could help prop up the dollar the recent falls have partly been the result of big budget deficits as well as the us s yawning current account gap both of which need to be funded by the buying of us bonds and assets by foreign firms and governments the white house will announce its budget on monday and many commentators believe the deficit will remain at close to half a trillion dollars",
         "dollar gain greenspan speech dollar hit highest level euro almost three month feder reserv head said us trade deficit set stabilis alan greenspan highlight us govern willing curb spend rise household save factor may help reduc late trade new york dollar reach euro thursday market concern deficit hit greenback recent month friday feder reserv chairman mr greenspan speech london ahead meet g financ minist sent dollar higher earlier tumbl back wors expect us job data think chairman take much sanguin view current account deficit taken time said robert sinch head currenc strategi bank america new york take longer term view lay set condit current account deficit improv year next worri deficit concern china howev remain china currenc remain peg dollar us currenc sharp fall recent month therefor made chines export price highli competit call shift beij polici fallen deaf ear despit recent comment major chines newspap time ripe loosen peg g meet thought unlik produc meaning movement chines polici meantim us feder reserv decis februari boost interest rate quarter point sixth move mani month open differenti european rate half point window believ could enough keep us asset look attract could help prop dollar recent fall partli result big budget deficit well us yawn current account gap need fund buy us bond asset foreign firm govern white hous announc budget monday mani comment believ deficit remain close half trillion dollar",
         "dollar gain greenspan speech dollar hit highest level euro almost three month federal reserve head said u trade deficit set stabilise alan greenspan highlighted u government willingness curb spending rising household saving factor may help reduce late trading new york dollar reached euro thursday market concern deficit hit greenback recent month friday federal reserve chairman mr greenspan speech london ahead meeting g finance minister sent dollar higher earlier tumbled back worse expected u job data think chairman taking much sanguine view current account deficit taken time said robert sinche head currency strategy bank america new york taking longer term view laying set condition current account deficit improve year next worry deficit concern china however remain china currency remains pegged dollar u currency sharp fall recent month therefore made chinese export price highly competitive call shift beijing policy fallen deaf ear despite recent comment major chinese newspaper time ripe loosening peg g meeting thought unlikely produce meaningful movement chinese policy meantime u federal reserve decision february boost interest rate quarter point sixth move many month opened differential european rate half point window believe could enough keep u asset looking attractive could help prop dollar recent fall partly result big budget deficit well u yawning current account gap need funded buying u bond asset foreign firm government white house announce budget monday many commentator believe deficit remain close half trillion dollar"
        ],
        [
         "2",
         "003.txt",
         "business",
         "Yukos unit buyer faces loan claim\n\nThe owners of embattled Russian oil giant Yukos are to ask the buyer of its former production unit to pay back a $900m (£479m) loan.\n\nState-owned Rosneft bought the Yugansk unit for $9.3bn in a sale forced by Russia to part settle a $27.5bn tax claim against Yukos. Yukos' owner Menatep Group says it will ask Rosneft to repay a loan that Yugansk had secured on its assets. Rosneft already faces a similar $540m repayment demand from foreign banks. Legal experts said Rosneft's purchase of Yugansk would include such obligations. \"The pledged assets are with Rosneft, so it will have to pay real money to the creditors to avoid seizure of Yugansk assets,\" said Moscow-based US lawyer Jamie Firestone, who is not connected to the case. Menatep Group's managing director Tim Osborne told the Reuters news agency: \"If they default, we will fight them where the rule of law exists under the international arbitration clauses of the credit.\"\n\nRosneft officials were unavailable for comment. But the company has said it intends to take action against Menatep to recover some of the tax claims and debts owed by Yugansk. Yukos had filed for bankruptcy protection in a US court in an attempt to prevent the forced sale of its main production arm. The sale went ahead in December and Yugansk was sold to a little-known shell company which in turn was bought by Rosneft. Yukos claims its downfall was punishment for the political ambitions of its founder Mikhail Khodorkovsky and has vowed to sue any participant in the sale.\n",
         "yukos unit buyer faces loan claim the owners of embattled russian oil giant yukos are to ask the buyer of its former production unit to pay back a m m loan state owned rosneft bought the yugansk unit for bn in a sale forced by russia to part settle a bn tax claim against yukos yukos owner menatep group says it will ask rosneft to repay a loan that yugansk had secured on its assets rosneft already faces a similar m repayment demand from foreign banks legal experts said rosneft s purchase of yugansk would include such obligations the pledged assets are with rosneft so it will have to pay real money to the creditors to avoid seizure of yugansk assets said moscow based us lawyer jamie firestone who is not connected to the case menatep group s managing director tim osborne told the reuters news agency if they default we will fight them where the rule of law exists under the international arbitration clauses of the credit rosneft officials were unavailable for comment but the company has said it intends to take action against menatep to recover some of the tax claims and debts owed by yugansk yukos had filed for bankruptcy protection in a us court in an attempt to prevent the forced sale of its main production arm the sale went ahead in december and yugansk was sold to a little known shell company which in turn was bought by rosneft yukos claims its downfall was punishment for the political ambitions of its founder mikhail khodorkovsky and has vowed to sue any participant in the sale",
         "yuko unit buyer face loan claim owner embattl russian oil giant yuko ask buyer former product unit pay back loan state own rosneft bought yugansk unit bn sale forc russia part settl bn tax claim yuko yuko owner menatep group say ask rosneft repay loan yugansk secur asset rosneft alreadi face similar repay demand foreign bank legal expert said rosneft purchas yugansk would includ oblig pledg asset rosneft pay real money creditor avoid seizur yugansk asset said moscow base us lawyer jami fireston connect case menatep group manag director tim osborn told reuter news agenc default fight rule law exist intern arbitr claus credit rosneft offici unavail comment compani said intend take action menatep recov tax claim debt owe yugansk yuko file bankruptci protect us court attempt prevent forc sale main product arm sale went ahead decemb yugansk sold littl known shell compani turn bought rosneft yuko claim downfal punish polit ambit founder mikhail khodorkovski vow sue particip sale",
         "yukos unit buyer face loan claim owner embattled russian oil giant yukos ask buyer former production unit pay back loan state owned rosneft bought yugansk unit bn sale forced russia part settle bn tax claim yukos yukos owner menatep group say ask rosneft repay loan yugansk secured asset rosneft already face similar repayment demand foreign bank legal expert said rosneft purchase yugansk would include obligation pledged asset rosneft pay real money creditor avoid seizure yugansk asset said moscow based u lawyer jamie firestone connected case menatep group managing director tim osborne told reuters news agency default fight rule law exists international arbitration clause credit rosneft official unavailable comment company said intends take action menatep recover tax claim debt owed yugansk yukos filed bankruptcy protection u court attempt prevent forced sale main production arm sale went ahead december yugansk sold little known shell company turn bought rosneft yukos claim downfall punishment political ambition founder mikhail khodorkovsky vowed sue participant sale"
        ],
        [
         "3",
         "004.txt",
         "business",
         "High fuel prices hit BA's profits\n\nBritish Airways has blamed high fuel prices for a 40% drop in profits.\n\nReporting its results for the three months to 31 December 2004, the airline made a pre-tax profit of £75m ($141m) compared with £125m a year earlier. Rod Eddington, BA's chief executive, said the results were \"respectable\" in a third quarter when fuel costs rose by £106m or 47.3%. BA's profits were still better than market expectation of £59m, and it expects a rise in full-year revenues.\n\nTo help offset the increased price of aviation fuel, BA last year introduced a fuel surcharge for passengers.\n\nIn October, it increased this from £6 to £10 one-way for all long-haul flights, while the short-haul surcharge was raised from £2.50 to £4 a leg. Yet aviation analyst Mike Powell of Dresdner Kleinwort Wasserstein says BA's estimated annual surcharge revenues - £160m - will still be way short of its additional fuel costs - a predicted extra £250m. Turnover for the quarter was up 4.3% to £1.97bn, further benefiting from a rise in cargo revenue. Looking ahead to its full year results to March 2005, BA warned that yields - average revenues per passenger - were expected to decline as it continues to lower prices in the face of competition from low-cost carriers. However, it said sales would be better than previously forecast. \"For the year to March 2005, the total revenue outlook is slightly better than previous guidance with a 3% to 3.5% improvement anticipated,\" BA chairman Martin Broughton said. BA had previously forecast a 2% to 3% rise in full-year revenue.\n\nIt also reported on Friday that passenger numbers rose 8.1% in January. Aviation analyst Nick Van den Brul of BNP Paribas described BA's latest quarterly results as \"pretty modest\". \"It is quite good on the revenue side and it shows the impact of fuel surcharges and a positive cargo development, however, operating margins down and cost impact of fuel are very strong,\" he said. Since the 11 September 2001 attacks in the United States, BA has cut 13,000 jobs as part of a major cost-cutting drive. \"Our focus remains on reducing controllable costs and debt whilst continuing to invest in our products,\" Mr Eddington said. \"For example, we have taken delivery of six Airbus A321 aircraft and next month we will start further improvements to our Club World flat beds.\" BA's shares closed up four pence at 274.5 pence.\n",
         "high fuel prices hit ba s profits british airways has blamed high fuel prices for a drop in profits reporting its results for the three months to december the airline made a pre tax profit of m m compared with m a year earlier rod eddington ba s chief executive said the results were respectable in a third quarter when fuel costs rose by m or ba s profits were still better than market expectation of m and it expects a rise in full year revenues to help offset the increased price of aviation fuel ba last year introduced a fuel surcharge for passengers in october it increased this from to one way for all long haul flights while the short haul surcharge was raised from to a leg yet aviation analyst mike powell of dresdner kleinwort wasserstein says ba s estimated annual surcharge revenues m will still be way short of its additional fuel costs a predicted extra m turnover for the quarter was up to bn further benefiting from a rise in cargo revenue looking ahead to its full year results to march ba warned that yields average revenues per passenger were expected to decline as it continues to lower prices in the face of competition from low cost carriers however it said sales would be better than previously forecast for the year to march the total revenue outlook is slightly better than previous guidance with a to improvement anticipated ba chairman martin broughton said ba had previously forecast a to rise in full year revenue it also reported on friday that passenger numbers rose in january aviation analyst nick van den brul of bnp paribas described ba s latest quarterly results as pretty modest it is quite good on the revenue side and it shows the impact of fuel surcharges and a positive cargo development however operating margins down and cost impact of fuel are very strong he said since the september attacks in the united states ba has cut jobs as part of a major cost cutting drive our focus remains on reducing controllable costs and debt whilst continuing to invest in our products mr eddington said for example we have taken delivery of six airbus a aircraft and next month we will start further improvements to our club world flat beds ba s shares closed up four pence at pence",
         "high fuel price hit ba profit british airway blame high fuel price drop profit report result three month decemb airlin made pre tax profit compar year earlier rod eddington ba chief execut said result respect third quarter fuel cost rose ba profit still better market expect expect rise full year revenu help offset increas price aviat fuel ba last year introduc fuel surcharg passeng octob increas one way long haul flight short haul surcharg rais leg yet aviat analyst mike powel dresdner kleinwort wasserstein say ba estim annual surcharg revenu still way short addit fuel cost predict extra turnov quarter bn benefit rise cargo revenu look ahead full year result march ba warn yield averag revenu per passeng expect declin continu lower price face competit low cost carrier howev said sale would better previous forecast year march total revenu outlook slightli better previou guidanc improv anticip ba chairman martin broughton said ba previous forecast rise full year revenu also report friday passeng number rose januari aviat analyst nick van den brul bnp pariba describ ba latest quarterli result pretti modest quit good revenu side show impact fuel surcharg posit cargo develop howev oper margin cost impact fuel strong said sinc septemb attack unit state ba cut job part major cost cut drive focu remain reduc control cost debt whilst continu invest product mr eddington said exampl taken deliveri six airbu aircraft next month start improv club world flat bed ba share close four penc penc",
         "high fuel price hit ba profit british airway blamed high fuel price drop profit reporting result three month december airline made pre tax profit compared year earlier rod eddington ba chief executive said result respectable third quarter fuel cost rose ba profit still better market expectation expects rise full year revenue help offset increased price aviation fuel ba last year introduced fuel surcharge passenger october increased one way long haul flight short haul surcharge raised leg yet aviation analyst mike powell dresdner kleinwort wasserstein say ba estimated annual surcharge revenue still way short additional fuel cost predicted extra turnover quarter bn benefiting rise cargo revenue looking ahead full year result march ba warned yield average revenue per passenger expected decline continues lower price face competition low cost carrier however said sale would better previously forecast year march total revenue outlook slightly better previous guidance improvement anticipated ba chairman martin broughton said ba previously forecast rise full year revenue also reported friday passenger number rose january aviation analyst nick van den brul bnp paribas described ba latest quarterly result pretty modest quite good revenue side show impact fuel surcharge positive cargo development however operating margin cost impact fuel strong said since september attack united state ba cut job part major cost cutting drive focus remains reducing controllable cost debt whilst continuing invest product mr eddington said example taken delivery six airbus aircraft next month start improvement club world flat bed ba share closed four penny penny"
        ],
        [
         "4",
         "005.txt",
         "business",
         "Pernod takeover talk lifts Domecq\n\nShares in UK drinks and food firm Allied Domecq have risen on speculation that it could be the target of a takeover by France's Pernod Ricard.\n\nReports in the Wall Street Journal and the Financial Times suggested that the French spirits firm is considering a bid, but has yet to contact its target. Allied Domecq shares in London rose 4% by 1200 GMT, while Pernod shares in Paris slipped 1.2%. Pernod said it was seeking acquisitions but refused to comment on specifics.\n\nPernod's last major purchase was a third of US giant Seagram in 2000, the move which propelled it into the global top three of drinks firms. The other two-thirds of Seagram was bought by market leader Diageo. In terms of market value, Pernod - at 7.5bn euros ($9.7bn) - is about 9% smaller than Allied Domecq, which has a capitalisation of £5.7bn ($10.7bn; 8.2bn euros). Last year Pernod tried to buy Glenmorangie, one of Scotland's premier whisky firms, but lost out to luxury goods firm LVMH. Pernod is home to brands including Chivas Regal Scotch whisky, Havana Club rum and Jacob's Creek wine. Allied Domecq's big names include Malibu rum, Courvoisier brandy, Stolichnaya vodka and Ballantine's whisky - as well as snack food chains such as Dunkin' Donuts and Baskin-Robbins ice cream. The WSJ said that the two were ripe for consolidation, having each dealt with problematic parts of their portfolio. Pernod has reduced the debt it took on to fund the Seagram purchase to just 1.8bn euros, while Allied has improved the performance of its fast-food chains.\n",
         "pernod takeover talk lifts domecq shares in uk drinks and food firm allied domecq have risen on speculation that it could be the target of a takeover by france s pernod ricard reports in the wall street journal and the financial times suggested that the french spirits firm is considering a bid but has yet to contact its target allied domecq shares in london rose by gmt while pernod shares in paris slipped pernod said it was seeking acquisitions but refused to comment on specifics pernod s last major purchase was a third of us giant seagram in the move which propelled it into the global top three of drinks firms the other two thirds of seagram was bought by market leader diageo in terms of market value pernod at bn euros bn is about smaller than allied domecq which has a capitalisation of bn bn bn euros last year pernod tried to buy glenmorangie one of scotland s premier whisky firms but lost out to luxury goods firm lvmh pernod is home to brands including chivas regal scotch whisky havana club rum and jacob s creek wine allied domecq s big names include malibu rum courvoisier brandy stolichnaya vodka and ballantine s whisky as well as snack food chains such as dunkin donuts and baskin robbins ice cream the wsj said that the two were ripe for consolidation having each dealt with problematic parts of their portfolio pernod has reduced the debt it took on to fund the seagram purchase to just bn euros while allied has improved the performance of its fast food chains",
         "pernod takeov talk lift domecq share uk drink food firm alli domecq risen specul could target takeov franc pernod ricard report wall street journal financi time suggest french spirit firm consid bid yet contact target alli domecq share london rose gmt pernod share pari slip pernod said seek acquisit refus comment specif pernod last major purchas third us giant seagram move propel global top three drink firm two third seagram bought market leader diageo term market valu pernod bn euro bn smaller alli domecq capitalis bn bn bn euro last year pernod tri buy glenmorangi one scotland premier whiski firm lost luxuri good firm lvmh pernod home brand includ chiva regal scotch whiski havana club rum jacob creek wine alli domecq big name includ malibu rum courvoisi brandi stolichnaya vodka ballantin whiski well snack food chain dunkin donut baskin robbin ice cream wsj said two ripe consolid dealt problemat part portfolio pernod reduc debt took fund seagram purchas bn euro alli improv perform fast food chain",
         "pernod takeover talk lift domecq share uk drink food firm allied domecq risen speculation could target takeover france pernod ricard report wall street journal financial time suggested french spirit firm considering bid yet contact target allied domecq share london rose gmt pernod share paris slipped pernod said seeking acquisition refused comment specific pernod last major purchase third u giant seagram move propelled global top three drink firm two third seagram bought market leader diageo term market value pernod bn euro bn smaller allied domecq capitalisation bn bn bn euro last year pernod tried buy glenmorangie one scotland premier whisky firm lost luxury good firm lvmh pernod home brand including chivas regal scotch whisky havana club rum jacob creek wine allied domecq big name include malibu rum courvoisier brandy stolichnaya vodka ballantine whisky well snack food chain dunkin donut baskin robbins ice cream wsj said two ripe consolidation dealt problematic part portfolio pernod reduced debt took fund seagram purchase bn euro allied improved performance fast food chain"
        ]
       ],
       "shape": {
        "columns": 6,
        "rows": 5
       }
      },
      "text/html": [
       "<div>\n",
       "<style scoped>\n",
       "    .dataframe tbody tr th:only-of-type {\n",
       "        vertical-align: middle;\n",
       "    }\n",
       "\n",
       "    .dataframe tbody tr th {\n",
       "        vertical-align: top;\n",
       "    }\n",
       "\n",
       "    .dataframe thead th {\n",
       "        text-align: right;\n",
       "    }\n",
       "</style>\n",
       "<table border=\"1\" class=\"dataframe\">\n",
       "  <thead>\n",
       "    <tr style=\"text-align: right;\">\n",
       "      <th></th>\n",
       "      <th>file_name</th>\n",
       "      <th>category</th>\n",
       "      <th>text</th>\n",
       "      <th>cleaned_text</th>\n",
       "      <th>normalized_text</th>\n",
       "      <th>lemmatized_normalized_text</th>\n",
       "    </tr>\n",
       "  </thead>\n",
       "  <tbody>\n",
       "    <tr>\n",
       "      <th>0</th>\n",
       "      <td>001.txt</td>\n",
       "      <td>business</td>\n",
       "      <td>Ad sales boost Time Warner profit\\n\\nQuarterly...</td>\n",
       "      <td>ad sales boost time warner profit quarterly pr...</td>\n",
       "      <td>ad sale boost time warner profit quarterli pro...</td>\n",
       "      <td>ad sale boost time warner profit quarterly pro...</td>\n",
       "    </tr>\n",
       "    <tr>\n",
       "      <th>1</th>\n",
       "      <td>002.txt</td>\n",
       "      <td>business</td>\n",
       "      <td>Dollar gains on Greenspan speech\\n\\nThe dollar...</td>\n",
       "      <td>dollar gains on greenspan speech the dollar ha...</td>\n",
       "      <td>dollar gain greenspan speech dollar hit highes...</td>\n",
       "      <td>dollar gain greenspan speech dollar hit highes...</td>\n",
       "    </tr>\n",
       "    <tr>\n",
       "      <th>2</th>\n",
       "      <td>003.txt</td>\n",
       "      <td>business</td>\n",
       "      <td>Yukos unit buyer faces loan claim\\n\\nThe owner...</td>\n",
       "      <td>yukos unit buyer faces loan claim the owners o...</td>\n",
       "      <td>yuko unit buyer face loan claim owner embattl ...</td>\n",
       "      <td>yukos unit buyer face loan claim owner embattl...</td>\n",
       "    </tr>\n",
       "    <tr>\n",
       "      <th>3</th>\n",
       "      <td>004.txt</td>\n",
       "      <td>business</td>\n",
       "      <td>High fuel prices hit BA's profits\\n\\nBritish A...</td>\n",
       "      <td>high fuel prices hit ba s profits british airw...</td>\n",
       "      <td>high fuel price hit ba profit british airway b...</td>\n",
       "      <td>high fuel price hit ba profit british airway b...</td>\n",
       "    </tr>\n",
       "    <tr>\n",
       "      <th>4</th>\n",
       "      <td>005.txt</td>\n",
       "      <td>business</td>\n",
       "      <td>Pernod takeover talk lifts Domecq\\n\\nShares in...</td>\n",
       "      <td>pernod takeover talk lifts domecq shares in uk...</td>\n",
       "      <td>pernod takeov talk lift domecq share uk drink ...</td>\n",
       "      <td>pernod takeover talk lift domecq share uk drin...</td>\n",
       "    </tr>\n",
       "  </tbody>\n",
       "</table>\n",
       "</div>"
      ],
      "text/plain": [
       "  file_name  category                                               text  \\\n",
       "0   001.txt  business  Ad sales boost Time Warner profit\\n\\nQuarterly...   \n",
       "1   002.txt  business  Dollar gains on Greenspan speech\\n\\nThe dollar...   \n",
       "2   003.txt  business  Yukos unit buyer faces loan claim\\n\\nThe owner...   \n",
       "3   004.txt  business  High fuel prices hit BA's profits\\n\\nBritish A...   \n",
       "4   005.txt  business  Pernod takeover talk lifts Domecq\\n\\nShares in...   \n",
       "\n",
       "                                        cleaned_text  \\\n",
       "0  ad sales boost time warner profit quarterly pr...   \n",
       "1  dollar gains on greenspan speech the dollar ha...   \n",
       "2  yukos unit buyer faces loan claim the owners o...   \n",
       "3  high fuel prices hit ba s profits british airw...   \n",
       "4  pernod takeover talk lifts domecq shares in uk...   \n",
       "\n",
       "                                     normalized_text  \\\n",
       "0  ad sale boost time warner profit quarterli pro...   \n",
       "1  dollar gain greenspan speech dollar hit highes...   \n",
       "2  yuko unit buyer face loan claim owner embattl ...   \n",
       "3  high fuel price hit ba profit british airway b...   \n",
       "4  pernod takeov talk lift domecq share uk drink ...   \n",
       "\n",
       "                          lemmatized_normalized_text  \n",
       "0  ad sale boost time warner profit quarterly pro...  \n",
       "1  dollar gain greenspan speech dollar hit highes...  \n",
       "2  yukos unit buyer face loan claim owner embattl...  \n",
       "3  high fuel price hit ba profit british airway b...  \n",
       "4  pernod takeover talk lift domecq share uk drin...  "
      ]
     },
     "execution_count": 12,
     "metadata": {},
     "output_type": "execute_result"
    }
   ],
   "source": [
    "nltk.download('wordnet')\n",
    "lemmatizer = WordNetLemmatizer()\n",
    "\n",
    "def normalize_text(text):\n",
    "    tokens = nltk.word_tokenize(text)\n",
    "    tokens = [word for word in tokens if word not in stop_words]\n",
    "    tokens = [lemmatizer.lemmatize(word) for word in tokens]  # lemmatization here instead of stemming\n",
    "    return ' '.join(tokens)\n",
    "\n",
    "bbc_df['lemmatized_normalized_text'] = bbc_df['cleaned_text'].apply(normalize_text)\n",
    "print(\"Cleaned text:\")\n",
    "print(bbc_df['cleaned_text'].iloc[0][:200])\n",
    "print(\"\\nLemmatized-Normalized text:\")\n",
    "print(bbc_df['lemmatized_normalized_text'].iloc[0][:200])\n",
    "bbc_df.head()"
   ]
  },
  {
   "cell_type": "code",
   "execution_count": 13,
   "metadata": {},
   "outputs": [],
   "source": [
    "bbc_df.to_csv(\"_data/2_Medium_BBC_Dataset/bbc_dataset_preprocessed.csv\", index=False)"
   ]
  },
  {
   "cell_type": "code",
   "execution_count": null,
   "metadata": {},
   "outputs": [],
   "source": []
  }
 ],
 "metadata": {
  "kernelspec": {
   "display_name": "nlp",
   "language": "python",
   "name": "python3"
  },
  "language_info": {
   "codemirror_mode": {
    "name": "ipython",
    "version": 3
   },
   "file_extension": ".py",
   "mimetype": "text/x-python",
   "name": "python",
   "nbconvert_exporter": "python",
   "pygments_lexer": "ipython3",
   "version": "3.13.2"
  }
 },
 "nbformat": 4,
 "nbformat_minor": 2
}
