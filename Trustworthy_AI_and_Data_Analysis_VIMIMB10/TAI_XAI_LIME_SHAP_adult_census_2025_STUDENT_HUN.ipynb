{
  "nbformat": 4,
  "nbformat_minor": 0,
  "metadata": {
    "colab": {
      "provenance": [],
      "gpuType": "T4"
    },
    "kernelspec": {
      "name": "python3",
      "display_name": "Python 3"
    },
    "language_info": {
      "name": "python"
    },
    "accelerator": "GPU"
  },
  "cells": [
    {
      "cell_type": "markdown",
      "source": [
        "![flexsys_logo.png](data:image/png;base64,iVBORw0KGgoAAAANSUhEUgAAAFoAAABFCAYAAADKKPFMAAAABHNCSVQICAgIfAhkiAAAAAlwSFlzAAAGOAAABjgBco5mFwAAABl0RVh0U29mdHdhcmUAd3d3Lmlua3NjYXBlLm9yZ5vuPBoAAAUySURBVHic7ZxNiBxFGIbfr2dMgpOkN+q6xhBD1MN2dA2J6MGLXgRPXtRcRcL6gyBGFA9hd34i6EEQBUFQEAQPUdCIgkJWDx4EUdlFyQwxEhHMZvPLzmZ3NrLpej2soJmuqrF7Zmp7l3qO885X9fXbM1Vf/1QJPFdRC3ftI3hYpwkwMd5sPJil3aC7tNYeBMWsgVnb9UY7whvtCG+0I7zRjihmDaxt3vUZhdtShAwAYpxoAEAKeHj8Yv1Y1pzyTGajKWoEkJ0po6yqirE+az55xw8djvBGO8Ib7QhvtCNyZXQRKlf59JLMVQfsJcQJAJcBKbULArWDkIIuKA4Kg13kk4CAVAFtSVkBVC/76kQ3Rttq4mfLzcZRnVANo9MAbtI2SMx0kU+CWhj9IMDdWk1k7/hsfbKX/dlYs3/VvOGNdoQ32hHeaEd4ox3RTdXRc0h8WA2jVqoYYLLSbIxqRZG3hdiqkwpLwXSGFO+qhtFHOmFT89LjL+DPRVNgrowGGKWNEGDBpJVn6+93l0+CIQCP6YSlG0r7cd4cuBaGjjtXOoH/w6o3WgDtVWbeWPVGrxa80Y7I2WTYW2pbhkegsE6nqVKpUZn+KVWF0w25MpqQZwD+ppEeEOCgPgYnje0p+RzADq3YurwHwFTKFH8G5BWdsHh+6yJw3BiYK6MDwffjs43EHbVqGF1vCbvUx5TaOVNu1j/WS3VroB+jHeGNdoQ32hHeaEd4ox3hjXaEN9oR3mhHeKMd4Y12hDfaEd5oR3ijHeGNdoQ32hHeaEd4ox3hjXbESjzKMr7AriCGVQTqFtNvQoCd1TB6TacR2GLqTMjnqmF0NhFDRmJadypIs4D1KpwbXW42tG/7W2GwzXR6CGwH8LJOsy7TBZ/QxtgW9xJD1iYtODf69VvvmyisX3dj++dq6cpS69y5R8eax393nZMLnBtdGhq8/envjiReAfji+crZyQ8Ob3SdTxrYxRN3PxmmIAB+7SI2H0iHnQ9WO7kxGgIoy35Gq51cvalkIpBr3iT/+lGnSSAtEn+4yEMoc1lji7VwWLvgEQBUXFiszB+zv+vkglhtYCHQ17DEhfFm4xOddOi64VEV6xZ0igqIN8bmGifalUoY7RXwSW1fBZnC8qrgBLWBO3aT6iHDEagiIV/DcKEgBV4EcJshuKeICAIWtUMHg3g3IIMEv9LIYwDe08WpGKOA3KORWkrwKTSmFYUjMeUpbR6KUwDe0WqM74VIicS37ZoArxZFsEDyZl0wgMSV00ohgnp5tjHR/nktjF5K3xji7DvYWaD8UmnWtTm6nwzJ1IdI6a0tthlXKdNtgE5tmuMISH6qjr5gO3h9hWPfrTF7VVSkgu0UmxXKEQbQb/twBadTZyICZemP7F3pZ9sW00anIDF8RQBm3yUs4FugYSOTzZtmMJ+1ZTcIO/qWgJ29NpLZaKEcJYrfJD4HRzC/eAjAl+kaNB+EQMi+zF6964sdxhWr0bZAAU6Wm/VEGVQdiA5k8UREGFhyNf0tO2DIRMzSskr9r7fDjVdL/j2fDKWLrX9dQhSynLjMQ0dfqg7rHszm6q4v+zanJWtfIvaysOdGZzZFBMpSWWSsFEy5WNvKFAT7BNuXX7RtPLU+KnKIZDhx3VUdATcK5ZShYeOJIDBcC6PETmAktpN80RQ3Nz2z4d37HznDWMX8zzgyd2qmZJoMCaFADtTCaF97c5Tklm//Igsgp6X9ypK41nRLVqAIyCyA1vJXsQTwn63b5IKpJwKE4GAtjPZrtD1/Ay3aiOaEeIwPAAAAAElFTkSuQmCC) Mesterséges Intelligencia és Rendszertervezés Tanszék, ©2024-2025. BME-MIT, Vetró Mihály, Révy Gábor, Dr. Hullám Gábor  \n",
        "\n",
        "# **VIMIMB10 - Megbízható Mesterséges Intelligencia és Adatelemzés**\n",
        "## 2025. Tavaszi félév\n",
        "## **5. Laborgyakorlat - Magyarázatgenerálás black-box modellekhez az Adult Census Income adathalmazon**\n",
        "\n",
        "Ezen a gyakorlaton arra látunk majd példát, hogy hogyan lehet alkalmazni magyarázó eljárásokat (nevezetesen a LIME és a Shapley-mintavételezést), hogy magyarázatot adjunk az egyébként nehezen magyarázható modellek predikcióira.\n",
        "\n",
        "\n",
        "Ehhez először telepítsük a magyarázó technikákhoz szükséges könyvtárakat:"
      ],
      "metadata": {
        "id": "A0XowJnFdU1M"
      }
    },
    {
      "cell_type": "code",
      "source": [
        "%%capture\n",
        "\n",
        "!pip install lime\n",
        "!pip install shap"
      ],
      "metadata": {
        "id": "c2iX1m2t9-_v"
      },
      "execution_count": null,
      "outputs": []
    },
    {
      "cell_type": "markdown",
      "source": [
        "Importáljuk a szükséges könyvtárakat:"
      ],
      "metadata": {
        "id": "TL9DVasjePUb"
      }
    },
    {
      "cell_type": "code",
      "source": [
        "import pandas as pd\n",
        "import matplotlib.pyplot as plt\n",
        "import seaborn as sns\n",
        "import numpy as np"
      ],
      "metadata": {
        "id": "PyDU84Sa9-_w"
      },
      "execution_count": null,
      "outputs": []
    },
    {
      "cell_type": "markdown",
      "source": [
        "## Adathalmaz betöltése és előkészítése\n",
        "\n",
        "Adjuk meg az adatok elérési útját a kari szerveren:\n",
        "\n",
        "\n",
        "(az adatok és jellemzőinek további leírása [az adathalmaz oldalán](https://archive.ics.uci.edu/dataset/2/adult) található)."
      ],
      "metadata": {
        "id": "c0_E33d8eSqu"
      }
    },
    {
      "cell_type": "code",
      "source": [
        "csv_path = 'https://share.mit.bme.hu/index.php/s/NMREEm4KCRgeCFX/download/adult_reconstruction.csv'"
      ],
      "metadata": {
        "id": "X3dKDNDm9-_w"
      },
      "execution_count": null,
      "outputs": []
    },
    {
      "cell_type": "markdown",
      "source": [
        "Határozzuk meg a jellemzők típusát (folytonos vagy kategorikus), és töltsük be az adatokat:"
      ],
      "metadata": {
        "id": "Fmz6mKr0edAq"
      }
    },
    {
      "cell_type": "code",
      "source": [
        "continuous_features_L = [\n",
        "    \"hours-per-week\",\n",
        "    \"age\",\n",
        "    \"education-num\",\n",
        "    \"capital-gain\",\n",
        "    \"capital-loss\",\n",
        "]\n",
        "\n",
        "categorical_features_L = [\n",
        "    \"workclass\",\n",
        "    \"marital-status\",\n",
        "    \"relationship\",\n",
        "    \"race\",\n",
        "    \"gender\",\n",
        "    \"native-country\",\n",
        "    \"occupation\",\n",
        "]\n",
        "\n",
        "df = pd.read_csv(csv_path)\n",
        "df"
      ],
      "metadata": {
        "id": "oc4kSCYd9-_w"
      },
      "execution_count": null,
      "outputs": []
    },
    {
      "cell_type": "markdown",
      "source": [
        "Nézzünk meg néhány alapvető jellemzőt a betöltött adatokról:"
      ],
      "metadata": {
        "id": "YPcCVXEaerCM"
      }
    },
    {
      "cell_type": "code",
      "source": [
        "df.describe()"
      ],
      "metadata": {
        "id": "QvnoxMlV9-_x"
      },
      "execution_count": null,
      "outputs": []
    },
    {
      "cell_type": "code",
      "source": [
        "df.hist(bins=20)\n",
        "plt.tight_layout()\n",
        "plt.show();"
      ],
      "metadata": {
        "id": "dVjfX0CU9-_x"
      },
      "execution_count": null,
      "outputs": []
    },
    {
      "cell_type": "markdown",
      "source": [
        "Mivel az iskolai végzettséget alapértelmezés szerint numerikus formátumban adjuk meg (`education-num`), a kategorikus `education` változó felesleges, és eltávolítható:"
      ],
      "metadata": {
        "id": "-nXtn9djew3Y"
      }
    },
    {
      "cell_type": "code",
      "source": [
        "df.drop(['education'], axis=1, inplace=True)"
      ],
      "metadata": {
        "id": "5IekeHUL9-_x"
      },
      "execution_count": null,
      "outputs": []
    },
    {
      "cell_type": "markdown",
      "source": [
        "Ezután numerikusan kódoljuk a kategorikus változókat. Érdemes megjegyezni, hogy ez nem szükséges, és csak technikai okokból tesszük. Később az összes kategorikus változót átalakítjuk one-hot kódolású változókká."
      ],
      "metadata": {
        "id": "Iy2ftdenfD6H"
      }
    },
    {
      "cell_type": "code",
      "source": [
        "from sklearn.preprocessing import LabelEncoder\n",
        "\n",
        "label_encoders = {}\n",
        "\n",
        "for c in categorical_features_L:\n",
        "  le = LabelEncoder()\n",
        "  label_encoders[c] = le\n",
        "  df[c] = le.fit_transform(df[c])\n",
        "\n",
        "df.head()"
      ],
      "metadata": {
        "id": "yvYVAL-h9-_x"
      },
      "execution_count": null,
      "outputs": []
    },
    {
      "cell_type": "code",
      "source": [
        "df.describe()"
      ],
      "metadata": {
        "id": "sqfKmKBa9-_x"
      },
      "execution_count": null,
      "outputs": []
    },
    {
      "cell_type": "code",
      "source": [
        "df.hist(figsize=(10, 7), bins=20)\n",
        "plt.tight_layout()\n",
        "plt.show();"
      ],
      "metadata": {
        "id": "SZqQoQha9-_2"
      },
      "execution_count": null,
      "outputs": []
    },
    {
      "cell_type": "markdown",
      "source": [
        "Megőrizzük az eredeti kategórianeveket is minden jellemzőhöz egy külön dictionary-ben:"
      ],
      "metadata": {
        "id": "1R3s9mo0fQ3b"
      }
    },
    {
      "cell_type": "code",
      "source": [
        "feature_class_names = {}\n",
        "\n",
        "for c in categorical_features_L:\n",
        "  feature_class_names[c] = label_encoders[c].classes_"
      ],
      "metadata": {
        "id": "Ywmhb0On9-_2"
      },
      "execution_count": null,
      "outputs": []
    },
    {
      "cell_type": "markdown",
      "source": [
        "Binarizáljuk a célváltozót (a háztartások éves jövedelme (`income`) 1992-ben) \\$$50000$-nál, hogy magas és alacsony jövedelmű háztartások közötti osztályozási feladatot végezhessünk, majd osszuk fel az adathalmazt tanító és teszt partíciókra:"
      ],
      "metadata": {
        "id": "rS4MadFofYsh"
      }
    },
    {
      "cell_type": "code",
      "source": [
        "from sklearn.model_selection import train_test_split\n",
        "\n",
        "input_data = df.drop(['income'], axis=1)\n",
        "label_data = df['income'] > 50000\n",
        "\n",
        "x_train, x_test, y_train, y_test = train_test_split(input_data, label_data, test_size=0.3, random_state=42)\n",
        "x_train.shape, x_test.shape"
      ],
      "metadata": {
        "id": "fADv0cPH9-_2"
      },
      "execution_count": null,
      "outputs": []
    },
    {
      "cell_type": "markdown",
      "source": [
        "Implementáljuk a kategorikus jellemzők one-hot enkódolását:"
      ],
      "metadata": {
        "id": "m6QJat5HgRlZ"
      }
    },
    {
      "cell_type": "code",
      "source": [
        "import sklearn\n",
        "from sklearn.compose import ColumnTransformer\n",
        "\n",
        "one_hot_encoder = sklearn.preprocessing.OneHotEncoder()\n",
        "encoder = ColumnTransformer(\n",
        "    transformers=[\n",
        "        (\"cat\", one_hot_encoder, categorical_features_L),\n",
        "    ])\n",
        "encoder.fit(input_data)  # fit encoding for the whole dataset"
      ],
      "metadata": {
        "id": "dL2bSimA9-_2"
      },
      "execution_count": null,
      "outputs": []
    },
    {
      "cell_type": "code",
      "source": [
        "x_train_encoded = encoder.transform(x_train)\n",
        "x_test_encoded = encoder.transform(x_test)\n",
        "\n",
        "x_train_encoded = np.c_[x_train[continuous_features_L].values, x_train_encoded.toarray()]\n",
        "x_test_encoded = np.c_[x_test[continuous_features_L].values, x_test_encoded.toarray()]"
      ],
      "metadata": {
        "id": "jxdhl0Ca9-_3"
      },
      "execution_count": null,
      "outputs": []
    },
    {
      "cell_type": "markdown",
      "source": [
        "# Random forest osztályozó tanítása és vizsgálata\n",
        "\n",
        "Az első black-box modell, amelyet megvizsgálunk, egy véletlen erdő osztályozó (Random Forest Classifier - RFC), amely összesen $100$ döntési fát tartalmaz.\n",
        "\n",
        "\n",
        "Ehhez létrehozzuk és betanítjuk az RFC-t az előfeldolgozott adatokon:"
      ],
      "metadata": {
        "id": "fZlVsECn9-_3"
      }
    },
    {
      "cell_type": "code",
      "source": [
        "import sklearn.ensemble\n",
        "\n",
        "rfc = sklearn.ensemble.RandomForestClassifier(n_estimators=100, n_jobs=-1, verbose=0)\n",
        "rfc.fit(x_train_encoded, y_train)"
      ],
      "metadata": {
        "id": "fGy4x1pn9-_6"
      },
      "execution_count": null,
      "outputs": []
    },
    {
      "cell_type": "markdown",
      "source": [
        "Ezután megmérjük a pontosságot a tanító és teszt partíciókon:"
      ],
      "metadata": {
        "id": "yFVcSRtig7QY"
      }
    },
    {
      "cell_type": "code",
      "source": [
        "accuracy_train = np.mean(y_train == rfc.predict(x_train_encoded))\n",
        "accuracy_test = np.mean(y_test == rfc.predict(x_test_encoded))\n",
        "print(f'Accuracy train: {accuracy_train:.4f}')\n",
        "print(f'Accuracy test:  {accuracy_test:.4f}')"
      ],
      "metadata": {
        "id": "qEmX2p3a9-_6"
      },
      "execution_count": null,
      "outputs": []
    },
    {
      "cell_type": "markdown",
      "source": [
        "Ezután a jellemző (feature) és a jellemző-kategória neveket külön változókba exportáljuk:"
      ],
      "metadata": {
        "id": "MIx1vwVyhhxc"
      }
    },
    {
      "cell_type": "code",
      "source": [
        "feature_names = input_data.columns.tolist()\n",
        "categorical_features = [i for i, n in enumerate(input_data.columns)\n",
        "                            if n in categorical_features_L]\n",
        "categorical_names = {i: dict(enumerate(feature_class_names[feature_names[i]])) for i in categorical_features}"
      ],
      "metadata": {
        "id": "Uoa6dR1t9-_8"
      },
      "execution_count": null,
      "outputs": []
    },
    {
      "cell_type": "markdown",
      "source": [
        "Továbbá, a transzformált (one-hot) reprezentációhoz hozzárendeljük a jellemzők neveit is, hogy az egyes jellemzők fontosságát ábrázolni tudjuk."
      ],
      "metadata": {
        "id": "3RMpVvoX9wOj"
      }
    },
    {
      "cell_type": "code",
      "source": [
        "onehot_feature_names = continuous_features_L.copy()\n",
        "for i in range(len(feature_names)):\n",
        "  if i in categorical_names.keys():\n",
        "    for val_key in sorted(categorical_names[i].keys()):\n",
        "      onehot_feature_names.append(f\"{feature_names[i]}={categorical_names[i][val_key]}\")"
      ],
      "metadata": {
        "id": "Ks6ANaMrj-vq"
      },
      "execution_count": null,
      "outputs": []
    },
    {
      "cell_type": "markdown",
      "source": [
        "Ezután megvizsgáljuk a jellemzők fontosságát a random forest osztályozó struktúrája alapján. Ebben az esetben az átlagos jellemző fontosságot úgy definiáljuk, mint a Gini-index (impurity) értékének átlagos csökkenése, amikor az adatokat az adott jellemző mentén osztjuk fel. Alapértelmezés szerint ennek mérőszáma a `RandomForestClassifier` modellben a [gini impurity](https://en.wikipedia.org/wiki/Decision_tree_learning#Gini_impurity).\n",
        "\n",
        "A következő két cellában kinyerjük és ábrázoljuk minden jellemző átlagos fontosságát, valamint a jellemzők fontosságának szórását a random forest egyes döntési fái között:"
      ],
      "metadata": {
        "id": "st8qkgSj9_jC"
      }
    },
    {
      "cell_type": "code",
      "source": [
        "importance_mean = rfc.feature_importances_\n",
        "importance_std = np.std(np.array([tree.feature_importances_ for tree in rfc.estimators_]), axis=0)"
      ],
      "metadata": {
        "id": "1rSmQdbWiyhe"
      },
      "execution_count": null,
      "outputs": []
    },
    {
      "cell_type": "code",
      "source": [
        "plt.figure(figsize=(20, 5))\n",
        "plt.bar(onehot_feature_names, importance_mean, yerr=importance_std)\n",
        "plt.xticks(rotation=90)\n",
        "plt.show();"
      ],
      "metadata": {
        "id": "xHhHrQvMlJR2"
      },
      "execution_count": null,
      "outputs": []
    },
    {
      "cell_type": "markdown",
      "source": [
        "Amint az eredményekből látható, a legtöbb folytonos jellemző, mint például a \"kor\" (`age`), a \"végzettség\" (`education-num`) és a \"tőkenyereség\" (`capital-gain`) következetesen nagy jelentőséggel bírnak, míg a legtöbb diszkrét jellemzőnek alacsony a jelentősége. Érdemes azonban megjegyezni, hogy egyes diszkrét jellemző-érték párok az egyes fáktól függően nagy jelentőséggel bírhatnak, ezért nem szabad őket elvetni."
      ],
      "metadata": {
        "id": "m5XwKDC2Aa9l"
      }
    },
    {
      "cell_type": "markdown",
      "source": [
        "### LIME\n",
        "\n",
        "Elsőként vizsgáljuk meg a Local Interpretable Model-Agnostic Explanations (röviden LIME) magyarázó módszert.\n",
        "\n",
        "Ezen módszer működését röviden az alábbi lépéssor foglalja össze:\n",
        "\n",
        "1. Mintavételezzük a bemeneti teret a magyarázni kívánt bemenet körül (pl. a bemenethez társított véletlenszerű additív zaj segítségével)\n",
        "2. Rögzítsük a modell predikcióit a mintavételezett pontokra.\n",
        "3. Illesszünk egy egyszerű (jellemzően lineáris) modellt az így kapott bemenet-kimenet párokra úgy, hogy a modell elkészítése során a mintákat az eredeti (magyarázni kívánt) bemenettől való távolság inverzével súlyozzuk.\n",
        "4. Az így kapott egyszerű modell magyarázható, és a vizsgált bemenet környezetében feltehetően jól imitálja az eredeti modell viselkedését, tehát illeszkedik a döntési felületre. Az egyszerű modell paramétereiből megállapíthatjuk az egyes bemenetek szerepét az osztályozó döntésének kialakításában.\n",
        "\n",
        "A fent prezentált lépéssor első három elemét az alábbi ábra foglalja össze:\n",
        "\n",
        "![LIME image](https://raw.githubusercontent.com/marcotcr/lime/master/doc/images/lime.png)\n",
        "\n",
        "Ahol a magyarázni kívánt minta piros kereszttel, a bemeneti térből vett minták keresztekkel és körökkel, az eredeti modell döntési felületét a háttér színezésével, a mintákra illesztett magyarázható (lineáris) modell döntési felületét pedig szaggatott vonallal jelölték.\n",
        "\n",
        "A LIME módszer részletes leírása a [kapcsolódó publikációban](https://arxiv.org/pdf/1602.04938v3.pdf) fellelhető.\n",
        "\n",
        "> Összefoglalva tehát a LIME módszer pusztán a bemenetek, és a modell azokra adott válasza alapján definiál egy magyarázható modellt, amely közelíti a magyarázandó modell viselkedését a bemenet környezetében. Mivel a LIME nem követel meg semmilyen feltételezést a magyarázandó modell belső működésével kapcsolatban, így bármilyen prediktív modell kimenetének magyarázására felhasználható, tehát modellfüggetlen módszer.\n",
        "\n",
        "Importáljuk és definiáljuk a LIME magyarázót a modellünkhöz:"
      ],
      "metadata": {
        "id": "P_XMvOE7hqon"
      }
    },
    {
      "cell_type": "code",
      "source": [
        "import lime\n",
        "import lime.lime_tabular"
      ],
      "metadata": {
        "id": "EFRMS_mg9-_8"
      },
      "execution_count": null,
      "outputs": []
    },
    {
      "cell_type": "code",
      "source": [
        "# https://lime-ml.readthedocs.io/en/latest/lime.html#lime.lime_tabular.LimeTabularExplainer\n",
        "rfc_explainer_lime = lime.lime_tabular.LimeTabularExplainer(x_train.to_numpy(), mode='classification',\n",
        "                                                       feature_names=feature_names,\n",
        "                                                       categorical_features=categorical_features,\n",
        "                                                       categorical_names=categorical_names,\n",
        "                                                       class_names=['below 50K $', 'above 50K$'],\n",
        "                                                       kernel_width=3,\n",
        "                                                       verbose=True)"
      ],
      "metadata": {
        "id": "pTC2m2t99-_8"
      },
      "execution_count": null,
      "outputs": []
    },
    {
      "cell_type": "markdown",
      "source": [
        "Ezután definiáljuk a prediktor függvényt, amely a LIME keretrendszerhez szükséges:"
      ],
      "metadata": {
        "id": "umo135Ljhz1u"
      }
    },
    {
      "cell_type": "code",
      "source": [
        "from sklearn.preprocessing import FunctionTransformer\n",
        "\n",
        "def pred_func_rfc(x):\n",
        "  x = pd.DataFrame(x, columns=feature_names)\n",
        "  x_transformed = encoder.transform(x)\n",
        "  return rfc.predict_proba(np.c_[x[continuous_features_L].values, x_transformed.toarray()])"
      ],
      "metadata": {
        "id": "XndMQu8h9-_9"
      },
      "execution_count": null,
      "outputs": []
    },
    {
      "cell_type": "markdown",
      "source": [
        "Ezután egyetlen bemenethez magyarázatot generálunk. Az egyes bemeneti jellemzők hatásának nagyságát és irányát a LIME keretrendszer kvantálja."
      ],
      "metadata": {
        "id": "p8GOcaxNh8ut"
      }
    },
    {
      "cell_type": "code",
      "source": [
        "i = 136\n",
        "\n",
        "inst = x_test.to_numpy()[i]\n",
        "exp = rfc_explainer_lime.explain_instance(inst, pred_func_rfc, num_features=10, num_samples=10000)\n",
        "exp.show_in_notebook(show_all=True)"
      ],
      "metadata": {
        "id": "C48JyY3f9-_9"
      },
      "execution_count": null,
      "outputs": []
    },
    {
      "cell_type": "markdown",
      "source": [
        "A fenti magyarázatban a végső kimenetet osztályok valószínűségeinek formájában láthatjuk (balra), az egyes jellemzők hatását pedig jobbra és középen. A kékkel jelölt jellemzők a predikciót az alacsonyabb jövedelem irányába, míg a narancssárgával jelölt jellemzők a \"50K$ feletti\" osztály felé mozdították el."
      ],
      "metadata": {
        "id": "d3ttdh46Vkpt"
      }
    },
    {
      "cell_type": "markdown",
      "source": [
        "### Shapley mintavételezés\n",
        "\n",
        "A Shapley mintavételezés alapgondolata, hogy a modell bemeneti változóit egyesével kicseréljük egy véletlenszerűen választott értékkel, majd megfigyeljük, hogy a kimenet ennek hatására hogyan változik. A mért változás nagysága feltehetően arányos az adott változó kimenetre gyakorolt hatásának nagyságával, iránya pedig a változó hatásának irányára lesz indikatív.\n",
        "\n",
        "A következőkben a Shapley-féle mintavételi (vagy közismert nevén SHAP) módszert vizsgáljuk ugyanennek az RFC-modellnek a magyarázatára:"
      ],
      "metadata": {
        "id": "-IcjK0t9idQG"
      }
    },
    {
      "cell_type": "code",
      "source": [
        "import shap\n",
        "\n",
        "rfc_explainer_shap = shap.SamplingExplainer(pred_func_rfc, data=shap.sample(x_train, 1000, random_state=42))"
      ],
      "metadata": {
        "id": "H5uvBbqa9-_9"
      },
      "execution_count": null,
      "outputs": []
    },
    {
      "cell_type": "markdown",
      "source": [
        "A modellmagyarázó definiálása után kiszámítjuk a SHAP értékeket, amelyek az egyes hatások közelítéseiként szolgálnak."
      ],
      "metadata": {
        "id": "P6c2IcHtitAT"
      }
    },
    {
      "cell_type": "code",
      "source": [
        "rfc_shap_values = rfc_explainer_shap.shap_values(x_test.iloc[:200, :], nsamples=1000, random_state=42)"
      ],
      "metadata": {
        "id": "YGx8_6bt9-_-"
      },
      "execution_count": null,
      "outputs": []
    },
    {
      "cell_type": "markdown",
      "source": [
        "Majd magyarázatot generálunk egyetlen bemenetre:"
      ],
      "metadata": {
        "id": "CS7xy-1ljEmf"
      }
    },
    {
      "cell_type": "code",
      "source": [
        "index_to_explain = 136\n",
        "\n",
        "shap.initjs()\n",
        "shap.force_plot(rfc_explainer_shap.expected_value[1], rfc_shap_values[index_to_explain, :, 1], x_test.iloc[index_to_explain, :])"
      ],
      "metadata": {
        "id": "eJF79G5z9-_-"
      },
      "execution_count": null,
      "outputs": []
    },
    {
      "cell_type": "markdown",
      "source": [
        "Emellett az adatok egy nagyobb részéhez is készíthetünk  magyarázatokat, és elemezhetjük az eredményeket.\n",
        "\n",
        "\n",
        "A következő cellában rajdiagramon (swarm plot) ábrázoljuk minden egyes mintára az egyes jellemzők hatását:"
      ],
      "metadata": {
        "id": "of7FKVXsk2lX"
      }
    },
    {
      "cell_type": "code",
      "source": [
        "shap.summary_plot(rfc_shap_values[:, :, 1], x_test.iloc[:200, :], feature_names=x_test.columns)"
      ],
      "metadata": {
        "id": "YaOx2BpkUggI"
      },
      "execution_count": null,
      "outputs": []
    },
    {
      "cell_type": "markdown",
      "source": [
        "A jellemzők együttes hatása egy összetett vonaldiagramon figyelhető meg:\n",
        "\n",
        "\n",
        "(a kékkel jelölt jellemzők negatív irányban befolyásolják a kimenetet, míg a pirossal jelölt jellemzők ellentétes hatást fejtenek ki)."
      ],
      "metadata": {
        "id": "hTNX5RpWXVvC"
      }
    },
    {
      "cell_type": "code",
      "source": [
        "shap.initjs()\n",
        "shap.force_plot(\n",
        "    rfc_explainer_shap.expected_value[1], rfc_shap_values[:, :, 1], x_test.iloc[:200, :]\n",
        ")"
      ],
      "metadata": {
        "id": "iqeVx9zO9-_-"
      },
      "execution_count": null,
      "outputs": []
    },
    {
      "cell_type": "markdown",
      "source": [
        "# Neurális hálózat betanítása és magyarázata\n",
        "\n",
        "Ebben a részben egy nagyon hasonló magyarázó folyamatot hajtunk végre ugyanazon a feladaton, de most egy egyszerű neurális hálózatot használunk a magyarázandó prediktív modellként.\n",
        "\n",
        "\n",
        "Ehhez importáljuk a TensorFlow könyvtárat, majd létrehozzuk és betanítjuk a neurális hálózati modellt:"
      ],
      "metadata": {
        "id": "2El56y1s9-__"
      }
    },
    {
      "cell_type": "code",
      "source": [
        "import tensorflow as tf"
      ],
      "metadata": {
        "id": "AYp8E9s39-__"
      },
      "execution_count": null,
      "outputs": []
    },
    {
      "cell_type": "code",
      "source": [
        "model = tf.keras.models.Sequential([\n",
        "    tf.keras.layers.Dense(128, activation=\"relu\"),\n",
        "    tf.keras.layers.Dense(64, activation=\"relu\"),\n",
        "    tf.keras.layers.Dense(32, activation=\"relu\"),\n",
        "    tf.keras.layers.Dense(16, activation=\"relu\"),\n",
        "    tf.keras.layers.Dense(1, activation=\"sigmoid\")\n",
        "])\n",
        "\n",
        "model.compile(loss=\"binary_crossentropy\",\n",
        "              optimizer=\"adam\",\n",
        "              metrics=[\"accuracy\"])\n",
        "\n",
        "model_path = \"class_model_dense.keras\"\n",
        "\n",
        "checkpoint_callback = tf.keras.callbacks.ModelCheckpoint(model_path,\n",
        "                                                         save_weights_only=False,\n",
        "                                                         save_best_only=True,\n",
        "                                                         monitor=\"val_accuracy\",\n",
        "                                                         mode=\"max\",\n",
        "                                                         verbose=1)\n",
        "\n",
        "model.fit(x=x_train_encoded, y=y_train.astype(np.float32),\n",
        "          validation_split=0.2,\n",
        "          shuffle=True,\n",
        "          batch_size=64,\n",
        "          # class_weight={0: 0.25, 1: 0.75},\n",
        "          epochs=50,\n",
        "          callbacks=[checkpoint_callback])"
      ],
      "metadata": {
        "id": "Yjq9z0VI9-__"
      },
      "execution_count": null,
      "outputs": []
    },
    {
      "cell_type": "markdown",
      "source": [
        "Tanítás után töltsük be a validációs készleten legjobban teljesítő modellt, és nézzük meg a pontosságot:"
      ],
      "metadata": {
        "id": "w3KPiPHFmCFh"
      }
    },
    {
      "cell_type": "code",
      "source": [
        "model.load_weights(model_path)\n",
        "\n",
        "accuracy_train = np.mean(y_train == np.round(model.predict(x_train_encoded, verbose=0).flatten()))\n",
        "accuracy_test = np.mean(y_test == np.round(model.predict(x_test_encoded, verbose=0).flatten()))\n",
        "print(f'Accuracy train: {accuracy_train:.4f}')\n",
        "print(f'Accuracy test:  {accuracy_test:.4f}')"
      ],
      "metadata": {
        "id": "M3f2Ua2u9-__"
      },
      "execution_count": null,
      "outputs": []
    },
    {
      "cell_type": "markdown",
      "source": [
        "### LIME\n",
        "\n",
        "Ezután végezzük el ugyanazokat a magyarázó lépéseket a LIME-mal, mint az RFC osztályozó esetében:"
      ],
      "metadata": {
        "id": "NxKTmz65ntiN"
      }
    },
    {
      "cell_type": "code",
      "source": [
        "import lime\n",
        "import lime.lime_tabular"
      ],
      "metadata": {
        "id": "QR66V9hxI2Gq"
      },
      "execution_count": null,
      "outputs": []
    },
    {
      "cell_type": "code",
      "source": [
        "# https://lime-ml.readthedocs.io/en/latest/lime.html#lime.lime_tabular.LimeTabularExplainer\n",
        "nn_explainer_lime = lime.lime_tabular.LimeTabularExplainer(x_train.to_numpy(), mode='classification',\n",
        "                                                           feature_names=feature_names,\n",
        "                                                           categorical_features=categorical_features,\n",
        "                                                           categorical_names=categorical_names,\n",
        "                                                           class_names=['below 50K $', 'above 50K$'],\n",
        "                                                           kernel_width=3,\n",
        "                                                           verbose=True)"
      ],
      "metadata": {
        "id": "HqaIyd2bI2Gq"
      },
      "execution_count": null,
      "outputs": []
    },
    {
      "cell_type": "code",
      "source": [
        "from sklearn.preprocessing import FunctionTransformer\n",
        "\n",
        "def pred_func_nn(x):\n",
        "  x = pd.DataFrame(x, columns=feature_names)\n",
        "  x_transformed = encoder.transform(x)\n",
        "  pred = model.predict(np.c_[x[continuous_features_L].values, x_transformed.toarray()],\n",
        "                       verbose=0)\n",
        "  res = np.hstack([1-pred, pred])\n",
        "  return res"
      ],
      "metadata": {
        "id": "onO9QOk9I2Gq"
      },
      "execution_count": null,
      "outputs": []
    },
    {
      "cell_type": "code",
      "source": [
        "i = 136\n",
        "\n",
        "inst = x_test.to_numpy()[i]\n",
        "exp = nn_explainer_lime.explain_instance(inst, pred_func_nn, num_features=10, num_samples=10000)\n",
        "exp.show_in_notebook(show_all=True)"
      ],
      "metadata": {
        "id": "DzeLK2x-I2Gq"
      },
      "execution_count": null,
      "outputs": []
    },
    {
      "cell_type": "markdown",
      "source": [
        "### SHAP\n",
        "\n",
        "És hasonlóan a SHAP lépéseket is (ezúttal `SamplingExplainer` nevű módszert alkalmazva):"
      ],
      "metadata": {
        "id": "9b2oIskloBKf"
      }
    },
    {
      "cell_type": "code",
      "source": [
        "import shap\n",
        "\n",
        "nn_explainer_shap = shap.SamplingExplainer(pred_func_nn, shap.sample(x_train, 1000, random_state=42))"
      ],
      "metadata": {
        "id": "mJxD5Vc69_AA"
      },
      "execution_count": null,
      "outputs": []
    },
    {
      "cell_type": "markdown",
      "source": [
        "A SHAP-értékek kiszámítása néhány percet igénybe vehet:"
      ],
      "metadata": {
        "id": "rJN6MjteoSGm"
      }
    },
    {
      "cell_type": "code",
      "source": [
        "nn_shap_values = nn_explainer_shap.shap_values(x_test.iloc[:200, :], nsamples=1000, random_state=42)"
      ],
      "metadata": {
        "id": "QmY0kslZ9_AA"
      },
      "execution_count": null,
      "outputs": []
    },
    {
      "cell_type": "code",
      "source": [
        "index_to_plot = 136\n",
        "\n",
        "shap.initjs()\n",
        "shap.force_plot(nn_explainer_shap.expected_value[1], nn_shap_values[index_to_plot, :, 1], x_test.iloc[index_to_plot, :], feature_names=x_test.columns)"
      ],
      "metadata": {
        "id": "OtcbMlqa9_AA"
      },
      "execution_count": null,
      "outputs": []
    },
    {
      "cell_type": "code",
      "source": [
        "shap.summary_plot(nn_shap_values[:, :, 1], x_test.iloc[:200, :], feature_names=x_test.columns)"
      ],
      "metadata": {
        "id": "UgV_16Tp9_AA"
      },
      "execution_count": null,
      "outputs": []
    },
    {
      "cell_type": "code",
      "source": [
        "shap.initjs()\n",
        "shap.force_plot(\n",
        "    nn_explainer_shap.expected_value[1], nn_shap_values[:200, :, 1], x_test.iloc[:200, :]\n",
        ")"
      ],
      "metadata": {
        "id": "jm1JlDQk9_AB"
      },
      "execution_count": null,
      "outputs": []
    },
    {
      "cell_type": "code",
      "source": [
        "def extract_feature_name(fval_string):\n",
        "    for fname in feature_names:\n",
        "        if fname in fval_string:\n",
        "            return fname\n",
        "    return None\n",
        "\n",
        "def plot_comparison(index_to_compare):\n",
        "    rfc_attributions_lime = rfc_explainer_lime.explain_instance(x_test.to_numpy()[index_to_compare], pred_func_rfc, num_features=14, num_samples=10000).as_list()\n",
        "    nn_attributions_lime = nn_explainer_lime.explain_instance(x_test.to_numpy()[index_to_compare], pred_func_nn, num_features=14, num_samples=10000).as_list()\n",
        "\n",
        "    plot_df_lime = pd.DataFrame({\n",
        "        \"feature_value\": [e[0] for e in rfc_attributions_lime] + [e[0] for e in nn_attributions_lime],\n",
        "        \"model_type\": [\"RFC\"] * len(feature_names) + [\"NN\"] * len(feature_names),\n",
        "        \"feature_attribution\": [e[1] for e in rfc_attributions_lime] + [e[1] for e in nn_attributions_lime]\n",
        "    })\n",
        "    plot_df_lime[\"feature_name\"] = plot_df_lime[\"feature_value\"].apply(extract_feature_name)\n",
        "    plot_df_lime = plot_df_lime.sort_values(by=[\"feature_name\"])\n",
        "\n",
        "    plot_df_shap = pd.DataFrame({\n",
        "        \"feature_value\": [f\"{fname}={fval}\" for fname, fval in zip(feature_names, x_test.iloc[index_to_compare, :])] * 2,\n",
        "        \"model_type\": [\"RFC\"] * len(feature_names) + [\"NN\"] * len(feature_names),\n",
        "        \"feature_attribution\": np.hstack([rfc_shap_values[index_to_compare, :, 1], nn_shap_values[index_to_compare, :, 1]])\n",
        "    })\n",
        "    plot_df_shap[\"feature_name\"] = plot_df_shap[\"feature_value\"].apply(extract_feature_name)\n",
        "    plot_df_shap = plot_df_shap.sort_values(by=[\"feature_name\"])\n",
        "\n",
        "    fig, axes = plt.subplots(nrows=1, ncols=2, figsize=(15, 5))\n",
        "    for ax, plot_df, title in zip(axes, [plot_df_lime, plot_df_shap], [\"LIME\", \"SHAP\"]):\n",
        "        sns.barplot(data=plot_df, y=\"feature_value\", x=\"feature_attribution\", hue=\"model_type\", ax=ax)\n",
        "        ax.vlines(x=0., ymin=-0.5, ymax=len(feature_names) - 0.5, linestyles=\"dashed\", color=\"black\",\n",
        "                  transform=ax.get_xaxis_transform())\n",
        "        ax.hlines(y=np.arange(-0.5, len(feature_names) + 0.5), xmin=-1., xmax=1., color=\"grey\", alpha=0.5,\n",
        "                  transform=ax.get_yaxis_transform())\n",
        "        ax.set_title(title)\n",
        "    axes[0].get_legend().remove()\n",
        "    plt.tight_layout()\n",
        "    plt.show()"
      ],
      "metadata": {
        "id": "zrLfqvN425oy"
      },
      "execution_count": null,
      "outputs": []
    },
    {
      "cell_type": "code",
      "source": [
        "index_to_compare = 136\n",
        "\n",
        "plot_comparison(index_to_compare)"
      ],
      "metadata": {
        "id": "17x31yOl4hO0"
      },
      "execution_count": null,
      "outputs": []
    }
  ]
}